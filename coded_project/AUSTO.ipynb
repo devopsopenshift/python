{
  "cells": [
    {
      "cell_type": "markdown",
      "metadata": {
        "id": "view-in-github",
        "colab_type": "text"
      },
      "source": [
        "<a href=\"https://colab.research.google.com/github/devopsopenshift/python/blob/main/coded_project/AUSTO.ipynb\" target=\"_parent\"><img src=\"https://colab.research.google.com/assets/colab-badge.svg\" alt=\"Open In Colab\"/></a>"
      ]
    },
    {
      "cell_type": "markdown",
      "id": "56102ada-ca92-4012-a4c1-73187101ff67",
      "metadata": {
        "id": "56102ada-ca92-4012-a4c1-73187101ff67"
      },
      "source": [
        "# Data Description\n",
        "**Age**: The age of the individual in years.\n",
        "\n",
        "Gender: The gender of the individual, categorized as male or female.\n",
        "\n",
        "Profession: The occupation or profession of the individual.\n",
        "\n",
        "Marital_status: The marital status of the individual, such as married &, single\n",
        "\n",
        "Education: The educational qualification of the individual Graduate and Post Graduate\n",
        "\n",
        "No_of_Dependents: The number of dependents (e.g., children, elderly parents) that the individual supports financially.\n",
        "\n",
        "Personal_loan: A binary variable indicating whether the individual has taken a personal loan \"Yes\" or \"No\"\n",
        "\n",
        "House_loan: A binary variable indicating whether the individual has taken a housing loan \"Yes\" or \"No\"\n",
        "\n",
        "Partner_working: A binary variable indicating whether the individual's partner is employed \"Yes\" or \"No\"\n",
        "\n",
        "Salary: The individual's salary or income.\n",
        "\n",
        "Partner_salary: The salary or income of the individual's partner, if applicable.\n",
        "\n",
        "Total_salary: The total combined salary of the individual and their partner (if applicable).\n",
        "\n",
        "Price: The price of a product or service.\n",
        "Make: The type of automobile"
      ]
    },
    {
      "cell_type": "code",
      "execution_count": null,
      "id": "62bd6d2a-de5a-4813-8c04-b49b960e3822",
      "metadata": {
        "editable": true,
        "tags": [],
        "id": "62bd6d2a-de5a-4813-8c04-b49b960e3822"
      },
      "outputs": [],
      "source": [
        "# Libraries to help with reading and manipulating data\n",
        "import numpy as np\n",
        "import pandas as pd\n",
        "\n",
        "# Libraries to help with data visualization\n",
        "import matplotlib.pyplot as plt\n",
        "import seaborn as sns\n",
        "import plotly.express as px\n",
        "\n",
        "# to restrict the float value to 3 decimal places\n",
        "pd.set_option('display.float_format', lambda x: '%.3f' % x)"
      ]
    },
    {
      "cell_type": "markdown",
      "id": "97de48ec-46c8-49fb-b561-93b99098d8a5",
      "metadata": {
        "id": "97de48ec-46c8-49fb-b561-93b99098d8a5"
      },
      "source": [
        "## Sanity check"
      ]
    },
    {
      "cell_type": "code",
      "execution_count": null,
      "id": "0c6d34c8-7f80-44b1-9b9b-88900e32c3fc",
      "metadata": {
        "editable": true,
        "tags": [],
        "id": "0c6d34c8-7f80-44b1-9b9b-88900e32c3fc"
      },
      "outputs": [],
      "source": [
        "data = pd.read_csv('austo_automobile.csv',na_values=['missing','inf','nan'])"
      ]
    },
    {
      "cell_type": "markdown",
      "id": "05341622-4a36-4a63-a989-3f3dd2f90f66",
      "metadata": {
        "id": "05341622-4a36-4a63-a989-3f3dd2f90f66"
      },
      "source": [
        "**checking duplicate data**"
      ]
    },
    {
      "cell_type": "code",
      "execution_count": null,
      "id": "4c3d7c2f-4558-4930-bc1f-8ac880408c8b",
      "metadata": {
        "colab": {
          "base_uri": "https://localhost:8080/"
        },
        "id": "4c3d7c2f-4558-4930-bc1f-8ac880408c8b",
        "outputId": "4d2b8f05-59b1-4652-99be-0b023f1822e6"
      },
      "outputs": [
        {
          "output_type": "execute_result",
          "data": {
            "text/plain": [
              "0"
            ]
          },
          "metadata": {},
          "execution_count": 3
        }
      ],
      "source": [
        "data.duplicated().sum()"
      ]
    },
    {
      "cell_type": "code",
      "execution_count": null,
      "id": "96af9669-d11e-448f-b533-eee72ff35aaf",
      "metadata": {
        "id": "96af9669-d11e-448f-b533-eee72ff35aaf",
        "colab": {
          "base_uri": "https://localhost:8080/"
        },
        "outputId": "0b1d7442-9d70-4111-c8a8-ee1773e71955"
      },
      "outputs": [
        {
          "output_type": "stream",
          "name": "stdout",
          "text": [
            "<class 'pandas.core.frame.DataFrame'>\n",
            "RangeIndex: 1581 entries, 0 to 1580\n",
            "Data columns (total 14 columns):\n",
            " #   Column            Non-Null Count  Dtype  \n",
            "---  ------            --------------  -----  \n",
            " 0   Age               1581 non-null   int64  \n",
            " 1   Gender            1528 non-null   object \n",
            " 2   Profession        1581 non-null   object \n",
            " 3   Marital_status    1581 non-null   object \n",
            " 4   Education         1581 non-null   object \n",
            " 5   No_of_Dependents  1581 non-null   int64  \n",
            " 6   Personal_loan     1581 non-null   object \n",
            " 7   House_loan        1581 non-null   object \n",
            " 8   Partner_working   1581 non-null   object \n",
            " 9   Salary            1581 non-null   int64  \n",
            " 10  Partner_salary    1475 non-null   float64\n",
            " 11  Total_salary      1581 non-null   int64  \n",
            " 12  Price             1581 non-null   int64  \n",
            " 13  Make              1581 non-null   object \n",
            "dtypes: float64(1), int64(5), object(8)\n",
            "memory usage: 173.0+ KB\n"
          ]
        }
      ],
      "source": [
        "data.info()"
      ]
    },
    {
      "cell_type": "code",
      "execution_count": null,
      "id": "b10aa3f1-ea8d-436d-b79e-09cafbe016d2",
      "metadata": {
        "id": "b10aa3f1-ea8d-436d-b79e-09cafbe016d2",
        "colab": {
          "base_uri": "https://localhost:8080/"
        },
        "outputId": "b3a0d2b3-8489-4eb1-f5d4-ce8d0baa99c6"
      },
      "outputs": [
        {
          "output_type": "execute_result",
          "data": {
            "text/plain": [
              "Age                   0\n",
              "Gender               53\n",
              "Profession            0\n",
              "Marital_status        0\n",
              "Education             0\n",
              "No_of_Dependents      0\n",
              "Personal_loan         0\n",
              "House_loan            0\n",
              "Partner_working       0\n",
              "Salary                0\n",
              "Partner_salary      106\n",
              "Total_salary          0\n",
              "Price                 0\n",
              "Make                  0\n",
              "dtype: int64"
            ]
          },
          "metadata": {},
          "execution_count": 5
        }
      ],
      "source": [
        "data.isnull().sum()"
      ]
    },
    {
      "cell_type": "markdown",
      "source": [
        "### missing info partner salary"
      ],
      "metadata": {
        "id": "I4ghWfo8kX-t"
      },
      "id": "I4ghWfo8kX-t"
    },
    {
      "cell_type": "code",
      "source": [
        "data['Partner_salary'].fillna(0,inplace=True)"
      ],
      "metadata": {
        "id": "hCxQMGp-Lgu4"
      },
      "id": "hCxQMGp-Lgu4",
      "execution_count": null,
      "outputs": []
    },
    {
      "cell_type": "code",
      "source": [
        "data['Total_salary']=data['Salary']+data['Partner_salary']"
      ],
      "metadata": {
        "id": "yvOFj8uSaa-4"
      },
      "id": "yvOFj8uSaa-4",
      "execution_count": null,
      "outputs": []
    },
    {
      "cell_type": "code",
      "execution_count": null,
      "id": "045f69ae-a5cc-4dbc-912c-ffff94de3e14",
      "metadata": {
        "id": "045f69ae-a5cc-4dbc-912c-ffff94de3e14",
        "colab": {
          "base_uri": "https://localhost:8080/"
        },
        "outputId": "b66ebc78-d00b-44b5-c51a-07d3be3f76f4"
      },
      "outputs": [
        {
          "output_type": "execute_result",
          "data": {
            "text/plain": [
              "array(['Business', 'Salaried'], dtype=object)"
            ]
          },
          "metadata": {},
          "execution_count": 8
        }
      ],
      "source": [
        "data['Profession'].unique()"
      ]
    },
    {
      "cell_type": "code",
      "execution_count": null,
      "id": "9288a6de-bc19-4fc6-a2fb-a82d05663f11",
      "metadata": {
        "id": "9288a6de-bc19-4fc6-a2fb-a82d05663f11",
        "colab": {
          "base_uri": "https://localhost:8080/"
        },
        "outputId": "d74fea3e-af8b-44ca-9142-6ef6581a9354"
      },
      "outputs": [
        {
          "output_type": "execute_result",
          "data": {
            "text/plain": [
              "array(['Married', 'Single'], dtype=object)"
            ]
          },
          "metadata": {},
          "execution_count": 9
        }
      ],
      "source": [
        "data['Marital_status'].unique()"
      ]
    },
    {
      "cell_type": "code",
      "source": [
        "data[data['Partner_salary']<=0]['Partner_working'].value_counts()"
      ],
      "metadata": {
        "colab": {
          "base_uri": "https://localhost:8080/"
        },
        "id": "9yEMXSIK-FHf",
        "outputId": "d429aa4e-48d0-416d-a865-bd81a6be7609"
      },
      "id": "9yEMXSIK-FHf",
      "execution_count": null,
      "outputs": [
        {
          "output_type": "execute_result",
          "data": {
            "text/plain": [
              "Partner_working\n",
              "No     713\n",
              "Yes     16\n",
              "Name: count, dtype: int64"
            ]
          },
          "metadata": {},
          "execution_count": 10
        }
      ]
    },
    {
      "cell_type": "code",
      "source": [
        "data['Partner_salary'].value_counts(dropna=False,normalize=True)"
      ],
      "metadata": {
        "colab": {
          "base_uri": "https://localhost:8080/"
        },
        "id": "utf1oVaxMUpx",
        "outputId": "34e0f7d9-8a24-43a9-e916-cb313bb095e2"
      },
      "id": "utf1oVaxMUpx",
      "execution_count": null,
      "outputs": [
        {
          "output_type": "execute_result",
          "data": {
            "text/plain": [
              "Partner_salary\n",
              "0.000       0.461\n",
              "40500.000   0.018\n",
              "40200.000   0.017\n",
              "40100.000   0.016\n",
              "40000.000   0.016\n",
              "             ... \n",
              "45800.000   0.001\n",
              "27300.000   0.001\n",
              "22900.000   0.001\n",
              "23100.000   0.001\n",
              "35000.000   0.001\n",
              "Name: proportion, Length: 149, dtype: float64"
            ]
          },
          "metadata": {},
          "execution_count": 11
        }
      ]
    },
    {
      "cell_type": "code",
      "execution_count": null,
      "id": "a39ec1e5-9ad2-4a57-8eb8-f92b357fbeb3",
      "metadata": {
        "id": "a39ec1e5-9ad2-4a57-8eb8-f92b357fbeb3",
        "colab": {
          "base_uri": "https://localhost:8080/"
        },
        "outputId": "34b8e0d0-c9d6-49cb-bb2f-5b708b288e2a"
      },
      "outputs": [
        {
          "output_type": "execute_result",
          "data": {
            "text/plain": [
              "Gender\n",
              "Male     0.758\n",
              "Female   0.207\n",
              "NaN      0.034\n",
              "Femal    0.001\n",
              "Femle    0.001\n",
              "Name: proportion, dtype: float64"
            ]
          },
          "metadata": {},
          "execution_count": 12
        }
      ],
      "source": [
        "data['Gender'].value_counts(dropna=False,normalize=True)"
      ]
    },
    {
      "cell_type": "markdown",
      "source": [
        "### fill missing  info men/women"
      ],
      "metadata": {
        "id": "1OeqJNLAkCeF"
      },
      "id": "1OeqJNLAkCeF"
    },
    {
      "cell_type": "code",
      "source": [
        "data['Gender'].replace([\"Femal\", \"Female\", \"Femle\"],'Female',inplace=True)"
      ],
      "metadata": {
        "id": "h-xwe-SVZXTK"
      },
      "id": "h-xwe-SVZXTK",
      "execution_count": null,
      "outputs": []
    },
    {
      "cell_type": "code",
      "execution_count": null,
      "id": "439312ca-3650-441a-a9d5-ad6740d01560",
      "metadata": {
        "id": "439312ca-3650-441a-a9d5-ad6740d01560"
      },
      "outputs": [],
      "source": [
        "data['Gender']=data['Gender'].map(lambda x : 'Female' if x in [\"Femal\", \"Female\", \"Femle\"] else x)"
      ]
    },
    {
      "cell_type": "code",
      "execution_count": null,
      "id": "0e4afdfe-b052-445d-b61f-193e441652a5",
      "metadata": {
        "id": "0e4afdfe-b052-445d-b61f-193e441652a5",
        "colab": {
          "base_uri": "https://localhost:8080/",
          "height": 80
        },
        "outputId": "378df77d-ccde-4072-dcce-bd0a685bf34f"
      },
      "outputs": [
        {
          "output_type": "execute_result",
          "data": {
            "text/plain": [
              "        Count  Percentage\n",
              "Gender     53       3.352"
            ],
            "text/html": [
              "\n",
              "  <div id=\"df-2a54bae7-4a79-4453-8db4-9d367ec67585\" class=\"colab-df-container\">\n",
              "    <div>\n",
              "<style scoped>\n",
              "    .dataframe tbody tr th:only-of-type {\n",
              "        vertical-align: middle;\n",
              "    }\n",
              "\n",
              "    .dataframe tbody tr th {\n",
              "        vertical-align: top;\n",
              "    }\n",
              "\n",
              "    .dataframe thead th {\n",
              "        text-align: right;\n",
              "    }\n",
              "</style>\n",
              "<table border=\"1\" class=\"dataframe\">\n",
              "  <thead>\n",
              "    <tr style=\"text-align: right;\">\n",
              "      <th></th>\n",
              "      <th>Count</th>\n",
              "      <th>Percentage</th>\n",
              "    </tr>\n",
              "  </thead>\n",
              "  <tbody>\n",
              "    <tr>\n",
              "      <th>Gender</th>\n",
              "      <td>53</td>\n",
              "      <td>3.352</td>\n",
              "    </tr>\n",
              "  </tbody>\n",
              "</table>\n",
              "</div>\n",
              "    <div class=\"colab-df-buttons\">\n",
              "\n",
              "  <div class=\"colab-df-container\">\n",
              "    <button class=\"colab-df-convert\" onclick=\"convertToInteractive('df-2a54bae7-4a79-4453-8db4-9d367ec67585')\"\n",
              "            title=\"Convert this dataframe to an interactive table.\"\n",
              "            style=\"display:none;\">\n",
              "\n",
              "  <svg xmlns=\"http://www.w3.org/2000/svg\" height=\"24px\" viewBox=\"0 -960 960 960\">\n",
              "    <path d=\"M120-120v-720h720v720H120Zm60-500h600v-160H180v160Zm220 220h160v-160H400v160Zm0 220h160v-160H400v160ZM180-400h160v-160H180v160Zm440 0h160v-160H620v160ZM180-180h160v-160H180v160Zm440 0h160v-160H620v160Z\"/>\n",
              "  </svg>\n",
              "    </button>\n",
              "\n",
              "  <style>\n",
              "    .colab-df-container {\n",
              "      display:flex;\n",
              "      gap: 12px;\n",
              "    }\n",
              "\n",
              "    .colab-df-convert {\n",
              "      background-color: #E8F0FE;\n",
              "      border: none;\n",
              "      border-radius: 50%;\n",
              "      cursor: pointer;\n",
              "      display: none;\n",
              "      fill: #1967D2;\n",
              "      height: 32px;\n",
              "      padding: 0 0 0 0;\n",
              "      width: 32px;\n",
              "    }\n",
              "\n",
              "    .colab-df-convert:hover {\n",
              "      background-color: #E2EBFA;\n",
              "      box-shadow: 0px 1px 2px rgba(60, 64, 67, 0.3), 0px 1px 3px 1px rgba(60, 64, 67, 0.15);\n",
              "      fill: #174EA6;\n",
              "    }\n",
              "\n",
              "    .colab-df-buttons div {\n",
              "      margin-bottom: 4px;\n",
              "    }\n",
              "\n",
              "    [theme=dark] .colab-df-convert {\n",
              "      background-color: #3B4455;\n",
              "      fill: #D2E3FC;\n",
              "    }\n",
              "\n",
              "    [theme=dark] .colab-df-convert:hover {\n",
              "      background-color: #434B5C;\n",
              "      box-shadow: 0px 1px 3px 1px rgba(0, 0, 0, 0.15);\n",
              "      filter: drop-shadow(0px 1px 2px rgba(0, 0, 0, 0.3));\n",
              "      fill: #FFFFFF;\n",
              "    }\n",
              "  </style>\n",
              "\n",
              "    <script>\n",
              "      const buttonEl =\n",
              "        document.querySelector('#df-2a54bae7-4a79-4453-8db4-9d367ec67585 button.colab-df-convert');\n",
              "      buttonEl.style.display =\n",
              "        google.colab.kernel.accessAllowed ? 'block' : 'none';\n",
              "\n",
              "      async function convertToInteractive(key) {\n",
              "        const element = document.querySelector('#df-2a54bae7-4a79-4453-8db4-9d367ec67585');\n",
              "        const dataTable =\n",
              "          await google.colab.kernel.invokeFunction('convertToInteractive',\n",
              "                                                    [key], {});\n",
              "        if (!dataTable) return;\n",
              "\n",
              "        const docLinkHtml = 'Like what you see? Visit the ' +\n",
              "          '<a target=\"_blank\" href=https://colab.research.google.com/notebooks/data_table.ipynb>data table notebook</a>'\n",
              "          + ' to learn more about interactive tables.';\n",
              "        element.innerHTML = '';\n",
              "        dataTable['output_type'] = 'display_data';\n",
              "        await google.colab.output.renderOutput(dataTable, element);\n",
              "        const docLink = document.createElement('div');\n",
              "        docLink.innerHTML = docLinkHtml;\n",
              "        element.appendChild(docLink);\n",
              "      }\n",
              "    </script>\n",
              "  </div>\n",
              "\n",
              "\n",
              "    </div>\n",
              "  </div>\n"
            ],
            "application/vnd.google.colaboratory.intrinsic+json": {
              "type": "dataframe",
              "summary": "{\n  \"name\": \"pd\",\n  \"rows\": 1,\n  \"fields\": [\n    {\n      \"column\": \"Count\",\n      \"properties\": {\n        \"dtype\": \"number\",\n        \"std\": null,\n        \"min\": 53,\n        \"max\": 53,\n        \"num_unique_values\": 1,\n        \"samples\": [\n          53\n        ],\n        \"semantic_type\": \"\",\n        \"description\": \"\"\n      }\n    },\n    {\n      \"column\": \"Percentage\",\n      \"properties\": {\n        \"dtype\": \"number\",\n        \"std\": null,\n        \"min\": 3.3523086654016447,\n        \"max\": 3.3523086654016447,\n        \"num_unique_values\": 1,\n        \"samples\": [\n          3.3523086654016447\n        ],\n        \"semantic_type\": \"\",\n        \"description\": \"\"\n      }\n    }\n  ]\n}"
            }
          },
          "metadata": {},
          "execution_count": 15
        }
      ],
      "source": [
        "# data.shape[0] will give us the number of rows in the dataset\n",
        "# selecting the instances where missing value is greater than 0\n",
        "pd.DataFrame({'Count':data.isnull().sum()[data.isnull().sum()>0],'Percentage':(data.isnull().sum()[data.isnull().sum()>0]/data.shape[0])*100})"
      ]
    },
    {
      "cell_type": "code",
      "execution_count": null,
      "id": "5fe941a7-bf60-48c8-97ff-3ed642009900",
      "metadata": {
        "id": "5fe941a7-bf60-48c8-97ff-3ed642009900",
        "outputId": "f397b648-8472-4269-8b6e-5471bc6b47f4",
        "colab": {
          "base_uri": "https://localhost:8080/"
        }
      },
      "outputs": [
        {
          "output_type": "execute_result",
          "data": {
            "text/plain": [
              "(1581, 14)"
            ]
          },
          "metadata": {},
          "execution_count": 16
        }
      ],
      "source": [
        "data.shape"
      ]
    },
    {
      "cell_type": "code",
      "source": [
        "px.box(data,x='Total_salary',color='Make').show()"
      ],
      "metadata": {
        "colab": {
          "base_uri": "https://localhost:8080/",
          "height": 542
        },
        "id": "RJYwlD5sNHZs",
        "outputId": "b733032d-09a4-4094-ebaa-06f4271c796c"
      },
      "id": "RJYwlD5sNHZs",
      "execution_count": null,
      "outputs": [
        {
          "output_type": "display_data",
          "data": {
            "text/html": [
              "<html>\n",
              "<head><meta charset=\"utf-8\" /></head>\n",
              "<body>\n",
              "    <div>            <script src=\"https://cdnjs.cloudflare.com/ajax/libs/mathjax/2.7.5/MathJax.js?config=TeX-AMS-MML_SVG\"></script><script type=\"text/javascript\">if (window.MathJax && window.MathJax.Hub && window.MathJax.Hub.Config) {window.MathJax.Hub.Config({SVG: {font: \"STIX-Web\"}});}</script>                <script type=\"text/javascript\">window.PlotlyConfig = {MathJaxConfig: 'local'};</script>\n",
              "        <script charset=\"utf-8\" src=\"https://cdn.plot.ly/plotly-2.24.1.min.js\"></script>                <div id=\"0d32b5cf-91e6-4e81-9f77-85d8882bcd69\" class=\"plotly-graph-div\" style=\"height:525px; width:100%;\"></div>            <script type=\"text/javascript\">                                    window.PLOTLYENV=window.PLOTLYENV || {};                                    if (document.getElementById(\"0d32b5cf-91e6-4e81-9f77-85d8882bcd69\")) {                    Plotly.newPlot(                        \"0d32b5cf-91e6-4e81-9f77-85d8882bcd69\",                        [{\"alignmentgroup\":\"True\",\"hovertemplate\":\"Make=SUV\\u003cbr\\u003eTotal_salary=%{x}\\u003cextra\\u003e\\u003c\\u002fextra\\u003e\",\"legendgroup\":\"SUV\",\"marker\":{\"color\":\"#636efa\"},\"name\":\"SUV\",\"notched\":false,\"offsetgroup\":\"SUV\",\"orientation\":\"h\",\"showlegend\":true,\"x\":[170000.0,165800.0,158000.0,142800.0,139900.0,140300.0,131700.0,119500.0,89400.0,83700.0,81600.0,81300.0,77400.0,77600.0,74100.0,87600.0,86800.0,165700.0,162900.0,159000.0,133000.0,130100.0,128200.0,126100.0,78600.0,88600.0,109700.0,88500.0,87700.0,169000.0,165600.0,161100.0,119900.0,115400.0,108700.0,84700.0,82200.0,79600.0,77600.0,77700.0,72100.0,166900.0,155200.0,87600.0,123600.0,114000.0,90000.0,87100.0,79700.0,90300.0,132900.0,128700.0,121800.0,90200.0,79500.0,73400.0,171000.0,154100.0,143100.0,80600.0,85100.0,82300.0,82200.0,81600.0,79200.0,142400.0,140800.0,110900.0,119600.0,112800.0,88200.0,82300.0,81000.0,78400.0,75400.0,164700.0,161800.0,90600.0,139500.0,130300.0,89900.0,88700.0,88900.0,83300.0,79000.0,77500.0,76800.0,153500.0,131900.0,129700.0,121800.0,117600.0,86000.0,86900.0,85900.0,79900.0,78400.0,74800.0,169300.0,159100.0,126800.0,82700.0,72000.0,162300.0,121200.0,87500.0,80100.0,78700.0,78100.0,78200.0,77600.0,90300.0,138200.0,82300.0,81600.0,78000.0,166500.0,156900.0,129400.0,127000.0,118100.0,117200.0,116900.0,112000.0,104600.0,87200.0,81200.0,80600.0,73300.0,71700.0,158900.0,157700.0,123100.0,73500.0,102100.0,90700.0,84000.0,84800.0,80200.0,79200.0,70400.0,131800.0,123900.0,120800.0,112300.0,104800.0,100500.0,96400.0,91400.0,78100.0,73100.0,72500.0,55100.0,55500.0,126200.0,119400.0,117500.0,95200.0,85900.0,78400.0,76700.0,72600.0,70100.0,69600.0,68600.0,65400.0,54600.0,50400.0,49200.0,53400.0,123200.0,112100.0,92100.0,78600.0,72900.0,71100.0,54500.0,125200.0,120500.0,121000.0,109400.0,107000.0,94900.0,54700.0,83700.0,68800.0,68900.0,57100.0,53700.0,52300.0,52500.0,51800.0,157900.0,137200.0,114300.0,98500.0,74000.0,73400.0,71800.0,71400.0,69400.0,142400.0,140800.0,134600.0,109500.0,94700.0,93400.0,75200.0,74000.0,72800.0,48300.0,158200.0,138000.0,122800.0,98100.0,119000.0,116400.0,115600.0,102800.0,103500.0,99400.0,80300.0,76400.0,73000.0,71500.0,68900.0,68900.0,55000.0,48600.0,120200.0,113300.0,113400.0,110200.0,109700.0,91200.0,74000.0,73900.0,70700.0,50400.0,124700.0,123700.0,121700.0,109800.0,73300.0,73700.0,67000.0,66600.0,51300.0,49900.0,113800.0,113000.0,107100.0,87400.0,69900.0,67500.0,66600.0,62900.0,55400.0,54900.0,47300.0,138800.0,114500.0,108500.0,100800.0,91200.0,79000.0,76800.0,74100.0,71400.0,70900.0,60100.0,57000.0,53400.0,51800.0,50400.0,48200.0,100200.0,89600.0,102600.0,81300.0,80400.0,61600.0,57700.0,37900.0,100200.0,87800.0,78600.0,42200.0,62200.0,38100.0,101600.0,101900.0,97800.0,60800.0,39100.0,36800.0,60400.0],\"x0\":\" \",\"xaxis\":\"x\",\"y0\":\" \",\"yaxis\":\"y\",\"type\":\"box\"},{\"alignmentgroup\":\"True\",\"hovertemplate\":\"Make=Sedan\\u003cbr\\u003eTotal_salary=%{x}\\u003cextra\\u003e\\u003c\\u002fextra\\u003e\",\"legendgroup\":\"Sedan\",\"marker\":{\"color\":\"#EF553B\"},\"name\":\"Sedan\",\"notched\":false,\"offsetgroup\":\"Sedan\",\"orientation\":\"h\",\"showlegend\":true,\"x\":[124300.0,123300.0,123800.0,120000.0,118000.0,116200.0,112500.0,110300.0,103000.0,78600.0,77000.0,71300.0,56700.0,55700.0,54000.0,124000.0,122100.0,118300.0,118600.0,116200.0,114600.0,113700.0,113300.0,110500.0,102600.0,95500.0,94500.0,84900.0,84000.0,83300.0,83800.0,82500.0,81300.0,79300.0,77200.0,76300.0,73200.0,73400.0,72800.0,57100.0,122200.0,118600.0,116100.0,114100.0,113500.0,107100.0,105400.0,103500.0,97000.0,96500.0,95600.0,91200.0,87100.0,82600.0,78100.0,78000.0,75300.0,75300.0,72600.0,71800.0,62300.0,61600.0,54900.0,53600.0,53300.0,51600.0,125500.0,122100.0,119200.0,75700.0,115500.0,112100.0,110400.0,105600.0,94900.0,79200.0,77700.0,76300.0,76400.0,73500.0,73700.0,63800.0,61800.0,56200.0,53000.0,124300.0,116000.0,108500.0,109700.0,70500.0,100900.0,98200.0,94700.0,86000.0,81900.0,72500.0,64300.0,62200.0,58300.0,58300.0,57700.0,55900.0,54400.0,125400.0,122900.0,120100.0,120200.0,117400.0,116400.0,93200.0,91800.0,85000.0,83300.0,80800.0,73900.0,59600.0,58400.0,50000.0,124800.0,117300.0,77000.0,76800.0,114300.0,113300.0,110500.0,108800.0,79000.0,104300.0,100600.0,98100.0,98100.0,95700.0,95200.0,88200.0,83900.0,83300.0,78900.0,71800.0,60100.0,59500.0,55800.0,123400.0,122400.0,121200.0,120600.0,119900.0,79000.0,116700.0,114000.0,112500.0,111100.0,107400.0,103400.0,95800.0,92600.0,90100.0,90900.0,86700.0,83400.0,82100.0,76100.0,65800.0,65200.0,63900.0,62800.0,61000.0,54700.0,53300.0,50100.0,124800.0,122000.0,121700.0,121100.0,119700.0,118700.0,116400.0,111300.0,108000.0,107100.0,104200.0,101100.0,62000.0,96100.0,95200.0,76300.0,74500.0,72600.0,65100.0,61000.0,61600.0,120200.0,118800.0,116500.0,72300.0,111300.0,109400.0,101600.0,101200.0,99200.0,94900.0,95200.0,91200.0,85800.0,79200.0,79300.0,78300.0,77100.0,75200.0,59700.0,58900.0,57200.0,56600.0,55700.0,52100.0,106100.0,104800.0,103700.0,99400.0,99200.0,97600.0,97200.0,86600.0,95700.0,94300.0,90800.0,89500.0,81200.0,73400.0,65600.0,63400.0,63700.0,64000.0,62200.0,59000.0,58700.0,57100.0,42200.0,40200.0,38800.0,102300.0,101400.0,100900.0,99400.0,100400.0,99200.0,99800.0,95300.0,84000.0,74700.0,64900.0,64800.0,63200.0,62300.0,62300.0,61100.0,61300.0,58400.0,58000.0,57900.0,43100.0,40800.0,102400.0,100200.0,97700.0,97000.0,95900.0,93400.0,85400.0,83600.0,82900.0,79900.0,79900.0,77800.0,41600.0,65600.0,63800.0,60300.0,59200.0,59200.0,59100.0,59800.0,59900.0,58000.0,56000.0,42700.0,41700.0,41500.0,40700.0,39800.0,36800.0,36300.0,104800.0,103500.0,100400.0,100200.0,95100.0,93800.0,96100.0,85200.0,85200.0,85100.0,83800.0,84000.0,79000.0,76900.0,64300.0,63300.0,62100.0,62500.0,62100.0,61500.0,60200.0,59100.0,56300.0,44700.0,43900.0,41600.0,36300.0,100900.0,99600.0,99400.0,84100.0,81100.0,81100.0,77200.0,74800.0,65500.0,63000.0,60700.0,60900.0,58300.0,58800.0,40300.0,39400.0,38900.0,119300.0,110000.0,106000.0,104300.0,104700.0,103700.0,102700.0,103600.0,101600.0,101200.0,100200.0,98800.0,97400.0,97200.0,96800.0,94600.0,62900.0,92200.0,92600.0,90400.0,94300.0,87600.0,84600.0,84300.0,83100.0,81400.0,82000.0,79800.0,76900.0,76900.0,75800.0,75900.0,75400.0,73000.0,70200.0,70600.0,71400.0,70400.0,43400.0,67700.0,67200.0,66700.0,65100.0,65400.0,63600.0,62800.0,62400.0,61800.0,61500.0,61300.0,59500.0,57700.0,56500.0,54800.0,51300.0,49500.0,44800.0,42700.0,40300.0,38800.0,37100.0,37100.0,107200.0,105000.0,105100.0,105700.0,104000.0,103300.0,102800.0,103500.0,101700.0,100700.0,99400.0,98200.0,95100.0,93800.0,92600.0,90300.0,90900.0,91700.0,88800.0,87800.0,87500.0,86800.0,83100.0,81700.0,78700.0,77700.0,76900.0,75600.0,74600.0,73400.0,73000.0,73300.0,69300.0,68200.0,68000.0,65600.0,64900.0,64200.0,64900.0,63100.0,63000.0,61200.0,58200.0,57700.0,57600.0,57900.0,56000.0,56600.0,51400.0,49400.0,43700.0,41600.0,39500.0,39900.0,37100.0,37100.0,108700.0,107200.0,105400.0,104500.0,105700.0,104600.0,102100.0,101100.0,99400.0,99400.0,98900.0,99200.0,96300.0,93700.0,93200.0,92500.0,92600.0,90800.0,90000.0,78800.0,88400.0,87400.0,85900.0,81800.0,80400.0,79900.0,78600.0,77800.0,74000.0,73500.0,72200.0,71300.0,70900.0,69900.0,69300.0,68200.0,68500.0,68600.0,69000.0,68200.0,67500.0,65400.0,65200.0,64000.0,64100.0,63200.0,61200.0,61900.0,60700.0,59100.0,59800.0,57700.0,56000.0,54700.0,42000.0,40800.0,111600.0,107200.0,108400.0,104700.0,104100.0,103500.0,102800.0,94500.0,99500.0,97000.0,97100.0,94800.0,94600.0,91900.0,89700.0,88900.0,86200.0,82100.0,81300.0,80900.0,80600.0,49200.0,71500.0,72000.0,71300.0,69900.0,67600.0,63700.0,63500.0,59900.0,57400.0,56100.0,114500.0,111300.0,69300.0,97300.0,99200.0,98100.0,98300.0,95900.0,94300.0,90400.0,85800.0,85400.0,83600.0,80300.0,80300.0,80200.0,78600.0,79000.0,77700.0,76900.0,74800.0,74800.0,72800.0,70600.0,67000.0,67400.0,63200.0,62700.0,52000.0,51400.0,49000.0,44400.0,54700.0,101800.0,99000.0,90100.0,88300.0,86600.0,85900.0,84900.0,81300.0,81800.0,80900.0,80000.0,79400.0,77800.0,76300.0,75000.0,71600.0,70900.0,68300.0,66600.0,65500.0,63300.0,63200.0,59200.0,57700.0,56800.0,56900.0,55900.0,55500.0,53600.0,52900.0,50100.0,39700.0,39200.0,38600.0,35600.0,32000.0,31200.0,60400.0,99300.0,98600.0,97500.0,58000.0,96700.0,95600.0,95900.0,92300.0,89600.0,88700.0,87400.0,87400.0,85700.0,81000.0,79700.0,77700.0,52700.0,76700.0,76800.0,75900.0,64900.0,64300.0,59500.0,58600.0,59300.0,58900.0,57200.0,32400.0,56100.0,55100.0,39400.0,96800.0,89000.0,87300.0,85300.0,86200.0,83600.0,83300.0,81600.0,79700.0,78800.0,78300.0,75800.0,76100.0,73800.0,70700.0,70300.0,69800.0,65300.0,63200.0,62100.0,60500.0,59100.0,58700.0,58100.0,57300.0,55300.0,54300.0,54400.0,53100.0,52900.0,32200.0,31100.0,101300.0,101000.0,101400.0,94800.0,92900.0,91700.0,89300.0,88800.0,88600.0,80100.0,77900.0,75400.0,40500.0,74300.0,70300.0,62200.0,60500.0,60200.0,59900.0,59200.0,58500.0,58900.0,53800.0,52500.0,51300.0,38000.0,34700.0],\"x0\":\" \",\"xaxis\":\"x\",\"y0\":\" \",\"yaxis\":\"y\",\"type\":\"box\"},{\"alignmentgroup\":\"True\",\"hovertemplate\":\"Make=Hatchback\\u003cbr\\u003eTotal_salary=%{x}\\u003cextra\\u003e\\u003c\\u002fextra\\u003e\",\"legendgroup\":\"Hatchback\",\"marker\":{\"color\":\"#00cc96\"},\"name\":\"Hatchback\",\"notched\":false,\"offsetgroup\":\"Hatchback\",\"orientation\":\"h\",\"showlegend\":true,\"x\":[121000.0,118600.0,114000.0,112600.0,109300.0,105500.0,103900.0,102600.0,101700.0,76900.0,98600.0,96600.0,96500.0,93600.0,64700.0,93500.0,90700.0,90100.0,60900.0,84400.0,81400.0,80100.0,80900.0,76500.0,74900.0,73900.0,73400.0,73700.0,73600.0,73100.0,72100.0,71000.0,71600.0,70800.0,70500.0,70500.0,69600.0,45000.0,67000.0,65800.0,65500.0,65900.0,65500.0,64900.0,64500.0,58100.0,56300.0,53200.0,52700.0,46000.0,43600.0,42300.0,41900.0,119600.0,112400.0,108500.0,108500.0,107200.0,107400.0,105300.0,103700.0,103000.0,101800.0,100700.0,94700.0,94200.0,94300.0,91900.0,90500.0,89400.0,59000.0,87700.0,87800.0,86500.0,85600.0,86200.0,80400.0,56000.0,79100.0,79800.0,78700.0,78200.0,73400.0,73800.0,73100.0,47300.0,72300.0,66700.0,66900.0,66400.0,65800.0,65100.0,64400.0,63800.0,63500.0,62300.0,56100.0,54500.0,51800.0,50900.0,42500.0,42600.0,114600.0,112800.0,72600.0,109800.0,108400.0,108300.0,105900.0,105000.0,105300.0,104300.0,101500.0,99900.0,99800.0,97100.0,95300.0,94900.0,94100.0,93500.0,87300.0,85200.0,85100.0,84000.0,83700.0,83700.0,82500.0,81800.0,81500.0,80700.0,79900.0,78700.0,78100.0,78700.0,76800.0,76200.0,76600.0,75200.0,73900.0,73000.0,72700.0,72900.0,72700.0,72800.0,70900.0,69700.0,66100.0,66300.0,65500.0,65500.0,66800.0,64400.0,63800.0,62000.0,61700.0,61600.0,59500.0,58400.0,57200.0,56600.0,46900.0,43500.0,41400.0,109600.0,108500.0,105900.0,104300.0,101800.0,102200.0,101400.0,101100.0,100400.0,100700.0,100300.0,99800.0,98100.0,97500.0,97000.0,97100.0,95900.0,95500.0,93100.0,92700.0,93400.0,92100.0,91700.0,87800.0,88500.0,88100.0,85300.0,81000.0,79100.0,79400.0,76000.0,76100.0,75800.0,74800.0,74100.0,74400.0,73600.0,73100.0,72500.0,70500.0,69800.0,68800.0,68500.0,67300.0,67100.0,66900.0,66200.0,65900.0,65000.0,65200.0,63700.0,63600.0,63900.0,62700.0,60800.0,58700.0,58400.0,57400.0,55200.0,54400.0,45400.0,44500.0,43200.0,42800.0,41800.0,120000.0,114800.0,112600.0,109500.0,106700.0,105500.0,104000.0,102800.0,102700.0,101000.0,101600.0,101700.0,101100.0,101100.0,98200.0,99300.0,95900.0,96200.0,96000.0,95900.0,95800.0,93400.0,92700.0,91200.0,90800.0,88000.0,84600.0,81500.0,81600.0,79800.0,79500.0,78100.0,77400.0,74700.0,73800.0,73800.0,70700.0,70400.0,69100.0,68800.0,68900.0,67100.0,67500.0,66600.0,66700.0,66800.0,65100.0,64700.0,64100.0,63200.0,63100.0,62900.0,61100.0,58600.0,57300.0,54900.0,52700.0,52200.0,51000.0,51500.0,43700.0,42600.0,42500.0,42200.0,100100.0,99500.0,78600.0,55600.0,91800.0,92100.0,90900.0,88500.0,86600.0,86400.0,84900.0,84900.0,85000.0,85500.0,84100.0,84100.0,84100.0,82900.0,82000.0,81000.0,80300.0,80600.0,79800.0,78000.0,76300.0,74700.0,74800.0,74300.0,71300.0,68400.0,67900.0,64400.0,65100.0,60900.0,60900.0,60700.0,59200.0,59100.0,60200.0,58100.0,58700.0,53100.0,58000.0,57900.0,57600.0,57800.0,57100.0,57600.0,57100.0,56200.0,56900.0,57100.0,55900.0,55600.0,53800.0,53800.0,53200.0,52000.0,52500.0,52300.0,52400.0,52000.0,51900.0,51300.0,50900.0,50500.0,39100.0,39300.0,39600.0,38900.0,38100.0,38500.0,34200.0,34600.0,34900.0,32300.0,32500.0,31800.0,31300.0,31800.0,101500.0,99500.0,95200.0,94100.0,89000.0,86400.0,87000.0,85700.0,85600.0,83500.0,83800.0,83000.0,82200.0,82500.0,81000.0,81700.0,81500.0,80400.0,81400.0,77300.0,76300.0,75400.0,72600.0,72600.0,71300.0,69800.0,68100.0,68000.0,67600.0,65600.0,63200.0,64400.0,60900.0,59400.0,59500.0,59900.0,58800.0,58300.0,58900.0,34600.0,57900.0,56000.0,56400.0,56100.0,56100.0,55000.0,54100.0,54000.0,54200.0,52400.0,52000.0,51300.0,39900.0,39200.0,39100.0,39500.0,38400.0,38200.0,36500.0,36900.0,35400.0,35300.0,35700.0,34200.0,34300.0,34100.0,31900.0,31300.0,31100.0,30900.0,30600.0,30000.0,101400.0,98100.0,94300.0,91900.0,91100.0,92000.0,90800.0,90900.0,88900.0,88400.0,87300.0,86300.0,85300.0,83700.0,59200.0,81900.0,81900.0,81200.0,80900.0,79200.0,77500.0,78700.0,75600.0,51300.0,73200.0,32900.0,70200.0,69400.0,68600.0,66700.0,66200.0,65600.0,62800.0,62900.0,60400.0,59500.0,60500.0,60300.0,59900.0,58200.0,58100.0,58500.0,58600.0,57400.0,57600.0,57200.0,56900.0,56400.0,56900.0,55600.0,55700.0,54600.0,52000.0,52600.0,51400.0,51100.0,51900.0,51400.0,50900.0,37000.0,36200.0,35400.0,35800.0,35700.0,35600.0,34000.0,33200.0,33000.0,32200.0,32300.0,31500.0,99700.0,99600.0,98400.0,96800.0,95900.0,93200.0,93300.0,91200.0,91400.0,89900.0,89500.0,54200.0,88000.0,86300.0,84600.0,84700.0,85800.0,85000.0,83500.0,84100.0,83000.0,83100.0,83100.0,82400.0,79600.0,78900.0,75800.0,74400.0,70500.0,68500.0,67900.0,66700.0,65800.0,63800.0,62900.0,59800.0,59600.0,58300.0,32600.0,57100.0,57100.0,56600.0,56400.0,55300.0,55200.0,53100.0,53200.0,53700.0,52100.0,52100.0,51200.0,51900.0,51900.0,40000.0,39600.0,39700.0,38600.0,38000.0,36000.0,36700.0,36000.0,34000.0,33300.0,32000.0,32900.0,32200.0,31600.0],\"x0\":\" \",\"xaxis\":\"x\",\"y0\":\" \",\"yaxis\":\"y\",\"type\":\"box\"}],                        {\"template\":{\"data\":{\"histogram2dcontour\":[{\"type\":\"histogram2dcontour\",\"colorbar\":{\"outlinewidth\":0,\"ticks\":\"\"},\"colorscale\":[[0.0,\"#0d0887\"],[0.1111111111111111,\"#46039f\"],[0.2222222222222222,\"#7201a8\"],[0.3333333333333333,\"#9c179e\"],[0.4444444444444444,\"#bd3786\"],[0.5555555555555556,\"#d8576b\"],[0.6666666666666666,\"#ed7953\"],[0.7777777777777778,\"#fb9f3a\"],[0.8888888888888888,\"#fdca26\"],[1.0,\"#f0f921\"]]}],\"choropleth\":[{\"type\":\"choropleth\",\"colorbar\":{\"outlinewidth\":0,\"ticks\":\"\"}}],\"histogram2d\":[{\"type\":\"histogram2d\",\"colorbar\":{\"outlinewidth\":0,\"ticks\":\"\"},\"colorscale\":[[0.0,\"#0d0887\"],[0.1111111111111111,\"#46039f\"],[0.2222222222222222,\"#7201a8\"],[0.3333333333333333,\"#9c179e\"],[0.4444444444444444,\"#bd3786\"],[0.5555555555555556,\"#d8576b\"],[0.6666666666666666,\"#ed7953\"],[0.7777777777777778,\"#fb9f3a\"],[0.8888888888888888,\"#fdca26\"],[1.0,\"#f0f921\"]]}],\"heatmap\":[{\"type\":\"heatmap\",\"colorbar\":{\"outlinewidth\":0,\"ticks\":\"\"},\"colorscale\":[[0.0,\"#0d0887\"],[0.1111111111111111,\"#46039f\"],[0.2222222222222222,\"#7201a8\"],[0.3333333333333333,\"#9c179e\"],[0.4444444444444444,\"#bd3786\"],[0.5555555555555556,\"#d8576b\"],[0.6666666666666666,\"#ed7953\"],[0.7777777777777778,\"#fb9f3a\"],[0.8888888888888888,\"#fdca26\"],[1.0,\"#f0f921\"]]}],\"heatmapgl\":[{\"type\":\"heatmapgl\",\"colorbar\":{\"outlinewidth\":0,\"ticks\":\"\"},\"colorscale\":[[0.0,\"#0d0887\"],[0.1111111111111111,\"#46039f\"],[0.2222222222222222,\"#7201a8\"],[0.3333333333333333,\"#9c179e\"],[0.4444444444444444,\"#bd3786\"],[0.5555555555555556,\"#d8576b\"],[0.6666666666666666,\"#ed7953\"],[0.7777777777777778,\"#fb9f3a\"],[0.8888888888888888,\"#fdca26\"],[1.0,\"#f0f921\"]]}],\"contourcarpet\":[{\"type\":\"contourcarpet\",\"colorbar\":{\"outlinewidth\":0,\"ticks\":\"\"}}],\"contour\":[{\"type\":\"contour\",\"colorbar\":{\"outlinewidth\":0,\"ticks\":\"\"},\"colorscale\":[[0.0,\"#0d0887\"],[0.1111111111111111,\"#46039f\"],[0.2222222222222222,\"#7201a8\"],[0.3333333333333333,\"#9c179e\"],[0.4444444444444444,\"#bd3786\"],[0.5555555555555556,\"#d8576b\"],[0.6666666666666666,\"#ed7953\"],[0.7777777777777778,\"#fb9f3a\"],[0.8888888888888888,\"#fdca26\"],[1.0,\"#f0f921\"]]}],\"surface\":[{\"type\":\"surface\",\"colorbar\":{\"outlinewidth\":0,\"ticks\":\"\"},\"colorscale\":[[0.0,\"#0d0887\"],[0.1111111111111111,\"#46039f\"],[0.2222222222222222,\"#7201a8\"],[0.3333333333333333,\"#9c179e\"],[0.4444444444444444,\"#bd3786\"],[0.5555555555555556,\"#d8576b\"],[0.6666666666666666,\"#ed7953\"],[0.7777777777777778,\"#fb9f3a\"],[0.8888888888888888,\"#fdca26\"],[1.0,\"#f0f921\"]]}],\"mesh3d\":[{\"type\":\"mesh3d\",\"colorbar\":{\"outlinewidth\":0,\"ticks\":\"\"}}],\"scatter\":[{\"fillpattern\":{\"fillmode\":\"overlay\",\"size\":10,\"solidity\":0.2},\"type\":\"scatter\"}],\"parcoords\":[{\"type\":\"parcoords\",\"line\":{\"colorbar\":{\"outlinewidth\":0,\"ticks\":\"\"}}}],\"scatterpolargl\":[{\"type\":\"scatterpolargl\",\"marker\":{\"colorbar\":{\"outlinewidth\":0,\"ticks\":\"\"}}}],\"bar\":[{\"error_x\":{\"color\":\"#2a3f5f\"},\"error_y\":{\"color\":\"#2a3f5f\"},\"marker\":{\"line\":{\"color\":\"#E5ECF6\",\"width\":0.5},\"pattern\":{\"fillmode\":\"overlay\",\"size\":10,\"solidity\":0.2}},\"type\":\"bar\"}],\"scattergeo\":[{\"type\":\"scattergeo\",\"marker\":{\"colorbar\":{\"outlinewidth\":0,\"ticks\":\"\"}}}],\"scatterpolar\":[{\"type\":\"scatterpolar\",\"marker\":{\"colorbar\":{\"outlinewidth\":0,\"ticks\":\"\"}}}],\"histogram\":[{\"marker\":{\"pattern\":{\"fillmode\":\"overlay\",\"size\":10,\"solidity\":0.2}},\"type\":\"histogram\"}],\"scattergl\":[{\"type\":\"scattergl\",\"marker\":{\"colorbar\":{\"outlinewidth\":0,\"ticks\":\"\"}}}],\"scatter3d\":[{\"type\":\"scatter3d\",\"line\":{\"colorbar\":{\"outlinewidth\":0,\"ticks\":\"\"}},\"marker\":{\"colorbar\":{\"outlinewidth\":0,\"ticks\":\"\"}}}],\"scattermapbox\":[{\"type\":\"scattermapbox\",\"marker\":{\"colorbar\":{\"outlinewidth\":0,\"ticks\":\"\"}}}],\"scatterternary\":[{\"type\":\"scatterternary\",\"marker\":{\"colorbar\":{\"outlinewidth\":0,\"ticks\":\"\"}}}],\"scattercarpet\":[{\"type\":\"scattercarpet\",\"marker\":{\"colorbar\":{\"outlinewidth\":0,\"ticks\":\"\"}}}],\"carpet\":[{\"aaxis\":{\"endlinecolor\":\"#2a3f5f\",\"gridcolor\":\"white\",\"linecolor\":\"white\",\"minorgridcolor\":\"white\",\"startlinecolor\":\"#2a3f5f\"},\"baxis\":{\"endlinecolor\":\"#2a3f5f\",\"gridcolor\":\"white\",\"linecolor\":\"white\",\"minorgridcolor\":\"white\",\"startlinecolor\":\"#2a3f5f\"},\"type\":\"carpet\"}],\"table\":[{\"cells\":{\"fill\":{\"color\":\"#EBF0F8\"},\"line\":{\"color\":\"white\"}},\"header\":{\"fill\":{\"color\":\"#C8D4E3\"},\"line\":{\"color\":\"white\"}},\"type\":\"table\"}],\"barpolar\":[{\"marker\":{\"line\":{\"color\":\"#E5ECF6\",\"width\":0.5},\"pattern\":{\"fillmode\":\"overlay\",\"size\":10,\"solidity\":0.2}},\"type\":\"barpolar\"}],\"pie\":[{\"automargin\":true,\"type\":\"pie\"}]},\"layout\":{\"autotypenumbers\":\"strict\",\"colorway\":[\"#636efa\",\"#EF553B\",\"#00cc96\",\"#ab63fa\",\"#FFA15A\",\"#19d3f3\",\"#FF6692\",\"#B6E880\",\"#FF97FF\",\"#FECB52\"],\"font\":{\"color\":\"#2a3f5f\"},\"hovermode\":\"closest\",\"hoverlabel\":{\"align\":\"left\"},\"paper_bgcolor\":\"white\",\"plot_bgcolor\":\"#E5ECF6\",\"polar\":{\"bgcolor\":\"#E5ECF6\",\"angularaxis\":{\"gridcolor\":\"white\",\"linecolor\":\"white\",\"ticks\":\"\"},\"radialaxis\":{\"gridcolor\":\"white\",\"linecolor\":\"white\",\"ticks\":\"\"}},\"ternary\":{\"bgcolor\":\"#E5ECF6\",\"aaxis\":{\"gridcolor\":\"white\",\"linecolor\":\"white\",\"ticks\":\"\"},\"baxis\":{\"gridcolor\":\"white\",\"linecolor\":\"white\",\"ticks\":\"\"},\"caxis\":{\"gridcolor\":\"white\",\"linecolor\":\"white\",\"ticks\":\"\"}},\"coloraxis\":{\"colorbar\":{\"outlinewidth\":0,\"ticks\":\"\"}},\"colorscale\":{\"sequential\":[[0.0,\"#0d0887\"],[0.1111111111111111,\"#46039f\"],[0.2222222222222222,\"#7201a8\"],[0.3333333333333333,\"#9c179e\"],[0.4444444444444444,\"#bd3786\"],[0.5555555555555556,\"#d8576b\"],[0.6666666666666666,\"#ed7953\"],[0.7777777777777778,\"#fb9f3a\"],[0.8888888888888888,\"#fdca26\"],[1.0,\"#f0f921\"]],\"sequentialminus\":[[0.0,\"#0d0887\"],[0.1111111111111111,\"#46039f\"],[0.2222222222222222,\"#7201a8\"],[0.3333333333333333,\"#9c179e\"],[0.4444444444444444,\"#bd3786\"],[0.5555555555555556,\"#d8576b\"],[0.6666666666666666,\"#ed7953\"],[0.7777777777777778,\"#fb9f3a\"],[0.8888888888888888,\"#fdca26\"],[1.0,\"#f0f921\"]],\"diverging\":[[0,\"#8e0152\"],[0.1,\"#c51b7d\"],[0.2,\"#de77ae\"],[0.3,\"#f1b6da\"],[0.4,\"#fde0ef\"],[0.5,\"#f7f7f7\"],[0.6,\"#e6f5d0\"],[0.7,\"#b8e186\"],[0.8,\"#7fbc41\"],[0.9,\"#4d9221\"],[1,\"#276419\"]]},\"xaxis\":{\"gridcolor\":\"white\",\"linecolor\":\"white\",\"ticks\":\"\",\"title\":{\"standoff\":15},\"zerolinecolor\":\"white\",\"automargin\":true,\"zerolinewidth\":2},\"yaxis\":{\"gridcolor\":\"white\",\"linecolor\":\"white\",\"ticks\":\"\",\"title\":{\"standoff\":15},\"zerolinecolor\":\"white\",\"automargin\":true,\"zerolinewidth\":2},\"scene\":{\"xaxis\":{\"backgroundcolor\":\"#E5ECF6\",\"gridcolor\":\"white\",\"linecolor\":\"white\",\"showbackground\":true,\"ticks\":\"\",\"zerolinecolor\":\"white\",\"gridwidth\":2},\"yaxis\":{\"backgroundcolor\":\"#E5ECF6\",\"gridcolor\":\"white\",\"linecolor\":\"white\",\"showbackground\":true,\"ticks\":\"\",\"zerolinecolor\":\"white\",\"gridwidth\":2},\"zaxis\":{\"backgroundcolor\":\"#E5ECF6\",\"gridcolor\":\"white\",\"linecolor\":\"white\",\"showbackground\":true,\"ticks\":\"\",\"zerolinecolor\":\"white\",\"gridwidth\":2}},\"shapedefaults\":{\"line\":{\"color\":\"#2a3f5f\"}},\"annotationdefaults\":{\"arrowcolor\":\"#2a3f5f\",\"arrowhead\":0,\"arrowwidth\":1},\"geo\":{\"bgcolor\":\"white\",\"landcolor\":\"#E5ECF6\",\"subunitcolor\":\"white\",\"showland\":true,\"showlakes\":true,\"lakecolor\":\"white\"},\"title\":{\"x\":0.05},\"mapbox\":{\"style\":\"light\"}}},\"xaxis\":{\"anchor\":\"y\",\"domain\":[0.0,1.0],\"title\":{\"text\":\"Total_salary\"}},\"yaxis\":{\"anchor\":\"x\",\"domain\":[0.0,1.0]},\"legend\":{\"title\":{\"text\":\"Make\"},\"tracegroupgap\":0},\"margin\":{\"t\":60},\"boxmode\":\"group\"},                        {\"responsive\": true}                    ).then(function(){\n",
              "                            \n",
              "var gd = document.getElementById('0d32b5cf-91e6-4e81-9f77-85d8882bcd69');\n",
              "var x = new MutationObserver(function (mutations, observer) {{\n",
              "        var display = window.getComputedStyle(gd).display;\n",
              "        if (!display || display === 'none') {{\n",
              "            console.log([gd, 'removed!']);\n",
              "            Plotly.purge(gd);\n",
              "            observer.disconnect();\n",
              "        }}\n",
              "}});\n",
              "\n",
              "// Listen for the removal of the full notebook cells\n",
              "var notebookContainer = gd.closest('#notebook-container');\n",
              "if (notebookContainer) {{\n",
              "    x.observe(notebookContainer, {childList: true});\n",
              "}}\n",
              "\n",
              "// Listen for the clearing of the current output cell\n",
              "var outputEl = gd.closest('.output');\n",
              "if (outputEl) {{\n",
              "    x.observe(outputEl, {childList: true});\n",
              "}}\n",
              "\n",
              "                        })                };                            </script>        </div>\n",
              "</body>\n",
              "</html>"
            ]
          },
          "metadata": {}
        }
      ]
    },
    {
      "cell_type": "code",
      "source": [
        "px.box(data,x='Salary',color='Make').show()"
      ],
      "metadata": {
        "colab": {
          "base_uri": "https://localhost:8080/",
          "height": 542
        },
        "outputId": "a2ea93d7-7ad3-46d4-9e99-84c15f6b87ba",
        "id": "DhBDomWKbUsG"
      },
      "execution_count": null,
      "outputs": [
        {
          "output_type": "display_data",
          "data": {
            "text/html": [
              "<html>\n",
              "<head><meta charset=\"utf-8\" /></head>\n",
              "<body>\n",
              "    <div>            <script src=\"https://cdnjs.cloudflare.com/ajax/libs/mathjax/2.7.5/MathJax.js?config=TeX-AMS-MML_SVG\"></script><script type=\"text/javascript\">if (window.MathJax && window.MathJax.Hub && window.MathJax.Hub.Config) {window.MathJax.Hub.Config({SVG: {font: \"STIX-Web\"}});}</script>                <script type=\"text/javascript\">window.PlotlyConfig = {MathJaxConfig: 'local'};</script>\n",
              "        <script charset=\"utf-8\" src=\"https://cdn.plot.ly/plotly-2.24.1.min.js\"></script>                <div id=\"b63b93d1-efca-4a20-a8bc-cf95e82ce7df\" class=\"plotly-graph-div\" style=\"height:525px; width:100%;\"></div>            <script type=\"text/javascript\">                                    window.PLOTLYENV=window.PLOTLYENV || {};                                    if (document.getElementById(\"b63b93d1-efca-4a20-a8bc-cf95e82ce7df\")) {                    Plotly.newPlot(                        \"b63b93d1-efca-4a20-a8bc-cf95e82ce7df\",                        [{\"alignmentgroup\":\"True\",\"hovertemplate\":\"Make=SUV\\u003cbr\\u003eSalary=%{x}\\u003cextra\\u003e\\u003c\\u002fextra\\u003e\",\"legendgroup\":\"SUV\",\"marker\":{\"color\":\"#636efa\"},\"name\":\"SUV\",\"notched\":false,\"offsetgroup\":\"SUV\",\"orientation\":\"h\",\"showlegend\":true,\"x\":[99300,95500,97300,72500,79700,79800,80900,79100,89400,83700,81600,81300,77400,77600,74100,87600,86800,95100,92600,98400,72700,84600,88000,85400,78000,87900,81900,88500,87700,98300,94900,91100,79800,74500,81700,84700,82200,79600,77600,77700,72100,96600,94900,87600,72800,73500,90000,87100,79700,90300,72200,78300,80900,90200,79500,73400,90600,93900,82200,80600,85100,82300,82200,81600,79200,82300,70600,80900,79300,72000,88200,82300,81000,78400,75400,93900,91000,89700,78800,89800,89900,88700,88900,83300,79000,77500,76800,92600,71700,89500,76800,77000,86000,86900,85900,79900,78400,74800,99300,98600,76100,82700,72000,92300,80600,87500,80100,78700,78100,78200,77600,90300,77900,82300,81600,78000,86000,86100,79000,86600,77800,89500,76300,76200,78000,87200,81200,80600,73300,71700,98900,97700,82200,72600,74200,90700,84000,84800,80200,79200,70400,71000,53800,80400,71700,64400,49600,61300,50500,78100,73100,72500,55100,55500,55900,48600,46900,56500,85900,50300,76700,72600,70100,69600,68600,65400,54600,50400,49200,53400,84900,52100,51600,52900,72900,71100,54500,74500,50100,80200,78500,80900,56800,54300,83700,68800,68900,57100,53700,52300,52500,51800,87000,67200,69100,47600,74000,73400,71800,71400,69400,71700,70000,74200,71200,64400,52900,75200,74000,72800,48300,87500,68000,52500,72300,78100,55500,74900,78300,64600,58800,51800,51500,73000,71500,68900,68900,55000,48600,49700,73000,72800,70200,49300,50900,74000,73900,70700,50400,84200,53100,81200,82600,73300,73700,67000,66600,51300,49900,53800,72300,66900,47000,69900,67500,66600,62900,55400,54900,47300,68000,53900,67600,69900,51000,53200,50500,74100,71400,70900,60100,57000,53400,51800,50400,48200,61300,63800,64500,42700,41700,61600,57700,37900,59800,57000,39900,42200,62200,38100,63300,61800,59800,60800,39100,36000,60400],\"x0\":\" \",\"xaxis\":\"x\",\"y0\":\" \",\"yaxis\":\"y\",\"type\":\"box\"},{\"alignmentgroup\":\"True\",\"hovertemplate\":\"Make=Sedan\\u003cbr\\u003eSalary=%{x}\\u003cextra\\u003e\\u003c\\u002fextra\\u003e\",\"legendgroup\":\"Sedan\",\"marker\":{\"color\":\"#EF553B\"},\"name\":\"Sedan\",\"notched\":false,\"offsetgroup\":\"Sedan\",\"orientation\":\"h\",\"showlegend\":true,\"x\":[84300,85200,85600,79700,77100,76000,82300,71800,73000,78600,77000,71300,56700,55700,54000,85300,81500,80000,79700,76000,76500,73600,74600,71600,79400,57300,54200,60200,84000,83300,83800,82500,50500,79300,77200,76300,73200,73400,72800,57100,81500,77800,77700,76100,75200,84000,75300,62700,59000,58100,57400,52700,56900,82600,78100,78000,75300,75300,72600,71800,62300,61600,54900,53600,53300,51600,85400,83800,78500,75500,74700,73800,82700,59900,56200,51000,77700,76300,76400,73500,73700,63800,61800,56200,53000,85500,75900,70200,82900,70500,60600,59300,63800,59200,81900,72500,64300,62200,58300,58300,57700,55900,54400,84500,82100,81300,81500,77000,76300,52400,51700,85000,83300,80800,73900,59600,58400,50000,84300,79300,76200,76800,75900,73200,71900,70100,78800,73500,60400,57800,59300,57400,54900,57500,83900,83300,78900,71800,60100,59500,55800,84900,81800,82700,80200,81700,79000,76600,75300,72200,72400,71500,72900,55300,51800,50100,60000,57800,83400,82100,76100,65800,65200,63900,62800,61000,54700,53300,50100,84300,82000,81600,80600,81200,80700,77700,70700,62100,76400,65700,60600,62000,55400,55000,76300,74500,72600,65100,61000,61600,82100,79900,76300,72300,73000,84100,61200,62900,70300,59300,70700,51200,85800,79200,52500,78300,77100,75200,59700,58900,57200,56600,55700,52100,65700,64000,64800,61400,61100,58900,56300,61600,57700,56000,59900,62700,56000,35300,65600,63400,63700,36300,62200,59000,58700,57100,42200,40200,38800,63600,63200,62600,61100,59500,59100,58900,56700,55900,36400,64900,64800,63200,62300,62300,61100,61300,58400,58000,57900,43100,40800,62200,59800,59200,58500,60200,65700,45100,43400,44200,41500,39400,39600,41600,65600,63800,60300,59200,59200,59100,59800,59900,58000,56000,42700,41700,41500,40700,39800,36800,36300,64400,62800,61500,59700,56600,62900,56000,61400,61400,44300,43000,43800,38900,36700,64300,63300,62100,62500,62100,61500,60200,59100,56300,44700,43900,41600,36300,60900,61400,58500,43900,42700,42600,37200,36600,65500,63000,60700,60900,58300,58800,40300,39400,38900,78500,77300,65600,65400,63900,58100,62700,62700,63400,70300,69300,66200,59200,56600,56800,64500,62300,67100,65900,65300,67700,63400,43900,53700,57200,41300,41200,38900,38200,52700,37000,45600,50000,73000,70200,70600,45900,70400,42600,67700,67200,40100,65100,65400,63600,36000,62400,61800,61500,61300,35500,57700,56500,54800,51300,49500,44800,42700,40300,38800,37100,37100,74900,65000,64200,64900,73800,64700,77300,75600,63600,61900,63700,65600,57000,55100,61900,58000,50900,60900,56400,47600,47100,61800,42400,56700,78700,77700,76900,75600,44300,73400,73000,49800,69300,68200,42700,65600,64900,64200,64900,63100,63000,61200,58200,57700,57600,57900,56000,56600,51400,49400,43700,41600,39500,39900,37100,37100,78400,67000,65000,64500,64800,80900,61600,62300,69300,68500,63600,53400,63900,63400,63100,61800,64700,62500,62700,48600,65500,62200,60400,43300,80400,54900,53200,37000,74000,43700,72200,47100,45500,69900,69300,68200,43000,68600,43200,37800,67500,65400,65200,64000,64100,63200,61200,61900,60700,59100,59800,57700,56000,54700,42000,40800,71000,76300,68200,74600,71500,63000,77700,65800,74200,69000,71700,66600,54400,66600,64400,63500,53400,52000,51200,51700,55300,49000,71500,41500,71300,69900,67600,63700,63500,59900,57400,56100,78700,70900,69200,66500,67000,67700,72600,63200,68600,49900,61400,61900,57500,80300,40200,54800,56000,52100,46900,76900,74800,74800,48600,44800,67000,67400,63200,62700,52000,51400,49000,44400,54400,56300,58900,59300,57900,56000,60800,54100,53100,56400,54000,51400,38600,37700,36100,34800,39400,40300,36100,33700,35000,32600,32300,59200,32500,56800,56900,55900,55500,53600,52900,50100,39700,39200,38600,35600,32000,31200,60300,58900,58400,57500,57800,56500,55100,55800,52000,59600,58700,58900,56700,53300,55400,38900,37400,52200,51300,51700,50100,39800,33700,34300,58600,33400,58900,57200,32400,56100,55100,39400,56600,58800,55000,57100,55300,53000,52500,51300,39600,53300,52800,35400,35500,33100,30100,39500,37200,37100,32900,37000,30100,59100,58700,58100,57300,55300,54300,54400,53100,52900,32200,31100,56100,60200,55900,54600,57300,51200,58600,58600,58300,40100,52300,50200,39800,33800,38300,31300,60500,32100,59900,59200,58500,33200,53800,52500,51300,38000,34700],\"x0\":\" \",\"xaxis\":\"x\",\"y0\":\" \",\"yaxis\":\"y\",\"type\":\"box\"},{\"alignmentgroup\":\"True\",\"hovertemplate\":\"Make=Hatchback\\u003cbr\\u003eSalary=%{x}\\u003cextra\\u003e\\u003c\\u002fextra\\u003e\",\"legendgroup\":\"Hatchback\",\"marker\":{\"color\":\"#00cc96\"},\"name\":\"Hatchback\",\"notched\":false,\"offsetgroup\":\"Hatchback\",\"orientation\":\"h\",\"showlegend\":true,\"x\":[80600,72900,74000,72400,78700,77300,75900,72300,61100,76300,68400,66600,67900,65100,64700,62600,62700,61900,60200,54300,51400,80100,80900,54400,74900,73900,45000,43600,73600,45300,43800,71000,71600,70800,42200,70500,69600,44200,67000,65800,65500,65900,65500,64900,64500,58100,56300,53200,52700,46000,43600,42300,41900,79000,71500,76100,79700,78600,76800,75200,70800,75400,66300,60700,64400,64100,65500,61600,58100,56500,59000,52600,59900,45900,40000,60700,52000,55100,79100,53200,78700,52800,73400,73800,73100,46900,72300,66700,66900,66400,65800,65100,64400,63800,63500,62300,56100,54500,51800,50900,42500,42600,69200,72500,71800,74700,79700,79900,65800,72200,64800,75800,69000,71000,70900,69000,55300,54900,66000,62800,61500,56300,44800,43600,53700,59700,58300,41000,50700,49900,54900,50700,50100,48400,76800,76200,76600,75200,73900,73000,72700,72900,72700,72800,40100,69700,66100,66300,65500,65500,40900,64400,63800,62000,61700,61600,59500,58400,57200,56600,46900,43500,41400,69400,79600,73500,73500,61300,66800,61100,72200,68000,70700,71700,59200,65500,72400,72700,56200,65600,66800,64400,52700,52800,62100,61300,47300,55600,47200,57200,56400,79100,46700,76000,47500,75800,74800,74100,49000,73600,44300,72500,45500,69800,68800,68500,67300,67100,66900,66200,65900,65000,65200,63700,63600,63900,62700,60800,58700,58400,57400,55200,54400,45400,44500,43200,42800,41800,74100,74500,72000,79100,76100,75000,75200,52500,62600,73000,69600,72800,72600,68400,74200,74600,67900,63700,63800,70700,66900,68400,52000,63000,62400,47400,52500,50600,50900,79800,79500,78100,47400,74700,73800,73800,70700,41500,69100,68800,68900,67100,67500,66600,66700,66800,65100,64700,64100,63200,63100,62900,61100,58600,57300,54900,52700,52200,51000,51500,43700,42600,42500,42200,59500,58700,58600,54700,56500,51700,50200,58300,58100,55600,56700,58700,54800,54900,53200,53700,58600,58700,58800,50500,55300,39700,39800,52700,50600,34700,34100,52000,40500,33000,39600,36200,36500,60900,35900,60700,59200,59100,34800,58100,58700,33100,58000,57900,57600,57800,57100,57600,57100,56200,31000,31200,55900,55600,53800,53800,53200,52000,52500,52300,52400,52000,51900,51300,50900,50500,39100,39300,39600,38900,38100,38500,34200,34600,34900,32300,32500,31800,31300,31800,60700,59000,54300,53600,58300,56400,58900,57100,55500,51000,53300,54100,54000,57600,51000,56400,52800,56400,54500,37000,51000,35300,32300,32600,31000,39700,32200,39800,34700,37600,35000,31900,60900,59400,31500,59900,58800,58300,33200,34600,57900,56000,56400,56100,56100,55000,54100,54000,54200,52400,52000,51300,39900,39200,39100,39500,38400,38200,36500,36900,35400,35300,35700,34200,34300,34100,31900,31300,31100,30900,30600,30000,60900,53100,53800,51400,59100,51900,58200,50800,60200,58300,59300,56000,56400,53100,58600,53900,51400,55400,55200,51200,37500,37800,35600,50400,32500,32800,34600,40600,38200,38100,38100,37100,32100,32700,30000,59500,31700,31900,34200,58200,58100,58500,58600,57400,57600,57200,56900,56400,56900,55600,55700,54600,52000,52600,51400,51100,51900,51400,50900,37000,36200,35400,35800,35700,35600,34000,33200,33000,32200,32300,31500,59600,58700,57600,56300,55400,58000,52900,59000,56400,57300,56600,53800,57600,55700,56600,52000,52900,54500,55400,53700,54500,52800,52500,52300,51600,38700,50000,34400,34800,38500,40100,36500,34900,33300,34800,59800,59600,58300,32600,57100,57100,56600,56400,55300,55200,53100,53200,53700,52100,52100,51200,51900,51900,40000,39600,39700,38600,38000,36000,36700,36000,34000,33300,32000,32900,32200,31600],\"x0\":\" \",\"xaxis\":\"x\",\"y0\":\" \",\"yaxis\":\"y\",\"type\":\"box\"}],                        {\"template\":{\"data\":{\"histogram2dcontour\":[{\"type\":\"histogram2dcontour\",\"colorbar\":{\"outlinewidth\":0,\"ticks\":\"\"},\"colorscale\":[[0.0,\"#0d0887\"],[0.1111111111111111,\"#46039f\"],[0.2222222222222222,\"#7201a8\"],[0.3333333333333333,\"#9c179e\"],[0.4444444444444444,\"#bd3786\"],[0.5555555555555556,\"#d8576b\"],[0.6666666666666666,\"#ed7953\"],[0.7777777777777778,\"#fb9f3a\"],[0.8888888888888888,\"#fdca26\"],[1.0,\"#f0f921\"]]}],\"choropleth\":[{\"type\":\"choropleth\",\"colorbar\":{\"outlinewidth\":0,\"ticks\":\"\"}}],\"histogram2d\":[{\"type\":\"histogram2d\",\"colorbar\":{\"outlinewidth\":0,\"ticks\":\"\"},\"colorscale\":[[0.0,\"#0d0887\"],[0.1111111111111111,\"#46039f\"],[0.2222222222222222,\"#7201a8\"],[0.3333333333333333,\"#9c179e\"],[0.4444444444444444,\"#bd3786\"],[0.5555555555555556,\"#d8576b\"],[0.6666666666666666,\"#ed7953\"],[0.7777777777777778,\"#fb9f3a\"],[0.8888888888888888,\"#fdca26\"],[1.0,\"#f0f921\"]]}],\"heatmap\":[{\"type\":\"heatmap\",\"colorbar\":{\"outlinewidth\":0,\"ticks\":\"\"},\"colorscale\":[[0.0,\"#0d0887\"],[0.1111111111111111,\"#46039f\"],[0.2222222222222222,\"#7201a8\"],[0.3333333333333333,\"#9c179e\"],[0.4444444444444444,\"#bd3786\"],[0.5555555555555556,\"#d8576b\"],[0.6666666666666666,\"#ed7953\"],[0.7777777777777778,\"#fb9f3a\"],[0.8888888888888888,\"#fdca26\"],[1.0,\"#f0f921\"]]}],\"heatmapgl\":[{\"type\":\"heatmapgl\",\"colorbar\":{\"outlinewidth\":0,\"ticks\":\"\"},\"colorscale\":[[0.0,\"#0d0887\"],[0.1111111111111111,\"#46039f\"],[0.2222222222222222,\"#7201a8\"],[0.3333333333333333,\"#9c179e\"],[0.4444444444444444,\"#bd3786\"],[0.5555555555555556,\"#d8576b\"],[0.6666666666666666,\"#ed7953\"],[0.7777777777777778,\"#fb9f3a\"],[0.8888888888888888,\"#fdca26\"],[1.0,\"#f0f921\"]]}],\"contourcarpet\":[{\"type\":\"contourcarpet\",\"colorbar\":{\"outlinewidth\":0,\"ticks\":\"\"}}],\"contour\":[{\"type\":\"contour\",\"colorbar\":{\"outlinewidth\":0,\"ticks\":\"\"},\"colorscale\":[[0.0,\"#0d0887\"],[0.1111111111111111,\"#46039f\"],[0.2222222222222222,\"#7201a8\"],[0.3333333333333333,\"#9c179e\"],[0.4444444444444444,\"#bd3786\"],[0.5555555555555556,\"#d8576b\"],[0.6666666666666666,\"#ed7953\"],[0.7777777777777778,\"#fb9f3a\"],[0.8888888888888888,\"#fdca26\"],[1.0,\"#f0f921\"]]}],\"surface\":[{\"type\":\"surface\",\"colorbar\":{\"outlinewidth\":0,\"ticks\":\"\"},\"colorscale\":[[0.0,\"#0d0887\"],[0.1111111111111111,\"#46039f\"],[0.2222222222222222,\"#7201a8\"],[0.3333333333333333,\"#9c179e\"],[0.4444444444444444,\"#bd3786\"],[0.5555555555555556,\"#d8576b\"],[0.6666666666666666,\"#ed7953\"],[0.7777777777777778,\"#fb9f3a\"],[0.8888888888888888,\"#fdca26\"],[1.0,\"#f0f921\"]]}],\"mesh3d\":[{\"type\":\"mesh3d\",\"colorbar\":{\"outlinewidth\":0,\"ticks\":\"\"}}],\"scatter\":[{\"fillpattern\":{\"fillmode\":\"overlay\",\"size\":10,\"solidity\":0.2},\"type\":\"scatter\"}],\"parcoords\":[{\"type\":\"parcoords\",\"line\":{\"colorbar\":{\"outlinewidth\":0,\"ticks\":\"\"}}}],\"scatterpolargl\":[{\"type\":\"scatterpolargl\",\"marker\":{\"colorbar\":{\"outlinewidth\":0,\"ticks\":\"\"}}}],\"bar\":[{\"error_x\":{\"color\":\"#2a3f5f\"},\"error_y\":{\"color\":\"#2a3f5f\"},\"marker\":{\"line\":{\"color\":\"#E5ECF6\",\"width\":0.5},\"pattern\":{\"fillmode\":\"overlay\",\"size\":10,\"solidity\":0.2}},\"type\":\"bar\"}],\"scattergeo\":[{\"type\":\"scattergeo\",\"marker\":{\"colorbar\":{\"outlinewidth\":0,\"ticks\":\"\"}}}],\"scatterpolar\":[{\"type\":\"scatterpolar\",\"marker\":{\"colorbar\":{\"outlinewidth\":0,\"ticks\":\"\"}}}],\"histogram\":[{\"marker\":{\"pattern\":{\"fillmode\":\"overlay\",\"size\":10,\"solidity\":0.2}},\"type\":\"histogram\"}],\"scattergl\":[{\"type\":\"scattergl\",\"marker\":{\"colorbar\":{\"outlinewidth\":0,\"ticks\":\"\"}}}],\"scatter3d\":[{\"type\":\"scatter3d\",\"line\":{\"colorbar\":{\"outlinewidth\":0,\"ticks\":\"\"}},\"marker\":{\"colorbar\":{\"outlinewidth\":0,\"ticks\":\"\"}}}],\"scattermapbox\":[{\"type\":\"scattermapbox\",\"marker\":{\"colorbar\":{\"outlinewidth\":0,\"ticks\":\"\"}}}],\"scatterternary\":[{\"type\":\"scatterternary\",\"marker\":{\"colorbar\":{\"outlinewidth\":0,\"ticks\":\"\"}}}],\"scattercarpet\":[{\"type\":\"scattercarpet\",\"marker\":{\"colorbar\":{\"outlinewidth\":0,\"ticks\":\"\"}}}],\"carpet\":[{\"aaxis\":{\"endlinecolor\":\"#2a3f5f\",\"gridcolor\":\"white\",\"linecolor\":\"white\",\"minorgridcolor\":\"white\",\"startlinecolor\":\"#2a3f5f\"},\"baxis\":{\"endlinecolor\":\"#2a3f5f\",\"gridcolor\":\"white\",\"linecolor\":\"white\",\"minorgridcolor\":\"white\",\"startlinecolor\":\"#2a3f5f\"},\"type\":\"carpet\"}],\"table\":[{\"cells\":{\"fill\":{\"color\":\"#EBF0F8\"},\"line\":{\"color\":\"white\"}},\"header\":{\"fill\":{\"color\":\"#C8D4E3\"},\"line\":{\"color\":\"white\"}},\"type\":\"table\"}],\"barpolar\":[{\"marker\":{\"line\":{\"color\":\"#E5ECF6\",\"width\":0.5},\"pattern\":{\"fillmode\":\"overlay\",\"size\":10,\"solidity\":0.2}},\"type\":\"barpolar\"}],\"pie\":[{\"automargin\":true,\"type\":\"pie\"}]},\"layout\":{\"autotypenumbers\":\"strict\",\"colorway\":[\"#636efa\",\"#EF553B\",\"#00cc96\",\"#ab63fa\",\"#FFA15A\",\"#19d3f3\",\"#FF6692\",\"#B6E880\",\"#FF97FF\",\"#FECB52\"],\"font\":{\"color\":\"#2a3f5f\"},\"hovermode\":\"closest\",\"hoverlabel\":{\"align\":\"left\"},\"paper_bgcolor\":\"white\",\"plot_bgcolor\":\"#E5ECF6\",\"polar\":{\"bgcolor\":\"#E5ECF6\",\"angularaxis\":{\"gridcolor\":\"white\",\"linecolor\":\"white\",\"ticks\":\"\"},\"radialaxis\":{\"gridcolor\":\"white\",\"linecolor\":\"white\",\"ticks\":\"\"}},\"ternary\":{\"bgcolor\":\"#E5ECF6\",\"aaxis\":{\"gridcolor\":\"white\",\"linecolor\":\"white\",\"ticks\":\"\"},\"baxis\":{\"gridcolor\":\"white\",\"linecolor\":\"white\",\"ticks\":\"\"},\"caxis\":{\"gridcolor\":\"white\",\"linecolor\":\"white\",\"ticks\":\"\"}},\"coloraxis\":{\"colorbar\":{\"outlinewidth\":0,\"ticks\":\"\"}},\"colorscale\":{\"sequential\":[[0.0,\"#0d0887\"],[0.1111111111111111,\"#46039f\"],[0.2222222222222222,\"#7201a8\"],[0.3333333333333333,\"#9c179e\"],[0.4444444444444444,\"#bd3786\"],[0.5555555555555556,\"#d8576b\"],[0.6666666666666666,\"#ed7953\"],[0.7777777777777778,\"#fb9f3a\"],[0.8888888888888888,\"#fdca26\"],[1.0,\"#f0f921\"]],\"sequentialminus\":[[0.0,\"#0d0887\"],[0.1111111111111111,\"#46039f\"],[0.2222222222222222,\"#7201a8\"],[0.3333333333333333,\"#9c179e\"],[0.4444444444444444,\"#bd3786\"],[0.5555555555555556,\"#d8576b\"],[0.6666666666666666,\"#ed7953\"],[0.7777777777777778,\"#fb9f3a\"],[0.8888888888888888,\"#fdca26\"],[1.0,\"#f0f921\"]],\"diverging\":[[0,\"#8e0152\"],[0.1,\"#c51b7d\"],[0.2,\"#de77ae\"],[0.3,\"#f1b6da\"],[0.4,\"#fde0ef\"],[0.5,\"#f7f7f7\"],[0.6,\"#e6f5d0\"],[0.7,\"#b8e186\"],[0.8,\"#7fbc41\"],[0.9,\"#4d9221\"],[1,\"#276419\"]]},\"xaxis\":{\"gridcolor\":\"white\",\"linecolor\":\"white\",\"ticks\":\"\",\"title\":{\"standoff\":15},\"zerolinecolor\":\"white\",\"automargin\":true,\"zerolinewidth\":2},\"yaxis\":{\"gridcolor\":\"white\",\"linecolor\":\"white\",\"ticks\":\"\",\"title\":{\"standoff\":15},\"zerolinecolor\":\"white\",\"automargin\":true,\"zerolinewidth\":2},\"scene\":{\"xaxis\":{\"backgroundcolor\":\"#E5ECF6\",\"gridcolor\":\"white\",\"linecolor\":\"white\",\"showbackground\":true,\"ticks\":\"\",\"zerolinecolor\":\"white\",\"gridwidth\":2},\"yaxis\":{\"backgroundcolor\":\"#E5ECF6\",\"gridcolor\":\"white\",\"linecolor\":\"white\",\"showbackground\":true,\"ticks\":\"\",\"zerolinecolor\":\"white\",\"gridwidth\":2},\"zaxis\":{\"backgroundcolor\":\"#E5ECF6\",\"gridcolor\":\"white\",\"linecolor\":\"white\",\"showbackground\":true,\"ticks\":\"\",\"zerolinecolor\":\"white\",\"gridwidth\":2}},\"shapedefaults\":{\"line\":{\"color\":\"#2a3f5f\"}},\"annotationdefaults\":{\"arrowcolor\":\"#2a3f5f\",\"arrowhead\":0,\"arrowwidth\":1},\"geo\":{\"bgcolor\":\"white\",\"landcolor\":\"#E5ECF6\",\"subunitcolor\":\"white\",\"showland\":true,\"showlakes\":true,\"lakecolor\":\"white\"},\"title\":{\"x\":0.05},\"mapbox\":{\"style\":\"light\"}}},\"xaxis\":{\"anchor\":\"y\",\"domain\":[0.0,1.0],\"title\":{\"text\":\"Salary\"}},\"yaxis\":{\"anchor\":\"x\",\"domain\":[0.0,1.0]},\"legend\":{\"title\":{\"text\":\"Make\"},\"tracegroupgap\":0},\"margin\":{\"t\":60},\"boxmode\":\"group\"},                        {\"responsive\": true}                    ).then(function(){\n",
              "                            \n",
              "var gd = document.getElementById('b63b93d1-efca-4a20-a8bc-cf95e82ce7df');\n",
              "var x = new MutationObserver(function (mutations, observer) {{\n",
              "        var display = window.getComputedStyle(gd).display;\n",
              "        if (!display || display === 'none') {{\n",
              "            console.log([gd, 'removed!']);\n",
              "            Plotly.purge(gd);\n",
              "            observer.disconnect();\n",
              "        }}\n",
              "}});\n",
              "\n",
              "// Listen for the removal of the full notebook cells\n",
              "var notebookContainer = gd.closest('#notebook-container');\n",
              "if (notebookContainer) {{\n",
              "    x.observe(notebookContainer, {childList: true});\n",
              "}}\n",
              "\n",
              "// Listen for the clearing of the current output cell\n",
              "var outputEl = gd.closest('.output');\n",
              "if (outputEl) {{\n",
              "    x.observe(outputEl, {childList: true});\n",
              "}}\n",
              "\n",
              "                        })                };                            </script>        </div>\n",
              "</body>\n",
              "</html>"
            ]
          },
          "metadata": {}
        }
      ],
      "id": "DhBDomWKbUsG"
    },
    {
      "cell_type": "code",
      "source": [
        "px.box(data,x='Partner_salary',color='Make').show()"
      ],
      "metadata": {
        "colab": {
          "base_uri": "https://localhost:8080/",
          "height": 542
        },
        "outputId": "f7301074-5b42-4f07-c585-62b63309b78e",
        "id": "Tzb0vTRVbU-A"
      },
      "execution_count": null,
      "outputs": [
        {
          "output_type": "display_data",
          "data": {
            "text/html": [
              "<html>\n",
              "<head><meta charset=\"utf-8\" /></head>\n",
              "<body>\n",
              "    <div>            <script src=\"https://cdnjs.cloudflare.com/ajax/libs/mathjax/2.7.5/MathJax.js?config=TeX-AMS-MML_SVG\"></script><script type=\"text/javascript\">if (window.MathJax && window.MathJax.Hub && window.MathJax.Hub.Config) {window.MathJax.Hub.Config({SVG: {font: \"STIX-Web\"}});}</script>                <script type=\"text/javascript\">window.PlotlyConfig = {MathJaxConfig: 'local'};</script>\n",
              "        <script charset=\"utf-8\" src=\"https://cdn.plot.ly/plotly-2.24.1.min.js\"></script>                <div id=\"0e9e4f3a-3483-4f99-99d3-65e95e0c6b27\" class=\"plotly-graph-div\" style=\"height:525px; width:100%;\"></div>            <script type=\"text/javascript\">                                    window.PLOTLYENV=window.PLOTLYENV || {};                                    if (document.getElementById(\"0e9e4f3a-3483-4f99-99d3-65e95e0c6b27\")) {                    Plotly.newPlot(                        \"0e9e4f3a-3483-4f99-99d3-65e95e0c6b27\",                        [{\"alignmentgroup\":\"True\",\"hovertemplate\":\"Make=SUV\\u003cbr\\u003ePartner_salary=%{x}\\u003cextra\\u003e\\u003c\\u002fextra\\u003e\",\"legendgroup\":\"SUV\",\"marker\":{\"color\":\"#636efa\"},\"name\":\"SUV\",\"notched\":false,\"offsetgroup\":\"SUV\",\"orientation\":\"h\",\"showlegend\":true,\"x\":[70700.0,70300.0,60700.0,70300.0,60200.0,60500.0,50800.0,40400.0,0.0,0.0,0.0,0.0,0.0,0.0,0.0,0.0,0.0,70600.0,70300.0,60600.0,60300.0,45500.0,40200.0,40700.0,600.0,700.0,27800.0,0.0,0.0,70700.0,70700.0,70000.0,40100.0,40900.0,27000.0,0.0,0.0,0.0,0.0,0.0,0.0,70300.0,60300.0,0.0,50800.0,40500.0,0.0,0.0,0.0,0.0,60700.0,50400.0,40900.0,0.0,0.0,0.0,80400.0,60200.0,60900.0,0.0,0.0,0.0,0.0,0.0,0.0,60100.0,70200.0,30000.0,40300.0,40800.0,0.0,0.0,0.0,0.0,0.0,70800.0,70800.0,900.0,60700.0,40500.0,0.0,0.0,0.0,0.0,0.0,0.0,0.0,60900.0,60200.0,40200.0,45000.0,40600.0,0.0,0.0,0.0,0.0,0.0,0.0,70000.0,60500.0,50700.0,0.0,0.0,70000.0,40600.0,0.0,0.0,0.0,0.0,0.0,0.0,0.0,60300.0,0.0,0.0,0.0,80500.0,70800.0,50400.0,40400.0,40300.0,27700.0,40600.0,35800.0,26600.0,0.0,0.0,0.0,0.0,0.0,60000.0,60000.0,40900.0,900.0,27900.0,0.0,0.0,0.0,0.0,0.0,0.0,60800.0,70100.0,40400.0,40600.0,40400.0,50900.0,35100.0,40900.0,0.0,0.0,0.0,0.0,0.0,70300.0,70800.0,70600.0,38700.0,0.0,28100.0,0.0,0.0,0.0,0.0,0.0,0.0,0.0,0.0,0.0,0.0,38300.0,60000.0,40500.0,25700.0,0.0,0.0,0.0,50700.0,70400.0,40800.0,30900.0,26100.0,38100.0,400.0,0.0,0.0,0.0,0.0,0.0,0.0,0.0,0.0,70900.0,70000.0,45200.0,50900.0,0.0,0.0,0.0,0.0,0.0,70700.0,70800.0,60400.0,38300.0,30300.0,40500.0,0.0,0.0,0.0,0.0,70700.0,70000.0,70300.0,25800.0,40900.0,60900.0,40700.0,24500.0,38900.0,40600.0,28500.0,24900.0,0.0,0.0,0.0,0.0,0.0,0.0,70500.0,40300.0,40600.0,40000.0,60400.0,40300.0,0.0,0.0,0.0,0.0,40500.0,70600.0,40500.0,27200.0,0.0,0.0,0.0,0.0,0.0,0.0,60000.0,40700.0,40200.0,40400.0,0.0,0.0,0.0,0.0,0.0,0.0,0.0,70800.0,60600.0,40900.0,30900.0,40200.0,25800.0,26300.0,0.0,0.0,0.0,0.0,0.0,0.0,0.0,0.0,0.0,38900.0,25800.0,38100.0,38600.0,38700.0,0.0,0.0,0.0,40400.0,30800.0,38700.0,0.0,0.0,0.0,38300.0,40100.0,38000.0,0.0,0.0,800.0,0.0],\"x0\":\" \",\"xaxis\":\"x\",\"y0\":\" \",\"yaxis\":\"y\",\"type\":\"box\"},{\"alignmentgroup\":\"True\",\"hovertemplate\":\"Make=Sedan\\u003cbr\\u003ePartner_salary=%{x}\\u003cextra\\u003e\\u003c\\u002fextra\\u003e\",\"legendgroup\":\"Sedan\",\"marker\":{\"color\":\"#EF553B\"},\"name\":\"Sedan\",\"notched\":false,\"offsetgroup\":\"Sedan\",\"orientation\":\"h\",\"showlegend\":true,\"x\":[40000.0,38100.0,38200.0,40300.0,40900.0,40200.0,30200.0,38500.0,30000.0,0.0,0.0,0.0,0.0,0.0,0.0,38700.0,40600.0,38300.0,38900.0,40200.0,38100.0,40100.0,38700.0,38900.0,23200.0,38200.0,40300.0,24700.0,0.0,0.0,0.0,0.0,30800.0,0.0,0.0,0.0,0.0,0.0,0.0,0.0,40700.0,40800.0,38400.0,38000.0,38300.0,23100.0,30100.0,40800.0,38000.0,38400.0,38200.0,38500.0,30200.0,0.0,0.0,0.0,0.0,0.0,0.0,0.0,0.0,0.0,0.0,0.0,0.0,0.0,40100.0,38300.0,40700.0,200.0,40800.0,38300.0,27700.0,45700.0,38700.0,28200.0,0.0,0.0,0.0,0.0,0.0,0.0,0.0,0.0,0.0,38800.0,40100.0,38300.0,26800.0,0.0,40300.0,38900.0,30900.0,26800.0,0.0,0.0,0.0,0.0,0.0,0.0,0.0,0.0,0.0,40900.0,40800.0,38800.0,38700.0,40400.0,40100.0,40800.0,40100.0,0.0,0.0,0.0,0.0,0.0,0.0,0.0,40500.0,38000.0,800.0,0.0,38400.0,40100.0,38600.0,38700.0,200.0,30800.0,40200.0,40300.0,38800.0,38300.0,40300.0,30700.0,0.0,0.0,0.0,0.0,0.0,0.0,0.0,38500.0,40600.0,38500.0,40400.0,38200.0,0.0,40100.0,38700.0,40300.0,38700.0,35900.0,30500.0,40500.0,40800.0,40000.0,30900.0,28900.0,0.0,0.0,0.0,0.0,0.0,0.0,0.0,0.0,0.0,0.0,0.0,40500.0,40000.0,40100.0,40500.0,38500.0,38000.0,38700.0,40600.0,45900.0,30700.0,38500.0,40500.0,0.0,40700.0,40200.0,0.0,0.0,0.0,0.0,0.0,0.0,38100.0,38900.0,40200.0,0.0,38300.0,25300.0,40400.0,38300.0,28900.0,35600.0,24500.0,40000.0,0.0,0.0,26800.0,0.0,0.0,0.0,0.0,0.0,0.0,0.0,0.0,0.0,40400.0,40800.0,38900.0,38000.0,38100.0,38700.0,40900.0,25000.0,38000.0,38300.0,30900.0,26800.0,25200.0,38100.0,0.0,0.0,0.0,27700.0,0.0,0.0,0.0,0.0,0.0,0.0,0.0,38700.0,38200.0,38300.0,38300.0,40900.0,40100.0,40900.0,38600.0,28100.0,38300.0,0.0,0.0,0.0,0.0,0.0,0.0,0.0,0.0,0.0,0.0,0.0,0.0,40200.0,40400.0,38500.0,38500.0,35700.0,27700.0,40300.0,40200.0,38700.0,38400.0,40500.0,38200.0,0.0,0.0,0.0,0.0,0.0,0.0,0.0,0.0,0.0,0.0,0.0,0.0,0.0,0.0,0.0,0.0,0.0,0.0,40400.0,40700.0,38900.0,40500.0,38500.0,30900.0,40100.0,23800.0,23800.0,40800.0,40800.0,40200.0,40100.0,40200.0,0.0,0.0,0.0,0.0,0.0,0.0,0.0,0.0,0.0,0.0,0.0,0.0,0.0,40000.0,38200.0,40900.0,40200.0,38400.0,38500.0,40000.0,38200.0,0.0,0.0,0.0,0.0,0.0,0.0,0.0,0.0,0.0,40800.0,32700.0,40400.0,38900.0,40800.0,45600.0,40000.0,40900.0,38200.0,30900.0,30900.0,32600.0,38200.0,40600.0,40000.0,30100.0,600.0,25100.0,26700.0,25100.0,26600.0,24200.0,40700.0,30600.0,25900.0,40100.0,40800.0,40900.0,38700.0,24200.0,38800.0,30300.0,25400.0,0.0,0.0,0.0,25500.0,0.0,800.0,0.0,0.0,26600.0,0.0,0.0,0.0,26800.0,0.0,0.0,0.0,0.0,24000.0,0.0,0.0,0.0,0.0,0.0,0.0,0.0,0.0,0.0,0.0,0.0,32300.0,40000.0,40900.0,40800.0,30200.0,38600.0,25500.0,27900.0,38100.0,38800.0,35700.0,32600.0,38100.0,38700.0,30700.0,32300.0,40000.0,30800.0,32400.0,40200.0,40400.0,25000.0,40700.0,25000.0,0.0,0.0,0.0,0.0,30300.0,0.0,0.0,23500.0,0.0,0.0,25300.0,0.0,0.0,0.0,0.0,0.0,0.0,0.0,0.0,0.0,0.0,0.0,0.0,0.0,0.0,0.0,0.0,0.0,0.0,0.0,0.0,0.0,30300.0,40200.0,40400.0,40000.0,40900.0,23700.0,40500.0,38800.0,30100.0,30900.0,35300.0,45800.0,32400.0,30300.0,30100.0,30700.0,27900.0,28300.0,27300.0,30200.0,22900.0,25200.0,25500.0,38500.0,0.0,25000.0,25400.0,40800.0,0.0,29800.0,0.0,24200.0,25400.0,0.0,0.0,0.0,25500.0,0.0,25800.0,30400.0,0.0,0.0,0.0,0.0,0.0,0.0,0.0,0.0,0.0,0.0,0.0,0.0,0.0,0.0,0.0,0.0,40600.0,30900.0,40200.0,30100.0,32600.0,40500.0,25100.0,28700.0,25300.0,28000.0,25400.0,28200.0,40200.0,25300.0,25300.0,25400.0,32800.0,30100.0,30100.0,29200.0,25300.0,200.0,0.0,30500.0,0.0,0.0,0.0,0.0,0.0,0.0,0.0,0.0,35800.0,40400.0,100.0,30800.0,32200.0,30400.0,25700.0,32700.0,25700.0,40500.0,24400.0,23500.0,26100.0,0.0,40100.0,25400.0,22600.0,26900.0,30800.0,0.0,0.0,0.0,24200.0,25800.0,0.0,0.0,0.0,0.0,0.0,0.0,0.0,0.0,300.0,45500.0,40100.0,30800.0,30400.0,30600.0,25100.0,30800.0,28200.0,25400.0,26900.0,28600.0,40800.0,40100.0,40200.0,40200.0,32200.0,30600.0,32200.0,32900.0,30500.0,30700.0,30900.0,0.0,25200.0,0.0,0.0,0.0,0.0,0.0,0.0,0.0,0.0,0.0,0.0,0.0,0.0,0.0,100.0,40400.0,40200.0,40000.0,200.0,40200.0,40500.0,40100.0,40300.0,30000.0,30000.0,28500.0,30700.0,32400.0,25600.0,40800.0,40300.0,500.0,25400.0,25100.0,25800.0,25100.0,30600.0,25200.0,0.0,25900.0,0.0,0.0,0.0,0.0,0.0,0.0,40200.0,30200.0,32300.0,28200.0,30900.0,30600.0,30800.0,30300.0,40100.0,25500.0,25500.0,40400.0,40600.0,40700.0,40600.0,30800.0,32600.0,28200.0,30300.0,25100.0,30400.0,0.0,0.0,0.0,0.0,0.0,0.0,0.0,0.0,0.0,0.0,0.0,45200.0,40800.0,45500.0,40200.0,35600.0,40500.0,30700.0,30200.0,30300.0,40000.0,25600.0,25200.0,700.0,40500.0,32000.0,30900.0,0.0,28100.0,0.0,0.0,0.0,25700.0,0.0,0.0,0.0,0.0,0.0],\"x0\":\" \",\"xaxis\":\"x\",\"y0\":\" \",\"yaxis\":\"y\",\"type\":\"box\"},{\"alignmentgroup\":\"True\",\"hovertemplate\":\"Make=Hatchback\\u003cbr\\u003ePartner_salary=%{x}\\u003cextra\\u003e\\u003c\\u002fextra\\u003e\",\"legendgroup\":\"Hatchback\",\"marker\":{\"color\":\"#00cc96\"},\"name\":\"Hatchback\",\"notched\":false,\"offsetgroup\":\"Hatchback\",\"orientation\":\"h\",\"showlegend\":true,\"x\":[40400.0,45700.0,40000.0,40200.0,30600.0,28200.0,28000.0,30300.0,40600.0,600.0,30200.0,30000.0,28600.0,28500.0,0.0,30900.0,28000.0,28200.0,700.0,30100.0,30000.0,0.0,0.0,22100.0,0.0,0.0,28400.0,30100.0,0.0,27800.0,28300.0,0.0,0.0,0.0,28300.0,0.0,0.0,800.0,0.0,0.0,0.0,0.0,0.0,0.0,0.0,0.0,0.0,0.0,0.0,0.0,0.0,0.0,0.0,40600.0,40900.0,32400.0,28800.0,28600.0,30600.0,30100.0,32900.0,27600.0,35500.0,40000.0,30300.0,30100.0,28800.0,30300.0,32400.0,32900.0,0.0,35100.0,27900.0,40600.0,45600.0,25500.0,28400.0,900.0,0.0,26600.0,0.0,25400.0,0.0,0.0,0.0,400.0,0.0,0.0,0.0,0.0,0.0,0.0,0.0,0.0,0.0,0.0,0.0,0.0,0.0,0.0,0.0,0.0,45400.0,40300.0,800.0,35100.0,28700.0,28400.0,40100.0,32800.0,40500.0,28500.0,32500.0,28900.0,28900.0,28100.0,40000.0,40000.0,28100.0,30700.0,25800.0,28900.0,40300.0,40400.0,30000.0,24000.0,24200.0,40800.0,30800.0,30800.0,25000.0,28000.0,28000.0,30300.0,0.0,0.0,0.0,0.0,0.0,0.0,0.0,0.0,0.0,0.0,30800.0,0.0,0.0,0.0,0.0,0.0,25900.0,0.0,0.0,0.0,0.0,0.0,0.0,0.0,0.0,0.0,0.0,0.0,0.0,40200.0,28900.0,32400.0,30800.0,40500.0,35400.0,40300.0,28900.0,32400.0,30000.0,28600.0,40600.0,32600.0,25100.0,24300.0,40900.0,30300.0,28700.0,28700.0,40000.0,40600.0,30000.0,30400.0,40500.0,32900.0,40900.0,28100.0,24600.0,0.0,32700.0,0.0,28600.0,0.0,0.0,0.0,25400.0,0.0,28800.0,0.0,25000.0,0.0,0.0,0.0,0.0,0.0,0.0,0.0,0.0,0.0,0.0,0.0,0.0,0.0,0.0,0.0,0.0,0.0,0.0,0.0,0.0,0.0,0.0,0.0,0.0,0.0,45900.0,40300.0,40600.0,30400.0,30600.0,30500.0,28800.0,50300.0,40100.0,28000.0,32000.0,28900.0,28500.0,32700.0,24000.0,24700.0,28000.0,32500.0,32200.0,25200.0,28900.0,25000.0,40700.0,28200.0,28400.0,40600.0,32100.0,30900.0,30700.0,0.0,0.0,0.0,30000.0,0.0,0.0,0.0,0.0,28900.0,0.0,0.0,0.0,0.0,0.0,0.0,0.0,0.0,0.0,0.0,0.0,0.0,0.0,0.0,0.0,0.0,0.0,0.0,0.0,0.0,0.0,0.0,0.0,0.0,0.0,0.0,40600.0,40800.0,20000.0,900.0,35300.0,40400.0,40700.0,30200.0,28500.0,30800.0,28200.0,26200.0,30200.0,30600.0,30900.0,30400.0,25500.0,24200.0,23200.0,30500.0,25000.0,40900.0,40000.0,25300.0,25700.0,40000.0,40700.0,22300.0,30800.0,35400.0,28300.0,28200.0,28600.0,0.0,25000.0,0.0,0.0,0.0,25400.0,0.0,0.0,20000.0,0.0,0.0,0.0,0.0,0.0,0.0,0.0,0.0,25900.0,25900.0,0.0,0.0,0.0,0.0,0.0,0.0,0.0,0.0,0.0,0.0,0.0,0.0,0.0,0.0,0.0,0.0,0.0,0.0,0.0,0.0,0.0,0.0,0.0,0.0,0.0,0.0,0.0,0.0,40800.0,40500.0,40900.0,40500.0,30700.0,30000.0,28100.0,28600.0,30100.0,32500.0,30500.0,28900.0,28200.0,24900.0,30000.0,25300.0,28700.0,24000.0,26900.0,40300.0,25300.0,40100.0,40300.0,40000.0,40300.0,30100.0,35900.0,28200.0,32900.0,28000.0,28200.0,32500.0,0.0,0.0,28000.0,0.0,0.0,0.0,25700.0,0.0,0.0,0.0,0.0,0.0,0.0,0.0,0.0,0.0,0.0,0.0,0.0,0.0,0.0,0.0,0.0,0.0,0.0,0.0,0.0,0.0,0.0,0.0,0.0,0.0,0.0,0.0,0.0,0.0,0.0,0.0,0.0,0.0,40500.0,45000.0,40500.0,40500.0,32000.0,40100.0,32600.0,40100.0,28700.0,30100.0,28000.0,30300.0,28900.0,30600.0,600.0,28000.0,30500.0,25800.0,25700.0,28000.0,40000.0,40900.0,40000.0,900.0,40700.0,100.0,35600.0,28800.0,30400.0,28600.0,28100.0,28500.0,30700.0,30200.0,30400.0,0.0,28800.0,28400.0,25700.0,0.0,0.0,0.0,0.0,0.0,0.0,0.0,0.0,0.0,0.0,0.0,0.0,0.0,0.0,0.0,0.0,0.0,0.0,0.0,0.0,0.0,0.0,0.0,0.0,0.0,0.0,0.0,0.0,0.0,0.0,0.0,0.0,40100.0,40900.0,40800.0,40500.0,40500.0,35200.0,40400.0,32200.0,35000.0,32600.0,32900.0,400.0,30400.0,30600.0,28000.0,32700.0,32900.0,30500.0,28100.0,30400.0,28500.0,30300.0,30600.0,30100.0,28000.0,40200.0,25800.0,40000.0,35700.0,30000.0,27800.0,30200.0,30900.0,30500.0,28100.0,0.0,0.0,0.0,0.0,0.0,0.0,0.0,0.0,0.0,0.0,0.0,0.0,0.0,0.0,0.0,0.0,0.0,0.0,0.0,0.0,0.0,0.0,0.0,0.0,0.0,0.0,0.0,0.0,0.0,0.0,0.0,0.0],\"x0\":\" \",\"xaxis\":\"x\",\"y0\":\" \",\"yaxis\":\"y\",\"type\":\"box\"}],                        {\"template\":{\"data\":{\"histogram2dcontour\":[{\"type\":\"histogram2dcontour\",\"colorbar\":{\"outlinewidth\":0,\"ticks\":\"\"},\"colorscale\":[[0.0,\"#0d0887\"],[0.1111111111111111,\"#46039f\"],[0.2222222222222222,\"#7201a8\"],[0.3333333333333333,\"#9c179e\"],[0.4444444444444444,\"#bd3786\"],[0.5555555555555556,\"#d8576b\"],[0.6666666666666666,\"#ed7953\"],[0.7777777777777778,\"#fb9f3a\"],[0.8888888888888888,\"#fdca26\"],[1.0,\"#f0f921\"]]}],\"choropleth\":[{\"type\":\"choropleth\",\"colorbar\":{\"outlinewidth\":0,\"ticks\":\"\"}}],\"histogram2d\":[{\"type\":\"histogram2d\",\"colorbar\":{\"outlinewidth\":0,\"ticks\":\"\"},\"colorscale\":[[0.0,\"#0d0887\"],[0.1111111111111111,\"#46039f\"],[0.2222222222222222,\"#7201a8\"],[0.3333333333333333,\"#9c179e\"],[0.4444444444444444,\"#bd3786\"],[0.5555555555555556,\"#d8576b\"],[0.6666666666666666,\"#ed7953\"],[0.7777777777777778,\"#fb9f3a\"],[0.8888888888888888,\"#fdca26\"],[1.0,\"#f0f921\"]]}],\"heatmap\":[{\"type\":\"heatmap\",\"colorbar\":{\"outlinewidth\":0,\"ticks\":\"\"},\"colorscale\":[[0.0,\"#0d0887\"],[0.1111111111111111,\"#46039f\"],[0.2222222222222222,\"#7201a8\"],[0.3333333333333333,\"#9c179e\"],[0.4444444444444444,\"#bd3786\"],[0.5555555555555556,\"#d8576b\"],[0.6666666666666666,\"#ed7953\"],[0.7777777777777778,\"#fb9f3a\"],[0.8888888888888888,\"#fdca26\"],[1.0,\"#f0f921\"]]}],\"heatmapgl\":[{\"type\":\"heatmapgl\",\"colorbar\":{\"outlinewidth\":0,\"ticks\":\"\"},\"colorscale\":[[0.0,\"#0d0887\"],[0.1111111111111111,\"#46039f\"],[0.2222222222222222,\"#7201a8\"],[0.3333333333333333,\"#9c179e\"],[0.4444444444444444,\"#bd3786\"],[0.5555555555555556,\"#d8576b\"],[0.6666666666666666,\"#ed7953\"],[0.7777777777777778,\"#fb9f3a\"],[0.8888888888888888,\"#fdca26\"],[1.0,\"#f0f921\"]]}],\"contourcarpet\":[{\"type\":\"contourcarpet\",\"colorbar\":{\"outlinewidth\":0,\"ticks\":\"\"}}],\"contour\":[{\"type\":\"contour\",\"colorbar\":{\"outlinewidth\":0,\"ticks\":\"\"},\"colorscale\":[[0.0,\"#0d0887\"],[0.1111111111111111,\"#46039f\"],[0.2222222222222222,\"#7201a8\"],[0.3333333333333333,\"#9c179e\"],[0.4444444444444444,\"#bd3786\"],[0.5555555555555556,\"#d8576b\"],[0.6666666666666666,\"#ed7953\"],[0.7777777777777778,\"#fb9f3a\"],[0.8888888888888888,\"#fdca26\"],[1.0,\"#f0f921\"]]}],\"surface\":[{\"type\":\"surface\",\"colorbar\":{\"outlinewidth\":0,\"ticks\":\"\"},\"colorscale\":[[0.0,\"#0d0887\"],[0.1111111111111111,\"#46039f\"],[0.2222222222222222,\"#7201a8\"],[0.3333333333333333,\"#9c179e\"],[0.4444444444444444,\"#bd3786\"],[0.5555555555555556,\"#d8576b\"],[0.6666666666666666,\"#ed7953\"],[0.7777777777777778,\"#fb9f3a\"],[0.8888888888888888,\"#fdca26\"],[1.0,\"#f0f921\"]]}],\"mesh3d\":[{\"type\":\"mesh3d\",\"colorbar\":{\"outlinewidth\":0,\"ticks\":\"\"}}],\"scatter\":[{\"fillpattern\":{\"fillmode\":\"overlay\",\"size\":10,\"solidity\":0.2},\"type\":\"scatter\"}],\"parcoords\":[{\"type\":\"parcoords\",\"line\":{\"colorbar\":{\"outlinewidth\":0,\"ticks\":\"\"}}}],\"scatterpolargl\":[{\"type\":\"scatterpolargl\",\"marker\":{\"colorbar\":{\"outlinewidth\":0,\"ticks\":\"\"}}}],\"bar\":[{\"error_x\":{\"color\":\"#2a3f5f\"},\"error_y\":{\"color\":\"#2a3f5f\"},\"marker\":{\"line\":{\"color\":\"#E5ECF6\",\"width\":0.5},\"pattern\":{\"fillmode\":\"overlay\",\"size\":10,\"solidity\":0.2}},\"type\":\"bar\"}],\"scattergeo\":[{\"type\":\"scattergeo\",\"marker\":{\"colorbar\":{\"outlinewidth\":0,\"ticks\":\"\"}}}],\"scatterpolar\":[{\"type\":\"scatterpolar\",\"marker\":{\"colorbar\":{\"outlinewidth\":0,\"ticks\":\"\"}}}],\"histogram\":[{\"marker\":{\"pattern\":{\"fillmode\":\"overlay\",\"size\":10,\"solidity\":0.2}},\"type\":\"histogram\"}],\"scattergl\":[{\"type\":\"scattergl\",\"marker\":{\"colorbar\":{\"outlinewidth\":0,\"ticks\":\"\"}}}],\"scatter3d\":[{\"type\":\"scatter3d\",\"line\":{\"colorbar\":{\"outlinewidth\":0,\"ticks\":\"\"}},\"marker\":{\"colorbar\":{\"outlinewidth\":0,\"ticks\":\"\"}}}],\"scattermapbox\":[{\"type\":\"scattermapbox\",\"marker\":{\"colorbar\":{\"outlinewidth\":0,\"ticks\":\"\"}}}],\"scatterternary\":[{\"type\":\"scatterternary\",\"marker\":{\"colorbar\":{\"outlinewidth\":0,\"ticks\":\"\"}}}],\"scattercarpet\":[{\"type\":\"scattercarpet\",\"marker\":{\"colorbar\":{\"outlinewidth\":0,\"ticks\":\"\"}}}],\"carpet\":[{\"aaxis\":{\"endlinecolor\":\"#2a3f5f\",\"gridcolor\":\"white\",\"linecolor\":\"white\",\"minorgridcolor\":\"white\",\"startlinecolor\":\"#2a3f5f\"},\"baxis\":{\"endlinecolor\":\"#2a3f5f\",\"gridcolor\":\"white\",\"linecolor\":\"white\",\"minorgridcolor\":\"white\",\"startlinecolor\":\"#2a3f5f\"},\"type\":\"carpet\"}],\"table\":[{\"cells\":{\"fill\":{\"color\":\"#EBF0F8\"},\"line\":{\"color\":\"white\"}},\"header\":{\"fill\":{\"color\":\"#C8D4E3\"},\"line\":{\"color\":\"white\"}},\"type\":\"table\"}],\"barpolar\":[{\"marker\":{\"line\":{\"color\":\"#E5ECF6\",\"width\":0.5},\"pattern\":{\"fillmode\":\"overlay\",\"size\":10,\"solidity\":0.2}},\"type\":\"barpolar\"}],\"pie\":[{\"automargin\":true,\"type\":\"pie\"}]},\"layout\":{\"autotypenumbers\":\"strict\",\"colorway\":[\"#636efa\",\"#EF553B\",\"#00cc96\",\"#ab63fa\",\"#FFA15A\",\"#19d3f3\",\"#FF6692\",\"#B6E880\",\"#FF97FF\",\"#FECB52\"],\"font\":{\"color\":\"#2a3f5f\"},\"hovermode\":\"closest\",\"hoverlabel\":{\"align\":\"left\"},\"paper_bgcolor\":\"white\",\"plot_bgcolor\":\"#E5ECF6\",\"polar\":{\"bgcolor\":\"#E5ECF6\",\"angularaxis\":{\"gridcolor\":\"white\",\"linecolor\":\"white\",\"ticks\":\"\"},\"radialaxis\":{\"gridcolor\":\"white\",\"linecolor\":\"white\",\"ticks\":\"\"}},\"ternary\":{\"bgcolor\":\"#E5ECF6\",\"aaxis\":{\"gridcolor\":\"white\",\"linecolor\":\"white\",\"ticks\":\"\"},\"baxis\":{\"gridcolor\":\"white\",\"linecolor\":\"white\",\"ticks\":\"\"},\"caxis\":{\"gridcolor\":\"white\",\"linecolor\":\"white\",\"ticks\":\"\"}},\"coloraxis\":{\"colorbar\":{\"outlinewidth\":0,\"ticks\":\"\"}},\"colorscale\":{\"sequential\":[[0.0,\"#0d0887\"],[0.1111111111111111,\"#46039f\"],[0.2222222222222222,\"#7201a8\"],[0.3333333333333333,\"#9c179e\"],[0.4444444444444444,\"#bd3786\"],[0.5555555555555556,\"#d8576b\"],[0.6666666666666666,\"#ed7953\"],[0.7777777777777778,\"#fb9f3a\"],[0.8888888888888888,\"#fdca26\"],[1.0,\"#f0f921\"]],\"sequentialminus\":[[0.0,\"#0d0887\"],[0.1111111111111111,\"#46039f\"],[0.2222222222222222,\"#7201a8\"],[0.3333333333333333,\"#9c179e\"],[0.4444444444444444,\"#bd3786\"],[0.5555555555555556,\"#d8576b\"],[0.6666666666666666,\"#ed7953\"],[0.7777777777777778,\"#fb9f3a\"],[0.8888888888888888,\"#fdca26\"],[1.0,\"#f0f921\"]],\"diverging\":[[0,\"#8e0152\"],[0.1,\"#c51b7d\"],[0.2,\"#de77ae\"],[0.3,\"#f1b6da\"],[0.4,\"#fde0ef\"],[0.5,\"#f7f7f7\"],[0.6,\"#e6f5d0\"],[0.7,\"#b8e186\"],[0.8,\"#7fbc41\"],[0.9,\"#4d9221\"],[1,\"#276419\"]]},\"xaxis\":{\"gridcolor\":\"white\",\"linecolor\":\"white\",\"ticks\":\"\",\"title\":{\"standoff\":15},\"zerolinecolor\":\"white\",\"automargin\":true,\"zerolinewidth\":2},\"yaxis\":{\"gridcolor\":\"white\",\"linecolor\":\"white\",\"ticks\":\"\",\"title\":{\"standoff\":15},\"zerolinecolor\":\"white\",\"automargin\":true,\"zerolinewidth\":2},\"scene\":{\"xaxis\":{\"backgroundcolor\":\"#E5ECF6\",\"gridcolor\":\"white\",\"linecolor\":\"white\",\"showbackground\":true,\"ticks\":\"\",\"zerolinecolor\":\"white\",\"gridwidth\":2},\"yaxis\":{\"backgroundcolor\":\"#E5ECF6\",\"gridcolor\":\"white\",\"linecolor\":\"white\",\"showbackground\":true,\"ticks\":\"\",\"zerolinecolor\":\"white\",\"gridwidth\":2},\"zaxis\":{\"backgroundcolor\":\"#E5ECF6\",\"gridcolor\":\"white\",\"linecolor\":\"white\",\"showbackground\":true,\"ticks\":\"\",\"zerolinecolor\":\"white\",\"gridwidth\":2}},\"shapedefaults\":{\"line\":{\"color\":\"#2a3f5f\"}},\"annotationdefaults\":{\"arrowcolor\":\"#2a3f5f\",\"arrowhead\":0,\"arrowwidth\":1},\"geo\":{\"bgcolor\":\"white\",\"landcolor\":\"#E5ECF6\",\"subunitcolor\":\"white\",\"showland\":true,\"showlakes\":true,\"lakecolor\":\"white\"},\"title\":{\"x\":0.05},\"mapbox\":{\"style\":\"light\"}}},\"xaxis\":{\"anchor\":\"y\",\"domain\":[0.0,1.0],\"title\":{\"text\":\"Partner_salary\"}},\"yaxis\":{\"anchor\":\"x\",\"domain\":[0.0,1.0]},\"legend\":{\"title\":{\"text\":\"Make\"},\"tracegroupgap\":0},\"margin\":{\"t\":60},\"boxmode\":\"group\"},                        {\"responsive\": true}                    ).then(function(){\n",
              "                            \n",
              "var gd = document.getElementById('0e9e4f3a-3483-4f99-99d3-65e95e0c6b27');\n",
              "var x = new MutationObserver(function (mutations, observer) {{\n",
              "        var display = window.getComputedStyle(gd).display;\n",
              "        if (!display || display === 'none') {{\n",
              "            console.log([gd, 'removed!']);\n",
              "            Plotly.purge(gd);\n",
              "            observer.disconnect();\n",
              "        }}\n",
              "}});\n",
              "\n",
              "// Listen for the removal of the full notebook cells\n",
              "var notebookContainer = gd.closest('#notebook-container');\n",
              "if (notebookContainer) {{\n",
              "    x.observe(notebookContainer, {childList: true});\n",
              "}}\n",
              "\n",
              "// Listen for the clearing of the current output cell\n",
              "var outputEl = gd.closest('.output');\n",
              "if (outputEl) {{\n",
              "    x.observe(outputEl, {childList: true});\n",
              "}}\n",
              "\n",
              "                        })                };                            </script>        </div>\n",
              "</body>\n",
              "</html>"
            ]
          },
          "metadata": {}
        }
      ],
      "id": "Tzb0vTRVbU-A"
    },
    {
      "cell_type": "code",
      "execution_count": null,
      "id": "49e40faf-cb20-4c0b-8bcc-e3090f8ca8b2",
      "metadata": {
        "id": "49e40faf-cb20-4c0b-8bcc-e3090f8ca8b2",
        "outputId": "b24c49c4-49e6-4f75-cb31-fdcecd9f539d",
        "colab": {
          "base_uri": "https://localhost:8080/"
        }
      },
      "outputs": [
        {
          "output_type": "execute_result",
          "data": {
            "text/plain": [
              "Education\n",
              "Post Graduate   0.642\n",
              "Graduate        0.358\n",
              "Name: proportion, dtype: float64"
            ]
          },
          "metadata": {},
          "execution_count": 20
        }
      ],
      "source": [
        "data[data['Gender'].isnull()==True]['Education'].value_counts(normalize=True,dropna=False)"
      ]
    },
    {
      "cell_type": "code",
      "execution_count": null,
      "id": "4fbae101-bc9f-401c-ae96-a85f3b22995e",
      "metadata": {
        "colab": {
          "base_uri": "https://localhost:8080/"
        },
        "id": "4fbae101-bc9f-401c-ae96-a85f3b22995e",
        "outputId": "f9debdd2-5456-46cf-d435-4d5906259f2c"
      },
      "outputs": [
        {
          "output_type": "execute_result",
          "data": {
            "text/plain": [
              "Make\n",
              "Sedan       0.849\n",
              "SUV         0.113\n",
              "Hatchback   0.038\n",
              "Name: proportion, dtype: float64"
            ]
          },
          "metadata": {},
          "execution_count": 21
        }
      ],
      "source": [
        "data[data['Gender'].isnull()==True]['Make'].value_counts(normalize=True,dropna=False)"
      ]
    },
    {
      "cell_type": "markdown",
      "source": [
        "#### check negative values"
      ],
      "metadata": {
        "id": "e_cUtt6k2llO"
      },
      "id": "e_cUtt6k2llO"
    },
    {
      "cell_type": "code",
      "source": [
        "ndata=data._get_numeric_data()\n",
        "ndata[ndata<0].count()"
      ],
      "metadata": {
        "colab": {
          "base_uri": "https://localhost:8080/"
        },
        "id": "f25vzg1j1yDe",
        "outputId": "94a0af79-6f60-4bca-f9a1-daadf2d2c283"
      },
      "id": "f25vzg1j1yDe",
      "execution_count": null,
      "outputs": [
        {
          "output_type": "execute_result",
          "data": {
            "text/plain": [
              "Age                 0\n",
              "No_of_Dependents    0\n",
              "Salary              0\n",
              "Partner_salary      0\n",
              "Total_salary        0\n",
              "Price               0\n",
              "dtype: int64"
            ]
          },
          "metadata": {},
          "execution_count": 22
        }
      ]
    },
    {
      "cell_type": "code",
      "source": [
        "data.info()"
      ],
      "metadata": {
        "colab": {
          "base_uri": "https://localhost:8080/"
        },
        "id": "jILo2GFZro-U",
        "outputId": "ddac9373-163c-474a-b2ef-54a2a9ee131e"
      },
      "id": "jILo2GFZro-U",
      "execution_count": null,
      "outputs": [
        {
          "output_type": "stream",
          "name": "stdout",
          "text": [
            "<class 'pandas.core.frame.DataFrame'>\n",
            "RangeIndex: 1581 entries, 0 to 1580\n",
            "Data columns (total 14 columns):\n",
            " #   Column            Non-Null Count  Dtype  \n",
            "---  ------            --------------  -----  \n",
            " 0   Age               1581 non-null   int64  \n",
            " 1   Gender            1528 non-null   object \n",
            " 2   Profession        1581 non-null   object \n",
            " 3   Marital_status    1581 non-null   object \n",
            " 4   Education         1581 non-null   object \n",
            " 5   No_of_Dependents  1581 non-null   int64  \n",
            " 6   Personal_loan     1581 non-null   object \n",
            " 7   House_loan        1581 non-null   object \n",
            " 8   Partner_working   1581 non-null   object \n",
            " 9   Salary            1581 non-null   int64  \n",
            " 10  Partner_salary    1581 non-null   float64\n",
            " 11  Total_salary      1581 non-null   float64\n",
            " 12  Price             1581 non-null   int64  \n",
            " 13  Make              1581 non-null   object \n",
            "dtypes: float64(2), int64(4), object(8)\n",
            "memory usage: 173.0+ KB\n"
          ]
        }
      ]
    },
    {
      "cell_type": "code",
      "source": [
        "data['Gender'].unique()"
      ],
      "metadata": {
        "colab": {
          "base_uri": "https://localhost:8080/"
        },
        "id": "JOg2xou63mat",
        "outputId": "3db40495-4c5b-45d1-923f-b20545e86710"
      },
      "id": "JOg2xou63mat",
      "execution_count": null,
      "outputs": [
        {
          "output_type": "execute_result",
          "data": {
            "text/plain": [
              "array(['Male', 'Female', nan], dtype=object)"
            ]
          },
          "metadata": {},
          "execution_count": 24
        }
      ]
    },
    {
      "cell_type": "markdown",
      "source": [
        "#### missing data"
      ],
      "metadata": {
        "id": "CpmoJV9v6WYh"
      },
      "id": "CpmoJV9v6WYh"
    },
    {
      "cell_type": "code",
      "source": [
        "data.columns"
      ],
      "metadata": {
        "colab": {
          "base_uri": "https://localhost:8080/"
        },
        "id": "cnjtAJOm5efu",
        "outputId": "53a1f6b6-fe9e-4a0e-f022-d832a9b516d0"
      },
      "id": "cnjtAJOm5efu",
      "execution_count": null,
      "outputs": [
        {
          "output_type": "execute_result",
          "data": {
            "text/plain": [
              "Index(['Age', 'Gender', 'Profession', 'Marital_status', 'Education',\n",
              "       'No_of_Dependents', 'Personal_loan', 'House_loan', 'Partner_working',\n",
              "       'Salary', 'Partner_salary', 'Total_salary', 'Price', 'Make'],\n",
              "      dtype='object')"
            ]
          },
          "metadata": {},
          "execution_count": 25
        }
      ]
    },
    {
      "cell_type": "code",
      "source": [
        "data['Gender'].fillna('Male',inplace=True)"
      ],
      "metadata": {
        "id": "OlCd8sW2X2S1"
      },
      "id": "OlCd8sW2X2S1",
      "execution_count": null,
      "outputs": []
    },
    {
      "cell_type": "markdown",
      "id": "8846b5ad-390e-4741-a55a-787bd99385b6",
      "metadata": {
        "id": "8846b5ad-390e-4741-a55a-787bd99385b6"
      },
      "source": [
        "## Analysis"
      ]
    },
    {
      "cell_type": "markdown",
      "source": [
        "### statistical summary catagorical"
      ],
      "metadata": {
        "id": "Jz7nvdBCra-z"
      },
      "id": "Jz7nvdBCra-z"
    },
    {
      "cell_type": "code",
      "source": [
        "data.describe(include='object').T"
      ],
      "metadata": {
        "colab": {
          "base_uri": "https://localhost:8080/",
          "height": 297
        },
        "id": "NOJK65sGAr2v",
        "outputId": "7b466855-d638-4fa1-9577-6a98edd3556f"
      },
      "id": "NOJK65sGAr2v",
      "execution_count": null,
      "outputs": [
        {
          "output_type": "execute_result",
          "data": {
            "text/plain": [
              "                count unique            top  freq\n",
              "Gender           1581      2           Male  1252\n",
              "Profession       1581      2       Salaried   896\n",
              "Marital_status   1581      2        Married  1443\n",
              "Education        1581      2  Post Graduate   985\n",
              "Personal_loan    1581      2            Yes   792\n",
              "House_loan       1581      2             No  1054\n",
              "Partner_working  1581      2            Yes   868\n",
              "Make             1581      3          Sedan   702"
            ],
            "text/html": [
              "\n",
              "  <div id=\"df-f327cd59-4f54-47c3-a309-440c893a3a64\" class=\"colab-df-container\">\n",
              "    <div>\n",
              "<style scoped>\n",
              "    .dataframe tbody tr th:only-of-type {\n",
              "        vertical-align: middle;\n",
              "    }\n",
              "\n",
              "    .dataframe tbody tr th {\n",
              "        vertical-align: top;\n",
              "    }\n",
              "\n",
              "    .dataframe thead th {\n",
              "        text-align: right;\n",
              "    }\n",
              "</style>\n",
              "<table border=\"1\" class=\"dataframe\">\n",
              "  <thead>\n",
              "    <tr style=\"text-align: right;\">\n",
              "      <th></th>\n",
              "      <th>count</th>\n",
              "      <th>unique</th>\n",
              "      <th>top</th>\n",
              "      <th>freq</th>\n",
              "    </tr>\n",
              "  </thead>\n",
              "  <tbody>\n",
              "    <tr>\n",
              "      <th>Gender</th>\n",
              "      <td>1581</td>\n",
              "      <td>2</td>\n",
              "      <td>Male</td>\n",
              "      <td>1252</td>\n",
              "    </tr>\n",
              "    <tr>\n",
              "      <th>Profession</th>\n",
              "      <td>1581</td>\n",
              "      <td>2</td>\n",
              "      <td>Salaried</td>\n",
              "      <td>896</td>\n",
              "    </tr>\n",
              "    <tr>\n",
              "      <th>Marital_status</th>\n",
              "      <td>1581</td>\n",
              "      <td>2</td>\n",
              "      <td>Married</td>\n",
              "      <td>1443</td>\n",
              "    </tr>\n",
              "    <tr>\n",
              "      <th>Education</th>\n",
              "      <td>1581</td>\n",
              "      <td>2</td>\n",
              "      <td>Post Graduate</td>\n",
              "      <td>985</td>\n",
              "    </tr>\n",
              "    <tr>\n",
              "      <th>Personal_loan</th>\n",
              "      <td>1581</td>\n",
              "      <td>2</td>\n",
              "      <td>Yes</td>\n",
              "      <td>792</td>\n",
              "    </tr>\n",
              "    <tr>\n",
              "      <th>House_loan</th>\n",
              "      <td>1581</td>\n",
              "      <td>2</td>\n",
              "      <td>No</td>\n",
              "      <td>1054</td>\n",
              "    </tr>\n",
              "    <tr>\n",
              "      <th>Partner_working</th>\n",
              "      <td>1581</td>\n",
              "      <td>2</td>\n",
              "      <td>Yes</td>\n",
              "      <td>868</td>\n",
              "    </tr>\n",
              "    <tr>\n",
              "      <th>Make</th>\n",
              "      <td>1581</td>\n",
              "      <td>3</td>\n",
              "      <td>Sedan</td>\n",
              "      <td>702</td>\n",
              "    </tr>\n",
              "  </tbody>\n",
              "</table>\n",
              "</div>\n",
              "    <div class=\"colab-df-buttons\">\n",
              "\n",
              "  <div class=\"colab-df-container\">\n",
              "    <button class=\"colab-df-convert\" onclick=\"convertToInteractive('df-f327cd59-4f54-47c3-a309-440c893a3a64')\"\n",
              "            title=\"Convert this dataframe to an interactive table.\"\n",
              "            style=\"display:none;\">\n",
              "\n",
              "  <svg xmlns=\"http://www.w3.org/2000/svg\" height=\"24px\" viewBox=\"0 -960 960 960\">\n",
              "    <path d=\"M120-120v-720h720v720H120Zm60-500h600v-160H180v160Zm220 220h160v-160H400v160Zm0 220h160v-160H400v160ZM180-400h160v-160H180v160Zm440 0h160v-160H620v160ZM180-180h160v-160H180v160Zm440 0h160v-160H620v160Z\"/>\n",
              "  </svg>\n",
              "    </button>\n",
              "\n",
              "  <style>\n",
              "    .colab-df-container {\n",
              "      display:flex;\n",
              "      gap: 12px;\n",
              "    }\n",
              "\n",
              "    .colab-df-convert {\n",
              "      background-color: #E8F0FE;\n",
              "      border: none;\n",
              "      border-radius: 50%;\n",
              "      cursor: pointer;\n",
              "      display: none;\n",
              "      fill: #1967D2;\n",
              "      height: 32px;\n",
              "      padding: 0 0 0 0;\n",
              "      width: 32px;\n",
              "    }\n",
              "\n",
              "    .colab-df-convert:hover {\n",
              "      background-color: #E2EBFA;\n",
              "      box-shadow: 0px 1px 2px rgba(60, 64, 67, 0.3), 0px 1px 3px 1px rgba(60, 64, 67, 0.15);\n",
              "      fill: #174EA6;\n",
              "    }\n",
              "\n",
              "    .colab-df-buttons div {\n",
              "      margin-bottom: 4px;\n",
              "    }\n",
              "\n",
              "    [theme=dark] .colab-df-convert {\n",
              "      background-color: #3B4455;\n",
              "      fill: #D2E3FC;\n",
              "    }\n",
              "\n",
              "    [theme=dark] .colab-df-convert:hover {\n",
              "      background-color: #434B5C;\n",
              "      box-shadow: 0px 1px 3px 1px rgba(0, 0, 0, 0.15);\n",
              "      filter: drop-shadow(0px 1px 2px rgba(0, 0, 0, 0.3));\n",
              "      fill: #FFFFFF;\n",
              "    }\n",
              "  </style>\n",
              "\n",
              "    <script>\n",
              "      const buttonEl =\n",
              "        document.querySelector('#df-f327cd59-4f54-47c3-a309-440c893a3a64 button.colab-df-convert');\n",
              "      buttonEl.style.display =\n",
              "        google.colab.kernel.accessAllowed ? 'block' : 'none';\n",
              "\n",
              "      async function convertToInteractive(key) {\n",
              "        const element = document.querySelector('#df-f327cd59-4f54-47c3-a309-440c893a3a64');\n",
              "        const dataTable =\n",
              "          await google.colab.kernel.invokeFunction('convertToInteractive',\n",
              "                                                    [key], {});\n",
              "        if (!dataTable) return;\n",
              "\n",
              "        const docLinkHtml = 'Like what you see? Visit the ' +\n",
              "          '<a target=\"_blank\" href=https://colab.research.google.com/notebooks/data_table.ipynb>data table notebook</a>'\n",
              "          + ' to learn more about interactive tables.';\n",
              "        element.innerHTML = '';\n",
              "        dataTable['output_type'] = 'display_data';\n",
              "        await google.colab.output.renderOutput(dataTable, element);\n",
              "        const docLink = document.createElement('div');\n",
              "        docLink.innerHTML = docLinkHtml;\n",
              "        element.appendChild(docLink);\n",
              "      }\n",
              "    </script>\n",
              "  </div>\n",
              "\n",
              "\n",
              "<div id=\"df-8b09f2b2-afc9-4697-966b-0388155ce31e\">\n",
              "  <button class=\"colab-df-quickchart\" onclick=\"quickchart('df-8b09f2b2-afc9-4697-966b-0388155ce31e')\"\n",
              "            title=\"Suggest charts\"\n",
              "            style=\"display:none;\">\n",
              "\n",
              "<svg xmlns=\"http://www.w3.org/2000/svg\" height=\"24px\"viewBox=\"0 0 24 24\"\n",
              "     width=\"24px\">\n",
              "    <g>\n",
              "        <path d=\"M19 3H5c-1.1 0-2 .9-2 2v14c0 1.1.9 2 2 2h14c1.1 0 2-.9 2-2V5c0-1.1-.9-2-2-2zM9 17H7v-7h2v7zm4 0h-2V7h2v10zm4 0h-2v-4h2v4z\"/>\n",
              "    </g>\n",
              "</svg>\n",
              "  </button>\n",
              "\n",
              "<style>\n",
              "  .colab-df-quickchart {\n",
              "      --bg-color: #E8F0FE;\n",
              "      --fill-color: #1967D2;\n",
              "      --hover-bg-color: #E2EBFA;\n",
              "      --hover-fill-color: #174EA6;\n",
              "      --disabled-fill-color: #AAA;\n",
              "      --disabled-bg-color: #DDD;\n",
              "  }\n",
              "\n",
              "  [theme=dark] .colab-df-quickchart {\n",
              "      --bg-color: #3B4455;\n",
              "      --fill-color: #D2E3FC;\n",
              "      --hover-bg-color: #434B5C;\n",
              "      --hover-fill-color: #FFFFFF;\n",
              "      --disabled-bg-color: #3B4455;\n",
              "      --disabled-fill-color: #666;\n",
              "  }\n",
              "\n",
              "  .colab-df-quickchart {\n",
              "    background-color: var(--bg-color);\n",
              "    border: none;\n",
              "    border-radius: 50%;\n",
              "    cursor: pointer;\n",
              "    display: none;\n",
              "    fill: var(--fill-color);\n",
              "    height: 32px;\n",
              "    padding: 0;\n",
              "    width: 32px;\n",
              "  }\n",
              "\n",
              "  .colab-df-quickchart:hover {\n",
              "    background-color: var(--hover-bg-color);\n",
              "    box-shadow: 0 1px 2px rgba(60, 64, 67, 0.3), 0 1px 3px 1px rgba(60, 64, 67, 0.15);\n",
              "    fill: var(--button-hover-fill-color);\n",
              "  }\n",
              "\n",
              "  .colab-df-quickchart-complete:disabled,\n",
              "  .colab-df-quickchart-complete:disabled:hover {\n",
              "    background-color: var(--disabled-bg-color);\n",
              "    fill: var(--disabled-fill-color);\n",
              "    box-shadow: none;\n",
              "  }\n",
              "\n",
              "  .colab-df-spinner {\n",
              "    border: 2px solid var(--fill-color);\n",
              "    border-color: transparent;\n",
              "    border-bottom-color: var(--fill-color);\n",
              "    animation:\n",
              "      spin 1s steps(1) infinite;\n",
              "  }\n",
              "\n",
              "  @keyframes spin {\n",
              "    0% {\n",
              "      border-color: transparent;\n",
              "      border-bottom-color: var(--fill-color);\n",
              "      border-left-color: var(--fill-color);\n",
              "    }\n",
              "    20% {\n",
              "      border-color: transparent;\n",
              "      border-left-color: var(--fill-color);\n",
              "      border-top-color: var(--fill-color);\n",
              "    }\n",
              "    30% {\n",
              "      border-color: transparent;\n",
              "      border-left-color: var(--fill-color);\n",
              "      border-top-color: var(--fill-color);\n",
              "      border-right-color: var(--fill-color);\n",
              "    }\n",
              "    40% {\n",
              "      border-color: transparent;\n",
              "      border-right-color: var(--fill-color);\n",
              "      border-top-color: var(--fill-color);\n",
              "    }\n",
              "    60% {\n",
              "      border-color: transparent;\n",
              "      border-right-color: var(--fill-color);\n",
              "    }\n",
              "    80% {\n",
              "      border-color: transparent;\n",
              "      border-right-color: var(--fill-color);\n",
              "      border-bottom-color: var(--fill-color);\n",
              "    }\n",
              "    90% {\n",
              "      border-color: transparent;\n",
              "      border-bottom-color: var(--fill-color);\n",
              "    }\n",
              "  }\n",
              "</style>\n",
              "\n",
              "  <script>\n",
              "    async function quickchart(key) {\n",
              "      const quickchartButtonEl =\n",
              "        document.querySelector('#' + key + ' button');\n",
              "      quickchartButtonEl.disabled = true;  // To prevent multiple clicks.\n",
              "      quickchartButtonEl.classList.add('colab-df-spinner');\n",
              "      try {\n",
              "        const charts = await google.colab.kernel.invokeFunction(\n",
              "            'suggestCharts', [key], {});\n",
              "      } catch (error) {\n",
              "        console.error('Error during call to suggestCharts:', error);\n",
              "      }\n",
              "      quickchartButtonEl.classList.remove('colab-df-spinner');\n",
              "      quickchartButtonEl.classList.add('colab-df-quickchart-complete');\n",
              "    }\n",
              "    (() => {\n",
              "      let quickchartButtonEl =\n",
              "        document.querySelector('#df-8b09f2b2-afc9-4697-966b-0388155ce31e button');\n",
              "      quickchartButtonEl.style.display =\n",
              "        google.colab.kernel.accessAllowed ? 'block' : 'none';\n",
              "    })();\n",
              "  </script>\n",
              "</div>\n",
              "\n",
              "    </div>\n",
              "  </div>\n"
            ],
            "application/vnd.google.colaboratory.intrinsic+json": {
              "type": "dataframe",
              "summary": "{\n  \"name\": \"data\",\n  \"rows\": 8,\n  \"fields\": [\n    {\n      \"column\": \"count\",\n      \"properties\": {\n        \"dtype\": \"date\",\n        \"min\": \"1581\",\n        \"max\": \"1581\",\n        \"num_unique_values\": 1,\n        \"samples\": [\n          \"1581\"\n        ],\n        \"semantic_type\": \"\",\n        \"description\": \"\"\n      }\n    },\n    {\n      \"column\": \"unique\",\n      \"properties\": {\n        \"dtype\": \"date\",\n        \"min\": 2,\n        \"max\": 3,\n        \"num_unique_values\": 2,\n        \"samples\": [\n          3\n        ],\n        \"semantic_type\": \"\",\n        \"description\": \"\"\n      }\n    },\n    {\n      \"column\": \"top\",\n      \"properties\": {\n        \"dtype\": \"string\",\n        \"num_unique_values\": 7,\n        \"samples\": [\n          \"Male\"\n        ],\n        \"semantic_type\": \"\",\n        \"description\": \"\"\n      }\n    },\n    {\n      \"column\": \"freq\",\n      \"properties\": {\n        \"dtype\": \"date\",\n        \"min\": \"702\",\n        \"max\": \"1443\",\n        \"num_unique_values\": 8,\n        \"samples\": [\n          \"896\"\n        ],\n        \"semantic_type\": \"\",\n        \"description\": \"\"\n      }\n    }\n  ]\n}"
            }
          },
          "metadata": {},
          "execution_count": 27
        }
      ]
    },
    {
      "cell_type": "markdown",
      "source": [
        "### stastical summary numerical"
      ],
      "metadata": {
        "id": "sdeg5MPBq-OT"
      },
      "id": "sdeg5MPBq-OT"
    },
    {
      "cell_type": "code",
      "execution_count": null,
      "id": "ad199d4e-6736-4d29-bcd6-07be33780eb5",
      "metadata": {
        "id": "ad199d4e-6736-4d29-bcd6-07be33780eb5",
        "outputId": "eabb8d21-0dee-49b1-b200-2634338f40bc",
        "colab": {
          "base_uri": "https://localhost:8080/",
          "height": 235
        }
      },
      "outputs": [
        {
          "output_type": "execute_result",
          "data": {
            "text/plain": [
              "                    count      mean       std       min       25%       50%  \\\n",
              "Age              1581.000    31.922     8.426    22.000    25.000    29.000   \n",
              "No_of_Dependents 1581.000     2.458     0.943     0.000     2.000     2.000   \n",
              "Salary           1581.000 60392.220 14674.825 30000.000 51900.000 59500.000   \n",
              "Partner_salary   1581.000 18869.513 19570.644     0.000     0.000 24900.000   \n",
              "Total_salary     1581.000 79261.733 25375.828 30000.000 60400.000 77700.000   \n",
              "Price            1581.000 35597.723 13633.637 18000.000 25000.000 31000.000   \n",
              "\n",
              "                       75%        max  \n",
              "Age                 38.000     54.000  \n",
              "No_of_Dependents     3.000      4.000  \n",
              "Salary           71800.000  99300.000  \n",
              "Partner_salary   38000.000  80500.000  \n",
              "Total_salary     95600.000 171000.000  \n",
              "Price            47000.000  70000.000  "
            ],
            "text/html": [
              "\n",
              "  <div id=\"df-2a60b5a0-52ce-48a3-b14f-af88cabcd9f4\" class=\"colab-df-container\">\n",
              "    <div>\n",
              "<style scoped>\n",
              "    .dataframe tbody tr th:only-of-type {\n",
              "        vertical-align: middle;\n",
              "    }\n",
              "\n",
              "    .dataframe tbody tr th {\n",
              "        vertical-align: top;\n",
              "    }\n",
              "\n",
              "    .dataframe thead th {\n",
              "        text-align: right;\n",
              "    }\n",
              "</style>\n",
              "<table border=\"1\" class=\"dataframe\">\n",
              "  <thead>\n",
              "    <tr style=\"text-align: right;\">\n",
              "      <th></th>\n",
              "      <th>count</th>\n",
              "      <th>mean</th>\n",
              "      <th>std</th>\n",
              "      <th>min</th>\n",
              "      <th>25%</th>\n",
              "      <th>50%</th>\n",
              "      <th>75%</th>\n",
              "      <th>max</th>\n",
              "    </tr>\n",
              "  </thead>\n",
              "  <tbody>\n",
              "    <tr>\n",
              "      <th>Age</th>\n",
              "      <td>1581.000</td>\n",
              "      <td>31.922</td>\n",
              "      <td>8.426</td>\n",
              "      <td>22.000</td>\n",
              "      <td>25.000</td>\n",
              "      <td>29.000</td>\n",
              "      <td>38.000</td>\n",
              "      <td>54.000</td>\n",
              "    </tr>\n",
              "    <tr>\n",
              "      <th>No_of_Dependents</th>\n",
              "      <td>1581.000</td>\n",
              "      <td>2.458</td>\n",
              "      <td>0.943</td>\n",
              "      <td>0.000</td>\n",
              "      <td>2.000</td>\n",
              "      <td>2.000</td>\n",
              "      <td>3.000</td>\n",
              "      <td>4.000</td>\n",
              "    </tr>\n",
              "    <tr>\n",
              "      <th>Salary</th>\n",
              "      <td>1581.000</td>\n",
              "      <td>60392.220</td>\n",
              "      <td>14674.825</td>\n",
              "      <td>30000.000</td>\n",
              "      <td>51900.000</td>\n",
              "      <td>59500.000</td>\n",
              "      <td>71800.000</td>\n",
              "      <td>99300.000</td>\n",
              "    </tr>\n",
              "    <tr>\n",
              "      <th>Partner_salary</th>\n",
              "      <td>1581.000</td>\n",
              "      <td>18869.513</td>\n",
              "      <td>19570.644</td>\n",
              "      <td>0.000</td>\n",
              "      <td>0.000</td>\n",
              "      <td>24900.000</td>\n",
              "      <td>38000.000</td>\n",
              "      <td>80500.000</td>\n",
              "    </tr>\n",
              "    <tr>\n",
              "      <th>Total_salary</th>\n",
              "      <td>1581.000</td>\n",
              "      <td>79261.733</td>\n",
              "      <td>25375.828</td>\n",
              "      <td>30000.000</td>\n",
              "      <td>60400.000</td>\n",
              "      <td>77700.000</td>\n",
              "      <td>95600.000</td>\n",
              "      <td>171000.000</td>\n",
              "    </tr>\n",
              "    <tr>\n",
              "      <th>Price</th>\n",
              "      <td>1581.000</td>\n",
              "      <td>35597.723</td>\n",
              "      <td>13633.637</td>\n",
              "      <td>18000.000</td>\n",
              "      <td>25000.000</td>\n",
              "      <td>31000.000</td>\n",
              "      <td>47000.000</td>\n",
              "      <td>70000.000</td>\n",
              "    </tr>\n",
              "  </tbody>\n",
              "</table>\n",
              "</div>\n",
              "    <div class=\"colab-df-buttons\">\n",
              "\n",
              "  <div class=\"colab-df-container\">\n",
              "    <button class=\"colab-df-convert\" onclick=\"convertToInteractive('df-2a60b5a0-52ce-48a3-b14f-af88cabcd9f4')\"\n",
              "            title=\"Convert this dataframe to an interactive table.\"\n",
              "            style=\"display:none;\">\n",
              "\n",
              "  <svg xmlns=\"http://www.w3.org/2000/svg\" height=\"24px\" viewBox=\"0 -960 960 960\">\n",
              "    <path d=\"M120-120v-720h720v720H120Zm60-500h600v-160H180v160Zm220 220h160v-160H400v160Zm0 220h160v-160H400v160ZM180-400h160v-160H180v160Zm440 0h160v-160H620v160ZM180-180h160v-160H180v160Zm440 0h160v-160H620v160Z\"/>\n",
              "  </svg>\n",
              "    </button>\n",
              "\n",
              "  <style>\n",
              "    .colab-df-container {\n",
              "      display:flex;\n",
              "      gap: 12px;\n",
              "    }\n",
              "\n",
              "    .colab-df-convert {\n",
              "      background-color: #E8F0FE;\n",
              "      border: none;\n",
              "      border-radius: 50%;\n",
              "      cursor: pointer;\n",
              "      display: none;\n",
              "      fill: #1967D2;\n",
              "      height: 32px;\n",
              "      padding: 0 0 0 0;\n",
              "      width: 32px;\n",
              "    }\n",
              "\n",
              "    .colab-df-convert:hover {\n",
              "      background-color: #E2EBFA;\n",
              "      box-shadow: 0px 1px 2px rgba(60, 64, 67, 0.3), 0px 1px 3px 1px rgba(60, 64, 67, 0.15);\n",
              "      fill: #174EA6;\n",
              "    }\n",
              "\n",
              "    .colab-df-buttons div {\n",
              "      margin-bottom: 4px;\n",
              "    }\n",
              "\n",
              "    [theme=dark] .colab-df-convert {\n",
              "      background-color: #3B4455;\n",
              "      fill: #D2E3FC;\n",
              "    }\n",
              "\n",
              "    [theme=dark] .colab-df-convert:hover {\n",
              "      background-color: #434B5C;\n",
              "      box-shadow: 0px 1px 3px 1px rgba(0, 0, 0, 0.15);\n",
              "      filter: drop-shadow(0px 1px 2px rgba(0, 0, 0, 0.3));\n",
              "      fill: #FFFFFF;\n",
              "    }\n",
              "  </style>\n",
              "\n",
              "    <script>\n",
              "      const buttonEl =\n",
              "        document.querySelector('#df-2a60b5a0-52ce-48a3-b14f-af88cabcd9f4 button.colab-df-convert');\n",
              "      buttonEl.style.display =\n",
              "        google.colab.kernel.accessAllowed ? 'block' : 'none';\n",
              "\n",
              "      async function convertToInteractive(key) {\n",
              "        const element = document.querySelector('#df-2a60b5a0-52ce-48a3-b14f-af88cabcd9f4');\n",
              "        const dataTable =\n",
              "          await google.colab.kernel.invokeFunction('convertToInteractive',\n",
              "                                                    [key], {});\n",
              "        if (!dataTable) return;\n",
              "\n",
              "        const docLinkHtml = 'Like what you see? Visit the ' +\n",
              "          '<a target=\"_blank\" href=https://colab.research.google.com/notebooks/data_table.ipynb>data table notebook</a>'\n",
              "          + ' to learn more about interactive tables.';\n",
              "        element.innerHTML = '';\n",
              "        dataTable['output_type'] = 'display_data';\n",
              "        await google.colab.output.renderOutput(dataTable, element);\n",
              "        const docLink = document.createElement('div');\n",
              "        docLink.innerHTML = docLinkHtml;\n",
              "        element.appendChild(docLink);\n",
              "      }\n",
              "    </script>\n",
              "  </div>\n",
              "\n",
              "\n",
              "<div id=\"df-4a276008-b0af-4153-8631-1f406cd71c9d\">\n",
              "  <button class=\"colab-df-quickchart\" onclick=\"quickchart('df-4a276008-b0af-4153-8631-1f406cd71c9d')\"\n",
              "            title=\"Suggest charts\"\n",
              "            style=\"display:none;\">\n",
              "\n",
              "<svg xmlns=\"http://www.w3.org/2000/svg\" height=\"24px\"viewBox=\"0 0 24 24\"\n",
              "     width=\"24px\">\n",
              "    <g>\n",
              "        <path d=\"M19 3H5c-1.1 0-2 .9-2 2v14c0 1.1.9 2 2 2h14c1.1 0 2-.9 2-2V5c0-1.1-.9-2-2-2zM9 17H7v-7h2v7zm4 0h-2V7h2v10zm4 0h-2v-4h2v4z\"/>\n",
              "    </g>\n",
              "</svg>\n",
              "  </button>\n",
              "\n",
              "<style>\n",
              "  .colab-df-quickchart {\n",
              "      --bg-color: #E8F0FE;\n",
              "      --fill-color: #1967D2;\n",
              "      --hover-bg-color: #E2EBFA;\n",
              "      --hover-fill-color: #174EA6;\n",
              "      --disabled-fill-color: #AAA;\n",
              "      --disabled-bg-color: #DDD;\n",
              "  }\n",
              "\n",
              "  [theme=dark] .colab-df-quickchart {\n",
              "      --bg-color: #3B4455;\n",
              "      --fill-color: #D2E3FC;\n",
              "      --hover-bg-color: #434B5C;\n",
              "      --hover-fill-color: #FFFFFF;\n",
              "      --disabled-bg-color: #3B4455;\n",
              "      --disabled-fill-color: #666;\n",
              "  }\n",
              "\n",
              "  .colab-df-quickchart {\n",
              "    background-color: var(--bg-color);\n",
              "    border: none;\n",
              "    border-radius: 50%;\n",
              "    cursor: pointer;\n",
              "    display: none;\n",
              "    fill: var(--fill-color);\n",
              "    height: 32px;\n",
              "    padding: 0;\n",
              "    width: 32px;\n",
              "  }\n",
              "\n",
              "  .colab-df-quickchart:hover {\n",
              "    background-color: var(--hover-bg-color);\n",
              "    box-shadow: 0 1px 2px rgba(60, 64, 67, 0.3), 0 1px 3px 1px rgba(60, 64, 67, 0.15);\n",
              "    fill: var(--button-hover-fill-color);\n",
              "  }\n",
              "\n",
              "  .colab-df-quickchart-complete:disabled,\n",
              "  .colab-df-quickchart-complete:disabled:hover {\n",
              "    background-color: var(--disabled-bg-color);\n",
              "    fill: var(--disabled-fill-color);\n",
              "    box-shadow: none;\n",
              "  }\n",
              "\n",
              "  .colab-df-spinner {\n",
              "    border: 2px solid var(--fill-color);\n",
              "    border-color: transparent;\n",
              "    border-bottom-color: var(--fill-color);\n",
              "    animation:\n",
              "      spin 1s steps(1) infinite;\n",
              "  }\n",
              "\n",
              "  @keyframes spin {\n",
              "    0% {\n",
              "      border-color: transparent;\n",
              "      border-bottom-color: var(--fill-color);\n",
              "      border-left-color: var(--fill-color);\n",
              "    }\n",
              "    20% {\n",
              "      border-color: transparent;\n",
              "      border-left-color: var(--fill-color);\n",
              "      border-top-color: var(--fill-color);\n",
              "    }\n",
              "    30% {\n",
              "      border-color: transparent;\n",
              "      border-left-color: var(--fill-color);\n",
              "      border-top-color: var(--fill-color);\n",
              "      border-right-color: var(--fill-color);\n",
              "    }\n",
              "    40% {\n",
              "      border-color: transparent;\n",
              "      border-right-color: var(--fill-color);\n",
              "      border-top-color: var(--fill-color);\n",
              "    }\n",
              "    60% {\n",
              "      border-color: transparent;\n",
              "      border-right-color: var(--fill-color);\n",
              "    }\n",
              "    80% {\n",
              "      border-color: transparent;\n",
              "      border-right-color: var(--fill-color);\n",
              "      border-bottom-color: var(--fill-color);\n",
              "    }\n",
              "    90% {\n",
              "      border-color: transparent;\n",
              "      border-bottom-color: var(--fill-color);\n",
              "    }\n",
              "  }\n",
              "</style>\n",
              "\n",
              "  <script>\n",
              "    async function quickchart(key) {\n",
              "      const quickchartButtonEl =\n",
              "        document.querySelector('#' + key + ' button');\n",
              "      quickchartButtonEl.disabled = true;  // To prevent multiple clicks.\n",
              "      quickchartButtonEl.classList.add('colab-df-spinner');\n",
              "      try {\n",
              "        const charts = await google.colab.kernel.invokeFunction(\n",
              "            'suggestCharts', [key], {});\n",
              "      } catch (error) {\n",
              "        console.error('Error during call to suggestCharts:', error);\n",
              "      }\n",
              "      quickchartButtonEl.classList.remove('colab-df-spinner');\n",
              "      quickchartButtonEl.classList.add('colab-df-quickchart-complete');\n",
              "    }\n",
              "    (() => {\n",
              "      let quickchartButtonEl =\n",
              "        document.querySelector('#df-4a276008-b0af-4153-8631-1f406cd71c9d button');\n",
              "      quickchartButtonEl.style.display =\n",
              "        google.colab.kernel.accessAllowed ? 'block' : 'none';\n",
              "    })();\n",
              "  </script>\n",
              "</div>\n",
              "\n",
              "    </div>\n",
              "  </div>\n"
            ],
            "application/vnd.google.colaboratory.intrinsic+json": {
              "type": "dataframe",
              "summary": "{\n  \"name\": \"data\",\n  \"rows\": 6,\n  \"fields\": [\n    {\n      \"column\": \"count\",\n      \"properties\": {\n        \"dtype\": \"number\",\n        \"std\": 0.0,\n        \"min\": 1581.0,\n        \"max\": 1581.0,\n        \"num_unique_values\": 1,\n        \"samples\": [\n          1581.0\n        ],\n        \"semantic_type\": \"\",\n        \"description\": \"\"\n      }\n    },\n    {\n      \"column\": \"mean\",\n      \"properties\": {\n        \"dtype\": \"number\",\n        \"std\": 32465.887204907078,\n        \"min\": 2.4579380139152436,\n        \"max\": 79261.73308032891,\n        \"num_unique_values\": 6,\n        \"samples\": [\n          31.922201138519924\n        ],\n        \"semantic_type\": \"\",\n        \"description\": \"\"\n      }\n    },\n    {\n      \"column\": \"std\",\n      \"properties\": {\n        \"dtype\": \"number\",\n        \"std\": 10330.147031521767,\n        \"min\": 0.9434829353622939,\n        \"max\": 25375.828412634,\n        \"num_unique_values\": 6,\n        \"samples\": [\n          8.425978166558181\n        ],\n        \"semantic_type\": \"\",\n        \"description\": \"\"\n      }\n    },\n    {\n      \"column\": \"min\",\n      \"properties\": {\n        \"dtype\": \"number\",\n        \"std\": 14895.827626106133,\n        \"min\": 0.0,\n        \"max\": 30000.0,\n        \"num_unique_values\": 4,\n        \"samples\": [\n          0.0\n        ],\n        \"semantic_type\": \"\",\n        \"description\": \"\"\n      }\n    },\n    {\n      \"column\": \"25%\",\n      \"properties\": {\n        \"dtype\": \"number\",\n        \"std\": 27653.763363539994,\n        \"min\": 0.0,\n        \"max\": 60400.0,\n        \"num_unique_values\": 6,\n        \"samples\": [\n          25.0\n        ],\n        \"semantic_type\": \"\",\n        \"description\": \"\"\n      }\n    },\n    {\n      \"column\": \"50%\",\n      \"properties\": {\n        \"dtype\": \"number\",\n        \"std\": 31438.682070023227,\n        \"min\": 2.0,\n        \"max\": 77700.0,\n        \"num_unique_values\": 6,\n        \"samples\": [\n          29.0\n        ],\n        \"semantic_type\": \"\",\n        \"description\": \"\"\n      }\n    },\n    {\n      \"column\": \"75%\",\n      \"properties\": {\n        \"dtype\": \"number\",\n        \"std\": 38279.302604671364,\n        \"min\": 3.0,\n        \"max\": 95600.0,\n        \"num_unique_values\": 6,\n        \"samples\": [\n          38.0\n        ],\n        \"semantic_type\": \"\",\n        \"description\": \"\"\n      }\n    },\n    {\n      \"column\": \"max\",\n      \"properties\": {\n        \"dtype\": \"number\",\n        \"std\": 64747.97330882257,\n        \"min\": 4.0,\n        \"max\": 171000.0,\n        \"num_unique_values\": 6,\n        \"samples\": [\n          54.0\n        ],\n        \"semantic_type\": \"\",\n        \"description\": \"\"\n      }\n    }\n  ]\n}"
            }
          },
          "metadata": {},
          "execution_count": 28
        }
      ],
      "source": [
        "data.describe().T"
      ]
    },
    {
      "cell_type": "code",
      "execution_count": null,
      "id": "5e91dcae-88fd-4a52-a7eb-468fbe744dab",
      "metadata": {
        "id": "5e91dcae-88fd-4a52-a7eb-468fbe744dab",
        "colab": {
          "base_uri": "https://localhost:8080/",
          "height": 204
        },
        "outputId": "348f98b0-de61-4b1d-8faf-58238fb8871f"
      },
      "outputs": [
        {
          "output_type": "execute_result",
          "data": {
            "text/plain": [
              "   Age  Gender Profession Marital_status      Education  No_of_Dependents  \\\n",
              "0   53    Male   Business        Married  Post Graduate                 4   \n",
              "1   53  Female   Salaried        Married  Post Graduate                 4   \n",
              "2   53  Female   Salaried        Married  Post Graduate                 3   \n",
              "3   53  Female   Salaried        Married       Graduate                 2   \n",
              "4   53    Male   Salaried        Married  Post Graduate                 3   \n",
              "\n",
              "  Personal_loan House_loan Partner_working  Salary  Partner_salary  \\\n",
              "0            No         No             Yes   99300       70700.000   \n",
              "1           Yes         No             Yes   95500       70300.000   \n",
              "2            No         No             Yes   97300       60700.000   \n",
              "3           Yes         No             Yes   72500       70300.000   \n",
              "4            No         No             Yes   79700       60200.000   \n",
              "\n",
              "   Total_salary  Price Make  \n",
              "0    170000.000  61000  SUV  \n",
              "1    165800.000  61000  SUV  \n",
              "2    158000.000  57000  SUV  \n",
              "3    142800.000  61000  SUV  \n",
              "4    139900.000  57000  SUV  "
            ],
            "text/html": [
              "\n",
              "  <div id=\"df-51dc7e8f-71bf-4466-ab96-7496bda9ad9f\" class=\"colab-df-container\">\n",
              "    <div>\n",
              "<style scoped>\n",
              "    .dataframe tbody tr th:only-of-type {\n",
              "        vertical-align: middle;\n",
              "    }\n",
              "\n",
              "    .dataframe tbody tr th {\n",
              "        vertical-align: top;\n",
              "    }\n",
              "\n",
              "    .dataframe thead th {\n",
              "        text-align: right;\n",
              "    }\n",
              "</style>\n",
              "<table border=\"1\" class=\"dataframe\">\n",
              "  <thead>\n",
              "    <tr style=\"text-align: right;\">\n",
              "      <th></th>\n",
              "      <th>Age</th>\n",
              "      <th>Gender</th>\n",
              "      <th>Profession</th>\n",
              "      <th>Marital_status</th>\n",
              "      <th>Education</th>\n",
              "      <th>No_of_Dependents</th>\n",
              "      <th>Personal_loan</th>\n",
              "      <th>House_loan</th>\n",
              "      <th>Partner_working</th>\n",
              "      <th>Salary</th>\n",
              "      <th>Partner_salary</th>\n",
              "      <th>Total_salary</th>\n",
              "      <th>Price</th>\n",
              "      <th>Make</th>\n",
              "    </tr>\n",
              "  </thead>\n",
              "  <tbody>\n",
              "    <tr>\n",
              "      <th>0</th>\n",
              "      <td>53</td>\n",
              "      <td>Male</td>\n",
              "      <td>Business</td>\n",
              "      <td>Married</td>\n",
              "      <td>Post Graduate</td>\n",
              "      <td>4</td>\n",
              "      <td>No</td>\n",
              "      <td>No</td>\n",
              "      <td>Yes</td>\n",
              "      <td>99300</td>\n",
              "      <td>70700.000</td>\n",
              "      <td>170000.000</td>\n",
              "      <td>61000</td>\n",
              "      <td>SUV</td>\n",
              "    </tr>\n",
              "    <tr>\n",
              "      <th>1</th>\n",
              "      <td>53</td>\n",
              "      <td>Female</td>\n",
              "      <td>Salaried</td>\n",
              "      <td>Married</td>\n",
              "      <td>Post Graduate</td>\n",
              "      <td>4</td>\n",
              "      <td>Yes</td>\n",
              "      <td>No</td>\n",
              "      <td>Yes</td>\n",
              "      <td>95500</td>\n",
              "      <td>70300.000</td>\n",
              "      <td>165800.000</td>\n",
              "      <td>61000</td>\n",
              "      <td>SUV</td>\n",
              "    </tr>\n",
              "    <tr>\n",
              "      <th>2</th>\n",
              "      <td>53</td>\n",
              "      <td>Female</td>\n",
              "      <td>Salaried</td>\n",
              "      <td>Married</td>\n",
              "      <td>Post Graduate</td>\n",
              "      <td>3</td>\n",
              "      <td>No</td>\n",
              "      <td>No</td>\n",
              "      <td>Yes</td>\n",
              "      <td>97300</td>\n",
              "      <td>60700.000</td>\n",
              "      <td>158000.000</td>\n",
              "      <td>57000</td>\n",
              "      <td>SUV</td>\n",
              "    </tr>\n",
              "    <tr>\n",
              "      <th>3</th>\n",
              "      <td>53</td>\n",
              "      <td>Female</td>\n",
              "      <td>Salaried</td>\n",
              "      <td>Married</td>\n",
              "      <td>Graduate</td>\n",
              "      <td>2</td>\n",
              "      <td>Yes</td>\n",
              "      <td>No</td>\n",
              "      <td>Yes</td>\n",
              "      <td>72500</td>\n",
              "      <td>70300.000</td>\n",
              "      <td>142800.000</td>\n",
              "      <td>61000</td>\n",
              "      <td>SUV</td>\n",
              "    </tr>\n",
              "    <tr>\n",
              "      <th>4</th>\n",
              "      <td>53</td>\n",
              "      <td>Male</td>\n",
              "      <td>Salaried</td>\n",
              "      <td>Married</td>\n",
              "      <td>Post Graduate</td>\n",
              "      <td>3</td>\n",
              "      <td>No</td>\n",
              "      <td>No</td>\n",
              "      <td>Yes</td>\n",
              "      <td>79700</td>\n",
              "      <td>60200.000</td>\n",
              "      <td>139900.000</td>\n",
              "      <td>57000</td>\n",
              "      <td>SUV</td>\n",
              "    </tr>\n",
              "  </tbody>\n",
              "</table>\n",
              "</div>\n",
              "    <div class=\"colab-df-buttons\">\n",
              "\n",
              "  <div class=\"colab-df-container\">\n",
              "    <button class=\"colab-df-convert\" onclick=\"convertToInteractive('df-51dc7e8f-71bf-4466-ab96-7496bda9ad9f')\"\n",
              "            title=\"Convert this dataframe to an interactive table.\"\n",
              "            style=\"display:none;\">\n",
              "\n",
              "  <svg xmlns=\"http://www.w3.org/2000/svg\" height=\"24px\" viewBox=\"0 -960 960 960\">\n",
              "    <path d=\"M120-120v-720h720v720H120Zm60-500h600v-160H180v160Zm220 220h160v-160H400v160Zm0 220h160v-160H400v160ZM180-400h160v-160H180v160Zm440 0h160v-160H620v160ZM180-180h160v-160H180v160Zm440 0h160v-160H620v160Z\"/>\n",
              "  </svg>\n",
              "    </button>\n",
              "\n",
              "  <style>\n",
              "    .colab-df-container {\n",
              "      display:flex;\n",
              "      gap: 12px;\n",
              "    }\n",
              "\n",
              "    .colab-df-convert {\n",
              "      background-color: #E8F0FE;\n",
              "      border: none;\n",
              "      border-radius: 50%;\n",
              "      cursor: pointer;\n",
              "      display: none;\n",
              "      fill: #1967D2;\n",
              "      height: 32px;\n",
              "      padding: 0 0 0 0;\n",
              "      width: 32px;\n",
              "    }\n",
              "\n",
              "    .colab-df-convert:hover {\n",
              "      background-color: #E2EBFA;\n",
              "      box-shadow: 0px 1px 2px rgba(60, 64, 67, 0.3), 0px 1px 3px 1px rgba(60, 64, 67, 0.15);\n",
              "      fill: #174EA6;\n",
              "    }\n",
              "\n",
              "    .colab-df-buttons div {\n",
              "      margin-bottom: 4px;\n",
              "    }\n",
              "\n",
              "    [theme=dark] .colab-df-convert {\n",
              "      background-color: #3B4455;\n",
              "      fill: #D2E3FC;\n",
              "    }\n",
              "\n",
              "    [theme=dark] .colab-df-convert:hover {\n",
              "      background-color: #434B5C;\n",
              "      box-shadow: 0px 1px 3px 1px rgba(0, 0, 0, 0.15);\n",
              "      filter: drop-shadow(0px 1px 2px rgba(0, 0, 0, 0.3));\n",
              "      fill: #FFFFFF;\n",
              "    }\n",
              "  </style>\n",
              "\n",
              "    <script>\n",
              "      const buttonEl =\n",
              "        document.querySelector('#df-51dc7e8f-71bf-4466-ab96-7496bda9ad9f button.colab-df-convert');\n",
              "      buttonEl.style.display =\n",
              "        google.colab.kernel.accessAllowed ? 'block' : 'none';\n",
              "\n",
              "      async function convertToInteractive(key) {\n",
              "        const element = document.querySelector('#df-51dc7e8f-71bf-4466-ab96-7496bda9ad9f');\n",
              "        const dataTable =\n",
              "          await google.colab.kernel.invokeFunction('convertToInteractive',\n",
              "                                                    [key], {});\n",
              "        if (!dataTable) return;\n",
              "\n",
              "        const docLinkHtml = 'Like what you see? Visit the ' +\n",
              "          '<a target=\"_blank\" href=https://colab.research.google.com/notebooks/data_table.ipynb>data table notebook</a>'\n",
              "          + ' to learn more about interactive tables.';\n",
              "        element.innerHTML = '';\n",
              "        dataTable['output_type'] = 'display_data';\n",
              "        await google.colab.output.renderOutput(dataTable, element);\n",
              "        const docLink = document.createElement('div');\n",
              "        docLink.innerHTML = docLinkHtml;\n",
              "        element.appendChild(docLink);\n",
              "      }\n",
              "    </script>\n",
              "  </div>\n",
              "\n",
              "\n",
              "<div id=\"df-855dfe7c-daf9-4ff4-ba07-cf1733161631\">\n",
              "  <button class=\"colab-df-quickchart\" onclick=\"quickchart('df-855dfe7c-daf9-4ff4-ba07-cf1733161631')\"\n",
              "            title=\"Suggest charts\"\n",
              "            style=\"display:none;\">\n",
              "\n",
              "<svg xmlns=\"http://www.w3.org/2000/svg\" height=\"24px\"viewBox=\"0 0 24 24\"\n",
              "     width=\"24px\">\n",
              "    <g>\n",
              "        <path d=\"M19 3H5c-1.1 0-2 .9-2 2v14c0 1.1.9 2 2 2h14c1.1 0 2-.9 2-2V5c0-1.1-.9-2-2-2zM9 17H7v-7h2v7zm4 0h-2V7h2v10zm4 0h-2v-4h2v4z\"/>\n",
              "    </g>\n",
              "</svg>\n",
              "  </button>\n",
              "\n",
              "<style>\n",
              "  .colab-df-quickchart {\n",
              "      --bg-color: #E8F0FE;\n",
              "      --fill-color: #1967D2;\n",
              "      --hover-bg-color: #E2EBFA;\n",
              "      --hover-fill-color: #174EA6;\n",
              "      --disabled-fill-color: #AAA;\n",
              "      --disabled-bg-color: #DDD;\n",
              "  }\n",
              "\n",
              "  [theme=dark] .colab-df-quickchart {\n",
              "      --bg-color: #3B4455;\n",
              "      --fill-color: #D2E3FC;\n",
              "      --hover-bg-color: #434B5C;\n",
              "      --hover-fill-color: #FFFFFF;\n",
              "      --disabled-bg-color: #3B4455;\n",
              "      --disabled-fill-color: #666;\n",
              "  }\n",
              "\n",
              "  .colab-df-quickchart {\n",
              "    background-color: var(--bg-color);\n",
              "    border: none;\n",
              "    border-radius: 50%;\n",
              "    cursor: pointer;\n",
              "    display: none;\n",
              "    fill: var(--fill-color);\n",
              "    height: 32px;\n",
              "    padding: 0;\n",
              "    width: 32px;\n",
              "  }\n",
              "\n",
              "  .colab-df-quickchart:hover {\n",
              "    background-color: var(--hover-bg-color);\n",
              "    box-shadow: 0 1px 2px rgba(60, 64, 67, 0.3), 0 1px 3px 1px rgba(60, 64, 67, 0.15);\n",
              "    fill: var(--button-hover-fill-color);\n",
              "  }\n",
              "\n",
              "  .colab-df-quickchart-complete:disabled,\n",
              "  .colab-df-quickchart-complete:disabled:hover {\n",
              "    background-color: var(--disabled-bg-color);\n",
              "    fill: var(--disabled-fill-color);\n",
              "    box-shadow: none;\n",
              "  }\n",
              "\n",
              "  .colab-df-spinner {\n",
              "    border: 2px solid var(--fill-color);\n",
              "    border-color: transparent;\n",
              "    border-bottom-color: var(--fill-color);\n",
              "    animation:\n",
              "      spin 1s steps(1) infinite;\n",
              "  }\n",
              "\n",
              "  @keyframes spin {\n",
              "    0% {\n",
              "      border-color: transparent;\n",
              "      border-bottom-color: var(--fill-color);\n",
              "      border-left-color: var(--fill-color);\n",
              "    }\n",
              "    20% {\n",
              "      border-color: transparent;\n",
              "      border-left-color: var(--fill-color);\n",
              "      border-top-color: var(--fill-color);\n",
              "    }\n",
              "    30% {\n",
              "      border-color: transparent;\n",
              "      border-left-color: var(--fill-color);\n",
              "      border-top-color: var(--fill-color);\n",
              "      border-right-color: var(--fill-color);\n",
              "    }\n",
              "    40% {\n",
              "      border-color: transparent;\n",
              "      border-right-color: var(--fill-color);\n",
              "      border-top-color: var(--fill-color);\n",
              "    }\n",
              "    60% {\n",
              "      border-color: transparent;\n",
              "      border-right-color: var(--fill-color);\n",
              "    }\n",
              "    80% {\n",
              "      border-color: transparent;\n",
              "      border-right-color: var(--fill-color);\n",
              "      border-bottom-color: var(--fill-color);\n",
              "    }\n",
              "    90% {\n",
              "      border-color: transparent;\n",
              "      border-bottom-color: var(--fill-color);\n",
              "    }\n",
              "  }\n",
              "</style>\n",
              "\n",
              "  <script>\n",
              "    async function quickchart(key) {\n",
              "      const quickchartButtonEl =\n",
              "        document.querySelector('#' + key + ' button');\n",
              "      quickchartButtonEl.disabled = true;  // To prevent multiple clicks.\n",
              "      quickchartButtonEl.classList.add('colab-df-spinner');\n",
              "      try {\n",
              "        const charts = await google.colab.kernel.invokeFunction(\n",
              "            'suggestCharts', [key], {});\n",
              "      } catch (error) {\n",
              "        console.error('Error during call to suggestCharts:', error);\n",
              "      }\n",
              "      quickchartButtonEl.classList.remove('colab-df-spinner');\n",
              "      quickchartButtonEl.classList.add('colab-df-quickchart-complete');\n",
              "    }\n",
              "    (() => {\n",
              "      let quickchartButtonEl =\n",
              "        document.querySelector('#df-855dfe7c-daf9-4ff4-ba07-cf1733161631 button');\n",
              "      quickchartButtonEl.style.display =\n",
              "        google.colab.kernel.accessAllowed ? 'block' : 'none';\n",
              "    })();\n",
              "  </script>\n",
              "</div>\n",
              "\n",
              "    </div>\n",
              "  </div>\n"
            ],
            "application/vnd.google.colaboratory.intrinsic+json": {
              "type": "dataframe",
              "variable_name": "data",
              "summary": "{\n  \"name\": \"data\",\n  \"rows\": 1581,\n  \"fields\": [\n    {\n      \"column\": \"Age\",\n      \"properties\": {\n        \"dtype\": \"number\",\n        \"std\": 8,\n        \"min\": 22,\n        \"max\": 54,\n        \"num_unique_values\": 33,\n        \"samples\": [\n          23,\n          39,\n          28\n        ],\n        \"semantic_type\": \"\",\n        \"description\": \"\"\n      }\n    },\n    {\n      \"column\": \"Gender\",\n      \"properties\": {\n        \"dtype\": \"category\",\n        \"num_unique_values\": 2,\n        \"samples\": [\n          \"Female\",\n          \"Male\"\n        ],\n        \"semantic_type\": \"\",\n        \"description\": \"\"\n      }\n    },\n    {\n      \"column\": \"Profession\",\n      \"properties\": {\n        \"dtype\": \"category\",\n        \"num_unique_values\": 2,\n        \"samples\": [\n          \"Salaried\",\n          \"Business\"\n        ],\n        \"semantic_type\": \"\",\n        \"description\": \"\"\n      }\n    },\n    {\n      \"column\": \"Marital_status\",\n      \"properties\": {\n        \"dtype\": \"category\",\n        \"num_unique_values\": 2,\n        \"samples\": [\n          \"Single\",\n          \"Married\"\n        ],\n        \"semantic_type\": \"\",\n        \"description\": \"\"\n      }\n    },\n    {\n      \"column\": \"Education\",\n      \"properties\": {\n        \"dtype\": \"category\",\n        \"num_unique_values\": 2,\n        \"samples\": [\n          \"Graduate\",\n          \"Post Graduate\"\n        ],\n        \"semantic_type\": \"\",\n        \"description\": \"\"\n      }\n    },\n    {\n      \"column\": \"No_of_Dependents\",\n      \"properties\": {\n        \"dtype\": \"number\",\n        \"std\": 0,\n        \"min\": 0,\n        \"max\": 4,\n        \"num_unique_values\": 5,\n        \"samples\": [\n          3,\n          0\n        ],\n        \"semantic_type\": \"\",\n        \"description\": \"\"\n      }\n    },\n    {\n      \"column\": \"Personal_loan\",\n      \"properties\": {\n        \"dtype\": \"category\",\n        \"num_unique_values\": 2,\n        \"samples\": [\n          \"Yes\",\n          \"No\"\n        ],\n        \"semantic_type\": \"\",\n        \"description\": \"\"\n      }\n    },\n    {\n      \"column\": \"House_loan\",\n      \"properties\": {\n        \"dtype\": \"category\",\n        \"num_unique_values\": 2,\n        \"samples\": [\n          \"Yes\",\n          \"No\"\n        ],\n        \"semantic_type\": \"\",\n        \"description\": \"\"\n      }\n    },\n    {\n      \"column\": \"Partner_working\",\n      \"properties\": {\n        \"dtype\": \"category\",\n        \"num_unique_values\": 2,\n        \"samples\": [\n          \"No\",\n          \"Yes\"\n        ],\n        \"semantic_type\": \"\",\n        \"description\": \"\"\n      }\n    },\n    {\n      \"column\": \"Salary\",\n      \"properties\": {\n        \"dtype\": \"number\",\n        \"std\": 14674,\n        \"min\": 30000,\n        \"max\": 99300,\n        \"num_unique_values\": 538,\n        \"samples\": [\n          33100,\n          76800\n        ],\n        \"semantic_type\": \"\",\n        \"description\": \"\"\n      }\n    },\n    {\n      \"column\": \"Partner_salary\",\n      \"properties\": {\n        \"dtype\": \"number\",\n        \"std\": 19570.644034553516,\n        \"min\": 0.0,\n        \"max\": 80500.0,\n        \"num_unique_values\": 149,\n        \"samples\": [\n          60400.0,\n          40100.0\n        ],\n        \"semantic_type\": \"\",\n        \"description\": \"\"\n      }\n    },\n    {\n      \"column\": \"Total_salary\",\n      \"properties\": {\n        \"dtype\": \"number\",\n        \"std\": 25375.828412634,\n        \"min\": 30000.0,\n        \"max\": 171000.0,\n        \"num_unique_values\": 754,\n        \"samples\": [\n          69700.0,\n          134600.0\n        ],\n        \"semantic_type\": \"\",\n        \"description\": \"\"\n      }\n    },\n    {\n      \"column\": \"Price\",\n      \"properties\": {\n        \"dtype\": \"number\",\n        \"std\": 13633,\n        \"min\": 18000,\n        \"max\": 70000,\n        \"num_unique_values\": 53,\n        \"samples\": [\n          49000,\n          25000\n        ],\n        \"semantic_type\": \"\",\n        \"description\": \"\"\n      }\n    },\n    {\n      \"column\": \"Make\",\n      \"properties\": {\n        \"dtype\": \"category\",\n        \"num_unique_values\": 3,\n        \"samples\": [\n          \"SUV\",\n          \"Sedan\"\n        ],\n        \"semantic_type\": \"\",\n        \"description\": \"\"\n      }\n    }\n  ]\n}"
            }
          },
          "metadata": {},
          "execution_count": 29
        }
      ],
      "source": [
        "data.head()"
      ]
    },
    {
      "cell_type": "markdown",
      "id": "13ada6b0-e875-4011-aeb5-c580d56b2aa3",
      "metadata": {
        "id": "13ada6b0-e875-4011-aeb5-c580d56b2aa3"
      },
      "source": [
        "### Univariate analysis"
      ]
    },
    {
      "cell_type": "code",
      "source": [
        "data.columns"
      ],
      "metadata": {
        "colab": {
          "base_uri": "https://localhost:8080/"
        },
        "id": "JkQlrJk8tF9-",
        "outputId": "e6ae5aee-7f57-4f02-ce61-b1012b62c3b9"
      },
      "id": "JkQlrJk8tF9-",
      "execution_count": null,
      "outputs": [
        {
          "output_type": "execute_result",
          "data": {
            "text/plain": [
              "Index(['Age', 'Gender', 'Profession', 'Marital_status', 'Education',\n",
              "       'No_of_Dependents', 'Personal_loan', 'House_loan', 'Partner_working',\n",
              "       'Salary', 'Partner_salary', 'Total_salary', 'Price', 'Make'],\n",
              "      dtype='object')"
            ]
          },
          "metadata": {},
          "execution_count": 30
        }
      ]
    },
    {
      "cell_type": "markdown",
      "source": [
        "#### distribution"
      ],
      "metadata": {
        "id": "giuO8zMFuWBR"
      },
      "id": "giuO8zMFuWBR"
    },
    {
      "cell_type": "markdown",
      "source": [
        "#### Gender preferences"
      ],
      "metadata": {
        "id": "WhyFsug4YGJ6"
      },
      "id": "WhyFsug4YGJ6"
    },
    {
      "cell_type": "code",
      "source": [
        "data['Make'].value_counts(normalize=True)"
      ],
      "metadata": {
        "colab": {
          "base_uri": "https://localhost:8080/"
        },
        "id": "Nc6d2o-AiDCm",
        "outputId": "d335053d-1a88-4dc5-bc96-656a8e292dc4"
      },
      "id": "Nc6d2o-AiDCm",
      "execution_count": null,
      "outputs": [
        {
          "output_type": "execute_result",
          "data": {
            "text/plain": [
              "Make\n",
              "Sedan       0.444\n",
              "Hatchback   0.368\n",
              "SUV         0.188\n",
              "Name: proportion, dtype: float64"
            ]
          },
          "metadata": {},
          "execution_count": 31
        }
      ]
    },
    {
      "cell_type": "code",
      "source": [
        "crosstb = pd.crosstab(data.Make, data.Gender)\n",
        "\n",
        "# Creating barplot\n",
        "ax = crosstb.plot(kind=\"bar\", stacked=True, rot=90)\n",
        "ax.legend(title='Gender', bbox_to_anchor=(1, 1.02), loc='upper left')\n",
        "\n",
        "for c in ax.containers:\n",
        "    # set the bar label\n",
        "    ax.bar_label(c, label_type='edge')\n"
      ],
      "metadata": {
        "colab": {
          "base_uri": "https://localhost:8080/",
          "height": 510
        },
        "id": "LmH7C3LHczZX",
        "outputId": "816a93b8-b5ec-4383-d537-6dd59070c3a9"
      },
      "id": "LmH7C3LHczZX",
      "execution_count": null,
      "outputs": [
        {
          "output_type": "display_data",
          "data": {
            "text/plain": [
              "<Figure size 640x480 with 1 Axes>"
            ],
            "image/png": "[encoded data removed]"
          },
          "metadata": {}
        }
      ]
    },
    {
      "cell_type": "code",
      "source": [
        "catgmplotm=lambda x: px.box(data, x=x,y=\"Price\", color=\"Make\")"
      ],
      "metadata": {
        "id": "XLMfulIsZh4X"
      },
      "id": "XLMfulIsZh4X",
      "execution_count": null,
      "outputs": []
    },
    {
      "cell_type": "code",
      "source": [
        "lst_num_var =   ['Gender'] ## [ 'Profession',  'Education', 'Personal_loan','House_loan', 'Partner_working']\n",
        "\n",
        "plots=( catgmplotm(n) for n in lst_num_var )\n",
        "for plot in plots:\n",
        "    plot.show()"
      ],
      "metadata": {
        "colab": {
          "base_uri": "https://localhost:8080/",
          "height": 542
        },
        "id": "agdVW8jYXRaA",
        "outputId": "c7e1a248-f9b2-4b76-e315-7f45acdf2db9"
      },
      "id": "agdVW8jYXRaA",
      "execution_count": null,
      "outputs": [
        {
          "output_type": "display_data",
          "data": {
            "text/html": [
              "<html>\n",
              "<head><meta charset=\"utf-8\" /></head>\n",
              "<body>\n",
              "    <div>            <script src=\"https://cdnjs.cloudflare.com/ajax/libs/mathjax/2.7.5/MathJax.js?config=TeX-AMS-MML_SVG\"></script><script type=\"text/javascript\">if (window.MathJax && window.MathJax.Hub && window.MathJax.Hub.Config) {window.MathJax.Hub.Config({SVG: {font: \"STIX-Web\"}});}</script>                <script type=\"text/javascript\">window.PlotlyConfig = {MathJaxConfig: 'local'};</script>\n",
              "        <script charset=\"utf-8\" src=\"https://cdn.plot.ly/plotly-2.24.1.min.js\"></script>                <div id=\"a946cfb5-948f-4b71-b8c3-fb4bfc14170a\" class=\"plotly-graph-div\" style=\"height:525px; width:100%;\"></div>            <script type=\"text/javascript\">                                    window.PLOTLYENV=window.PLOTLYENV || {};                                    if (document.getElementById(\"a946cfb5-948f-4b71-b8c3-fb4bfc14170a\")) {                    Plotly.newPlot(                        \"a946cfb5-948f-4b71-b8c3-fb4bfc14170a\",                        [{\"alignmentgroup\":\"True\",\"hovertemplate\":\"Make=SUV\\u003cbr\\u003eGender=%{x}\\u003cbr\\u003ePrice=%{y}\\u003cextra\\u003e\\u003c\\u002fextra\\u003e\",\"legendgroup\":\"SUV\",\"marker\":{\"color\":\"#636efa\"},\"name\":\"SUV\",\"notched\":false,\"offsetgroup\":\"SUV\",\"orientation\":\"v\",\"showlegend\":true,\"x\":[\"Male\",\"Female\",\"Female\",\"Female\",\"Male\",\"Female\",\"Female\",\"Male\",\"Male\",\"Male\",\"Male\",\"Male\",\"Female\",\"Female\",\"Female\",\"Male\",\"Male\",\"Female\",\"Female\",\"Male\",\"Male\",\"Female\",\"Female\",\"Female\",\"Male\",\"Male\",\"Female\",\"Male\",\"Male\",\"Female\",\"Male\",\"Male\",\"Male\",\"Female\",\"Female\",\"Male\",\"Female\",\"Male\",\"Female\",\"Male\",\"Female\",\"Female\",\"Female\",\"Male\",\"Male\",\"Female\",\"Female\",\"Female\",\"Male\",\"Female\",\"Female\",\"Male\",\"Male\",\"Female\",\"Male\",\"Female\",\"Female\",\"Male\",\"Male\",\"Male\",\"Female\",\"Male\",\"Female\",\"Female\",\"Female\",\"Female\",\"Female\",\"Male\",\"Male\",\"Female\",\"Male\",\"Male\",\"Male\",\"Female\",\"Female\",\"Female\",\"Male\",\"Male\",\"Female\",\"Male\",\"Male\",\"Male\",\"Female\",\"Female\",\"Female\",\"Female\",\"Male\",\"Male\",\"Male\",\"Male\",\"Female\",\"Male\",\"Male\",\"Male\",\"Female\",\"Male\",\"Male\",\"Male\",\"Female\",\"Male\",\"Male\",\"Male\",\"Male\",\"Male\",\"Female\",\"Female\",\"Male\",\"Female\",\"Female\",\"Male\",\"Male\",\"Female\",\"Female\",\"Male\",\"Male\",\"Female\",\"Male\",\"Male\",\"Female\",\"Male\",\"Female\",\"Male\",\"Female\",\"Female\",\"Female\",\"Male\",\"Female\",\"Female\",\"Female\",\"Male\",\"Female\",\"Male\",\"Male\",\"Female\",\"Female\",\"Female\",\"Female\",\"Female\",\"Female\",\"Male\",\"Female\",\"Male\",\"Female\",\"Female\",\"Male\",\"Female\",\"Male\",\"Female\",\"Female\",\"Female\",\"Female\",\"Female\",\"Male\",\"Male\",\"Female\",\"Female\",\"Male\",\"Female\",\"Female\",\"Male\",\"Female\",\"Male\",\"Male\",\"Male\",\"Male\",\"Female\",\"Female\",\"Female\",\"Female\",\"Female\",\"Female\",\"Female\",\"Male\",\"Female\",\"Female\",\"Female\",\"Male\",\"Male\",\"Female\",\"Female\",\"Female\",\"Female\",\"Female\",\"Female\",\"Female\",\"Female\",\"Male\",\"Female\",\"Female\",\"Male\",\"Female\",\"Male\",\"Male\",\"Male\",\"Female\",\"Female\",\"Male\",\"Female\",\"Female\",\"Female\",\"Male\",\"Male\",\"Female\",\"Male\",\"Female\",\"Female\",\"Female\",\"Male\",\"Female\",\"Male\",\"Male\",\"Female\",\"Male\",\"Female\",\"Female\",\"Female\",\"Female\",\"Male\",\"Female\",\"Female\",\"Female\",\"Female\",\"Female\",\"Male\",\"Female\",\"Male\",\"Female\",\"Male\",\"Female\",\"Female\",\"Female\",\"Female\",\"Male\",\"Female\",\"Male\",\"Female\",\"Male\",\"Female\",\"Female\",\"Female\",\"Male\",\"Female\",\"Female\",\"Female\",\"Male\",\"Male\",\"Female\",\"Female\",\"Male\",\"Male\",\"Male\",\"Male\",\"Male\",\"Female\",\"Female\",\"Male\",\"Female\",\"Female\",\"Male\",\"Female\",\"Female\",\"Male\",\"Male\",\"Male\",\"Male\",\"Female\",\"Male\",\"Male\",\"Male\",\"Male\",\"Female\",\"Female\",\"Female\",\"Male\",\"Female\",\"Male\",\"Female\",\"Female\",\"Female\",\"Female\",\"Female\",\"Female\",\"Female\",\"Female\",\"Female\",\"Female\",\"Female\",\"Female\",\"Female\",\"Female\",\"Female\",\"Female\",\"Female\",\"Female\",\"Female\",\"Female\",\"Female\"],\"x0\":\" \",\"xaxis\":\"x\",\"y\":[61000,61000,57000,61000,57000,57000,51000,68000,61000,57000,67000,63000,62000,50000,66000,52000,60000,64000,58000,54000,53000,62000,55000,59000,50000,50000,68000,60000,56000,61000,67000,66000,56000,61000,52000,59000,61000,54000,64000,53000,60000,66000,55000,51000,50000,59000,61000,62000,63000,69000,57000,52000,50000,57000,50000,68000,69000,57000,54000,51000,54000,64000,58000,59000,53000,55000,62000,49000,55000,66000,56000,61000,58000,60000,62000,68000,60000,51000,55000,53000,62000,64000,54000,52000,57000,58000,53000,55000,55000,60000,51000,57000,67000,51000,51000,63000,66000,64000,66000,56000,53000,61000,70000,67000,69000,53000,64000,68000,65000,58000,67000,62000,53000,59000,65000,59000,69000,58000,52000,68000,69000,62000,61000,63000,57000,49000,58000,69000,50000,51000,56000,58000,66000,51000,52000,50000,58000,57000,49000,50000,49000,57000,64000,37000,61000,37000,52000,40000,62000,52000,36000,51000,65000,61000,59000,67000,59000,41000,49000,60000,51000,53000,68000,57000,50000,45000,49000,65000,54000,64000,45000,58000,69000,39000,57000,62000,69000,50000,65000,39000,32000,32000,45000,31000,36000,61000,59000,45000,63000,57000,49000,59000,61000,61000,67000,51000,64000,45000,66000,36000,57000,61000,65000,57000,49000,32000,63000,64000,62000,51000,64000,68000,63000,60000,49000,39000,55000,58000,51000,49000,37000,68000,45000,67000,36000,65000,55000,57000,63000,64000,57000,39000,57000,56000,55000,45000,60000,63000,51000,39000,63000,36000,48000,66000,50000,69000,68000,58000,51000,56000,65000,69000,61000,57000,55000,49000,52000,36000,58000,66000,64000,54000,70000,62000,63000,66000,66000,68000,63000,59000,31000,40000,51000,69000,57000,58000,45000,45000,51000,50000,51000,39000,40000,49000,45000,32000,51000,48000,31000,51000,49000,36000,52000,32000,51000,31000,31000],\"y0\":\" \",\"yaxis\":\"y\",\"type\":\"box\"},{\"alignmentgroup\":\"True\",\"hovertemplate\":\"Make=Sedan\\u003cbr\\u003eGender=%{x}\\u003cbr\\u003ePrice=%{y}\\u003cextra\\u003e\\u003c\\u002fextra\\u003e\",\"legendgroup\":\"Sedan\",\"marker\":{\"color\":\"#EF553B\"},\"name\":\"Sedan\",\"notched\":false,\"offsetgroup\":\"Sedan\",\"orientation\":\"v\",\"showlegend\":true,\"x\":[\"Female\",\"Male\",\"Female\",\"Female\",\"Male\",\"Male\",\"Female\",\"Male\",\"Female\",\"Male\",\"Female\",\"Male\",\"Male\",\"Female\",\"Female\",\"Male\",\"Female\",\"Male\",\"Male\",\"Female\",\"Female\",\"Male\",\"Male\",\"Female\",\"Male\",\"Male\",\"Female\",\"Female\",\"Female\",\"Male\",\"Female\",\"Male\",\"Female\",\"Male\",\"Male\",\"Male\",\"Female\",\"Male\",\"Male\",\"Male\",\"Female\",\"Male\",\"Male\",\"Male\",\"Male\",\"Male\",\"Male\",\"Male\",\"Male\",\"Male\",\"Male\",\"Male\",\"Male\",\"Male\",\"Male\",\"Female\",\"Male\",\"Female\",\"Female\",\"Male\",\"Female\",\"Female\",\"Male\",\"Male\",\"Male\",\"Male\",\"Male\",\"Male\",\"Male\",\"Male\",\"Female\",\"Female\",\"Female\",\"Female\",\"Male\",\"Male\",\"Male\",\"Male\",\"Male\",\"Female\",\"Female\",\"Male\",\"Male\",\"Female\",\"Male\",\"Male\",\"Male\",\"Male\",\"Female\",\"Female\",\"Female\",\"Female\",\"Male\",\"Female\",\"Male\",\"Female\",\"Male\",\"Female\",\"Female\",\"Female\",\"Male\",\"Male\",\"Female\",\"Male\",\"Male\",\"Male\",\"Male\",\"Female\",\"Male\",\"Female\",\"Male\",\"Female\",\"Male\",\"Female\",\"Male\",\"Male\",\"Male\",\"Female\",\"Female\",\"Male\",\"Male\",\"Male\",\"Male\",\"Female\",\"Male\",\"Female\",\"Female\",\"Male\",\"Male\",\"Female\",\"Female\",\"Male\",\"Female\",\"Male\",\"Male\",\"Female\",\"Male\",\"Male\",\"Female\",\"Male\",\"Male\",\"Female\",\"Male\",\"Male\",\"Male\",\"Female\",\"Male\",\"Male\",\"Male\",\"Female\",\"Male\",\"Female\",\"Male\",\"Male\",\"Male\",\"Male\",\"Male\",\"Female\",\"Male\",\"Male\",\"Male\",\"Male\",\"Male\",\"Female\",\"Female\",\"Male\",\"Male\",\"Male\",\"Male\",\"Male\",\"Female\",\"Male\",\"Male\",\"Male\",\"Male\",\"Male\",\"Male\",\"Male\",\"Male\",\"Male\",\"Female\",\"Female\",\"Female\",\"Female\",\"Female\",\"Male\",\"Male\",\"Male\",\"Female\",\"Female\",\"Male\",\"Male\",\"Male\",\"Male\",\"Female\",\"Male\",\"Male\",\"Female\",\"Male\",\"Female\",\"Male\",\"Male\",\"Female\",\"Male\",\"Male\",\"Male\",\"Female\",\"Male\",\"Female\",\"Female\",\"Female\",\"Male\",\"Male\",\"Male\",\"Female\",\"Male\",\"Male\",\"Male\",\"Female\",\"Female\",\"Male\",\"Male\",\"Female\",\"Female\",\"Male\",\"Male\",\"Female\",\"Male\",\"Female\",\"Male\",\"Female\",\"Female\",\"Male\",\"Male\",\"Male\",\"Male\",\"Male\",\"Male\",\"Male\",\"Male\",\"Female\",\"Male\",\"Male\",\"Male\",\"Female\",\"Male\",\"Male\",\"Female\",\"Male\",\"Male\",\"Male\",\"Female\",\"Male\",\"Female\",\"Male\",\"Male\",\"Male\",\"Male\",\"Female\",\"Female\",\"Male\",\"Male\",\"Male\",\"Male\",\"Female\",\"Female\",\"Male\",\"Male\",\"Female\",\"Female\",\"Male\",\"Male\",\"Female\",\"Male\",\"Female\",\"Female\",\"Male\",\"Male\",\"Female\",\"Male\",\"Male\",\"Male\",\"Male\",\"Female\",\"Male\",\"Male\",\"Female\",\"Male\",\"Female\",\"Female\",\"Male\",\"Male\",\"Male\",\"Male\",\"Female\",\"Male\",\"Female\",\"Male\",\"Female\",\"Female\",\"Male\",\"Male\",\"Female\",\"Female\",\"Male\",\"Male\",\"Male\",\"Female\",\"Male\",\"Male\",\"Female\",\"Female\",\"Female\",\"Male\",\"Female\",\"Male\",\"Female\",\"Male\",\"Male\",\"Male\",\"Male\",\"Male\",\"Male\",\"Male\",\"Male\",\"Male\",\"Male\",\"Male\",\"Male\",\"Female\",\"Male\",\"Male\",\"Female\",\"Male\",\"Male\",\"Male\",\"Male\",\"Male\",\"Male\",\"Male\",\"Male\",\"Male\",\"Male\",\"Male\",\"Male\",\"Male\",\"Male\",\"Female\",\"Male\",\"Male\",\"Male\",\"Male\",\"Male\",\"Female\",\"Male\",\"Male\",\"Male\",\"Female\",\"Male\",\"Male\",\"Male\",\"Male\",\"Male\",\"Female\",\"Male\",\"Female\",\"Male\",\"Male\",\"Male\",\"Male\",\"Male\",\"Male\",\"Male\",\"Male\",\"Male\",\"Male\",\"Male\",\"Male\",\"Male\",\"Male\",\"Male\",\"Male\",\"Male\",\"Female\",\"Male\",\"Male\",\"Male\",\"Male\",\"Male\",\"Male\",\"Male\",\"Female\",\"Male\",\"Male\",\"Male\",\"Male\",\"Male\",\"Male\",\"Male\",\"Male\",\"Male\",\"Male\",\"Female\",\"Male\",\"Male\",\"Male\",\"Male\",\"Male\",\"Male\",\"Male\",\"Female\",\"Male\",\"Male\",\"Male\",\"Male\",\"Male\",\"Male\",\"Male\",\"Male\",\"Female\",\"Male\",\"Male\",\"Male\",\"Male\",\"Male\",\"Male\",\"Male\",\"Male\",\"Male\",\"Male\",\"Male\",\"Male\",\"Male\",\"Male\",\"Male\",\"Male\",\"Male\",\"Male\",\"Male\",\"Female\",\"Female\",\"Female\",\"Male\",\"Male\",\"Male\",\"Male\",\"Male\",\"Male\",\"Male\",\"Male\",\"Female\",\"Male\",\"Female\",\"Male\",\"Male\",\"Male\",\"Male\",\"Female\",\"Male\",\"Male\",\"Male\",\"Male\",\"Male\",\"Male\",\"Male\",\"Male\",\"Male\",\"Male\",\"Male\",\"Male\",\"Male\",\"Male\",\"Male\",\"Male\",\"Male\",\"Male\",\"Female\",\"Male\",\"Male\",\"Male\",\"Female\",\"Male\",\"Male\",\"Male\",\"Male\",\"Male\",\"Male\",\"Male\",\"Male\",\"Male\",\"Male\",\"Male\",\"Female\",\"Male\",\"Male\",\"Male\",\"Female\",\"Male\",\"Male\",\"Male\",\"Male\",\"Male\",\"Male\",\"Male\",\"Male\",\"Male\",\"Male\",\"Female\",\"Male\",\"Male\",\"Male\",\"Male\",\"Male\",\"Male\",\"Male\",\"Male\",\"Male\",\"Male\",\"Male\",\"Male\",\"Male\",\"Male\",\"Male\",\"Male\",\"Male\",\"Male\",\"Male\",\"Male\",\"Male\",\"Male\",\"Male\",\"Male\",\"Male\",\"Male\",\"Male\",\"Male\",\"Male\",\"Male\",\"Male\",\"Male\",\"Male\",\"Male\",\"Male\",\"Male\",\"Male\",\"Male\",\"Male\",\"Male\",\"Male\",\"Male\",\"Male\",\"Male\",\"Male\",\"Male\",\"Male\",\"Male\",\"Male\",\"Male\",\"Male\",\"Male\",\"Male\",\"Male\",\"Male\",\"Male\",\"Male\",\"Male\",\"Male\",\"Male\",\"Male\",\"Male\",\"Male\",\"Male\",\"Male\",\"Male\",\"Male\",\"Male\",\"Male\",\"Male\",\"Male\",\"Male\",\"Male\",\"Male\",\"Male\",\"Male\",\"Male\",\"Male\",\"Male\",\"Male\",\"Male\",\"Male\",\"Male\",\"Male\",\"Male\",\"Male\",\"Male\",\"Male\",\"Male\",\"Male\",\"Male\",\"Male\",\"Male\",\"Male\",\"Male\",\"Male\",\"Male\",\"Male\",\"Male\",\"Male\",\"Male\",\"Male\",\"Male\",\"Male\",\"Male\",\"Male\",\"Male\",\"Male\",\"Male\",\"Male\",\"Male\",\"Male\",\"Male\",\"Male\",\"Male\",\"Male\",\"Male\",\"Male\",\"Male\",\"Male\",\"Male\",\"Male\",\"Male\",\"Male\",\"Male\",\"Male\",\"Male\",\"Male\",\"Male\",\"Male\",\"Male\",\"Male\",\"Male\",\"Male\",\"Male\",\"Male\",\"Male\",\"Male\",\"Male\",\"Male\",\"Male\",\"Male\",\"Male\",\"Male\",\"Male\",\"Male\",\"Male\",\"Male\",\"Male\",\"Male\",\"Male\",\"Male\",\"Male\",\"Male\",\"Male\",\"Male\",\"Male\",\"Male\",\"Male\",\"Male\",\"Male\",\"Male\",\"Male\",\"Male\",\"Male\",\"Male\",\"Male\",\"Male\",\"Male\",\"Male\",\"Male\",\"Male\",\"Male\",\"Male\",\"Male\",\"Male\",\"Male\",\"Male\",\"Male\",\"Male\",\"Male\",\"Male\",\"Male\",\"Male\",\"Male\",\"Male\",\"Male\",\"Male\",\"Male\",\"Male\",\"Male\",\"Male\",\"Male\",\"Male\"],\"x0\":\" \",\"xaxis\":\"x\",\"y\":[43000,53000,47000,52000,35000,42000,33000,43000,34000,50000,40000,42000,54000,36000,54000,41000,37000,41000,41000,50000,48000,44000,44000,43000,50000,49000,35000,41000,31000,54000,53000,44000,32000,33000,39000,31000,52000,33000,42000,51000,35000,39000,42000,52000,46000,50000,31000,39000,46000,51000,54000,53000,32000,32000,55000,32000,47000,47000,46000,47000,32000,42000,35000,48000,33000,34000,43000,50000,37000,33000,38000,53000,43000,39000,49000,38000,49000,36000,36000,35000,33000,41000,46000,47000,45000,52000,43000,54000,45000,33000,38000,52000,54000,38000,32000,44000,44000,42000,52000,39000,53000,32000,49000,32000,39000,43000,40000,41000,53000,41000,36000,33000,50000,48000,42000,31000,44000,50000,34000,40000,33000,50000,54000,35000,49000,46000,32000,34000,36000,54000,51000,46000,54000,34000,47000,39000,34000,54000,38000,55000,55000,52000,38000,47000,35000,46000,46000,45000,43000,52000,48000,50000,34000,39000,43000,54000,33000,33000,34000,42000,45000,32000,31000,46000,47000,39000,52000,47000,42000,38000,37000,49000,43000,48000,44000,49000,36000,36000,33000,50000,55000,46000,47000,43000,47000,49000,33000,47000,55000,33000,40000,55000,50000,48000,50000,47000,36000,53000,36000,48000,39000,35000,42000,47000,54000,51000,32000,44000,44000,53000,48000,50000,34000,37000,33000,34000,55000,45000,43000,51000,34000,31000,50000,43000,33000,33000,44000,48000,34000,47000,37000,33000,36000,50000,51000,52000,41000,35000,48000,53000,46000,43000,43000,39000,38000,43000,48000,54000,44000,35000,32000,34000,35000,32000,54000,43000,40000,33000,41000,42000,51000,37000,37000,43000,45000,37000,52000,41000,50000,47000,40000,37000,43000,48000,46000,32000,45000,52000,50000,49000,45000,35000,44000,32000,39000,41000,33000,49000,42000,38000,31000,44000,39000,46000,43000,50000,33000,31000,53000,37000,35000,52000,47000,50000,36000,45000,43000,44000,40000,34000,37000,48000,53000,52000,51000,53000,48000,41000,32000,51000,36000,36000,49000,48000,45000,55000,46000,35000,39000,35000,49000,31000,37000,37000,53000,31000,28000,34000,42000,41000,39000,53000,21000,47000,24000,23000,28000,48000,38000,23000,24000,33000,19000,55000,21000,18000,48000,39000,26000,20000,37000,26000,51000,53000,29000,41000,26000,19000,23000,28000,24000,21000,21000,18000,28000,20000,31000,27000,23000,53000,49000,18000,36000,34000,31000,43000,27000,31000,31000,24000,23000,50000,33000,19000,37000,54000,34000,29000,23000,37000,24000,31000,53000,19000,19000,46000,50000,42000,28000,47000,48000,32000,28000,23000,22000,27000,27000,26000,18000,46000,20000,21000,20000,18000,23000,26000,20000,19000,20000,20000,26000,21000,20000,40000,39000,35000,50000,31000,43000,43000,38000,34000,18000,45000,40000,24000,24000,26000,48000,51000,32000,44000,31000,23000,24000,29000,42000,39000,27000,39000,52000,27000,24000,21000,21000,28000,24000,23000,26000,24000,31000,31000,18000,23000,19000,18000,52000,20000,21000,20000,35000,21000,21000,21000,19000,20000,21000,19000,21000,19000,18000,18000,34000,29000,31000,24000,51000,18000,30000,38000,23000,41000,36000,28000,35000,43000,23000,39000,52000,27000,18000,31000,23000,27000,18000,19000,18000,18000,31000,18000,31000,21000,20000,19000,31000,28000,27000,24000,31000,23000,18000,23000,21000,20000,27000,28000,31000,26000,27000,21000,31000,28000,21000,18000,18000,27000,23000,18000,28000,24000,27000,27000,27000,26000,29000,26000,21000,28000,19000,26000,23000,27000,21000,26000,19000,27000,18000,31000,26000,31000,18000,23000,19000,18000,21000,27000,27000,26000,23000,19000,26000,31000,20000,31000,31000,21000,20000,24000,26000,27000,24000,27000,29000,23000,26000,23000,21000,21000,31000,19000,29000,27000,20000,27000,23000,24000,18000,21000,23000,19000,18000,18000,31000,31000,23000,18000,27000,31000,27000,23000,26000,23000,31000,26000,29000,19000,20000,21000,18000,21000,19000,29000,21000,23000,20000,29000,21000,19000,30000,18000,26000,28000,21000,23000,23000,29000,31000,23000,21000,24000,26000,23000,20000,21000,27000,23000,21000,29000,27000,27000,31000,27000,19000,27000,23000,24000,18000,29000,23000,27000,21000,23000,18000,19000,18000,20000,27000,19000,27000,31000,27000,26000,23000,23000,26000,27000,21000,18000,24000,29000,23000,29000,27000,21000,21000,29000,19000,18000,18000,22000,23000,20000],\"y0\":\" \",\"yaxis\":\"y\",\"type\":\"box\"},{\"alignmentgroup\":\"True\",\"hovertemplate\":\"Make=Hatchback\\u003cbr\\u003eGender=%{x}\\u003cbr\\u003ePrice=%{y}\\u003cextra\\u003e\\u003c\\u002fextra\\u003e\",\"legendgroup\":\"Hatchback\",\"marker\":{\"color\":\"#00cc96\"},\"name\":\"Hatchback\",\"notched\":false,\"offsetgroup\":\"Hatchback\",\"orientation\":\"v\",\"showlegend\":true,\"x\":[\"Male\",\"Male\",\"Male\",\"Male\",\"Female\",\"Male\",\"Male\",\"Male\",\"Male\",\"Male\",\"Male\",\"Male\",\"Male\",\"Male\",\"Male\",\"Male\",\"Male\",\"Male\",\"Male\",\"Male\",\"Male\",\"Male\",\"Male\",\"Male\",\"Male\",\"Male\",\"Male\",\"Male\",\"Male\",\"Male\",\"Male\",\"Male\",\"Male\",\"Male\",\"Male\",\"Male\",\"Male\",\"Male\",\"Male\",\"Male\",\"Male\",\"Female\",\"Male\",\"Male\",\"Female\",\"Female\",\"Male\",\"Male\",\"Female\",\"Male\",\"Male\",\"Male\",\"Male\",\"Male\",\"Male\",\"Male\",\"Male\",\"Male\",\"Male\",\"Male\",\"Male\",\"Male\",\"Male\",\"Male\",\"Male\",\"Male\",\"Male\",\"Male\",\"Male\",\"Male\",\"Male\",\"Male\",\"Male\",\"Male\",\"Male\",\"Male\",\"Male\",\"Male\",\"Male\",\"Male\",\"Male\",\"Male\",\"Male\",\"Male\",\"Male\",\"Male\",\"Male\",\"Male\",\"Male\",\"Male\",\"Male\",\"Male\",\"Male\",\"Male\",\"Male\",\"Male\",\"Male\",\"Male\",\"Male\",\"Male\",\"Male\",\"Male\",\"Male\",\"Male\",\"Male\",\"Male\",\"Male\",\"Male\",\"Male\",\"Male\",\"Male\",\"Male\",\"Male\",\"Male\",\"Male\",\"Male\",\"Male\",\"Male\",\"Male\",\"Male\",\"Male\",\"Male\",\"Male\",\"Male\",\"Male\",\"Male\",\"Male\",\"Male\",\"Male\",\"Male\",\"Male\",\"Male\",\"Male\",\"Male\",\"Male\",\"Male\",\"Male\",\"Male\",\"Male\",\"Male\",\"Male\",\"Male\",\"Male\",\"Male\",\"Male\",\"Male\",\"Male\",\"Male\",\"Male\",\"Male\",\"Male\",\"Male\",\"Male\",\"Male\",\"Male\",\"Male\",\"Male\",\"Male\",\"Male\",\"Male\",\"Male\",\"Male\",\"Male\",\"Male\",\"Male\",\"Male\",\"Male\",\"Male\",\"Male\",\"Male\",\"Male\",\"Male\",\"Male\",\"Male\",\"Male\",\"Male\",\"Male\",\"Male\",\"Male\",\"Male\",\"Female\",\"Male\",\"Male\",\"Male\",\"Male\",\"Male\",\"Male\",\"Male\",\"Male\",\"Male\",\"Male\",\"Male\",\"Male\",\"Male\",\"Male\",\"Male\",\"Male\",\"Male\",\"Male\",\"Male\",\"Male\",\"Male\",\"Male\",\"Male\",\"Male\",\"Male\",\"Male\",\"Male\",\"Male\",\"Male\",\"Male\",\"Male\",\"Male\",\"Male\",\"Male\",\"Male\",\"Male\",\"Male\",\"Male\",\"Female\",\"Male\",\"Male\",\"Male\",\"Male\",\"Male\",\"Male\",\"Male\",\"Male\",\"Male\",\"Male\",\"Male\",\"Male\",\"Female\",\"Male\",\"Male\",\"Male\",\"Male\",\"Male\",\"Male\",\"Male\",\"Male\",\"Male\",\"Male\",\"Male\",\"Male\",\"Male\",\"Male\",\"Male\",\"Male\",\"Male\",\"Male\",\"Male\",\"Male\",\"Male\",\"Male\",\"Male\",\"Male\",\"Male\",\"Male\",\"Male\",\"Male\",\"Male\",\"Male\",\"Male\",\"Male\",\"Male\",\"Female\",\"Male\",\"Male\",\"Male\",\"Male\",\"Male\",\"Male\",\"Male\",\"Male\",\"Male\",\"Male\",\"Male\",\"Male\",\"Male\",\"Male\",\"Male\",\"Male\",\"Male\",\"Male\",\"Male\",\"Male\",\"Male\",\"Male\",\"Male\",\"Male\",\"Male\",\"Male\",\"Male\",\"Male\",\"Male\",\"Male\",\"Male\",\"Male\",\"Male\",\"Male\",\"Male\",\"Male\",\"Male\",\"Male\",\"Male\",\"Male\",\"Male\",\"Male\",\"Male\",\"Male\",\"Male\",\"Male\",\"Male\",\"Male\",\"Male\",\"Male\",\"Male\",\"Male\",\"Male\",\"Male\",\"Male\",\"Male\",\"Male\",\"Male\",\"Male\",\"Male\",\"Male\",\"Male\",\"Male\",\"Male\",\"Male\",\"Male\",\"Male\",\"Male\",\"Male\",\"Male\",\"Male\",\"Male\",\"Male\",\"Male\",\"Male\",\"Male\",\"Male\",\"Male\",\"Male\",\"Male\",\"Male\",\"Male\",\"Male\",\"Male\",\"Male\",\"Male\",\"Male\",\"Male\",\"Male\",\"Male\",\"Male\",\"Male\",\"Male\",\"Male\",\"Male\",\"Male\",\"Male\",\"Male\",\"Male\",\"Male\",\"Male\",\"Male\",\"Male\",\"Male\",\"Male\",\"Male\",\"Male\",\"Male\",\"Male\",\"Male\",\"Male\",\"Male\",\"Male\",\"Male\",\"Male\",\"Male\",\"Male\",\"Male\",\"Male\",\"Male\",\"Male\",\"Male\",\"Male\",\"Male\",\"Female\",\"Male\",\"Male\",\"Male\",\"Male\",\"Male\",\"Male\",\"Male\",\"Male\",\"Male\",\"Male\",\"Male\",\"Male\",\"Male\",\"Male\",\"Male\",\"Male\",\"Male\",\"Male\",\"Male\",\"Male\",\"Male\",\"Female\",\"Male\",\"Male\",\"Male\",\"Male\",\"Male\",\"Male\",\"Male\",\"Male\",\"Male\",\"Male\",\"Male\",\"Male\",\"Male\",\"Male\",\"Male\",\"Male\",\"Male\",\"Male\",\"Male\",\"Male\",\"Male\",\"Male\",\"Male\",\"Male\",\"Male\",\"Male\",\"Male\",\"Male\",\"Male\",\"Male\",\"Male\",\"Male\",\"Male\",\"Male\",\"Female\",\"Male\",\"Male\",\"Male\",\"Male\",\"Male\",\"Male\",\"Male\",\"Male\",\"Male\",\"Male\",\"Male\",\"Male\",\"Male\",\"Male\",\"Male\",\"Male\",\"Male\",\"Male\",\"Male\",\"Male\",\"Male\",\"Male\",\"Male\",\"Male\",\"Male\",\"Male\",\"Male\",\"Male\",\"Male\",\"Male\",\"Male\",\"Male\",\"Male\",\"Male\",\"Male\",\"Male\",\"Male\",\"Male\",\"Male\",\"Male\",\"Male\",\"Male\",\"Male\",\"Male\",\"Male\",\"Male\",\"Male\",\"Male\",\"Male\",\"Male\",\"Male\",\"Male\",\"Male\",\"Male\",\"Male\",\"Male\",\"Male\",\"Male\",\"Male\",\"Male\",\"Male\",\"Male\",\"Male\",\"Male\",\"Male\",\"Male\",\"Male\",\"Male\",\"Male\",\"Male\",\"Male\",\"Male\",\"Male\",\"Male\",\"Male\",\"Male\",\"Female\",\"Male\",\"Male\",\"Male\",\"Male\",\"Male\",\"Male\",\"Male\",\"Male\",\"Male\",\"Male\",\"Male\",\"Female\",\"Male\",\"Male\",\"Male\",\"Male\",\"Male\",\"Male\",\"Male\",\"Male\",\"Male\",\"Male\",\"Male\",\"Female\",\"Male\",\"Male\",\"Male\",\"Male\",\"Male\",\"Male\",\"Male\",\"Male\",\"Male\",\"Male\",\"Male\",\"Male\",\"Male\",\"Male\",\"Male\",\"Male\",\"Male\",\"Male\",\"Male\",\"Male\",\"Male\",\"Male\",\"Male\",\"Male\",\"Male\",\"Male\",\"Male\",\"Male\",\"Male\",\"Male\",\"Male\",\"Male\"],\"x0\":\" \",\"xaxis\":\"x\",\"y\":[30000,31000,25000,22000,25000,33000,29000,23000,33000,20000,24000,24000,32000,32000,30000,28000,30000,29000,20000,25000,23000,32000,30000,29000,31000,33000,29000,22000,20000,25000,30000,28000,28000,32000,30000,20000,32000,20000,22000,32000,30000,25000,20000,30000,29000,32000,23000,26000,30000,26000,33000,31000,32000,20000,25000,28000,32000,32000,22000,22000,28000,25000,29000,30000,22000,22000,33000,22000,28000,29000,29000,28000,32000,32000,22000,20000,33000,20000,32000,30000,32000,20000,29000,28000,23000,20000,33000,24000,23000,20000,33000,32000,32000,32000,22000,20000,28000,22000,31000,26000,29000,25000,30000,32000,20000,33000,32000,29000,32000,28000,25000,33000,27000,32000,29000,30000,28000,33000,32000,26000,20000,31000,26000,32000,24000,19000,27000,33000,26000,24000,20000,32000,30000,22000,30000,25000,20000,29000,29000,22000,33000,32000,28000,25000,23000,28000,31000,22000,31000,30000,22000,24000,30000,20000,26000,24000,31000,20000,25000,19000,24000,27000,24000,26000,32000,28000,23000,30000,29000,22000,30000,28000,22000,32000,26000,28000,19000,30000,19000,24000,22000,30000,24000,20000,19000,24000,32000,28000,24000,32000,26000,30000,28000,23000,22000,22000,27000,23000,20000,31000,33000,30000,30000,30000,28000,25000,30000,22000,32000,23000,28000,25000,23000,23000,23000,19000,26000,24000,33000,32000,23000,26000,29000,30000,32000,25000,22000,28000,24000,28000,31000,25000,23000,23000,32000,31000,22000,32000,27000,33000,33000,28000,22000,22000,29000,27000,27000,20000,29000,20000,26000,31000,31000,20000,29000,25000,22000,29000,24000,30000,22000,21000,30000,24000,31000,30000,20000,19000,19000,27000,23000,30000,23000,20000,25000,23000,20000,32000,24000,22000,28000,23000,22000,25000,29000,28000,30000,23000,28000,30000,25000,24000,25000,33000,20000,20000,32000,29000,25000,24000,30000,31000,31000,25000,24000,22000,25000,24000,20000,28000,30000,26000,20000,30000,28000,30000,20000,33000,31000,28000,26000,32000,33000,33000,30000,23000,20000,19000,32000,26000,19000,29000,27000,20000,19000,32000,32000,31000,28000,25000,20000,20000,20000,19000,30000,24000,30000,27000,20000,30000,26000,24000,22000,20000,25000,20000,29000,25000,32000,25000,20000,32000,24000,20000,30000,28000,26000,28000,26000,31000,27000,25000,25000,26000,32000,32000,28000,22000,19000,30000,26000,28000,25000,32000,31000,32000,22000,20000,30000,29000,23000,32000,19000,24000,29000,20000,31000,22000,33000,32000,28000,29000,30000,29000,20000,32000,31000,23000,31000,30000,20000,20000,23000,33000,25000,25000,24000,28000,27000,25000,20000,24000,19000,28000,33000,31000,26000,22000,25000,22000,33000,24000,22000,20000,18000,32000,28000,22000,28000,25000,22000,28000,22000,18000,25000,32000,28000,29000,27000,24000,28000,22000,32000,24000,30000,24000,33000,23000,20000,32000,24000,26000,20000,32000,25000,22000,24000,20000,29000,20000,32000,32000,22000,33000,31000,30000,26000,24000,23000,33000,32000,30000,19000,30000,30000,26000,24000,28000,28000,24000,31000,29000,26000,29000,25000,25000,26000,22000,31000,25000,23000,20000,33000,33000,28000,28000,26000,22000,22000,25000,32000,22000,30000,29000,31000,30000,30000,25000,28000,31000,30000,32000,28000,19000,28000,28000,20000,22000,24000,32000,29000,28000,24000,33000,23000,30000,24000,23000,22000,32000,30000,19000,28000,20000,22000,32000,22000,25000,25000,31000,32000,20000,25000,20000,32000,23000,29000,22000,29000,27000,26000,26000,25000,30000,28000,32000,23000,19000,24000,24000,23000,22000,21000,33000,24000,23000,19000,27000,31000,30000,24000,31000],\"y0\":\" \",\"yaxis\":\"y\",\"type\":\"box\"}],                        {\"template\":{\"data\":{\"histogram2dcontour\":[{\"type\":\"histogram2dcontour\",\"colorbar\":{\"outlinewidth\":0,\"ticks\":\"\"},\"colorscale\":[[0.0,\"#0d0887\"],[0.1111111111111111,\"#46039f\"],[0.2222222222222222,\"#7201a8\"],[0.3333333333333333,\"#9c179e\"],[0.4444444444444444,\"#bd3786\"],[0.5555555555555556,\"#d8576b\"],[0.6666666666666666,\"#ed7953\"],[0.7777777777777778,\"#fb9f3a\"],[0.8888888888888888,\"#fdca26\"],[1.0,\"#f0f921\"]]}],\"choropleth\":[{\"type\":\"choropleth\",\"colorbar\":{\"outlinewidth\":0,\"ticks\":\"\"}}],\"histogram2d\":[{\"type\":\"histogram2d\",\"colorbar\":{\"outlinewidth\":0,\"ticks\":\"\"},\"colorscale\":[[0.0,\"#0d0887\"],[0.1111111111111111,\"#46039f\"],[0.2222222222222222,\"#7201a8\"],[0.3333333333333333,\"#9c179e\"],[0.4444444444444444,\"#bd3786\"],[0.5555555555555556,\"#d8576b\"],[0.6666666666666666,\"#ed7953\"],[0.7777777777777778,\"#fb9f3a\"],[0.8888888888888888,\"#fdca26\"],[1.0,\"#f0f921\"]]}],\"heatmap\":[{\"type\":\"heatmap\",\"colorbar\":{\"outlinewidth\":0,\"ticks\":\"\"},\"colorscale\":[[0.0,\"#0d0887\"],[0.1111111111111111,\"#46039f\"],[0.2222222222222222,\"#7201a8\"],[0.3333333333333333,\"#9c179e\"],[0.4444444444444444,\"#bd3786\"],[0.5555555555555556,\"#d8576b\"],[0.6666666666666666,\"#ed7953\"],[0.7777777777777778,\"#fb9f3a\"],[0.8888888888888888,\"#fdca26\"],[1.0,\"#f0f921\"]]}],\"heatmapgl\":[{\"type\":\"heatmapgl\",\"colorbar\":{\"outlinewidth\":0,\"ticks\":\"\"},\"colorscale\":[[0.0,\"#0d0887\"],[0.1111111111111111,\"#46039f\"],[0.2222222222222222,\"#7201a8\"],[0.3333333333333333,\"#9c179e\"],[0.4444444444444444,\"#bd3786\"],[0.5555555555555556,\"#d8576b\"],[0.6666666666666666,\"#ed7953\"],[0.7777777777777778,\"#fb9f3a\"],[0.8888888888888888,\"#fdca26\"],[1.0,\"#f0f921\"]]}],\"contourcarpet\":[{\"type\":\"contourcarpet\",\"colorbar\":{\"outlinewidth\":0,\"ticks\":\"\"}}],\"contour\":[{\"type\":\"contour\",\"colorbar\":{\"outlinewidth\":0,\"ticks\":\"\"},\"colorscale\":[[0.0,\"#0d0887\"],[0.1111111111111111,\"#46039f\"],[0.2222222222222222,\"#7201a8\"],[0.3333333333333333,\"#9c179e\"],[0.4444444444444444,\"#bd3786\"],[0.5555555555555556,\"#d8576b\"],[0.6666666666666666,\"#ed7953\"],[0.7777777777777778,\"#fb9f3a\"],[0.8888888888888888,\"#fdca26\"],[1.0,\"#f0f921\"]]}],\"surface\":[{\"type\":\"surface\",\"colorbar\":{\"outlinewidth\":0,\"ticks\":\"\"},\"colorscale\":[[0.0,\"#0d0887\"],[0.1111111111111111,\"#46039f\"],[0.2222222222222222,\"#7201a8\"],[0.3333333333333333,\"#9c179e\"],[0.4444444444444444,\"#bd3786\"],[0.5555555555555556,\"#d8576b\"],[0.6666666666666666,\"#ed7953\"],[0.7777777777777778,\"#fb9f3a\"],[0.8888888888888888,\"#fdca26\"],[1.0,\"#f0f921\"]]}],\"mesh3d\":[{\"type\":\"mesh3d\",\"colorbar\":{\"outlinewidth\":0,\"ticks\":\"\"}}],\"scatter\":[{\"fillpattern\":{\"fillmode\":\"overlay\",\"size\":10,\"solidity\":0.2},\"type\":\"scatter\"}],\"parcoords\":[{\"type\":\"parcoords\",\"line\":{\"colorbar\":{\"outlinewidth\":0,\"ticks\":\"\"}}}],\"scatterpolargl\":[{\"type\":\"scatterpolargl\",\"marker\":{\"colorbar\":{\"outlinewidth\":0,\"ticks\":\"\"}}}],\"bar\":[{\"error_x\":{\"color\":\"#2a3f5f\"},\"error_y\":{\"color\":\"#2a3f5f\"},\"marker\":{\"line\":{\"color\":\"#E5ECF6\",\"width\":0.5},\"pattern\":{\"fillmode\":\"overlay\",\"size\":10,\"solidity\":0.2}},\"type\":\"bar\"}],\"scattergeo\":[{\"type\":\"scattergeo\",\"marker\":{\"colorbar\":{\"outlinewidth\":0,\"ticks\":\"\"}}}],\"scatterpolar\":[{\"type\":\"scatterpolar\",\"marker\":{\"colorbar\":{\"outlinewidth\":0,\"ticks\":\"\"}}}],\"histogram\":[{\"marker\":{\"pattern\":{\"fillmode\":\"overlay\",\"size\":10,\"solidity\":0.2}},\"type\":\"histogram\"}],\"scattergl\":[{\"type\":\"scattergl\",\"marker\":{\"colorbar\":{\"outlinewidth\":0,\"ticks\":\"\"}}}],\"scatter3d\":[{\"type\":\"scatter3d\",\"line\":{\"colorbar\":{\"outlinewidth\":0,\"ticks\":\"\"}},\"marker\":{\"colorbar\":{\"outlinewidth\":0,\"ticks\":\"\"}}}],\"scattermapbox\":[{\"type\":\"scattermapbox\",\"marker\":{\"colorbar\":{\"outlinewidth\":0,\"ticks\":\"\"}}}],\"scatterternary\":[{\"type\":\"scatterternary\",\"marker\":{\"colorbar\":{\"outlinewidth\":0,\"ticks\":\"\"}}}],\"scattercarpet\":[{\"type\":\"scattercarpet\",\"marker\":{\"colorbar\":{\"outlinewidth\":0,\"ticks\":\"\"}}}],\"carpet\":[{\"aaxis\":{\"endlinecolor\":\"#2a3f5f\",\"gridcolor\":\"white\",\"linecolor\":\"white\",\"minorgridcolor\":\"white\",\"startlinecolor\":\"#2a3f5f\"},\"baxis\":{\"endlinecolor\":\"#2a3f5f\",\"gridcolor\":\"white\",\"linecolor\":\"white\",\"minorgridcolor\":\"white\",\"startlinecolor\":\"#2a3f5f\"},\"type\":\"carpet\"}],\"table\":[{\"cells\":{\"fill\":{\"color\":\"#EBF0F8\"},\"line\":{\"color\":\"white\"}},\"header\":{\"fill\":{\"color\":\"#C8D4E3\"},\"line\":{\"color\":\"white\"}},\"type\":\"table\"}],\"barpolar\":[{\"marker\":{\"line\":{\"color\":\"#E5ECF6\",\"width\":0.5},\"pattern\":{\"fillmode\":\"overlay\",\"size\":10,\"solidity\":0.2}},\"type\":\"barpolar\"}],\"pie\":[{\"automargin\":true,\"type\":\"pie\"}]},\"layout\":{\"autotypenumbers\":\"strict\",\"colorway\":[\"#636efa\",\"#EF553B\",\"#00cc96\",\"#ab63fa\",\"#FFA15A\",\"#19d3f3\",\"#FF6692\",\"#B6E880\",\"#FF97FF\",\"#FECB52\"],\"font\":{\"color\":\"#2a3f5f\"},\"hovermode\":\"closest\",\"hoverlabel\":{\"align\":\"left\"},\"paper_bgcolor\":\"white\",\"plot_bgcolor\":\"#E5ECF6\",\"polar\":{\"bgcolor\":\"#E5ECF6\",\"angularaxis\":{\"gridcolor\":\"white\",\"linecolor\":\"white\",\"ticks\":\"\"},\"radialaxis\":{\"gridcolor\":\"white\",\"linecolor\":\"white\",\"ticks\":\"\"}},\"ternary\":{\"bgcolor\":\"#E5ECF6\",\"aaxis\":{\"gridcolor\":\"white\",\"linecolor\":\"white\",\"ticks\":\"\"},\"baxis\":{\"gridcolor\":\"white\",\"linecolor\":\"white\",\"ticks\":\"\"},\"caxis\":{\"gridcolor\":\"white\",\"linecolor\":\"white\",\"ticks\":\"\"}},\"coloraxis\":{\"colorbar\":{\"outlinewidth\":0,\"ticks\":\"\"}},\"colorscale\":{\"sequential\":[[0.0,\"#0d0887\"],[0.1111111111111111,\"#46039f\"],[0.2222222222222222,\"#7201a8\"],[0.3333333333333333,\"#9c179e\"],[0.4444444444444444,\"#bd3786\"],[0.5555555555555556,\"#d8576b\"],[0.6666666666666666,\"#ed7953\"],[0.7777777777777778,\"#fb9f3a\"],[0.8888888888888888,\"#fdca26\"],[1.0,\"#f0f921\"]],\"sequentialminus\":[[0.0,\"#0d0887\"],[0.1111111111111111,\"#46039f\"],[0.2222222222222222,\"#7201a8\"],[0.3333333333333333,\"#9c179e\"],[0.4444444444444444,\"#bd3786\"],[0.5555555555555556,\"#d8576b\"],[0.6666666666666666,\"#ed7953\"],[0.7777777777777778,\"#fb9f3a\"],[0.8888888888888888,\"#fdca26\"],[1.0,\"#f0f921\"]],\"diverging\":[[0,\"#8e0152\"],[0.1,\"#c51b7d\"],[0.2,\"#de77ae\"],[0.3,\"#f1b6da\"],[0.4,\"#fde0ef\"],[0.5,\"#f7f7f7\"],[0.6,\"#e6f5d0\"],[0.7,\"#b8e186\"],[0.8,\"#7fbc41\"],[0.9,\"#4d9221\"],[1,\"#276419\"]]},\"xaxis\":{\"gridcolor\":\"white\",\"linecolor\":\"white\",\"ticks\":\"\",\"title\":{\"standoff\":15},\"zerolinecolor\":\"white\",\"automargin\":true,\"zerolinewidth\":2},\"yaxis\":{\"gridcolor\":\"white\",\"linecolor\":\"white\",\"ticks\":\"\",\"title\":{\"standoff\":15},\"zerolinecolor\":\"white\",\"automargin\":true,\"zerolinewidth\":2},\"scene\":{\"xaxis\":{\"backgroundcolor\":\"#E5ECF6\",\"gridcolor\":\"white\",\"linecolor\":\"white\",\"showbackground\":true,\"ticks\":\"\",\"zerolinecolor\":\"white\",\"gridwidth\":2},\"yaxis\":{\"backgroundcolor\":\"#E5ECF6\",\"gridcolor\":\"white\",\"linecolor\":\"white\",\"showbackground\":true,\"ticks\":\"\",\"zerolinecolor\":\"white\",\"gridwidth\":2},\"zaxis\":{\"backgroundcolor\":\"#E5ECF6\",\"gridcolor\":\"white\",\"linecolor\":\"white\",\"showbackground\":true,\"ticks\":\"\",\"zerolinecolor\":\"white\",\"gridwidth\":2}},\"shapedefaults\":{\"line\":{\"color\":\"#2a3f5f\"}},\"annotationdefaults\":{\"arrowcolor\":\"#2a3f5f\",\"arrowhead\":0,\"arrowwidth\":1},\"geo\":{\"bgcolor\":\"white\",\"landcolor\":\"#E5ECF6\",\"subunitcolor\":\"white\",\"showland\":true,\"showlakes\":true,\"lakecolor\":\"white\"},\"title\":{\"x\":0.05},\"mapbox\":{\"style\":\"light\"}}},\"xaxis\":{\"anchor\":\"y\",\"domain\":[0.0,1.0],\"title\":{\"text\":\"Gender\"}},\"yaxis\":{\"anchor\":\"x\",\"domain\":[0.0,1.0],\"title\":{\"text\":\"Price\"}},\"legend\":{\"title\":{\"text\":\"Make\"},\"tracegroupgap\":0},\"margin\":{\"t\":60},\"boxmode\":\"group\"},                        {\"responsive\": true}                    ).then(function(){\n",
              "                            \n",
              "var gd = document.getElementById('a946cfb5-948f-4b71-b8c3-fb4bfc14170a');\n",
              "var x = new MutationObserver(function (mutations, observer) {{\n",
              "        var display = window.getComputedStyle(gd).display;\n",
              "        if (!display || display === 'none') {{\n",
              "            console.log([gd, 'removed!']);\n",
              "            Plotly.purge(gd);\n",
              "            observer.disconnect();\n",
              "        }}\n",
              "}});\n",
              "\n",
              "// Listen for the removal of the full notebook cells\n",
              "var notebookContainer = gd.closest('#notebook-container');\n",
              "if (notebookContainer) {{\n",
              "    x.observe(notebookContainer, {childList: true});\n",
              "}}\n",
              "\n",
              "// Listen for the clearing of the current output cell\n",
              "var outputEl = gd.closest('.output');\n",
              "if (outputEl) {{\n",
              "    x.observe(outputEl, {childList: true});\n",
              "}}\n",
              "\n",
              "                        })                };                            </script>        </div>\n",
              "</body>\n",
              "</html>"
            ]
          },
          "metadata": {}
        }
      ]
    },
    {
      "cell_type": "markdown",
      "source": [
        "### Make preferences"
      ],
      "metadata": {
        "id": "zHIRRb6nWVnY"
      },
      "id": "zHIRRb6nWVnY"
    },
    {
      "cell_type": "code",
      "source": [
        "data['Make'].value_counts(normalize=True)"
      ],
      "metadata": {
        "colab": {
          "base_uri": "https://localhost:8080/"
        },
        "id": "brk9IBA49iXY",
        "outputId": "d8317adb-1efc-49c8-cc82-359cfade9316"
      },
      "id": "brk9IBA49iXY",
      "execution_count": null,
      "outputs": [
        {
          "output_type": "execute_result",
          "data": {
            "text/plain": [
              "Make\n",
              "Sedan       0.444\n",
              "Hatchback   0.368\n",
              "SUV         0.188\n",
              "Name: proportion, dtype: float64"
            ]
          },
          "metadata": {},
          "execution_count": 38
        }
      ]
    },
    {
      "cell_type": "markdown",
      "source": [
        "##### Are salaried likelihood to buy sedan"
      ],
      "metadata": {
        "id": "Ucf9Ziqj9OpS"
      },
      "id": "Ucf9Ziqj9OpS"
    },
    {
      "cell_type": "code",
      "source": [
        "data.groupby(['Make','Profession'])['Gender'].count()/1580*100"
      ],
      "metadata": {
        "colab": {
          "base_uri": "https://localhost:8080/"
        },
        "id": "pIkSTdHRv3E3",
        "outputId": "3188e978-cd21-4ee0-f85b-bca3988e7b29"
      },
      "id": "pIkSTdHRv3E3",
      "execution_count": null,
      "outputs": [
        {
          "output_type": "execute_result",
          "data": {
            "text/plain": [
              "Make       Profession\n",
              "Hatchback  Business     18.354\n",
              "           Salaried     18.481\n",
              "SUV        Business      5.633\n",
              "           Salaried     13.165\n",
              "Sedan      Business     19.367\n",
              "           Salaried     25.063\n",
              "Name: Gender, dtype: float64"
            ]
          },
          "metadata": {},
          "execution_count": 35
        }
      ]
    },
    {
      "cell_type": "code",
      "source": [
        "catgplot = lambda p : px.box(data,x=p,y='Price',color='Make')"
      ],
      "metadata": {
        "id": "TAugq-Pp7dOu"
      },
      "id": "TAugq-Pp7dOu",
      "execution_count": null,
      "outputs": []
    },
    {
      "cell_type": "code",
      "source": [
        "catgplot('Profession').show()"
      ],
      "metadata": {
        "id": "8rJQqrOs2f-n"
      },
      "id": "8rJQqrOs2f-n",
      "execution_count": null,
      "outputs": []
    },
    {
      "cell_type": "markdown",
      "source": [
        "#### proove married male is easy targetted for  SUV over sedan?\n",
        "\n",
        "SUV % is less than Sedan % which rather comparatively married women have bought more % of SUV (10.506). Most of the married men prefer either Hatchback of Sedan"
      ],
      "metadata": {
        "id": "ukYlGzvV3pPw"
      },
      "id": "ukYlGzvV3pPw"
    },
    {
      "cell_type": "code",
      "source": [
        "total_married_men=data[(data['Marital_status']=='Married')& (data['Gender']=='Male')].count()[0]"
      ],
      "metadata": {
        "id": "q7LthNdzB53e"
      },
      "id": "q7LthNdzB53e",
      "execution_count": 80,
      "outputs": []
    },
    {
      "cell_type": "code",
      "source": [
        "## married men make preferences\n",
        "data[(data['Marital_status']=='Married')& (data['Gender']=='Male')].groupby(['Make'])['Price'].count()/total_married_men*100"
      ],
      "metadata": {
        "colab": {
          "base_uri": "https://localhost:8080/"
        },
        "id": "pjhC-KhYBRg1",
        "outputId": "8f9a90c7-9038-4c2f-c85a-2c5efe07cb9d"
      },
      "id": "pjhC-KhYBRg1",
      "execution_count": 81,
      "outputs": [
        {
          "output_type": "execute_result",
          "data": {
            "text/plain": [
              "Make\n",
              "Hatchback   42.606\n",
              "SUV         10.123\n",
              "Sedan       47.271\n",
              "Name: Price, dtype: float64"
            ]
          },
          "metadata": {},
          "execution_count": 81
        }
      ]
    },
    {
      "cell_type": "code",
      "source": [
        "##single men make preferences\n",
        "data[(data['Marital_status']=='Single')& (data['Gender']=='Male')].groupby(['Make'])['Price'].count()/data[(data['Marital_status']=='Single')& (data['Gender']=='Male')].count()[0]*100"
      ],
      "metadata": {
        "colab": {
          "base_uri": "https://localhost:8080/"
        },
        "id": "tZkGEY36DMsG",
        "outputId": "3f0b4286-dd06-4be3-eedb-c9371226c815"
      },
      "id": "tZkGEY36DMsG",
      "execution_count": 82,
      "outputs": [
        {
          "output_type": "execute_result",
          "data": {
            "text/plain": [
              "Make\n",
              "Hatchback   71.552\n",
              "SUV          7.759\n",
              "Sedan       20.690\n",
              "Name: Price, dtype: float64"
            ]
          },
          "metadata": {},
          "execution_count": 82
        }
      ]
    },
    {
      "cell_type": "code",
      "source": [
        "data[data['Marital_status']=='Married'].groupby(['Make','Gender'])['Make'].count()/1580*100"
      ],
      "metadata": {
        "colab": {
          "base_uri": "https://localhost:8080/"
        },
        "id": "VhkIzgt73D5E",
        "outputId": "db28fffa-6a02-4c24-9f84-b0036327c49d"
      },
      "id": "VhkIzgt73D5E",
      "execution_count": 64,
      "outputs": [
        {
          "output_type": "execute_result",
          "data": {
            "text/plain": [
              "Make       Gender\n",
              "Hatchback  Female    0.886\n",
              "           Male     30.633\n",
              "SUV        Female   10.506\n",
              "           Male      7.278\n",
              "Sedan      Female    8.038\n",
              "           Male     33.987\n",
              "Name: Make, dtype: float64"
            ]
          },
          "metadata": {},
          "execution_count": 64
        }
      ]
    },
    {
      "cell_type": "code",
      "source": [
        "data[(data['Marital_status']=='Married')& (data['Gender']=='Male')].groupby(['Make'])['Price'].describe()"
      ],
      "metadata": {
        "colab": {
          "base_uri": "https://localhost:8080/",
          "height": 173
        },
        "id": "YKcx6IJQEq_9",
        "outputId": "8106fe63-1df7-44d0-b37b-a647bd674765"
      },
      "id": "YKcx6IJQEq_9",
      "execution_count": 84,
      "outputs": [
        {
          "output_type": "execute_result",
          "data": {
            "text/plain": [
              "            count      mean       std       min       25%       50%       75%  \\\n",
              "Make                                                                            \n",
              "Hatchback 484.000 26623.967  4327.093 19000.000 23000.000 28000.000 30000.000   \n",
              "SUV       115.000 59217.391  5845.650 49000.000 55000.000 59000.000 64000.000   \n",
              "Sedan     537.000 32128.492 10971.821 18000.000 23000.000 29000.000 41000.000   \n",
              "\n",
              "                max  \n",
              "Make                 \n",
              "Hatchback 33000.000  \n",
              "SUV       70000.000  \n",
              "Sedan     55000.000  "
            ],
            "text/html": [
              "\n",
              "  <div id=\"df-6515558f-be7b-4498-aa26-df6159219e4d\" class=\"colab-df-container\">\n",
              "    <div>\n",
              "<style scoped>\n",
              "    .dataframe tbody tr th:only-of-type {\n",
              "        vertical-align: middle;\n",
              "    }\n",
              "\n",
              "    .dataframe tbody tr th {\n",
              "        vertical-align: top;\n",
              "    }\n",
              "\n",
              "    .dataframe thead th {\n",
              "        text-align: right;\n",
              "    }\n",
              "</style>\n",
              "<table border=\"1\" class=\"dataframe\">\n",
              "  <thead>\n",
              "    <tr style=\"text-align: right;\">\n",
              "      <th></th>\n",
              "      <th>count</th>\n",
              "      <th>mean</th>\n",
              "      <th>std</th>\n",
              "      <th>min</th>\n",
              "      <th>25%</th>\n",
              "      <th>50%</th>\n",
              "      <th>75%</th>\n",
              "      <th>max</th>\n",
              "    </tr>\n",
              "    <tr>\n",
              "      <th>Make</th>\n",
              "      <th></th>\n",
              "      <th></th>\n",
              "      <th></th>\n",
              "      <th></th>\n",
              "      <th></th>\n",
              "      <th></th>\n",
              "      <th></th>\n",
              "      <th></th>\n",
              "    </tr>\n",
              "  </thead>\n",
              "  <tbody>\n",
              "    <tr>\n",
              "      <th>Hatchback</th>\n",
              "      <td>484.000</td>\n",
              "      <td>26623.967</td>\n",
              "      <td>4327.093</td>\n",
              "      <td>19000.000</td>\n",
              "      <td>23000.000</td>\n",
              "      <td>28000.000</td>\n",
              "      <td>30000.000</td>\n",
              "      <td>33000.000</td>\n",
              "    </tr>\n",
              "    <tr>\n",
              "      <th>SUV</th>\n",
              "      <td>115.000</td>\n",
              "      <td>59217.391</td>\n",
              "      <td>5845.650</td>\n",
              "      <td>49000.000</td>\n",
              "      <td>55000.000</td>\n",
              "      <td>59000.000</td>\n",
              "      <td>64000.000</td>\n",
              "      <td>70000.000</td>\n",
              "    </tr>\n",
              "    <tr>\n",
              "      <th>Sedan</th>\n",
              "      <td>537.000</td>\n",
              "      <td>32128.492</td>\n",
              "      <td>10971.821</td>\n",
              "      <td>18000.000</td>\n",
              "      <td>23000.000</td>\n",
              "      <td>29000.000</td>\n",
              "      <td>41000.000</td>\n",
              "      <td>55000.000</td>\n",
              "    </tr>\n",
              "  </tbody>\n",
              "</table>\n",
              "</div>\n",
              "    <div class=\"colab-df-buttons\">\n",
              "\n",
              "  <div class=\"colab-df-container\">\n",
              "    <button class=\"colab-df-convert\" onclick=\"convertToInteractive('df-6515558f-be7b-4498-aa26-df6159219e4d')\"\n",
              "            title=\"Convert this dataframe to an interactive table.\"\n",
              "            style=\"display:none;\">\n",
              "\n",
              "  <svg xmlns=\"http://www.w3.org/2000/svg\" height=\"24px\" viewBox=\"0 -960 960 960\">\n",
              "    <path d=\"M120-120v-720h720v720H120Zm60-500h600v-160H180v160Zm220 220h160v-160H400v160Zm0 220h160v-160H400v160ZM180-400h160v-160H180v160Zm440 0h160v-160H620v160ZM180-180h160v-160H180v160Zm440 0h160v-160H620v160Z\"/>\n",
              "  </svg>\n",
              "    </button>\n",
              "\n",
              "  <style>\n",
              "    .colab-df-container {\n",
              "      display:flex;\n",
              "      gap: 12px;\n",
              "    }\n",
              "\n",
              "    .colab-df-convert {\n",
              "      background-color: #E8F0FE;\n",
              "      border: none;\n",
              "      border-radius: 50%;\n",
              "      cursor: pointer;\n",
              "      display: none;\n",
              "      fill: #1967D2;\n",
              "      height: 32px;\n",
              "      padding: 0 0 0 0;\n",
              "      width: 32px;\n",
              "    }\n",
              "\n",
              "    .colab-df-convert:hover {\n",
              "      background-color: #E2EBFA;\n",
              "      box-shadow: 0px 1px 2px rgba(60, 64, 67, 0.3), 0px 1px 3px 1px rgba(60, 64, 67, 0.15);\n",
              "      fill: #174EA6;\n",
              "    }\n",
              "\n",
              "    .colab-df-buttons div {\n",
              "      margin-bottom: 4px;\n",
              "    }\n",
              "\n",
              "    [theme=dark] .colab-df-convert {\n",
              "      background-color: #3B4455;\n",
              "      fill: #D2E3FC;\n",
              "    }\n",
              "\n",
              "    [theme=dark] .colab-df-convert:hover {\n",
              "      background-color: #434B5C;\n",
              "      box-shadow: 0px 1px 3px 1px rgba(0, 0, 0, 0.15);\n",
              "      filter: drop-shadow(0px 1px 2px rgba(0, 0, 0, 0.3));\n",
              "      fill: #FFFFFF;\n",
              "    }\n",
              "  </style>\n",
              "\n",
              "    <script>\n",
              "      const buttonEl =\n",
              "        document.querySelector('#df-6515558f-be7b-4498-aa26-df6159219e4d button.colab-df-convert');\n",
              "      buttonEl.style.display =\n",
              "        google.colab.kernel.accessAllowed ? 'block' : 'none';\n",
              "\n",
              "      async function convertToInteractive(key) {\n",
              "        const element = document.querySelector('#df-6515558f-be7b-4498-aa26-df6159219e4d');\n",
              "        const dataTable =\n",
              "          await google.colab.kernel.invokeFunction('convertToInteractive',\n",
              "                                                    [key], {});\n",
              "        if (!dataTable) return;\n",
              "\n",
              "        const docLinkHtml = 'Like what you see? Visit the ' +\n",
              "          '<a target=\"_blank\" href=https://colab.research.google.com/notebooks/data_table.ipynb>data table notebook</a>'\n",
              "          + ' to learn more about interactive tables.';\n",
              "        element.innerHTML = '';\n",
              "        dataTable['output_type'] = 'display_data';\n",
              "        await google.colab.output.renderOutput(dataTable, element);\n",
              "        const docLink = document.createElement('div');\n",
              "        docLink.innerHTML = docLinkHtml;\n",
              "        element.appendChild(docLink);\n",
              "      }\n",
              "    </script>\n",
              "  </div>\n",
              "\n",
              "\n",
              "<div id=\"df-6b80487a-9a21-4c51-a253-572f32adb042\">\n",
              "  <button class=\"colab-df-quickchart\" onclick=\"quickchart('df-6b80487a-9a21-4c51-a253-572f32adb042')\"\n",
              "            title=\"Suggest charts\"\n",
              "            style=\"display:none;\">\n",
              "\n",
              "<svg xmlns=\"http://www.w3.org/2000/svg\" height=\"24px\"viewBox=\"0 0 24 24\"\n",
              "     width=\"24px\">\n",
              "    <g>\n",
              "        <path d=\"M19 3H5c-1.1 0-2 .9-2 2v14c0 1.1.9 2 2 2h14c1.1 0 2-.9 2-2V5c0-1.1-.9-2-2-2zM9 17H7v-7h2v7zm4 0h-2V7h2v10zm4 0h-2v-4h2v4z\"/>\n",
              "    </g>\n",
              "</svg>\n",
              "  </button>\n",
              "\n",
              "<style>\n",
              "  .colab-df-quickchart {\n",
              "      --bg-color: #E8F0FE;\n",
              "      --fill-color: #1967D2;\n",
              "      --hover-bg-color: #E2EBFA;\n",
              "      --hover-fill-color: #174EA6;\n",
              "      --disabled-fill-color: #AAA;\n",
              "      --disabled-bg-color: #DDD;\n",
              "  }\n",
              "\n",
              "  [theme=dark] .colab-df-quickchart {\n",
              "      --bg-color: #3B4455;\n",
              "      --fill-color: #D2E3FC;\n",
              "      --hover-bg-color: #434B5C;\n",
              "      --hover-fill-color: #FFFFFF;\n",
              "      --disabled-bg-color: #3B4455;\n",
              "      --disabled-fill-color: #666;\n",
              "  }\n",
              "\n",
              "  .colab-df-quickchart {\n",
              "    background-color: var(--bg-color);\n",
              "    border: none;\n",
              "    border-radius: 50%;\n",
              "    cursor: pointer;\n",
              "    display: none;\n",
              "    fill: var(--fill-color);\n",
              "    height: 32px;\n",
              "    padding: 0;\n",
              "    width: 32px;\n",
              "  }\n",
              "\n",
              "  .colab-df-quickchart:hover {\n",
              "    background-color: var(--hover-bg-color);\n",
              "    box-shadow: 0 1px 2px rgba(60, 64, 67, 0.3), 0 1px 3px 1px rgba(60, 64, 67, 0.15);\n",
              "    fill: var(--button-hover-fill-color);\n",
              "  }\n",
              "\n",
              "  .colab-df-quickchart-complete:disabled,\n",
              "  .colab-df-quickchart-complete:disabled:hover {\n",
              "    background-color: var(--disabled-bg-color);\n",
              "    fill: var(--disabled-fill-color);\n",
              "    box-shadow: none;\n",
              "  }\n",
              "\n",
              "  .colab-df-spinner {\n",
              "    border: 2px solid var(--fill-color);\n",
              "    border-color: transparent;\n",
              "    border-bottom-color: var(--fill-color);\n",
              "    animation:\n",
              "      spin 1s steps(1) infinite;\n",
              "  }\n",
              "\n",
              "  @keyframes spin {\n",
              "    0% {\n",
              "      border-color: transparent;\n",
              "      border-bottom-color: var(--fill-color);\n",
              "      border-left-color: var(--fill-color);\n",
              "    }\n",
              "    20% {\n",
              "      border-color: transparent;\n",
              "      border-left-color: var(--fill-color);\n",
              "      border-top-color: var(--fill-color);\n",
              "    }\n",
              "    30% {\n",
              "      border-color: transparent;\n",
              "      border-left-color: var(--fill-color);\n",
              "      border-top-color: var(--fill-color);\n",
              "      border-right-color: var(--fill-color);\n",
              "    }\n",
              "    40% {\n",
              "      border-color: transparent;\n",
              "      border-right-color: var(--fill-color);\n",
              "      border-top-color: var(--fill-color);\n",
              "    }\n",
              "    60% {\n",
              "      border-color: transparent;\n",
              "      border-right-color: var(--fill-color);\n",
              "    }\n",
              "    80% {\n",
              "      border-color: transparent;\n",
              "      border-right-color: var(--fill-color);\n",
              "      border-bottom-color: var(--fill-color);\n",
              "    }\n",
              "    90% {\n",
              "      border-color: transparent;\n",
              "      border-bottom-color: var(--fill-color);\n",
              "    }\n",
              "  }\n",
              "</style>\n",
              "\n",
              "  <script>\n",
              "    async function quickchart(key) {\n",
              "      const quickchartButtonEl =\n",
              "        document.querySelector('#' + key + ' button');\n",
              "      quickchartButtonEl.disabled = true;  // To prevent multiple clicks.\n",
              "      quickchartButtonEl.classList.add('colab-df-spinner');\n",
              "      try {\n",
              "        const charts = await google.colab.kernel.invokeFunction(\n",
              "            'suggestCharts', [key], {});\n",
              "      } catch (error) {\n",
              "        console.error('Error during call to suggestCharts:', error);\n",
              "      }\n",
              "      quickchartButtonEl.classList.remove('colab-df-spinner');\n",
              "      quickchartButtonEl.classList.add('colab-df-quickchart-complete');\n",
              "    }\n",
              "    (() => {\n",
              "      let quickchartButtonEl =\n",
              "        document.querySelector('#df-6b80487a-9a21-4c51-a253-572f32adb042 button');\n",
              "      quickchartButtonEl.style.display =\n",
              "        google.colab.kernel.accessAllowed ? 'block' : 'none';\n",
              "    })();\n",
              "  </script>\n",
              "</div>\n",
              "\n",
              "    </div>\n",
              "  </div>\n"
            ],
            "application/vnd.google.colaboratory.intrinsic+json": {
              "type": "dataframe",
              "summary": "{\n  \"name\": \"data[(data['Marital_status']=='Married')& (data['Gender']=='Male')]\",\n  \"rows\": 3,\n  \"fields\": [\n    {\n      \"column\": \"Make\",\n      \"properties\": {\n        \"dtype\": \"string\",\n        \"num_unique_values\": 3,\n        \"samples\": [\n          \"Hatchback\",\n          \"SUV\",\n          \"Sedan\"\n        ],\n        \"semantic_type\": \"\",\n        \"description\": \"\"\n      }\n    },\n    {\n      \"column\": \"count\",\n      \"properties\": {\n        \"dtype\": \"number\",\n        \"std\": 229.8746034979361,\n        \"min\": 115.0,\n        \"max\": 537.0,\n        \"num_unique_values\": 3,\n        \"samples\": [\n          484.0,\n          115.0,\n          537.0\n        ],\n        \"semantic_type\": \"\",\n        \"description\": \"\"\n      }\n    },\n    {\n      \"column\": \"mean\",\n      \"properties\": {\n        \"dtype\": \"number\",\n        \"std\": 17447.251883354493,\n        \"min\": 26623.96694214876,\n        \"max\": 59217.391304347824,\n        \"num_unique_values\": 3,\n        \"samples\": [\n          26623.96694214876,\n          59217.391304347824,\n          32128.49162011173\n        ],\n        \"semantic_type\": \"\",\n        \"description\": \"\"\n      }\n    },\n    {\n      \"column\": \"std\",\n      \"properties\": {\n        \"dtype\": \"number\",\n        \"std\": 3481.76321078493,\n        \"min\": 4327.092651497066,\n        \"max\": 10971.820594634413,\n        \"num_unique_values\": 3,\n        \"samples\": [\n          4327.092651497066,\n          5845.65006769639,\n          10971.820594634413\n        ],\n        \"semantic_type\": \"\",\n        \"description\": \"\"\n      }\n    },\n    {\n      \"column\": \"min\",\n      \"properties\": {\n        \"dtype\": \"number\",\n        \"std\": 17616.280348965083,\n        \"min\": 18000.0,\n        \"max\": 49000.0,\n        \"num_unique_values\": 3,\n        \"samples\": [\n          19000.0,\n          49000.0,\n          18000.0\n        ],\n        \"semantic_type\": \"\",\n        \"description\": \"\"\n      }\n    },\n    {\n      \"column\": \"25%\",\n      \"properties\": {\n        \"dtype\": \"number\",\n        \"std\": 18475.208614068026,\n        \"min\": 23000.0,\n        \"max\": 55000.0,\n        \"num_unique_values\": 2,\n        \"samples\": [\n          55000.0,\n          23000.0\n        ],\n        \"semantic_type\": \"\",\n        \"description\": \"\"\n      }\n    },\n    {\n      \"column\": \"50%\",\n      \"properties\": {\n        \"dtype\": \"number\",\n        \"std\": 17616.280348965083,\n        \"min\": 28000.0,\n        \"max\": 59000.0,\n        \"num_unique_values\": 3,\n        \"samples\": [\n          28000.0,\n          59000.0\n        ],\n        \"semantic_type\": \"\",\n        \"description\": \"\"\n      }\n    },\n    {\n      \"column\": \"75%\",\n      \"properties\": {\n        \"dtype\": \"number\",\n        \"std\": 17349.35157289747,\n        \"min\": 30000.0,\n        \"max\": 64000.0,\n        \"num_unique_values\": 3,\n        \"samples\": [\n          30000.0,\n          64000.0\n        ],\n        \"semantic_type\": \"\",\n        \"description\": \"\"\n      }\n    },\n    {\n      \"column\": \"max\",\n      \"properties\": {\n        \"dtype\": \"number\",\n        \"std\": 18610.033136277143,\n        \"min\": 33000.0,\n        \"max\": 70000.0,\n        \"num_unique_values\": 3,\n        \"samples\": [\n          33000.0,\n          70000.0\n        ],\n        \"semantic_type\": \"\",\n        \"description\": \"\"\n      }\n    }\n  ]\n}"
            }
          },
          "metadata": {},
          "execution_count": 84
        }
      ]
    },
    {
      "cell_type": "code",
      "source": [
        "data[(data['Marital_status']=='Single')& (data['Gender']=='Male')].groupby(['Make'])['Price'].describe()"
      ],
      "metadata": {
        "colab": {
          "base_uri": "https://localhost:8080/",
          "height": 173
        },
        "id": "WP_n879ZEWuJ",
        "outputId": "2c4a5f6c-45c6-47a5-8628-7a34420b3c19"
      },
      "id": "WP_n879ZEWuJ",
      "execution_count": 83,
      "outputs": [
        {
          "output_type": "execute_result",
          "data": {
            "text/plain": [
              "           count      mean      std       min       25%       50%       75%  \\\n",
              "Make                                                                          \n",
              "Hatchback 83.000 25421.687 3954.375 18000.000 23000.000 25000.000 28000.000   \n",
              "SUV        9.000 57555.556 7333.333 49000.000 51000.000 59000.000 62000.000   \n",
              "Sedan     24.000 42000.000 7494.926 31000.000 34750.000 42500.000 47000.000   \n",
              "\n",
              "                max  \n",
              "Make                 \n",
              "Hatchback 33000.000  \n",
              "SUV       68000.000  \n",
              "Sedan     55000.000  "
            ],
            "text/html": [
              "\n",
              "  <div id=\"df-84cf13a5-b118-44a1-a2d3-440b0b03bf9d\" class=\"colab-df-container\">\n",
              "    <div>\n",
              "<style scoped>\n",
              "    .dataframe tbody tr th:only-of-type {\n",
              "        vertical-align: middle;\n",
              "    }\n",
              "\n",
              "    .dataframe tbody tr th {\n",
              "        vertical-align: top;\n",
              "    }\n",
              "\n",
              "    .dataframe thead th {\n",
              "        text-align: right;\n",
              "    }\n",
              "</style>\n",
              "<table border=\"1\" class=\"dataframe\">\n",
              "  <thead>\n",
              "    <tr style=\"text-align: right;\">\n",
              "      <th></th>\n",
              "      <th>count</th>\n",
              "      <th>mean</th>\n",
              "      <th>std</th>\n",
              "      <th>min</th>\n",
              "      <th>25%</th>\n",
              "      <th>50%</th>\n",
              "      <th>75%</th>\n",
              "      <th>max</th>\n",
              "    </tr>\n",
              "    <tr>\n",
              "      <th>Make</th>\n",
              "      <th></th>\n",
              "      <th></th>\n",
              "      <th></th>\n",
              "      <th></th>\n",
              "      <th></th>\n",
              "      <th></th>\n",
              "      <th></th>\n",
              "      <th></th>\n",
              "    </tr>\n",
              "  </thead>\n",
              "  <tbody>\n",
              "    <tr>\n",
              "      <th>Hatchback</th>\n",
              "      <td>83.000</td>\n",
              "      <td>25421.687</td>\n",
              "      <td>3954.375</td>\n",
              "      <td>18000.000</td>\n",
              "      <td>23000.000</td>\n",
              "      <td>25000.000</td>\n",
              "      <td>28000.000</td>\n",
              "      <td>33000.000</td>\n",
              "    </tr>\n",
              "    <tr>\n",
              "      <th>SUV</th>\n",
              "      <td>9.000</td>\n",
              "      <td>57555.556</td>\n",
              "      <td>7333.333</td>\n",
              "      <td>49000.000</td>\n",
              "      <td>51000.000</td>\n",
              "      <td>59000.000</td>\n",
              "      <td>62000.000</td>\n",
              "      <td>68000.000</td>\n",
              "    </tr>\n",
              "    <tr>\n",
              "      <th>Sedan</th>\n",
              "      <td>24.000</td>\n",
              "      <td>42000.000</td>\n",
              "      <td>7494.926</td>\n",
              "      <td>31000.000</td>\n",
              "      <td>34750.000</td>\n",
              "      <td>42500.000</td>\n",
              "      <td>47000.000</td>\n",
              "      <td>55000.000</td>\n",
              "    </tr>\n",
              "  </tbody>\n",
              "</table>\n",
              "</div>\n",
              "    <div class=\"colab-df-buttons\">\n",
              "\n",
              "  <div class=\"colab-df-container\">\n",
              "    <button class=\"colab-df-convert\" onclick=\"convertToInteractive('df-84cf13a5-b118-44a1-a2d3-440b0b03bf9d')\"\n",
              "            title=\"Convert this dataframe to an interactive table.\"\n",
              "            style=\"display:none;\">\n",
              "\n",
              "  <svg xmlns=\"http://www.w3.org/2000/svg\" height=\"24px\" viewBox=\"0 -960 960 960\">\n",
              "    <path d=\"M120-120v-720h720v720H120Zm60-500h600v-160H180v160Zm220 220h160v-160H400v160Zm0 220h160v-160H400v160ZM180-400h160v-160H180v160Zm440 0h160v-160H620v160ZM180-180h160v-160H180v160Zm440 0h160v-160H620v160Z\"/>\n",
              "  </svg>\n",
              "    </button>\n",
              "\n",
              "  <style>\n",
              "    .colab-df-container {\n",
              "      display:flex;\n",
              "      gap: 12px;\n",
              "    }\n",
              "\n",
              "    .colab-df-convert {\n",
              "      background-color: #E8F0FE;\n",
              "      border: none;\n",
              "      border-radius: 50%;\n",
              "      cursor: pointer;\n",
              "      display: none;\n",
              "      fill: #1967D2;\n",
              "      height: 32px;\n",
              "      padding: 0 0 0 0;\n",
              "      width: 32px;\n",
              "    }\n",
              "\n",
              "    .colab-df-convert:hover {\n",
              "      background-color: #E2EBFA;\n",
              "      box-shadow: 0px 1px 2px rgba(60, 64, 67, 0.3), 0px 1px 3px 1px rgba(60, 64, 67, 0.15);\n",
              "      fill: #174EA6;\n",
              "    }\n",
              "\n",
              "    .colab-df-buttons div {\n",
              "      margin-bottom: 4px;\n",
              "    }\n",
              "\n",
              "    [theme=dark] .colab-df-convert {\n",
              "      background-color: #3B4455;\n",
              "      fill: #D2E3FC;\n",
              "    }\n",
              "\n",
              "    [theme=dark] .colab-df-convert:hover {\n",
              "      background-color: #434B5C;\n",
              "      box-shadow: 0px 1px 3px 1px rgba(0, 0, 0, 0.15);\n",
              "      filter: drop-shadow(0px 1px 2px rgba(0, 0, 0, 0.3));\n",
              "      fill: #FFFFFF;\n",
              "    }\n",
              "  </style>\n",
              "\n",
              "    <script>\n",
              "      const buttonEl =\n",
              "        document.querySelector('#df-84cf13a5-b118-44a1-a2d3-440b0b03bf9d button.colab-df-convert');\n",
              "      buttonEl.style.display =\n",
              "        google.colab.kernel.accessAllowed ? 'block' : 'none';\n",
              "\n",
              "      async function convertToInteractive(key) {\n",
              "        const element = document.querySelector('#df-84cf13a5-b118-44a1-a2d3-440b0b03bf9d');\n",
              "        const dataTable =\n",
              "          await google.colab.kernel.invokeFunction('convertToInteractive',\n",
              "                                                    [key], {});\n",
              "        if (!dataTable) return;\n",
              "\n",
              "        const docLinkHtml = 'Like what you see? Visit the ' +\n",
              "          '<a target=\"_blank\" href=https://colab.research.google.com/notebooks/data_table.ipynb>data table notebook</a>'\n",
              "          + ' to learn more about interactive tables.';\n",
              "        element.innerHTML = '';\n",
              "        dataTable['output_type'] = 'display_data';\n",
              "        await google.colab.output.renderOutput(dataTable, element);\n",
              "        const docLink = document.createElement('div');\n",
              "        docLink.innerHTML = docLinkHtml;\n",
              "        element.appendChild(docLink);\n",
              "      }\n",
              "    </script>\n",
              "  </div>\n",
              "\n",
              "\n",
              "<div id=\"df-8433e007-63c8-4f70-808c-b6841299a250\">\n",
              "  <button class=\"colab-df-quickchart\" onclick=\"quickchart('df-8433e007-63c8-4f70-808c-b6841299a250')\"\n",
              "            title=\"Suggest charts\"\n",
              "            style=\"display:none;\">\n",
              "\n",
              "<svg xmlns=\"http://www.w3.org/2000/svg\" height=\"24px\"viewBox=\"0 0 24 24\"\n",
              "     width=\"24px\">\n",
              "    <g>\n",
              "        <path d=\"M19 3H5c-1.1 0-2 .9-2 2v14c0 1.1.9 2 2 2h14c1.1 0 2-.9 2-2V5c0-1.1-.9-2-2-2zM9 17H7v-7h2v7zm4 0h-2V7h2v10zm4 0h-2v-4h2v4z\"/>\n",
              "    </g>\n",
              "</svg>\n",
              "  </button>\n",
              "\n",
              "<style>\n",
              "  .colab-df-quickchart {\n",
              "      --bg-color: #E8F0FE;\n",
              "      --fill-color: #1967D2;\n",
              "      --hover-bg-color: #E2EBFA;\n",
              "      --hover-fill-color: #174EA6;\n",
              "      --disabled-fill-color: #AAA;\n",
              "      --disabled-bg-color: #DDD;\n",
              "  }\n",
              "\n",
              "  [theme=dark] .colab-df-quickchart {\n",
              "      --bg-color: #3B4455;\n",
              "      --fill-color: #D2E3FC;\n",
              "      --hover-bg-color: #434B5C;\n",
              "      --hover-fill-color: #FFFFFF;\n",
              "      --disabled-bg-color: #3B4455;\n",
              "      --disabled-fill-color: #666;\n",
              "  }\n",
              "\n",
              "  .colab-df-quickchart {\n",
              "    background-color: var(--bg-color);\n",
              "    border: none;\n",
              "    border-radius: 50%;\n",
              "    cursor: pointer;\n",
              "    display: none;\n",
              "    fill: var(--fill-color);\n",
              "    height: 32px;\n",
              "    padding: 0;\n",
              "    width: 32px;\n",
              "  }\n",
              "\n",
              "  .colab-df-quickchart:hover {\n",
              "    background-color: var(--hover-bg-color);\n",
              "    box-shadow: 0 1px 2px rgba(60, 64, 67, 0.3), 0 1px 3px 1px rgba(60, 64, 67, 0.15);\n",
              "    fill: var(--button-hover-fill-color);\n",
              "  }\n",
              "\n",
              "  .colab-df-quickchart-complete:disabled,\n",
              "  .colab-df-quickchart-complete:disabled:hover {\n",
              "    background-color: var(--disabled-bg-color);\n",
              "    fill: var(--disabled-fill-color);\n",
              "    box-shadow: none;\n",
              "  }\n",
              "\n",
              "  .colab-df-spinner {\n",
              "    border: 2px solid var(--fill-color);\n",
              "    border-color: transparent;\n",
              "    border-bottom-color: var(--fill-color);\n",
              "    animation:\n",
              "      spin 1s steps(1) infinite;\n",
              "  }\n",
              "\n",
              "  @keyframes spin {\n",
              "    0% {\n",
              "      border-color: transparent;\n",
              "      border-bottom-color: var(--fill-color);\n",
              "      border-left-color: var(--fill-color);\n",
              "    }\n",
              "    20% {\n",
              "      border-color: transparent;\n",
              "      border-left-color: var(--fill-color);\n",
              "      border-top-color: var(--fill-color);\n",
              "    }\n",
              "    30% {\n",
              "      border-color: transparent;\n",
              "      border-left-color: var(--fill-color);\n",
              "      border-top-color: var(--fill-color);\n",
              "      border-right-color: var(--fill-color);\n",
              "    }\n",
              "    40% {\n",
              "      border-color: transparent;\n",
              "      border-right-color: var(--fill-color);\n",
              "      border-top-color: var(--fill-color);\n",
              "    }\n",
              "    60% {\n",
              "      border-color: transparent;\n",
              "      border-right-color: var(--fill-color);\n",
              "    }\n",
              "    80% {\n",
              "      border-color: transparent;\n",
              "      border-right-color: var(--fill-color);\n",
              "      border-bottom-color: var(--fill-color);\n",
              "    }\n",
              "    90% {\n",
              "      border-color: transparent;\n",
              "      border-bottom-color: var(--fill-color);\n",
              "    }\n",
              "  }\n",
              "</style>\n",
              "\n",
              "  <script>\n",
              "    async function quickchart(key) {\n",
              "      const quickchartButtonEl =\n",
              "        document.querySelector('#' + key + ' button');\n",
              "      quickchartButtonEl.disabled = true;  // To prevent multiple clicks.\n",
              "      quickchartButtonEl.classList.add('colab-df-spinner');\n",
              "      try {\n",
              "        const charts = await google.colab.kernel.invokeFunction(\n",
              "            'suggestCharts', [key], {});\n",
              "      } catch (error) {\n",
              "        console.error('Error during call to suggestCharts:', error);\n",
              "      }\n",
              "      quickchartButtonEl.classList.remove('colab-df-spinner');\n",
              "      quickchartButtonEl.classList.add('colab-df-quickchart-complete');\n",
              "    }\n",
              "    (() => {\n",
              "      let quickchartButtonEl =\n",
              "        document.querySelector('#df-8433e007-63c8-4f70-808c-b6841299a250 button');\n",
              "      quickchartButtonEl.style.display =\n",
              "        google.colab.kernel.accessAllowed ? 'block' : 'none';\n",
              "    })();\n",
              "  </script>\n",
              "</div>\n",
              "\n",
              "    </div>\n",
              "  </div>\n"
            ],
            "application/vnd.google.colaboratory.intrinsic+json": {
              "type": "dataframe",
              "summary": "{\n  \"name\": \"data[(data['Marital_status']=='Single')& (data['Gender']=='Male')]\",\n  \"rows\": 3,\n  \"fields\": [\n    {\n      \"column\": \"Make\",\n      \"properties\": {\n        \"dtype\": \"string\",\n        \"num_unique_values\": 3,\n        \"samples\": [\n          \"Hatchback\",\n          \"SUV\",\n          \"Sedan\"\n        ],\n        \"semantic_type\": \"\",\n        \"description\": \"\"\n      }\n    },\n    {\n      \"column\": \"count\",\n      \"properties\": {\n        \"dtype\": \"number\",\n        \"std\": 39.11947511576981,\n        \"min\": 9.0,\n        \"max\": 83.0,\n        \"num_unique_values\": 3,\n        \"samples\": [\n          83.0,\n          9.0,\n          24.0\n        ],\n        \"semantic_type\": \"\",\n        \"description\": \"\"\n      }\n    },\n    {\n      \"column\": \"mean\",\n      \"properties\": {\n        \"dtype\": \"number\",\n        \"std\": 16069.64687209608,\n        \"min\": 25421.68674698795,\n        \"max\": 57555.555555555555,\n        \"num_unique_values\": 3,\n        \"samples\": [\n          25421.68674698795,\n          57555.555555555555,\n          42000.0\n        ],\n        \"semantic_type\": \"\",\n        \"description\": \"\"\n      }\n    },\n    {\n      \"column\": \"std\",\n      \"properties\": {\n        \"dtype\": \"number\",\n        \"std\": 1999.1233874721872,\n        \"min\": 3954.3754152920433,\n        \"max\": 7494.925819744866,\n        \"num_unique_values\": 3,\n        \"samples\": [\n          3954.3754152920433,\n          7333.333333333333,\n          7494.925819744866\n        ],\n        \"semantic_type\": \"\",\n        \"description\": \"\"\n      }\n    },\n    {\n      \"column\": \"min\",\n      \"properties\": {\n        \"dtype\": \"number\",\n        \"std\": 15567.05923844749,\n        \"min\": 18000.0,\n        \"max\": 49000.0,\n        \"num_unique_values\": 3,\n        \"samples\": [\n          18000.0,\n          49000.0,\n          31000.0\n        ],\n        \"semantic_type\": \"\",\n        \"description\": \"\"\n      }\n    },\n    {\n      \"column\": \"25%\",\n      \"properties\": {\n        \"dtype\": \"number\",\n        \"std\": 14060.138690638865,\n        \"min\": 23000.0,\n        \"max\": 51000.0,\n        \"num_unique_values\": 3,\n        \"samples\": [\n          23000.0,\n          51000.0,\n          34750.0\n        ],\n        \"semantic_type\": \"\",\n        \"description\": \"\"\n      }\n    },\n    {\n      \"column\": \"50%\",\n      \"properties\": {\n        \"dtype\": \"number\",\n        \"std\": 17002.45080373219,\n        \"min\": 25000.0,\n        \"max\": 59000.0,\n        \"num_unique_values\": 3,\n        \"samples\": [\n          25000.0,\n          59000.0,\n          42500.0\n        ],\n        \"semantic_type\": \"\",\n        \"description\": \"\"\n      }\n    },\n    {\n      \"column\": \"75%\",\n      \"properties\": {\n        \"dtype\": \"number\",\n        \"std\": 17039.170558842743,\n        \"min\": 28000.0,\n        \"max\": 62000.0,\n        \"num_unique_values\": 3,\n        \"samples\": [\n          28000.0,\n          62000.0,\n          47000.0\n        ],\n        \"semantic_type\": \"\",\n        \"description\": \"\"\n      }\n    },\n    {\n      \"column\": \"max\",\n      \"properties\": {\n        \"dtype\": \"number\",\n        \"std\": 17691.806012954134,\n        \"min\": 33000.0,\n        \"max\": 68000.0,\n        \"num_unique_values\": 3,\n        \"samples\": [\n          33000.0,\n          68000.0,\n          55000.0\n        ],\n        \"semantic_type\": \"\",\n        \"description\": \"\"\n      }\n    }\n  ]\n}"
            }
          },
          "metadata": {},
          "execution_count": 83
        }
      ]
    },
    {
      "cell_type": "code",
      "source": [
        "catgplot('Marital_status').show()"
      ],
      "metadata": {
        "colab": {
          "base_uri": "https://localhost:8080/",
          "height": 542
        },
        "id": "cEN67mSW4EZ1",
        "outputId": "2662b125-b25c-4c22-c546-a9f8daea4b07"
      },
      "id": "cEN67mSW4EZ1",
      "execution_count": null,
      "outputs": [
        {
          "output_type": "display_data",
          "data": {
            "text/html": [
              "<html>\n",
              "<head><meta charset=\"utf-8\" /></head>\n",
              "<body>\n",
              "    <div>            <script src=\"https://cdnjs.cloudflare.com/ajax/libs/mathjax/2.7.5/MathJax.js?config=TeX-AMS-MML_SVG\"></script><script type=\"text/javascript\">if (window.MathJax && window.MathJax.Hub && window.MathJax.Hub.Config) {window.MathJax.Hub.Config({SVG: {font: \"STIX-Web\"}});}</script>                <script type=\"text/javascript\">window.PlotlyConfig = {MathJaxConfig: 'local'};</script>\n",
              "        <script charset=\"utf-8\" src=\"https://cdn.plot.ly/plotly-2.24.1.min.js\"></script>                <div id=\"c5a119ef-a63e-48bb-bec8-cd65beca3795\" class=\"plotly-graph-div\" style=\"height:525px; width:100%;\"></div>            <script type=\"text/javascript\">                                    window.PLOTLYENV=window.PLOTLYENV || {};                                    if (document.getElementById(\"c5a119ef-a63e-48bb-bec8-cd65beca3795\")) {                    Plotly.newPlot(                        \"c5a119ef-a63e-48bb-bec8-cd65beca3795\",                        [{\"alignmentgroup\":\"True\",\"hovertemplate\":\"Make=SUV\\u003cbr\\u003eMarital_status=%{x}\\u003cbr\\u003ePrice=%{y}\\u003cextra\\u003e\\u003c\\u002fextra\\u003e\",\"legendgroup\":\"SUV\",\"marker\":{\"color\":\"#636efa\"},\"name\":\"SUV\",\"notched\":false,\"offsetgroup\":\"SUV\",\"orientation\":\"v\",\"showlegend\":true,\"x\":[\"Married\",\"Married\",\"Married\",\"Married\",\"Married\",\"Married\",\"Married\",\"Married\",\"Married\",\"Married\",\"Married\",\"Married\",\"Married\",\"Married\",\"Married\",\"Single\",\"Married\",\"Married\",\"Married\",\"Married\",\"Married\",\"Married\",\"Married\",\"Married\",\"Married\",\"Married\",\"Married\",\"Single\",\"Married\",\"Married\",\"Married\",\"Married\",\"Married\",\"Married\",\"Married\",\"Single\",\"Married\",\"Married\",\"Married\",\"Married\",\"Married\",\"Married\",\"Married\",\"Married\",\"Married\",\"Married\",\"Married\",\"Married\",\"Married\",\"Married\",\"Married\",\"Married\",\"Married\",\"Married\",\"Married\",\"Married\",\"Married\",\"Married\",\"Married\",\"Married\",\"Married\",\"Married\",\"Married\",\"Married\",\"Married\",\"Married\",\"Married\",\"Married\",\"Married\",\"Married\",\"Married\",\"Married\",\"Married\",\"Married\",\"Married\",\"Married\",\"Married\",\"Married\",\"Married\",\"Married\",\"Single\",\"Married\",\"Married\",\"Married\",\"Married\",\"Married\",\"Married\",\"Married\",\"Married\",\"Married\",\"Married\",\"Married\",\"Married\",\"Single\",\"Married\",\"Married\",\"Married\",\"Married\",\"Married\",\"Married\",\"Married\",\"Married\",\"Married\",\"Married\",\"Married\",\"Married\",\"Married\",\"Married\",\"Married\",\"Married\",\"Single\",\"Married\",\"Married\",\"Married\",\"Married\",\"Married\",\"Married\",\"Married\",\"Married\",\"Married\",\"Married\",\"Married\",\"Married\",\"Married\",\"Married\",\"Single\",\"Married\",\"Married\",\"Single\",\"Married\",\"Married\",\"Married\",\"Married\",\"Married\",\"Married\",\"Married\",\"Married\",\"Married\",\"Single\",\"Married\",\"Married\",\"Married\",\"Married\",\"Married\",\"Married\",\"Married\",\"Married\",\"Married\",\"Married\",\"Married\",\"Married\",\"Married\",\"Married\",\"Married\",\"Married\",\"Married\",\"Married\",\"Married\",\"Married\",\"Married\",\"Married\",\"Married\",\"Single\",\"Married\",\"Single\",\"Married\",\"Married\",\"Married\",\"Single\",\"Married\",\"Married\",\"Married\",\"Married\",\"Married\",\"Married\",\"Married\",\"Married\",\"Married\",\"Married\",\"Married\",\"Married\",\"Married\",\"Married\",\"Married\",\"Married\",\"Married\",\"Married\",\"Married\",\"Single\",\"Married\",\"Married\",\"Married\",\"Married\",\"Married\",\"Married\",\"Married\",\"Married\",\"Married\",\"Single\",\"Married\",\"Married\",\"Married\",\"Married\",\"Married\",\"Married\",\"Married\",\"Married\",\"Married\",\"Married\",\"Married\",\"Married\",\"Married\",\"Married\",\"Married\",\"Married\",\"Married\",\"Married\",\"Married\",\"Married\",\"Married\",\"Married\",\"Married\",\"Married\",\"Married\",\"Married\",\"Married\",\"Married\",\"Married\",\"Married\",\"Married\",\"Married\",\"Married\",\"Married\",\"Married\",\"Married\",\"Married\",\"Married\",\"Married\",\"Married\",\"Married\",\"Married\",\"Married\",\"Married\",\"Married\",\"Married\",\"Married\",\"Married\",\"Married\",\"Married\",\"Married\",\"Married\",\"Married\",\"Married\",\"Married\",\"Single\",\"Married\",\"Married\",\"Married\",\"Married\",\"Single\",\"Married\",\"Married\",\"Married\",\"Married\",\"Married\",\"Married\",\"Married\",\"Married\",\"Married\",\"Married\",\"Married\",\"Married\",\"Married\",\"Married\",\"Married\",\"Married\",\"Married\",\"Married\",\"Married\",\"Married\",\"Married\",\"Married\",\"Married\",\"Married\",\"Married\",\"Married\",\"Married\",\"Married\",\"Married\",\"Married\",\"Married\",\"Married\",\"Married\",\"Married\",\"Married\",\"Married\",\"Married\"],\"x0\":\" \",\"xaxis\":\"x\",\"y\":[61000,61000,57000,61000,57000,57000,51000,68000,61000,57000,67000,63000,62000,50000,66000,52000,60000,64000,58000,54000,53000,62000,55000,59000,50000,50000,68000,60000,56000,61000,67000,66000,56000,61000,52000,59000,61000,54000,64000,53000,60000,66000,55000,51000,50000,59000,61000,62000,63000,69000,57000,52000,50000,57000,50000,68000,69000,57000,54000,51000,54000,64000,58000,59000,53000,55000,62000,49000,55000,66000,56000,61000,58000,60000,62000,68000,60000,51000,55000,53000,62000,64000,54000,52000,57000,58000,53000,55000,55000,60000,51000,57000,67000,51000,51000,63000,66000,64000,66000,56000,53000,61000,70000,67000,69000,53000,64000,68000,65000,58000,67000,62000,53000,59000,65000,59000,69000,58000,52000,68000,69000,62000,61000,63000,57000,49000,58000,69000,50000,51000,56000,58000,66000,51000,52000,50000,58000,57000,49000,50000,49000,57000,64000,37000,61000,37000,52000,40000,62000,52000,36000,51000,65000,61000,59000,67000,59000,41000,49000,60000,51000,53000,68000,57000,50000,45000,49000,65000,54000,64000,45000,58000,69000,39000,57000,62000,69000,50000,65000,39000,32000,32000,45000,31000,36000,61000,59000,45000,63000,57000,49000,59000,61000,61000,67000,51000,64000,45000,66000,36000,57000,61000,65000,57000,49000,32000,63000,64000,62000,51000,64000,68000,63000,60000,49000,39000,55000,58000,51000,49000,37000,68000,45000,67000,36000,65000,55000,57000,63000,64000,57000,39000,57000,56000,55000,45000,60000,63000,51000,39000,63000,36000,48000,66000,50000,69000,68000,58000,51000,56000,65000,69000,61000,57000,55000,49000,52000,36000,58000,66000,64000,54000,70000,62000,63000,66000,66000,68000,63000,59000,31000,40000,51000,69000,57000,58000,45000,45000,51000,50000,51000,39000,40000,49000,45000,32000,51000,48000,31000,51000,49000,36000,52000,32000,51000,31000,31000],\"y0\":\" \",\"yaxis\":\"y\",\"type\":\"box\"},{\"alignmentgroup\":\"True\",\"hovertemplate\":\"Make=Sedan\\u003cbr\\u003eMarital_status=%{x}\\u003cbr\\u003ePrice=%{y}\\u003cextra\\u003e\\u003c\\u002fextra\\u003e\",\"legendgroup\":\"Sedan\",\"marker\":{\"color\":\"#EF553B\"},\"name\":\"Sedan\",\"notched\":false,\"offsetgroup\":\"Sedan\",\"orientation\":\"v\",\"showlegend\":true,\"x\":[\"Married\",\"Married\",\"Married\",\"Married\",\"Married\",\"Married\",\"Married\",\"Married\",\"Married\",\"Married\",\"Single\",\"Married\",\"Married\",\"Single\",\"Married\",\"Married\",\"Married\",\"Married\",\"Married\",\"Married\",\"Married\",\"Married\",\"Married\",\"Married\",\"Married\",\"Married\",\"Married\",\"Married\",\"Single\",\"Married\",\"Married\",\"Single\",\"Married\",\"Married\",\"Married\",\"Single\",\"Single\",\"Single\",\"Married\",\"Married\",\"Married\",\"Married\",\"Married\",\"Married\",\"Married\",\"Married\",\"Married\",\"Married\",\"Married\",\"Married\",\"Married\",\"Married\",\"Married\",\"Married\",\"Married\",\"Married\",\"Single\",\"Married\",\"Single\",\"Single\",\"Married\",\"Married\",\"Married\",\"Married\",\"Single\",\"Married\",\"Married\",\"Married\",\"Married\",\"Married\",\"Married\",\"Married\",\"Married\",\"Married\",\"Married\",\"Married\",\"Single\",\"Married\",\"Single\",\"Single\",\"Single\",\"Single\",\"Married\",\"Married\",\"Married\",\"Married\",\"Married\",\"Married\",\"Married\",\"Married\",\"Married\",\"Married\",\"Married\",\"Married\",\"Single\",\"Married\",\"Married\",\"Married\",\"Married\",\"Married\",\"Married\",\"Married\",\"Single\",\"Married\",\"Married\",\"Married\",\"Married\",\"Married\",\"Married\",\"Married\",\"Married\",\"Married\",\"Married\",\"Married\",\"Married\",\"Married\",\"Married\",\"Married\",\"Married\",\"Married\",\"Married\",\"Married\",\"Married\",\"Married\",\"Married\",\"Married\",\"Married\",\"Married\",\"Married\",\"Married\",\"Married\",\"Married\",\"Married\",\"Married\",\"Married\",\"Married\",\"Married\",\"Single\",\"Married\",\"Single\",\"Married\",\"Married\",\"Married\",\"Married\",\"Married\",\"Married\",\"Married\",\"Married\",\"Married\",\"Married\",\"Married\",\"Married\",\"Married\",\"Married\",\"Married\",\"Married\",\"Married\",\"Married\",\"Married\",\"Married\",\"Single\",\"Married\",\"Married\",\"Married\",\"Married\",\"Married\",\"Married\",\"Married\",\"Single\",\"Married\",\"Married\",\"Married\",\"Married\",\"Married\",\"Married\",\"Married\",\"Married\",\"Married\",\"Married\",\"Married\",\"Married\",\"Married\",\"Married\",\"Married\",\"Married\",\"Married\",\"Married\",\"Married\",\"Single\",\"Married\",\"Married\",\"Married\",\"Married\",\"Married\",\"Married\",\"Married\",\"Married\",\"Married\",\"Married\",\"Married\",\"Married\",\"Married\",\"Married\",\"Single\",\"Married\",\"Single\",\"Single\",\"Married\",\"Married\",\"Married\",\"Married\",\"Married\",\"Married\",\"Married\",\"Married\",\"Married\",\"Married\",\"Married\",\"Married\",\"Married\",\"Married\",\"Married\",\"Married\",\"Married\",\"Married\",\"Married\",\"Married\",\"Married\",\"Married\",\"Married\",\"Married\",\"Married\",\"Married\",\"Married\",\"Married\",\"Married\",\"Married\",\"Married\",\"Married\",\"Married\",\"Married\",\"Married\",\"Married\",\"Married\",\"Married\",\"Married\",\"Married\",\"Married\",\"Married\",\"Married\",\"Single\",\"Married\",\"Married\",\"Married\",\"Married\",\"Married\",\"Married\",\"Married\",\"Married\",\"Married\",\"Married\",\"Married\",\"Married\",\"Married\",\"Married\",\"Married\",\"Married\",\"Married\",\"Married\",\"Married\",\"Married\",\"Married\",\"Married\",\"Married\",\"Single\",\"Married\",\"Married\",\"Married\",\"Married\",\"Married\",\"Married\",\"Married\",\"Married\",\"Single\",\"Married\",\"Married\",\"Married\",\"Married\",\"Married\",\"Married\",\"Married\",\"Married\",\"Married\",\"Married\",\"Married\",\"Married\",\"Married\",\"Married\",\"Married\",\"Married\",\"Married\",\"Married\",\"Married\",\"Married\",\"Married\",\"Married\",\"Single\",\"Married\",\"Married\",\"Single\",\"Married\",\"Married\",\"Married\",\"Married\",\"Married\",\"Married\",\"Married\",\"Married\",\"Married\",\"Married\",\"Married\",\"Married\",\"Married\",\"Married\",\"Married\",\"Married\",\"Married\",\"Married\",\"Married\",\"Married\",\"Married\",\"Married\",\"Married\",\"Married\",\"Married\",\"Married\",\"Married\",\"Married\",\"Married\",\"Married\",\"Married\",\"Married\",\"Married\",\"Married\",\"Married\",\"Married\",\"Married\",\"Married\",\"Married\",\"Married\",\"Married\",\"Married\",\"Married\",\"Married\",\"Married\",\"Married\",\"Married\",\"Married\",\"Married\",\"Married\",\"Married\",\"Married\",\"Married\",\"Married\",\"Married\",\"Married\",\"Married\",\"Married\",\"Married\",\"Married\",\"Married\",\"Married\",\"Married\",\"Married\",\"Married\",\"Married\",\"Married\",\"Married\",\"Married\",\"Single\",\"Married\",\"Married\",\"Married\",\"Married\",\"Married\",\"Married\",\"Married\",\"Married\",\"Married\",\"Married\",\"Married\",\"Married\",\"Married\",\"Married\",\"Married\",\"Married\",\"Married\",\"Married\",\"Married\",\"Married\",\"Married\",\"Married\",\"Married\",\"Married\",\"Married\",\"Married\",\"Married\",\"Married\",\"Married\",\"Married\",\"Married\",\"Married\",\"Married\",\"Married\",\"Married\",\"Married\",\"Married\",\"Married\",\"Married\",\"Married\",\"Married\",\"Married\",\"Married\",\"Married\",\"Married\",\"Married\",\"Married\",\"Married\",\"Married\",\"Married\",\"Married\",\"Married\",\"Married\",\"Married\",\"Married\",\"Married\",\"Married\",\"Married\",\"Married\",\"Single\",\"Married\",\"Married\",\"Married\",\"Married\",\"Single\",\"Married\",\"Married\",\"Married\",\"Married\",\"Married\",\"Married\",\"Married\",\"Single\",\"Married\",\"Married\",\"Married\",\"Married\",\"Married\",\"Married\",\"Married\",\"Married\",\"Married\",\"Married\",\"Married\",\"Married\",\"Married\",\"Married\",\"Married\",\"Married\",\"Married\",\"Married\",\"Married\",\"Married\",\"Married\",\"Married\",\"Married\",\"Married\",\"Married\",\"Married\",\"Married\",\"Married\",\"Married\",\"Married\",\"Married\",\"Married\",\"Married\",\"Married\",\"Married\",\"Married\",\"Married\",\"Married\",\"Married\",\"Married\",\"Married\",\"Married\",\"Married\",\"Married\",\"Married\",\"Married\",\"Married\",\"Married\",\"Single\",\"Married\",\"Married\",\"Single\",\"Single\",\"Married\",\"Married\",\"Married\",\"Married\",\"Married\",\"Married\",\"Married\",\"Married\",\"Married\",\"Married\",\"Married\",\"Married\",\"Married\",\"Married\",\"Married\",\"Married\",\"Married\",\"Married\",\"Married\",\"Married\",\"Married\",\"Married\",\"Married\",\"Married\",\"Married\",\"Married\",\"Married\",\"Married\",\"Married\",\"Married\",\"Married\",\"Married\",\"Married\",\"Married\",\"Married\",\"Married\",\"Married\",\"Married\",\"Married\",\"Married\",\"Married\",\"Married\",\"Married\",\"Married\",\"Married\",\"Married\",\"Married\",\"Married\",\"Married\",\"Married\",\"Married\",\"Married\",\"Married\",\"Married\",\"Married\",\"Married\",\"Married\",\"Married\",\"Married\",\"Married\",\"Married\",\"Married\",\"Married\",\"Married\",\"Married\",\"Married\",\"Married\",\"Married\",\"Married\",\"Married\",\"Married\",\"Married\",\"Married\",\"Married\",\"Married\",\"Married\",\"Married\",\"Married\",\"Married\",\"Married\",\"Married\",\"Married\",\"Married\",\"Married\",\"Married\",\"Married\",\"Married\",\"Married\",\"Married\",\"Married\",\"Married\",\"Married\",\"Married\",\"Married\",\"Married\",\"Married\",\"Married\",\"Married\",\"Married\",\"Married\",\"Married\",\"Married\",\"Married\",\"Married\",\"Married\",\"Married\",\"Married\",\"Married\",\"Married\",\"Married\",\"Married\",\"Married\",\"Married\",\"Married\",\"Married\",\"Married\",\"Married\",\"Married\",\"Married\",\"Married\",\"Married\",\"Married\",\"Married\",\"Married\",\"Married\",\"Married\",\"Married\",\"Married\",\"Married\",\"Married\",\"Married\",\"Married\",\"Married\",\"Married\",\"Married\",\"Married\",\"Married\",\"Married\",\"Married\",\"Married\",\"Married\",\"Married\",\"Married\",\"Married\",\"Married\",\"Married\",\"Married\",\"Married\",\"Married\",\"Married\",\"Married\",\"Married\",\"Married\",\"Married\",\"Married\",\"Married\",\"Married\",\"Married\",\"Married\",\"Married\",\"Married\",\"Married\",\"Married\",\"Married\",\"Married\",\"Married\",\"Married\",\"Married\",\"Married\",\"Married\",\"Married\",\"Married\",\"Married\",\"Married\",\"Married\",\"Married\",\"Married\",\"Married\",\"Married\",\"Married\",\"Married\",\"Married\",\"Married\",\"Married\",\"Married\",\"Married\",\"Married\",\"Married\",\"Married\",\"Married\",\"Married\",\"Married\",\"Married\",\"Married\",\"Married\",\"Married\"],\"x0\":\" \",\"xaxis\":\"x\",\"y\":[43000,53000,47000,52000,35000,42000,33000,43000,34000,50000,40000,42000,54000,36000,54000,41000,37000,41000,41000,50000,48000,44000,44000,43000,50000,49000,35000,41000,31000,54000,53000,44000,32000,33000,39000,31000,52000,33000,42000,51000,35000,39000,42000,52000,46000,50000,31000,39000,46000,51000,54000,53000,32000,32000,55000,32000,47000,47000,46000,47000,32000,42000,35000,48000,33000,34000,43000,50000,37000,33000,38000,53000,43000,39000,49000,38000,49000,36000,36000,35000,33000,41000,46000,47000,45000,52000,43000,54000,45000,33000,38000,52000,54000,38000,32000,44000,44000,42000,52000,39000,53000,32000,49000,32000,39000,43000,40000,41000,53000,41000,36000,33000,50000,48000,42000,31000,44000,50000,34000,40000,33000,50000,54000,35000,49000,46000,32000,34000,36000,54000,51000,46000,54000,34000,47000,39000,34000,54000,38000,55000,55000,52000,38000,47000,35000,46000,46000,45000,43000,52000,48000,50000,34000,39000,43000,54000,33000,33000,34000,42000,45000,32000,31000,46000,47000,39000,52000,47000,42000,38000,37000,49000,43000,48000,44000,49000,36000,36000,33000,50000,55000,46000,47000,43000,47000,49000,33000,47000,55000,33000,40000,55000,50000,48000,50000,47000,36000,53000,36000,48000,39000,35000,42000,47000,54000,51000,32000,44000,44000,53000,48000,50000,34000,37000,33000,34000,55000,45000,43000,51000,34000,31000,50000,43000,33000,33000,44000,48000,34000,47000,37000,33000,36000,50000,51000,52000,41000,35000,48000,53000,46000,43000,43000,39000,38000,43000,48000,54000,44000,35000,32000,34000,35000,32000,54000,43000,40000,33000,41000,42000,51000,37000,37000,43000,45000,37000,52000,41000,50000,47000,40000,37000,43000,48000,46000,32000,45000,52000,50000,49000,45000,35000,44000,32000,39000,41000,33000,49000,42000,38000,31000,44000,39000,46000,43000,50000,33000,31000,53000,37000,35000,52000,47000,50000,36000,45000,43000,44000,40000,34000,37000,48000,53000,52000,51000,53000,48000,41000,32000,51000,36000,36000,49000,48000,45000,55000,46000,35000,39000,35000,49000,31000,37000,37000,53000,31000,28000,34000,42000,41000,39000,53000,21000,47000,24000,23000,28000,48000,38000,23000,24000,33000,19000,55000,21000,18000,48000,39000,26000,20000,37000,26000,51000,53000,29000,41000,26000,19000,23000,28000,24000,21000,21000,18000,28000,20000,31000,27000,23000,53000,49000,18000,36000,34000,31000,43000,27000,31000,31000,24000,23000,50000,33000,19000,37000,54000,34000,29000,23000,37000,24000,31000,53000,19000,19000,46000,50000,42000,28000,47000,48000,32000,28000,23000,22000,27000,27000,26000,18000,46000,20000,21000,20000,18000,23000,26000,20000,19000,20000,20000,26000,21000,20000,40000,39000,35000,50000,31000,43000,43000,38000,34000,18000,45000,40000,24000,24000,26000,48000,51000,32000,44000,31000,23000,24000,29000,42000,39000,27000,39000,52000,27000,24000,21000,21000,28000,24000,23000,26000,24000,31000,31000,18000,23000,19000,18000,52000,20000,21000,20000,35000,21000,21000,21000,19000,20000,21000,19000,21000,19000,18000,18000,34000,29000,31000,24000,51000,18000,30000,38000,23000,41000,36000,28000,35000,43000,23000,39000,52000,27000,18000,31000,23000,27000,18000,19000,18000,18000,31000,18000,31000,21000,20000,19000,31000,28000,27000,24000,31000,23000,18000,23000,21000,20000,27000,28000,31000,26000,27000,21000,31000,28000,21000,18000,18000,27000,23000,18000,28000,24000,27000,27000,27000,26000,29000,26000,21000,28000,19000,26000,23000,27000,21000,26000,19000,27000,18000,31000,26000,31000,18000,23000,19000,18000,21000,27000,27000,26000,23000,19000,26000,31000,20000,31000,31000,21000,20000,24000,26000,27000,24000,27000,29000,23000,26000,23000,21000,21000,31000,19000,29000,27000,20000,27000,23000,24000,18000,21000,23000,19000,18000,18000,31000,31000,23000,18000,27000,31000,27000,23000,26000,23000,31000,26000,29000,19000,20000,21000,18000,21000,19000,29000,21000,23000,20000,29000,21000,19000,30000,18000,26000,28000,21000,23000,23000,29000,31000,23000,21000,24000,26000,23000,20000,21000,27000,23000,21000,29000,27000,27000,31000,27000,19000,27000,23000,24000,18000,29000,23000,27000,21000,23000,18000,19000,18000,20000,27000,19000,27000,31000,27000,26000,23000,23000,26000,27000,21000,18000,24000,29000,23000,29000,27000,21000,21000,29000,19000,18000,18000,22000,23000,20000],\"y0\":\" \",\"yaxis\":\"y\",\"type\":\"box\"},{\"alignmentgroup\":\"True\",\"hovertemplate\":\"Make=Hatchback\\u003cbr\\u003eMarital_status=%{x}\\u003cbr\\u003ePrice=%{y}\\u003cextra\\u003e\\u003c\\u002fextra\\u003e\",\"legendgroup\":\"Hatchback\",\"marker\":{\"color\":\"#00cc96\"},\"name\":\"Hatchback\",\"notched\":false,\"offsetgroup\":\"Hatchback\",\"orientation\":\"v\",\"showlegend\":true,\"x\":[\"Married\",\"Married\",\"Married\",\"Married\",\"Married\",\"Married\",\"Married\",\"Married\",\"Married\",\"Married\",\"Married\",\"Married\",\"Married\",\"Married\",\"Married\",\"Married\",\"Married\",\"Married\",\"Married\",\"Married\",\"Married\",\"Single\",\"Married\",\"Married\",\"Single\",\"Married\",\"Married\",\"Married\",\"Married\",\"Married\",\"Married\",\"Married\",\"Single\",\"Married\",\"Married\",\"Married\",\"Married\",\"Married\",\"Single\",\"Married\",\"Single\",\"Married\",\"Married\",\"Single\",\"Married\",\"Married\",\"Single\",\"Married\",\"Married\",\"Single\",\"Married\",\"Married\",\"Married\",\"Married\",\"Married\",\"Married\",\"Married\",\"Married\",\"Married\",\"Married\",\"Married\",\"Married\",\"Married\",\"Married\",\"Married\",\"Married\",\"Married\",\"Married\",\"Married\",\"Married\",\"Married\",\"Married\",\"Married\",\"Married\",\"Married\",\"Married\",\"Married\",\"Married\",\"Single\",\"Married\",\"Single\",\"Married\",\"Married\",\"Married\",\"Single\",\"Married\",\"Married\",\"Single\",\"Married\",\"Single\",\"Married\",\"Married\",\"Married\",\"Married\",\"Married\",\"Single\",\"Single\",\"Single\",\"Married\",\"Married\",\"Married\",\"Married\",\"Married\",\"Married\",\"Married\",\"Married\",\"Married\",\"Married\",\"Married\",\"Married\",\"Married\",\"Married\",\"Married\",\"Married\",\"Married\",\"Married\",\"Married\",\"Married\",\"Married\",\"Married\",\"Married\",\"Married\",\"Married\",\"Married\",\"Married\",\"Married\",\"Married\",\"Married\",\"Married\",\"Married\",\"Married\",\"Married\",\"Married\",\"Married\",\"Married\",\"Married\",\"Single\",\"Married\",\"Married\",\"Married\",\"Married\",\"Married\",\"Married\",\"Married\",\"Married\",\"Married\",\"Married\",\"Single\",\"Married\",\"Married\",\"Married\",\"Married\",\"Married\",\"Married\",\"Married\",\"Married\",\"Married\",\"Married\",\"Married\",\"Married\",\"Married\",\"Single\",\"Married\",\"Married\",\"Married\",\"Married\",\"Married\",\"Married\",\"Married\",\"Married\",\"Married\",\"Married\",\"Married\",\"Married\",\"Married\",\"Married\",\"Married\",\"Married\",\"Married\",\"Married\",\"Married\",\"Married\",\"Married\",\"Married\",\"Married\",\"Married\",\"Married\",\"Married\",\"Married\",\"Married\",\"Married\",\"Married\",\"Married\",\"Single\",\"Married\",\"Married\",\"Single\",\"Married\",\"Married\",\"Married\",\"Married\",\"Single\",\"Married\",\"Married\",\"Married\",\"Married\",\"Married\",\"Married\",\"Married\",\"Married\",\"Single\",\"Single\",\"Married\",\"Married\",\"Single\",\"Married\",\"Single\",\"Single\",\"Married\",\"Married\",\"Married\",\"Married\",\"Married\",\"Married\",\"Married\",\"Married\",\"Married\",\"Single\",\"Married\",\"Married\",\"Married\",\"Married\",\"Married\",\"Married\",\"Married\",\"Married\",\"Married\",\"Married\",\"Married\",\"Married\",\"Married\",\"Married\",\"Married\",\"Married\",\"Married\",\"Married\",\"Married\",\"Married\",\"Married\",\"Married\",\"Married\",\"Married\",\"Married\",\"Married\",\"Married\",\"Married\",\"Married\",\"Married\",\"Single\",\"Married\",\"Married\",\"Single\",\"Married\",\"Married\",\"Single\",\"Married\",\"Single\",\"Single\",\"Married\",\"Married\",\"Single\",\"Married\",\"Married\",\"Married\",\"Married\",\"Single\",\"Single\",\"Married\",\"Married\",\"Married\",\"Single\",\"Married\",\"Married\",\"Married\",\"Married\",\"Married\",\"Married\",\"Married\",\"Married\",\"Single\",\"Married\",\"Single\",\"Married\",\"Married\",\"Married\",\"Married\",\"Married\",\"Married\",\"Married\",\"Married\",\"Married\",\"Married\",\"Married\",\"Married\",\"Married\",\"Married\",\"Married\",\"Married\",\"Married\",\"Married\",\"Married\",\"Married\",\"Married\",\"Married\",\"Married\",\"Married\",\"Married\",\"Married\",\"Married\",\"Married\",\"Married\",\"Married\",\"Married\",\"Married\",\"Married\",\"Married\",\"Married\",\"Single\",\"Married\",\"Married\",\"Married\",\"Married\",\"Single\",\"Married\",\"Single\",\"Married\",\"Married\",\"Single\",\"Married\",\"Married\",\"Married\",\"Married\",\"Married\",\"Married\",\"Single\",\"Married\",\"Married\",\"Single\",\"Married\",\"Married\",\"Married\",\"Single\",\"Married\",\"Married\",\"Married\",\"Married\",\"Married\",\"Married\",\"Married\",\"Single\",\"Married\",\"Married\",\"Married\",\"Married\",\"Married\",\"Married\",\"Married\",\"Married\",\"Single\",\"Single\",\"Single\",\"Single\",\"Married\",\"Married\",\"Married\",\"Married\",\"Married\",\"Married\",\"Married\",\"Married\",\"Married\",\"Married\",\"Married\",\"Married\",\"Married\",\"Married\",\"Married\",\"Married\",\"Married\",\"Married\",\"Married\",\"Married\",\"Married\",\"Married\",\"Married\",\"Married\",\"Married\",\"Married\",\"Married\",\"Married\",\"Married\",\"Married\",\"Married\",\"Married\",\"Married\",\"Married\",\"Married\",\"Married\",\"Single\",\"Married\",\"Married\",\"Married\",\"Married\",\"Married\",\"Married\",\"Married\",\"Married\",\"Married\",\"Married\",\"Married\",\"Single\",\"Single\",\"Married\",\"Married\",\"Married\",\"Married\",\"Married\",\"Married\",\"Single\",\"Single\",\"Married\",\"Married\",\"Single\",\"Single\",\"Single\",\"Married\",\"Married\",\"Married\",\"Married\",\"Single\",\"Married\",\"Married\",\"Married\",\"Single\",\"Married\",\"Married\",\"Married\",\"Married\",\"Married\",\"Married\",\"Married\",\"Married\",\"Married\",\"Married\",\"Married\",\"Married\",\"Married\",\"Married\",\"Married\",\"Married\",\"Married\",\"Married\",\"Married\",\"Married\",\"Married\",\"Married\",\"Married\",\"Married\",\"Married\",\"Married\",\"Married\",\"Married\",\"Married\",\"Married\",\"Married\",\"Married\",\"Married\",\"Married\",\"Married\",\"Single\",\"Married\",\"Married\",\"Married\",\"Married\",\"Married\",\"Married\",\"Single\",\"Married\",\"Married\",\"Married\",\"Married\",\"Married\",\"Single\",\"Married\",\"Married\",\"Single\",\"Married\",\"Married\",\"Single\",\"Married\",\"Married\",\"Married\",\"Married\",\"Single\",\"Single\",\"Married\",\"Single\",\"Single\",\"Married\",\"Single\",\"Married\",\"Married\",\"Married\",\"Single\",\"Married\",\"Married\",\"Married\",\"Married\",\"Married\",\"Married\",\"Married\",\"Married\",\"Married\",\"Married\",\"Married\",\"Married\",\"Married\",\"Married\",\"Married\",\"Married\",\"Married\",\"Married\",\"Married\",\"Married\",\"Married\",\"Married\",\"Married\",\"Married\",\"Married\",\"Married\",\"Married\",\"Married\",\"Married\",\"Married\",\"Married\",\"Married\",\"Married\",\"Married\",\"Married\",\"Married\",\"Married\",\"Single\",\"Married\",\"Married\",\"Married\",\"Single\",\"Single\",\"Married\",\"Married\",\"Single\",\"Married\",\"Single\",\"Married\",\"Single\",\"Married\",\"Married\",\"Single\",\"Married\",\"Married\",\"Married\",\"Single\",\"Married\",\"Single\",\"Married\",\"Single\",\"Married\",\"Married\",\"Single\",\"Married\",\"Single\",\"Married\",\"Married\"],\"x0\":\" \",\"xaxis\":\"x\",\"y\":[30000,31000,25000,22000,25000,33000,29000,23000,33000,20000,24000,24000,32000,32000,30000,28000,30000,29000,20000,25000,23000,32000,30000,29000,31000,33000,29000,22000,20000,25000,30000,28000,28000,32000,30000,20000,32000,20000,22000,32000,30000,25000,20000,30000,29000,32000,23000,26000,30000,26000,33000,31000,32000,20000,25000,28000,32000,32000,22000,22000,28000,25000,29000,30000,22000,22000,33000,22000,28000,29000,29000,28000,32000,32000,22000,20000,33000,20000,32000,30000,32000,20000,29000,28000,23000,20000,33000,24000,23000,20000,33000,32000,32000,32000,22000,20000,28000,22000,31000,26000,29000,25000,30000,32000,20000,33000,32000,29000,32000,28000,25000,33000,27000,32000,29000,30000,28000,33000,32000,26000,20000,31000,26000,32000,24000,19000,27000,33000,26000,24000,20000,32000,30000,22000,30000,25000,20000,29000,29000,22000,33000,32000,28000,25000,23000,28000,31000,22000,31000,30000,22000,24000,30000,20000,26000,24000,31000,20000,25000,19000,24000,27000,24000,26000,32000,28000,23000,30000,29000,22000,30000,28000,22000,32000,26000,28000,19000,30000,19000,24000,22000,30000,24000,20000,19000,24000,32000,28000,24000,32000,26000,30000,28000,23000,22000,22000,27000,23000,20000,31000,33000,30000,30000,30000,28000,25000,30000,22000,32000,23000,28000,25000,23000,23000,23000,19000,26000,24000,33000,32000,23000,26000,29000,30000,32000,25000,22000,28000,24000,28000,31000,25000,23000,23000,32000,31000,22000,32000,27000,33000,33000,28000,22000,22000,29000,27000,27000,20000,29000,20000,26000,31000,31000,20000,29000,25000,22000,29000,24000,30000,22000,21000,30000,24000,31000,30000,20000,19000,19000,27000,23000,30000,23000,20000,25000,23000,20000,32000,24000,22000,28000,23000,22000,25000,29000,28000,30000,23000,28000,30000,25000,24000,25000,33000,20000,20000,32000,29000,25000,24000,30000,31000,31000,25000,24000,22000,25000,24000,20000,28000,30000,26000,20000,30000,28000,30000,20000,33000,31000,28000,26000,32000,33000,33000,30000,23000,20000,19000,32000,26000,19000,29000,27000,20000,19000,32000,32000,31000,28000,25000,20000,20000,20000,19000,30000,24000,30000,27000,20000,30000,26000,24000,22000,20000,25000,20000,29000,25000,32000,25000,20000,32000,24000,20000,30000,28000,26000,28000,26000,31000,27000,25000,25000,26000,32000,32000,28000,22000,19000,30000,26000,28000,25000,32000,31000,32000,22000,20000,30000,29000,23000,32000,19000,24000,29000,20000,31000,22000,33000,32000,28000,29000,30000,29000,20000,32000,31000,23000,31000,30000,20000,20000,23000,33000,25000,25000,24000,28000,27000,25000,20000,24000,19000,28000,33000,31000,26000,22000,25000,22000,33000,24000,22000,20000,18000,32000,28000,22000,28000,25000,22000,28000,22000,18000,25000,32000,28000,29000,27000,24000,28000,22000,32000,24000,30000,24000,33000,23000,20000,32000,24000,26000,20000,32000,25000,22000,24000,20000,29000,20000,32000,32000,22000,33000,31000,30000,26000,24000,23000,33000,32000,30000,19000,30000,30000,26000,24000,28000,28000,24000,31000,29000,26000,29000,25000,25000,26000,22000,31000,25000,23000,20000,33000,33000,28000,28000,26000,22000,22000,25000,32000,22000,30000,29000,31000,30000,30000,25000,28000,31000,30000,32000,28000,19000,28000,28000,20000,22000,24000,32000,29000,28000,24000,33000,23000,30000,24000,23000,22000,32000,30000,19000,28000,20000,22000,32000,22000,25000,25000,31000,32000,20000,25000,20000,32000,23000,29000,22000,29000,27000,26000,26000,25000,30000,28000,32000,23000,19000,24000,24000,23000,22000,21000,33000,24000,23000,19000,27000,31000,30000,24000,31000],\"y0\":\" \",\"yaxis\":\"y\",\"type\":\"box\"}],                        {\"template\":{\"data\":{\"histogram2dcontour\":[{\"type\":\"histogram2dcontour\",\"colorbar\":{\"outlinewidth\":0,\"ticks\":\"\"},\"colorscale\":[[0.0,\"#0d0887\"],[0.1111111111111111,\"#46039f\"],[0.2222222222222222,\"#7201a8\"],[0.3333333333333333,\"#9c179e\"],[0.4444444444444444,\"#bd3786\"],[0.5555555555555556,\"#d8576b\"],[0.6666666666666666,\"#ed7953\"],[0.7777777777777778,\"#fb9f3a\"],[0.8888888888888888,\"#fdca26\"],[1.0,\"#f0f921\"]]}],\"choropleth\":[{\"type\":\"choropleth\",\"colorbar\":{\"outlinewidth\":0,\"ticks\":\"\"}}],\"histogram2d\":[{\"type\":\"histogram2d\",\"colorbar\":{\"outlinewidth\":0,\"ticks\":\"\"},\"colorscale\":[[0.0,\"#0d0887\"],[0.1111111111111111,\"#46039f\"],[0.2222222222222222,\"#7201a8\"],[0.3333333333333333,\"#9c179e\"],[0.4444444444444444,\"#bd3786\"],[0.5555555555555556,\"#d8576b\"],[0.6666666666666666,\"#ed7953\"],[0.7777777777777778,\"#fb9f3a\"],[0.8888888888888888,\"#fdca26\"],[1.0,\"#f0f921\"]]}],\"heatmap\":[{\"type\":\"heatmap\",\"colorbar\":{\"outlinewidth\":0,\"ticks\":\"\"},\"colorscale\":[[0.0,\"#0d0887\"],[0.1111111111111111,\"#46039f\"],[0.2222222222222222,\"#7201a8\"],[0.3333333333333333,\"#9c179e\"],[0.4444444444444444,\"#bd3786\"],[0.5555555555555556,\"#d8576b\"],[0.6666666666666666,\"#ed7953\"],[0.7777777777777778,\"#fb9f3a\"],[0.8888888888888888,\"#fdca26\"],[1.0,\"#f0f921\"]]}],\"heatmapgl\":[{\"type\":\"heatmapgl\",\"colorbar\":{\"outlinewidth\":0,\"ticks\":\"\"},\"colorscale\":[[0.0,\"#0d0887\"],[0.1111111111111111,\"#46039f\"],[0.2222222222222222,\"#7201a8\"],[0.3333333333333333,\"#9c179e\"],[0.4444444444444444,\"#bd3786\"],[0.5555555555555556,\"#d8576b\"],[0.6666666666666666,\"#ed7953\"],[0.7777777777777778,\"#fb9f3a\"],[0.8888888888888888,\"#fdca26\"],[1.0,\"#f0f921\"]]}],\"contourcarpet\":[{\"type\":\"contourcarpet\",\"colorbar\":{\"outlinewidth\":0,\"ticks\":\"\"}}],\"contour\":[{\"type\":\"contour\",\"colorbar\":{\"outlinewidth\":0,\"ticks\":\"\"},\"colorscale\":[[0.0,\"#0d0887\"],[0.1111111111111111,\"#46039f\"],[0.2222222222222222,\"#7201a8\"],[0.3333333333333333,\"#9c179e\"],[0.4444444444444444,\"#bd3786\"],[0.5555555555555556,\"#d8576b\"],[0.6666666666666666,\"#ed7953\"],[0.7777777777777778,\"#fb9f3a\"],[0.8888888888888888,\"#fdca26\"],[1.0,\"#f0f921\"]]}],\"surface\":[{\"type\":\"surface\",\"colorbar\":{\"outlinewidth\":0,\"ticks\":\"\"},\"colorscale\":[[0.0,\"#0d0887\"],[0.1111111111111111,\"#46039f\"],[0.2222222222222222,\"#7201a8\"],[0.3333333333333333,\"#9c179e\"],[0.4444444444444444,\"#bd3786\"],[0.5555555555555556,\"#d8576b\"],[0.6666666666666666,\"#ed7953\"],[0.7777777777777778,\"#fb9f3a\"],[0.8888888888888888,\"#fdca26\"],[1.0,\"#f0f921\"]]}],\"mesh3d\":[{\"type\":\"mesh3d\",\"colorbar\":{\"outlinewidth\":0,\"ticks\":\"\"}}],\"scatter\":[{\"fillpattern\":{\"fillmode\":\"overlay\",\"size\":10,\"solidity\":0.2},\"type\":\"scatter\"}],\"parcoords\":[{\"type\":\"parcoords\",\"line\":{\"colorbar\":{\"outlinewidth\":0,\"ticks\":\"\"}}}],\"scatterpolargl\":[{\"type\":\"scatterpolargl\",\"marker\":{\"colorbar\":{\"outlinewidth\":0,\"ticks\":\"\"}}}],\"bar\":[{\"error_x\":{\"color\":\"#2a3f5f\"},\"error_y\":{\"color\":\"#2a3f5f\"},\"marker\":{\"line\":{\"color\":\"#E5ECF6\",\"width\":0.5},\"pattern\":{\"fillmode\":\"overlay\",\"size\":10,\"solidity\":0.2}},\"type\":\"bar\"}],\"scattergeo\":[{\"type\":\"scattergeo\",\"marker\":{\"colorbar\":{\"outlinewidth\":0,\"ticks\":\"\"}}}],\"scatterpolar\":[{\"type\":\"scatterpolar\",\"marker\":{\"colorbar\":{\"outlinewidth\":0,\"ticks\":\"\"}}}],\"histogram\":[{\"marker\":{\"pattern\":{\"fillmode\":\"overlay\",\"size\":10,\"solidity\":0.2}},\"type\":\"histogram\"}],\"scattergl\":[{\"type\":\"scattergl\",\"marker\":{\"colorbar\":{\"outlinewidth\":0,\"ticks\":\"\"}}}],\"scatter3d\":[{\"type\":\"scatter3d\",\"line\":{\"colorbar\":{\"outlinewidth\":0,\"ticks\":\"\"}},\"marker\":{\"colorbar\":{\"outlinewidth\":0,\"ticks\":\"\"}}}],\"scattermapbox\":[{\"type\":\"scattermapbox\",\"marker\":{\"colorbar\":{\"outlinewidth\":0,\"ticks\":\"\"}}}],\"scatterternary\":[{\"type\":\"scatterternary\",\"marker\":{\"colorbar\":{\"outlinewidth\":0,\"ticks\":\"\"}}}],\"scattercarpet\":[{\"type\":\"scattercarpet\",\"marker\":{\"colorbar\":{\"outlinewidth\":0,\"ticks\":\"\"}}}],\"carpet\":[{\"aaxis\":{\"endlinecolor\":\"#2a3f5f\",\"gridcolor\":\"white\",\"linecolor\":\"white\",\"minorgridcolor\":\"white\",\"startlinecolor\":\"#2a3f5f\"},\"baxis\":{\"endlinecolor\":\"#2a3f5f\",\"gridcolor\":\"white\",\"linecolor\":\"white\",\"minorgridcolor\":\"white\",\"startlinecolor\":\"#2a3f5f\"},\"type\":\"carpet\"}],\"table\":[{\"cells\":{\"fill\":{\"color\":\"#EBF0F8\"},\"line\":{\"color\":\"white\"}},\"header\":{\"fill\":{\"color\":\"#C8D4E3\"},\"line\":{\"color\":\"white\"}},\"type\":\"table\"}],\"barpolar\":[{\"marker\":{\"line\":{\"color\":\"#E5ECF6\",\"width\":0.5},\"pattern\":{\"fillmode\":\"overlay\",\"size\":10,\"solidity\":0.2}},\"type\":\"barpolar\"}],\"pie\":[{\"automargin\":true,\"type\":\"pie\"}]},\"layout\":{\"autotypenumbers\":\"strict\",\"colorway\":[\"#636efa\",\"#EF553B\",\"#00cc96\",\"#ab63fa\",\"#FFA15A\",\"#19d3f3\",\"#FF6692\",\"#B6E880\",\"#FF97FF\",\"#FECB52\"],\"font\":{\"color\":\"#2a3f5f\"},\"hovermode\":\"closest\",\"hoverlabel\":{\"align\":\"left\"},\"paper_bgcolor\":\"white\",\"plot_bgcolor\":\"#E5ECF6\",\"polar\":{\"bgcolor\":\"#E5ECF6\",\"angularaxis\":{\"gridcolor\":\"white\",\"linecolor\":\"white\",\"ticks\":\"\"},\"radialaxis\":{\"gridcolor\":\"white\",\"linecolor\":\"white\",\"ticks\":\"\"}},\"ternary\":{\"bgcolor\":\"#E5ECF6\",\"aaxis\":{\"gridcolor\":\"white\",\"linecolor\":\"white\",\"ticks\":\"\"},\"baxis\":{\"gridcolor\":\"white\",\"linecolor\":\"white\",\"ticks\":\"\"},\"caxis\":{\"gridcolor\":\"white\",\"linecolor\":\"white\",\"ticks\":\"\"}},\"coloraxis\":{\"colorbar\":{\"outlinewidth\":0,\"ticks\":\"\"}},\"colorscale\":{\"sequential\":[[0.0,\"#0d0887\"],[0.1111111111111111,\"#46039f\"],[0.2222222222222222,\"#7201a8\"],[0.3333333333333333,\"#9c179e\"],[0.4444444444444444,\"#bd3786\"],[0.5555555555555556,\"#d8576b\"],[0.6666666666666666,\"#ed7953\"],[0.7777777777777778,\"#fb9f3a\"],[0.8888888888888888,\"#fdca26\"],[1.0,\"#f0f921\"]],\"sequentialminus\":[[0.0,\"#0d0887\"],[0.1111111111111111,\"#46039f\"],[0.2222222222222222,\"#7201a8\"],[0.3333333333333333,\"#9c179e\"],[0.4444444444444444,\"#bd3786\"],[0.5555555555555556,\"#d8576b\"],[0.6666666666666666,\"#ed7953\"],[0.7777777777777778,\"#fb9f3a\"],[0.8888888888888888,\"#fdca26\"],[1.0,\"#f0f921\"]],\"diverging\":[[0,\"#8e0152\"],[0.1,\"#c51b7d\"],[0.2,\"#de77ae\"],[0.3,\"#f1b6da\"],[0.4,\"#fde0ef\"],[0.5,\"#f7f7f7\"],[0.6,\"#e6f5d0\"],[0.7,\"#b8e186\"],[0.8,\"#7fbc41\"],[0.9,\"#4d9221\"],[1,\"#276419\"]]},\"xaxis\":{\"gridcolor\":\"white\",\"linecolor\":\"white\",\"ticks\":\"\",\"title\":{\"standoff\":15},\"zerolinecolor\":\"white\",\"automargin\":true,\"zerolinewidth\":2},\"yaxis\":{\"gridcolor\":\"white\",\"linecolor\":\"white\",\"ticks\":\"\",\"title\":{\"standoff\":15},\"zerolinecolor\":\"white\",\"automargin\":true,\"zerolinewidth\":2},\"scene\":{\"xaxis\":{\"backgroundcolor\":\"#E5ECF6\",\"gridcolor\":\"white\",\"linecolor\":\"white\",\"showbackground\":true,\"ticks\":\"\",\"zerolinecolor\":\"white\",\"gridwidth\":2},\"yaxis\":{\"backgroundcolor\":\"#E5ECF6\",\"gridcolor\":\"white\",\"linecolor\":\"white\",\"showbackground\":true,\"ticks\":\"\",\"zerolinecolor\":\"white\",\"gridwidth\":2},\"zaxis\":{\"backgroundcolor\":\"#E5ECF6\",\"gridcolor\":\"white\",\"linecolor\":\"white\",\"showbackground\":true,\"ticks\":\"\",\"zerolinecolor\":\"white\",\"gridwidth\":2}},\"shapedefaults\":{\"line\":{\"color\":\"#2a3f5f\"}},\"annotationdefaults\":{\"arrowcolor\":\"#2a3f5f\",\"arrowhead\":0,\"arrowwidth\":1},\"geo\":{\"bgcolor\":\"white\",\"landcolor\":\"#E5ECF6\",\"subunitcolor\":\"white\",\"showland\":true,\"showlakes\":true,\"lakecolor\":\"white\"},\"title\":{\"x\":0.05},\"mapbox\":{\"style\":\"light\"}}},\"xaxis\":{\"anchor\":\"y\",\"domain\":[0.0,1.0],\"title\":{\"text\":\"Marital_status\"}},\"yaxis\":{\"anchor\":\"x\",\"domain\":[0.0,1.0],\"title\":{\"text\":\"Price\"}},\"legend\":{\"title\":{\"text\":\"Make\"},\"tracegroupgap\":0},\"margin\":{\"t\":60},\"boxmode\":\"group\"},                        {\"responsive\": true}                    ).then(function(){\n",
              "                            \n",
              "var gd = document.getElementById('c5a119ef-a63e-48bb-bec8-cd65beca3795');\n",
              "var x = new MutationObserver(function (mutations, observer) {{\n",
              "        var display = window.getComputedStyle(gd).display;\n",
              "        if (!display || display === 'none') {{\n",
              "            console.log([gd, 'removed!']);\n",
              "            Plotly.purge(gd);\n",
              "            observer.disconnect();\n",
              "        }}\n",
              "}});\n",
              "\n",
              "// Listen for the removal of the full notebook cells\n",
              "var notebookContainer = gd.closest('#notebook-container');\n",
              "if (notebookContainer) {{\n",
              "    x.observe(notebookContainer, {childList: true});\n",
              "}}\n",
              "\n",
              "// Listen for the clearing of the current output cell\n",
              "var outputEl = gd.closest('.output');\n",
              "if (outputEl) {{\n",
              "    x.observe(outputEl, {childList: true});\n",
              "}}\n",
              "\n",
              "                        })                };                            </script>        </div>\n",
              "</body>\n",
              "</html>"
            ]
          },
          "metadata": {}
        }
      ]
    },
    {
      "cell_type": "code",
      "source": [
        "catgmplot=lambda x: px.histogram(data, x=x, color=\"Make\", barmode='relative')"
      ],
      "metadata": {
        "id": "BjAgWdUNWhEC"
      },
      "id": "BjAgWdUNWhEC",
      "execution_count": null,
      "outputs": []
    },
    {
      "cell_type": "code",
      "source": [
        "lst_num_var = [ 'Profession',  'Education', 'Personal_loan','House_loan', 'Partner_working','Gender']\n",
        "\n",
        "plots=( catgmplot(n) for n in lst_num_var )\n",
        "for plot in plots:\n",
        "    plot.show()"
      ],
      "metadata": {
        "id": "o57zTgaWWrG0"
      },
      "id": "o57zTgaWWrG0",
      "execution_count": null,
      "outputs": []
    },
    {
      "cell_type": "markdown",
      "source": [
        "#### Make and Price preferences"
      ],
      "metadata": {
        "id": "MgGAcZ6ox_py"
      },
      "id": "MgGAcZ6ox_py"
    },
    {
      "cell_type": "code",
      "source": [
        "lst_num_var = [ 'Profession',  'Education', 'Personal_loan','House_loan', 'Partner_working','Marital_status','Make']\n",
        "\n",
        "plots=( catgplot(n) for n in lst_num_var )\n",
        "for plot in plots:\n",
        "    plot.show()"
      ],
      "metadata": {
        "id": "-idMV_kL7pyD",
        "colab": {
          "base_uri": "https://localhost:8080/",
          "height": 1000
        },
        "outputId": "97a99360-01b7-4c36-d0b0-58167348293e"
      },
      "id": "-idMV_kL7pyD",
      "execution_count": null,
      "outputs": [
        {
          "output_type": "display_data",
          "data": {
            "text/html": [
              "<html>\n",
              "<head><meta charset=\"utf-8\" /></head>\n",
              "<body>\n",
              "    <div>            <script src=\"https://cdnjs.cloudflare.com/ajax/libs/mathjax/2.7.5/MathJax.js?config=TeX-AMS-MML_SVG\"></script><script type=\"text/javascript\">if (window.MathJax && window.MathJax.Hub && window.MathJax.Hub.Config) {window.MathJax.Hub.Config({SVG: {font: \"STIX-Web\"}});}</script>                <script type=\"text/javascript\">window.PlotlyConfig = {MathJaxConfig: 'local'};</script>\n",
              "        <script charset=\"utf-8\" src=\"https://cdn.plot.ly/plotly-2.24.1.min.js\"></script>                <div id=\"fcb7595e-5079-464b-961c-d713818d00d9\" class=\"plotly-graph-div\" style=\"height:525px; width:100%;\"></div>            <script type=\"text/javascript\">                                    window.PLOTLYENV=window.PLOTLYENV || {};                                    if (document.getElementById(\"fcb7595e-5079-464b-961c-d713818d00d9\")) {                    Plotly.newPlot(                        \"fcb7595e-5079-464b-961c-d713818d00d9\",                        [{\"alignmentgroup\":\"True\",\"hovertemplate\":\"Make=SUV\\u003cbr\\u003eProfession=%{x}\\u003cbr\\u003ePrice=%{y}\\u003cextra\\u003e\\u003c\\u002fextra\\u003e\",\"legendgroup\":\"SUV\",\"marker\":{\"color\":\"#636efa\"},\"name\":\"SUV\",\"notched\":false,\"offsetgroup\":\"SUV\",\"orientation\":\"v\",\"showlegend\":true,\"x\":[\"Business\",\"Salaried\",\"Salaried\",\"Salaried\",\"Salaried\",\"Salaried\",\"Salaried\",\"Salaried\",\"Salaried\",\"Salaried\",\"Salaried\",\"Salaried\",\"Salaried\",\"Salaried\",\"Business\",\"Salaried\",\"Business\",\"Salaried\",\"Business\",\"Salaried\",\"Salaried\",\"Salaried\",\"Business\",\"Salaried\",\"Business\",\"Salaried\",\"Salaried\",\"Salaried\",\"Salaried\",\"Salaried\",\"Salaried\",\"Business\",\"Business\",\"Salaried\",\"Salaried\",\"Salaried\",\"Business\",\"Salaried\",\"Salaried\",\"Business\",\"Salaried\",\"Salaried\",\"Salaried\",\"Salaried\",\"Salaried\",\"Business\",\"Salaried\",\"Business\",\"Business\",\"Business\",\"Salaried\",\"Business\",\"Salaried\",\"Salaried\",\"Salaried\",\"Business\",\"Salaried\",\"Business\",\"Salaried\",\"Salaried\",\"Salaried\",\"Salaried\",\"Salaried\",\"Business\",\"Business\",\"Business\",\"Business\",\"Salaried\",\"Business\",\"Salaried\",\"Salaried\",\"Business\",\"Salaried\",\"Business\",\"Business\",\"Salaried\",\"Salaried\",\"Salaried\",\"Business\",\"Business\",\"Business\",\"Salaried\",\"Salaried\",\"Salaried\",\"Salaried\",\"Salaried\",\"Salaried\",\"Salaried\",\"Salaried\",\"Salaried\",\"Business\",\"Salaried\",\"Salaried\",\"Salaried\",\"Business\",\"Business\",\"Salaried\",\"Salaried\",\"Salaried\",\"Salaried\",\"Salaried\",\"Business\",\"Salaried\",\"Business\",\"Salaried\",\"Business\",\"Salaried\",\"Salaried\",\"Business\",\"Salaried\",\"Salaried\",\"Business\",\"Salaried\",\"Salaried\",\"Salaried\",\"Salaried\",\"Business\",\"Salaried\",\"Salaried\",\"Business\",\"Salaried\",\"Business\",\"Business\",\"Salaried\",\"Salaried\",\"Salaried\",\"Salaried\",\"Business\",\"Business\",\"Salaried\",\"Salaried\",\"Salaried\",\"Salaried\",\"Salaried\",\"Business\",\"Salaried\",\"Salaried\",\"Business\",\"Salaried\",\"Salaried\",\"Salaried\",\"Salaried\",\"Salaried\",\"Salaried\",\"Salaried\",\"Salaried\",\"Salaried\",\"Salaried\",\"Business\",\"Salaried\",\"Salaried\",\"Salaried\",\"Salaried\",\"Business\",\"Salaried\",\"Business\",\"Salaried\",\"Salaried\",\"Business\",\"Salaried\",\"Salaried\",\"Salaried\",\"Salaried\",\"Salaried\",\"Salaried\",\"Business\",\"Salaried\",\"Salaried\",\"Business\",\"Salaried\",\"Business\",\"Salaried\",\"Salaried\",\"Salaried\",\"Salaried\",\"Business\",\"Salaried\",\"Salaried\",\"Salaried\",\"Salaried\",\"Business\",\"Business\",\"Salaried\",\"Business\",\"Salaried\",\"Salaried\",\"Salaried\",\"Salaried\",\"Salaried\",\"Salaried\",\"Salaried\",\"Business\",\"Salaried\",\"Business\",\"Salaried\",\"Salaried\",\"Business\",\"Salaried\",\"Salaried\",\"Salaried\",\"Salaried\",\"Salaried\",\"Business\",\"Salaried\",\"Business\",\"Salaried\",\"Salaried\",\"Salaried\",\"Salaried\",\"Salaried\",\"Business\",\"Salaried\",\"Salaried\",\"Salaried\",\"Business\",\"Salaried\",\"Salaried\",\"Salaried\",\"Salaried\",\"Salaried\",\"Salaried\",\"Salaried\",\"Salaried\",\"Business\",\"Business\",\"Business\",\"Salaried\",\"Salaried\",\"Salaried\",\"Salaried\",\"Business\",\"Salaried\",\"Salaried\",\"Salaried\",\"Business\",\"Salaried\",\"Business\",\"Business\",\"Salaried\",\"Business\",\"Business\",\"Salaried\",\"Salaried\",\"Business\",\"Salaried\",\"Salaried\",\"Salaried\",\"Salaried\",\"Salaried\",\"Business\",\"Salaried\",\"Salaried\",\"Salaried\",\"Business\",\"Salaried\",\"Salaried\",\"Salaried\",\"Salaried\",\"Salaried\",\"Salaried\",\"Business\",\"Salaried\",\"Business\",\"Salaried\",\"Business\",\"Business\",\"Salaried\",\"Business\",\"Salaried\",\"Business\",\"Salaried\",\"Salaried\",\"Salaried\",\"Salaried\",\"Salaried\",\"Salaried\",\"Salaried\",\"Business\",\"Salaried\",\"Salaried\",\"Business\",\"Salaried\",\"Salaried\",\"Salaried\",\"Salaried\",\"Business\",\"Business\",\"Salaried\",\"Business\",\"Salaried\",\"Business\",\"Business\",\"Business\",\"Business\",\"Salaried\",\"Salaried\",\"Salaried\"],\"x0\":\" \",\"xaxis\":\"x\",\"y\":[61000,61000,57000,61000,57000,57000,51000,68000,61000,57000,67000,63000,62000,50000,66000,52000,60000,64000,58000,54000,53000,62000,55000,59000,50000,50000,68000,60000,56000,61000,67000,66000,56000,61000,52000,59000,61000,54000,64000,53000,60000,66000,55000,51000,50000,59000,61000,62000,63000,69000,57000,52000,50000,57000,50000,68000,69000,57000,54000,51000,54000,64000,58000,59000,53000,55000,62000,49000,55000,66000,56000,61000,58000,60000,62000,68000,60000,51000,55000,53000,62000,64000,54000,52000,57000,58000,53000,55000,55000,60000,51000,57000,67000,51000,51000,63000,66000,64000,66000,56000,53000,61000,70000,67000,69000,53000,64000,68000,65000,58000,67000,62000,53000,59000,65000,59000,69000,58000,52000,68000,69000,62000,61000,63000,57000,49000,58000,69000,50000,51000,56000,58000,66000,51000,52000,50000,58000,57000,49000,50000,49000,57000,64000,37000,61000,37000,52000,40000,62000,52000,36000,51000,65000,61000,59000,67000,59000,41000,49000,60000,51000,53000,68000,57000,50000,45000,49000,65000,54000,64000,45000,58000,69000,39000,57000,62000,69000,50000,65000,39000,32000,32000,45000,31000,36000,61000,59000,45000,63000,57000,49000,59000,61000,61000,67000,51000,64000,45000,66000,36000,57000,61000,65000,57000,49000,32000,63000,64000,62000,51000,64000,68000,63000,60000,49000,39000,55000,58000,51000,49000,37000,68000,45000,67000,36000,65000,55000,57000,63000,64000,57000,39000,57000,56000,55000,45000,60000,63000,51000,39000,63000,36000,48000,66000,50000,69000,68000,58000,51000,56000,65000,69000,61000,57000,55000,49000,52000,36000,58000,66000,64000,54000,70000,62000,63000,66000,66000,68000,63000,59000,31000,40000,51000,69000,57000,58000,45000,45000,51000,50000,51000,39000,40000,49000,45000,32000,51000,48000,31000,51000,49000,36000,52000,32000,51000,31000,31000],\"y0\":\" \",\"yaxis\":\"y\",\"type\":\"box\"},{\"alignmentgroup\":\"True\",\"hovertemplate\":\"Make=Sedan\\u003cbr\\u003eProfession=%{x}\\u003cbr\\u003ePrice=%{y}\\u003cextra\\u003e\\u003c\\u002fextra\\u003e\",\"legendgroup\":\"Sedan\",\"marker\":{\"color\":\"#EF553B\"},\"name\":\"Sedan\",\"notched\":false,\"offsetgroup\":\"Sedan\",\"orientation\":\"v\",\"showlegend\":true,\"x\":[\"Salaried\",\"Salaried\",\"Salaried\",\"Salaried\",\"Business\",\"Salaried\",\"Business\",\"Salaried\",\"Salaried\",\"Salaried\",\"Salaried\",\"Salaried\",\"Business\",\"Salaried\",\"Salaried\",\"Salaried\",\"Business\",\"Business\",\"Business\",\"Salaried\",\"Business\",\"Business\",\"Business\",\"Business\",\"Business\",\"Business\",\"Business\",\"Salaried\",\"Business\",\"Salaried\",\"Salaried\",\"Business\",\"Salaried\",\"Business\",\"Salaried\",\"Salaried\",\"Business\",\"Business\",\"Salaried\",\"Salaried\",\"Business\",\"Salaried\",\"Salaried\",\"Business\",\"Salaried\",\"Salaried\",\"Salaried\",\"Business\",\"Business\",\"Salaried\",\"Business\",\"Salaried\",\"Business\",\"Business\",\"Salaried\",\"Salaried\",\"Business\",\"Salaried\",\"Business\",\"Salaried\",\"Business\",\"Salaried\",\"Salaried\",\"Salaried\",\"Salaried\",\"Business\",\"Salaried\",\"Salaried\",\"Salaried\",\"Salaried\",\"Business\",\"Salaried\",\"Salaried\",\"Salaried\",\"Business\",\"Business\",\"Business\",\"Business\",\"Salaried\",\"Business\",\"Business\",\"Salaried\",\"Salaried\",\"Salaried\",\"Salaried\",\"Salaried\",\"Business\",\"Salaried\",\"Business\",\"Business\",\"Business\",\"Salaried\",\"Business\",\"Salaried\",\"Salaried\",\"Salaried\",\"Business\",\"Salaried\",\"Business\",\"Salaried\",\"Salaried\",\"Salaried\",\"Salaried\",\"Salaried\",\"Business\",\"Salaried\",\"Salaried\",\"Salaried\",\"Salaried\",\"Salaried\",\"Business\",\"Business\",\"Salaried\",\"Business\",\"Salaried\",\"Business\",\"Salaried\",\"Salaried\",\"Salaried\",\"Salaried\",\"Business\",\"Salaried\",\"Business\",\"Salaried\",\"Salaried\",\"Business\",\"Salaried\",\"Salaried\",\"Salaried\",\"Business\",\"Business\",\"Business\",\"Salaried\",\"Business\",\"Salaried\",\"Salaried\",\"Business\",\"Business\",\"Business\",\"Salaried\",\"Business\",\"Salaried\",\"Salaried\",\"Business\",\"Business\",\"Salaried\",\"Salaried\",\"Salaried\",\"Salaried\",\"Salaried\",\"Business\",\"Business\",\"Salaried\",\"Salaried\",\"Business\",\"Salaried\",\"Salaried\",\"Salaried\",\"Business\",\"Salaried\",\"Salaried\",\"Salaried\",\"Business\",\"Salaried\",\"Salaried\",\"Salaried\",\"Salaried\",\"Salaried\",\"Business\",\"Salaried\",\"Business\",\"Business\",\"Salaried\",\"Business\",\"Salaried\",\"Salaried\",\"Salaried\",\"Salaried\",\"Salaried\",\"Salaried\",\"Business\",\"Salaried\",\"Salaried\",\"Salaried\",\"Business\",\"Salaried\",\"Salaried\",\"Business\",\"Salaried\",\"Salaried\",\"Salaried\",\"Business\",\"Salaried\",\"Business\",\"Salaried\",\"Business\",\"Salaried\",\"Salaried\",\"Business\",\"Business\",\"Salaried\",\"Salaried\",\"Business\",\"Salaried\",\"Salaried\",\"Salaried\",\"Salaried\",\"Salaried\",\"Salaried\",\"Salaried\",\"Salaried\",\"Salaried\",\"Business\",\"Salaried\",\"Business\",\"Business\",\"Business\",\"Business\",\"Business\",\"Business\",\"Salaried\",\"Business\",\"Salaried\",\"Salaried\",\"Salaried\",\"Business\",\"Salaried\",\"Business\",\"Salaried\",\"Salaried\",\"Business\",\"Salaried\",\"Business\",\"Salaried\",\"Salaried\",\"Salaried\",\"Salaried\",\"Salaried\",\"Business\",\"Salaried\",\"Business\",\"Business\",\"Salaried\",\"Salaried\",\"Business\",\"Salaried\",\"Salaried\",\"Salaried\",\"Business\",\"Salaried\",\"Salaried\",\"Salaried\",\"Salaried\",\"Salaried\",\"Business\",\"Salaried\",\"Salaried\",\"Business\",\"Salaried\",\"Business\",\"Salaried\",\"Salaried\",\"Salaried\",\"Salaried\",\"Salaried\",\"Salaried\",\"Salaried\",\"Salaried\",\"Business\",\"Salaried\",\"Salaried\",\"Business\",\"Salaried\",\"Salaried\",\"Business\",\"Salaried\",\"Business\",\"Business\",\"Salaried\",\"Salaried\",\"Salaried\",\"Salaried\",\"Business\",\"Business\",\"Salaried\",\"Business\",\"Salaried\",\"Salaried\",\"Salaried\",\"Salaried\",\"Salaried\",\"Salaried\",\"Business\",\"Business\",\"Business\",\"Salaried\",\"Salaried\",\"Salaried\",\"Salaried\",\"Salaried\",\"Salaried\",\"Business\",\"Salaried\",\"Business\",\"Salaried\",\"Business\",\"Salaried\",\"Salaried\",\"Salaried\",\"Salaried\",\"Business\",\"Salaried\",\"Salaried\",\"Salaried\",\"Business\",\"Business\",\"Salaried\",\"Business\",\"Business\",\"Business\",\"Salaried\",\"Business\",\"Business\",\"Salaried\",\"Business\",\"Business\",\"Salaried\",\"Business\",\"Business\",\"Salaried\",\"Salaried\",\"Salaried\",\"Salaried\",\"Business\",\"Business\",\"Business\",\"Business\",\"Business\",\"Salaried\",\"Salaried\",\"Salaried\",\"Business\",\"Business\",\"Salaried\",\"Business\",\"Salaried\",\"Salaried\",\"Salaried\",\"Business\",\"Salaried\",\"Salaried\",\"Business\",\"Business\",\"Salaried\",\"Business\",\"Business\",\"Salaried\",\"Salaried\",\"Salaried\",\"Business\",\"Salaried\",\"Business\",\"Salaried\",\"Business\",\"Business\",\"Business\",\"Salaried\",\"Salaried\",\"Salaried\",\"Salaried\",\"Salaried\",\"Business\",\"Salaried\",\"Business\",\"Business\",\"Business\",\"Salaried\",\"Business\",\"Salaried\",\"Business\",\"Salaried\",\"Salaried\",\"Salaried\",\"Salaried\",\"Business\",\"Business\",\"Business\",\"Business\",\"Salaried\",\"Business\",\"Business\",\"Salaried\",\"Business\",\"Salaried\",\"Salaried\",\"Business\",\"Salaried\",\"Salaried\",\"Salaried\",\"Business\",\"Business\",\"Salaried\",\"Business\",\"Salaried\",\"Business\",\"Business\",\"Business\",\"Salaried\",\"Salaried\",\"Salaried\",\"Business\",\"Business\",\"Salaried\",\"Business\",\"Business\",\"Business\",\"Salaried\",\"Business\",\"Business\",\"Business\",\"Business\",\"Business\",\"Business\",\"Salaried\",\"Salaried\",\"Salaried\",\"Business\",\"Business\",\"Business\",\"Business\",\"Business\",\"Salaried\",\"Salaried\",\"Salaried\",\"Salaried\",\"Salaried\",\"Salaried\",\"Salaried\",\"Salaried\",\"Salaried\",\"Salaried\",\"Business\",\"Salaried\",\"Salaried\",\"Business\",\"Business\",\"Salaried\",\"Business\",\"Salaried\",\"Salaried\",\"Business\",\"Business\",\"Salaried\",\"Business\",\"Salaried\",\"Business\",\"Business\",\"Salaried\",\"Business\",\"Salaried\",\"Business\",\"Business\",\"Business\",\"Salaried\",\"Business\",\"Business\",\"Business\",\"Business\",\"Salaried\",\"Salaried\",\"Salaried\",\"Business\",\"Business\",\"Business\",\"Salaried\",\"Salaried\",\"Salaried\",\"Business\",\"Salaried\",\"Business\",\"Salaried\",\"Salaried\",\"Salaried\",\"Business\",\"Business\",\"Salaried\",\"Business\",\"Salaried\",\"Business\",\"Business\",\"Salaried\",\"Business\",\"Salaried\",\"Salaried\",\"Salaried\",\"Business\",\"Salaried\",\"Business\",\"Business\",\"Salaried\",\"Salaried\",\"Business\",\"Salaried\",\"Salaried\",\"Salaried\",\"Business\",\"Salaried\",\"Salaried\",\"Business\",\"Business\",\"Salaried\",\"Business\",\"Salaried\",\"Salaried\",\"Business\",\"Salaried\",\"Business\",\"Salaried\",\"Salaried\",\"Salaried\",\"Business\",\"Salaried\",\"Business\",\"Business\",\"Business\",\"Business\",\"Business\",\"Business\",\"Salaried\",\"Salaried\",\"Salaried\",\"Business\",\"Business\",\"Business\",\"Business\",\"Business\",\"Business\",\"Salaried\",\"Salaried\",\"Business\",\"Business\",\"Business\",\"Business\",\"Business\",\"Business\",\"Business\",\"Business\",\"Salaried\",\"Salaried\",\"Business\",\"Salaried\",\"Business\",\"Business\",\"Salaried\",\"Salaried\",\"Salaried\",\"Salaried\",\"Business\",\"Business\",\"Salaried\",\"Salaried\",\"Salaried\",\"Business\",\"Salaried\",\"Salaried\",\"Business\",\"Business\",\"Business\",\"Business\",\"Business\",\"Business\",\"Business\",\"Salaried\",\"Salaried\",\"Salaried\",\"Salaried\",\"Business\",\"Business\",\"Salaried\",\"Business\",\"Business\",\"Salaried\",\"Business\",\"Business\",\"Business\",\"Business\",\"Salaried\",\"Business\",\"Salaried\",\"Salaried\",\"Salaried\",\"Salaried\",\"Business\",\"Salaried\",\"Salaried\",\"Business\",\"Business\",\"Salaried\",\"Salaried\",\"Business\",\"Salaried\",\"Business\",\"Salaried\",\"Business\",\"Salaried\",\"Business\",\"Business\",\"Salaried\",\"Business\",\"Salaried\",\"Salaried\",\"Salaried\",\"Salaried\",\"Business\",\"Salaried\",\"Business\",\"Business\",\"Salaried\",\"Salaried\",\"Salaried\",\"Salaried\",\"Business\",\"Business\",\"Salaried\",\"Salaried\",\"Business\",\"Business\",\"Business\",\"Salaried\",\"Salaried\",\"Salaried\",\"Salaried\",\"Salaried\",\"Business\",\"Salaried\",\"Business\",\"Business\",\"Salaried\",\"Salaried\",\"Business\",\"Business\",\"Business\",\"Salaried\",\"Business\",\"Salaried\",\"Salaried\",\"Business\",\"Business\",\"Business\",\"Salaried\",\"Salaried\",\"Salaried\",\"Salaried\",\"Salaried\",\"Business\",\"Salaried\",\"Salaried\",\"Salaried\",\"Business\",\"Business\",\"Salaried\",\"Salaried\",\"Salaried\",\"Salaried\",\"Business\",\"Business\",\"Salaried\",\"Business\",\"Business\",\"Salaried\",\"Business\",\"Salaried\",\"Salaried\",\"Salaried\",\"Salaried\",\"Salaried\",\"Salaried\",\"Salaried\",\"Salaried\",\"Salaried\",\"Salaried\",\"Business\",\"Salaried\",\"Business\",\"Business\",\"Salaried\",\"Business\",\"Salaried\",\"Salaried\",\"Salaried\",\"Business\",\"Business\",\"Salaried\",\"Business\",\"Business\",\"Business\",\"Salaried\",\"Salaried\",\"Business\",\"Business\",\"Salaried\",\"Salaried\"],\"x0\":\" \",\"xaxis\":\"x\",\"y\":[43000,53000,47000,52000,35000,42000,33000,43000,34000,50000,40000,42000,54000,36000,54000,41000,37000,41000,41000,50000,48000,44000,44000,43000,50000,49000,35000,41000,31000,54000,53000,44000,32000,33000,39000,31000,52000,33000,42000,51000,35000,39000,42000,52000,46000,50000,31000,39000,46000,51000,54000,53000,32000,32000,55000,32000,47000,47000,46000,47000,32000,42000,35000,48000,33000,34000,43000,50000,37000,33000,38000,53000,43000,39000,49000,38000,49000,36000,36000,35000,33000,41000,46000,47000,45000,52000,43000,54000,45000,33000,38000,52000,54000,38000,32000,44000,44000,42000,52000,39000,53000,32000,49000,32000,39000,43000,40000,41000,53000,41000,36000,33000,50000,48000,42000,31000,44000,50000,34000,40000,33000,50000,54000,35000,49000,46000,32000,34000,36000,54000,51000,46000,54000,34000,47000,39000,34000,54000,38000,55000,55000,52000,38000,47000,35000,46000,46000,45000,43000,52000,48000,50000,34000,39000,43000,54000,33000,33000,34000,42000,45000,32000,31000,46000,47000,39000,52000,47000,42000,38000,37000,49000,43000,48000,44000,49000,36000,36000,33000,50000,55000,46000,47000,43000,47000,49000,33000,47000,55000,33000,40000,55000,50000,48000,50000,47000,36000,53000,36000,48000,39000,35000,42000,47000,54000,51000,32000,44000,44000,53000,48000,50000,34000,37000,33000,34000,55000,45000,43000,51000,34000,31000,50000,43000,33000,33000,44000,48000,34000,47000,37000,33000,36000,50000,51000,52000,41000,35000,48000,53000,46000,43000,43000,39000,38000,43000,48000,54000,44000,35000,32000,34000,35000,32000,54000,43000,40000,33000,41000,42000,51000,37000,37000,43000,45000,37000,52000,41000,50000,47000,40000,37000,43000,48000,46000,32000,45000,52000,50000,49000,45000,35000,44000,32000,39000,41000,33000,49000,42000,38000,31000,44000,39000,46000,43000,50000,33000,31000,53000,37000,35000,52000,47000,50000,36000,45000,43000,44000,40000,34000,37000,48000,53000,52000,51000,53000,48000,41000,32000,51000,36000,36000,49000,48000,45000,55000,46000,35000,39000,35000,49000,31000,37000,37000,53000,31000,28000,34000,42000,41000,39000,53000,21000,47000,24000,23000,28000,48000,38000,23000,24000,33000,19000,55000,21000,18000,48000,39000,26000,20000,37000,26000,51000,53000,29000,41000,26000,19000,23000,28000,24000,21000,21000,18000,28000,20000,31000,27000,23000,53000,49000,18000,36000,34000,31000,43000,27000,31000,31000,24000,23000,50000,33000,19000,37000,54000,34000,29000,23000,37000,24000,31000,53000,19000,19000,46000,50000,42000,28000,47000,48000,32000,28000,23000,22000,27000,27000,26000,18000,46000,20000,21000,20000,18000,23000,26000,20000,19000,20000,20000,26000,21000,20000,40000,39000,35000,50000,31000,43000,43000,38000,34000,18000,45000,40000,24000,24000,26000,48000,51000,32000,44000,31000,23000,24000,29000,42000,39000,27000,39000,52000,27000,24000,21000,21000,28000,24000,23000,26000,24000,31000,31000,18000,23000,19000,18000,52000,20000,21000,20000,35000,21000,21000,21000,19000,20000,21000,19000,21000,19000,18000,18000,34000,29000,31000,24000,51000,18000,30000,38000,23000,41000,36000,28000,35000,43000,23000,39000,52000,27000,18000,31000,23000,27000,18000,19000,18000,18000,31000,18000,31000,21000,20000,19000,31000,28000,27000,24000,31000,23000,18000,23000,21000,20000,27000,28000,31000,26000,27000,21000,31000,28000,21000,18000,18000,27000,23000,18000,28000,24000,27000,27000,27000,26000,29000,26000,21000,28000,19000,26000,23000,27000,21000,26000,19000,27000,18000,31000,26000,31000,18000,23000,19000,18000,21000,27000,27000,26000,23000,19000,26000,31000,20000,31000,31000,21000,20000,24000,26000,27000,24000,27000,29000,23000,26000,23000,21000,21000,31000,19000,29000,27000,20000,27000,23000,24000,18000,21000,23000,19000,18000,18000,31000,31000,23000,18000,27000,31000,27000,23000,26000,23000,31000,26000,29000,19000,20000,21000,18000,21000,19000,29000,21000,23000,20000,29000,21000,19000,30000,18000,26000,28000,21000,23000,23000,29000,31000,23000,21000,24000,26000,23000,20000,21000,27000,23000,21000,29000,27000,27000,31000,27000,19000,27000,23000,24000,18000,29000,23000,27000,21000,23000,18000,19000,18000,20000,27000,19000,27000,31000,27000,26000,23000,23000,26000,27000,21000,18000,24000,29000,23000,29000,27000,21000,21000,29000,19000,18000,18000,22000,23000,20000],\"y0\":\" \",\"yaxis\":\"y\",\"type\":\"box\"},{\"alignmentgroup\":\"True\",\"hovertemplate\":\"Make=Hatchback\\u003cbr\\u003eProfession=%{x}\\u003cbr\\u003ePrice=%{y}\\u003cextra\\u003e\\u003c\\u002fextra\\u003e\",\"legendgroup\":\"Hatchback\",\"marker\":{\"color\":\"#00cc96\"},\"name\":\"Hatchback\",\"notched\":false,\"offsetgroup\":\"Hatchback\",\"orientation\":\"v\",\"showlegend\":true,\"x\":[\"Salaried\",\"Salaried\",\"Business\",\"Salaried\",\"Salaried\",\"Salaried\",\"Salaried\",\"Business\",\"Salaried\",\"Salaried\",\"Business\",\"Salaried\",\"Business\",\"Business\",\"Business\",\"Salaried\",\"Business\",\"Salaried\",\"Salaried\",\"Salaried\",\"Salaried\",\"Business\",\"Business\",\"Business\",\"Salaried\",\"Salaried\",\"Business\",\"Business\",\"Business\",\"Business\",\"Business\",\"Business\",\"Salaried\",\"Salaried\",\"Salaried\",\"Business\",\"Salaried\",\"Business\",\"Business\",\"Salaried\",\"Business\",\"Salaried\",\"Salaried\",\"Business\",\"Salaried\",\"Salaried\",\"Business\",\"Salaried\",\"Salaried\",\"Salaried\",\"Salaried\",\"Salaried\",\"Salaried\",\"Business\",\"Business\",\"Business\",\"Salaried\",\"Salaried\",\"Salaried\",\"Business\",\"Salaried\",\"Salaried\",\"Salaried\",\"Business\",\"Salaried\",\"Salaried\",\"Salaried\",\"Salaried\",\"Salaried\",\"Salaried\",\"Salaried\",\"Salaried\",\"Business\",\"Business\",\"Business\",\"Business\",\"Salaried\",\"Salaried\",\"Business\",\"Business\",\"Business\",\"Salaried\",\"Business\",\"Business\",\"Business\",\"Business\",\"Business\",\"Salaried\",\"Salaried\",\"Business\",\"Business\",\"Salaried\",\"Business\",\"Business\",\"Salaried\",\"Salaried\",\"Business\",\"Business\",\"Business\",\"Business\",\"Business\",\"Business\",\"Business\",\"Business\",\"Salaried\",\"Salaried\",\"Salaried\",\"Business\",\"Business\",\"Salaried\",\"Salaried\",\"Business\",\"Business\",\"Salaried\",\"Salaried\",\"Business\",\"Salaried\",\"Salaried\",\"Salaried\",\"Business\",\"Salaried\",\"Salaried\",\"Salaried\",\"Business\",\"Salaried\",\"Business\",\"Salaried\",\"Salaried\",\"Salaried\",\"Business\",\"Salaried\",\"Business\",\"Salaried\",\"Salaried\",\"Business\",\"Business\",\"Business\",\"Salaried\",\"Salaried\",\"Salaried\",\"Salaried\",\"Salaried\",\"Business\",\"Business\",\"Salaried\",\"Salaried\",\"Salaried\",\"Business\",\"Business\",\"Salaried\",\"Salaried\",\"Salaried\",\"Salaried\",\"Salaried\",\"Salaried\",\"Business\",\"Business\",\"Salaried\",\"Salaried\",\"Business\",\"Salaried\",\"Business\",\"Salaried\",\"Salaried\",\"Business\",\"Business\",\"Business\",\"Salaried\",\"Business\",\"Business\",\"Business\",\"Business\",\"Business\",\"Business\",\"Business\",\"Business\",\"Business\",\"Business\",\"Salaried\",\"Salaried\",\"Salaried\",\"Business\",\"Salaried\",\"Business\",\"Salaried\",\"Business\",\"Business\",\"Salaried\",\"Salaried\",\"Salaried\",\"Business\",\"Business\",\"Salaried\",\"Salaried\",\"Business\",\"Business\",\"Business\",\"Business\",\"Salaried\",\"Salaried\",\"Salaried\",\"Salaried\",\"Business\",\"Salaried\",\"Business\",\"Salaried\",\"Salaried\",\"Salaried\",\"Salaried\",\"Business\",\"Salaried\",\"Business\",\"Salaried\",\"Business\",\"Business\",\"Business\",\"Salaried\",\"Business\",\"Business\",\"Salaried\",\"Business\",\"Business\",\"Business\",\"Salaried\",\"Salaried\",\"Business\",\"Business\",\"Salaried\",\"Business\",\"Salaried\",\"Salaried\",\"Salaried\",\"Salaried\",\"Salaried\",\"Salaried\",\"Business\",\"Business\",\"Salaried\",\"Business\",\"Salaried\",\"Business\",\"Salaried\",\"Salaried\",\"Salaried\",\"Business\",\"Salaried\",\"Salaried\",\"Business\",\"Business\",\"Business\",\"Salaried\",\"Salaried\",\"Business\",\"Business\",\"Business\",\"Business\",\"Salaried\",\"Salaried\",\"Business\",\"Salaried\",\"Business\",\"Business\",\"Salaried\",\"Business\",\"Salaried\",\"Salaried\",\"Salaried\",\"Business\",\"Business\",\"Business\",\"Business\",\"Salaried\",\"Salaried\",\"Business\",\"Salaried\",\"Business\",\"Salaried\",\"Business\",\"Business\",\"Salaried\",\"Salaried\",\"Salaried\",\"Business\",\"Business\",\"Salaried\",\"Business\",\"Business\",\"Salaried\",\"Business\",\"Salaried\",\"Salaried\",\"Salaried\",\"Salaried\",\"Business\",\"Business\",\"Business\",\"Business\",\"Business\",\"Business\",\"Business\",\"Salaried\",\"Business\",\"Business\",\"Business\",\"Salaried\",\"Business\",\"Salaried\",\"Business\",\"Business\",\"Salaried\",\"Salaried\",\"Business\",\"Salaried\",\"Business\",\"Salaried\",\"Business\",\"Salaried\",\"Salaried\",\"Salaried\",\"Salaried\",\"Salaried\",\"Business\",\"Business\",\"Salaried\",\"Business\",\"Business\",\"Salaried\",\"Salaried\",\"Business\",\"Salaried\",\"Salaried\",\"Salaried\",\"Salaried\",\"Salaried\",\"Business\",\"Salaried\",\"Salaried\",\"Salaried\",\"Business\",\"Business\",\"Salaried\",\"Business\",\"Salaried\",\"Business\",\"Business\",\"Business\",\"Business\",\"Business\",\"Salaried\",\"Business\",\"Salaried\",\"Business\",\"Business\",\"Salaried\",\"Salaried\",\"Business\",\"Salaried\",\"Business\",\"Business\",\"Business\",\"Salaried\",\"Business\",\"Salaried\",\"Salaried\",\"Business\",\"Salaried\",\"Business\",\"Salaried\",\"Salaried\",\"Business\",\"Business\",\"Business\",\"Salaried\",\"Business\",\"Business\",\"Salaried\",\"Salaried\",\"Salaried\",\"Business\",\"Salaried\",\"Salaried\",\"Business\",\"Salaried\",\"Business\",\"Salaried\",\"Business\",\"Salaried\",\"Business\",\"Salaried\",\"Salaried\",\"Business\",\"Salaried\",\"Business\",\"Business\",\"Business\",\"Business\",\"Business\",\"Business\",\"Salaried\",\"Business\",\"Business\",\"Business\",\"Business\",\"Salaried\",\"Business\",\"Business\",\"Business\",\"Business\",\"Business\",\"Business\",\"Business\",\"Salaried\",\"Salaried\",\"Salaried\",\"Business\",\"Salaried\",\"Salaried\",\"Business\",\"Salaried\",\"Salaried\",\"Business\",\"Salaried\",\"Business\",\"Salaried\",\"Salaried\",\"Business\",\"Salaried\",\"Salaried\",\"Business\",\"Business\",\"Salaried\",\"Business\",\"Salaried\",\"Salaried\",\"Business\",\"Salaried\",\"Salaried\",\"Business\",\"Business\",\"Business\",\"Business\",\"Business\",\"Business\",\"Salaried\",\"Salaried\",\"Salaried\",\"Salaried\",\"Salaried\",\"Salaried\",\"Salaried\",\"Business\",\"Business\",\"Salaried\",\"Salaried\",\"Business\",\"Salaried\",\"Business\",\"Business\",\"Salaried\",\"Salaried\",\"Business\",\"Salaried\",\"Salaried\",\"Business\",\"Salaried\",\"Business\",\"Salaried\",\"Business\",\"Business\",\"Salaried\",\"Business\",\"Business\",\"Salaried\",\"Business\",\"Salaried\",\"Salaried\",\"Business\",\"Business\",\"Business\",\"Business\",\"Salaried\",\"Salaried\",\"Salaried\",\"Salaried\",\"Salaried\",\"Salaried\",\"Salaried\",\"Salaried\",\"Salaried\",\"Salaried\",\"Business\",\"Business\",\"Business\",\"Salaried\",\"Salaried\",\"Business\",\"Business\",\"Business\",\"Business\",\"Salaried\",\"Business\",\"Salaried\",\"Salaried\",\"Salaried\",\"Salaried\",\"Business\",\"Salaried\",\"Business\",\"Business\",\"Business\",\"Salaried\",\"Business\",\"Salaried\",\"Business\",\"Salaried\",\"Business\",\"Business\",\"Salaried\",\"Business\",\"Business\",\"Salaried\",\"Business\",\"Salaried\",\"Business\",\"Business\",\"Salaried\",\"Salaried\",\"Business\",\"Salaried\",\"Salaried\",\"Business\",\"Business\",\"Salaried\",\"Business\",\"Business\",\"Business\",\"Business\",\"Salaried\",\"Business\",\"Salaried\",\"Salaried\",\"Business\",\"Salaried\",\"Business\",\"Business\",\"Business\",\"Salaried\",\"Salaried\",\"Business\",\"Salaried\",\"Salaried\",\"Business\",\"Salaried\",\"Business\",\"Business\",\"Business\",\"Business\",\"Business\",\"Business\",\"Salaried\",\"Salaried\",\"Salaried\",\"Salaried\",\"Business\",\"Business\",\"Business\",\"Salaried\",\"Salaried\",\"Salaried\",\"Salaried\",\"Salaried\",\"Salaried\",\"Business\",\"Business\",\"Business\",\"Business\",\"Salaried\",\"Salaried\",\"Business\",\"Business\",\"Business\",\"Salaried\"],\"x0\":\" \",\"xaxis\":\"x\",\"y\":[30000,31000,25000,22000,25000,33000,29000,23000,33000,20000,24000,24000,32000,32000,30000,28000,30000,29000,20000,25000,23000,32000,30000,29000,31000,33000,29000,22000,20000,25000,30000,28000,28000,32000,30000,20000,32000,20000,22000,32000,30000,25000,20000,30000,29000,32000,23000,26000,30000,26000,33000,31000,32000,20000,25000,28000,32000,32000,22000,22000,28000,25000,29000,30000,22000,22000,33000,22000,28000,29000,29000,28000,32000,32000,22000,20000,33000,20000,32000,30000,32000,20000,29000,28000,23000,20000,33000,24000,23000,20000,33000,32000,32000,32000,22000,20000,28000,22000,31000,26000,29000,25000,30000,32000,20000,33000,32000,29000,32000,28000,25000,33000,27000,32000,29000,30000,28000,33000,32000,26000,20000,31000,26000,32000,24000,19000,27000,33000,26000,24000,20000,32000,30000,22000,30000,25000,20000,29000,29000,22000,33000,32000,28000,25000,23000,28000,31000,22000,31000,30000,22000,24000,30000,20000,26000,24000,31000,20000,25000,19000,24000,27000,24000,26000,32000,28000,23000,30000,29000,22000,30000,28000,22000,32000,26000,28000,19000,30000,19000,24000,22000,30000,24000,20000,19000,24000,32000,28000,24000,32000,26000,30000,28000,23000,22000,22000,27000,23000,20000,31000,33000,30000,30000,30000,28000,25000,30000,22000,32000,23000,28000,25000,23000,23000,23000,19000,26000,24000,33000,32000,23000,26000,29000,30000,32000,25000,22000,28000,24000,28000,31000,25000,23000,23000,32000,31000,22000,32000,27000,33000,33000,28000,22000,22000,29000,27000,27000,20000,29000,20000,26000,31000,31000,20000,29000,25000,22000,29000,24000,30000,22000,21000,30000,24000,31000,30000,20000,19000,19000,27000,23000,30000,23000,20000,25000,23000,20000,32000,24000,22000,28000,23000,22000,25000,29000,28000,30000,23000,28000,30000,25000,24000,25000,33000,20000,20000,32000,29000,25000,24000,30000,31000,31000,25000,24000,22000,25000,24000,20000,28000,30000,26000,20000,30000,28000,30000,20000,33000,31000,28000,26000,32000,33000,33000,30000,23000,20000,19000,32000,26000,19000,29000,27000,20000,19000,32000,32000,31000,28000,25000,20000,20000,20000,19000,30000,24000,30000,27000,20000,30000,26000,24000,22000,20000,25000,20000,29000,25000,32000,25000,20000,32000,24000,20000,30000,28000,26000,28000,26000,31000,27000,25000,25000,26000,32000,32000,28000,22000,19000,30000,26000,28000,25000,32000,31000,32000,22000,20000,30000,29000,23000,32000,19000,24000,29000,20000,31000,22000,33000,32000,28000,29000,30000,29000,20000,32000,31000,23000,31000,30000,20000,20000,23000,33000,25000,25000,24000,28000,27000,25000,20000,24000,19000,28000,33000,31000,26000,22000,25000,22000,33000,24000,22000,20000,18000,32000,28000,22000,28000,25000,22000,28000,22000,18000,25000,32000,28000,29000,27000,24000,28000,22000,32000,24000,30000,24000,33000,23000,20000,32000,24000,26000,20000,32000,25000,22000,24000,20000,29000,20000,32000,32000,22000,33000,31000,30000,26000,24000,23000,33000,32000,30000,19000,30000,30000,26000,24000,28000,28000,24000,31000,29000,26000,29000,25000,25000,26000,22000,31000,25000,23000,20000,33000,33000,28000,28000,26000,22000,22000,25000,32000,22000,30000,29000,31000,30000,30000,25000,28000,31000,30000,32000,28000,19000,28000,28000,20000,22000,24000,32000,29000,28000,24000,33000,23000,30000,24000,23000,22000,32000,30000,19000,28000,20000,22000,32000,22000,25000,25000,31000,32000,20000,25000,20000,32000,23000,29000,22000,29000,27000,26000,26000,25000,30000,28000,32000,23000,19000,24000,24000,23000,22000,21000,33000,24000,23000,19000,27000,31000,30000,24000,31000],\"y0\":\" \",\"yaxis\":\"y\",\"type\":\"box\"}],                        {\"template\":{\"data\":{\"histogram2dcontour\":[{\"type\":\"histogram2dcontour\",\"colorbar\":{\"outlinewidth\":0,\"ticks\":\"\"},\"colorscale\":[[0.0,\"#0d0887\"],[0.1111111111111111,\"#46039f\"],[0.2222222222222222,\"#7201a8\"],[0.3333333333333333,\"#9c179e\"],[0.4444444444444444,\"#bd3786\"],[0.5555555555555556,\"#d8576b\"],[0.6666666666666666,\"#ed7953\"],[0.7777777777777778,\"#fb9f3a\"],[0.8888888888888888,\"#fdca26\"],[1.0,\"#f0f921\"]]}],\"choropleth\":[{\"type\":\"choropleth\",\"colorbar\":{\"outlinewidth\":0,\"ticks\":\"\"}}],\"histogram2d\":[{\"type\":\"histogram2d\",\"colorbar\":{\"outlinewidth\":0,\"ticks\":\"\"},\"colorscale\":[[0.0,\"#0d0887\"],[0.1111111111111111,\"#46039f\"],[0.2222222222222222,\"#7201a8\"],[0.3333333333333333,\"#9c179e\"],[0.4444444444444444,\"#bd3786\"],[0.5555555555555556,\"#d8576b\"],[0.6666666666666666,\"#ed7953\"],[0.7777777777777778,\"#fb9f3a\"],[0.8888888888888888,\"#fdca26\"],[1.0,\"#f0f921\"]]}],\"heatmap\":[{\"type\":\"heatmap\",\"colorbar\":{\"outlinewidth\":0,\"ticks\":\"\"},\"colorscale\":[[0.0,\"#0d0887\"],[0.1111111111111111,\"#46039f\"],[0.2222222222222222,\"#7201a8\"],[0.3333333333333333,\"#9c179e\"],[0.4444444444444444,\"#bd3786\"],[0.5555555555555556,\"#d8576b\"],[0.6666666666666666,\"#ed7953\"],[0.7777777777777778,\"#fb9f3a\"],[0.8888888888888888,\"#fdca26\"],[1.0,\"#f0f921\"]]}],\"heatmapgl\":[{\"type\":\"heatmapgl\",\"colorbar\":{\"outlinewidth\":0,\"ticks\":\"\"},\"colorscale\":[[0.0,\"#0d0887\"],[0.1111111111111111,\"#46039f\"],[0.2222222222222222,\"#7201a8\"],[0.3333333333333333,\"#9c179e\"],[0.4444444444444444,\"#bd3786\"],[0.5555555555555556,\"#d8576b\"],[0.6666666666666666,\"#ed7953\"],[0.7777777777777778,\"#fb9f3a\"],[0.8888888888888888,\"#fdca26\"],[1.0,\"#f0f921\"]]}],\"contourcarpet\":[{\"type\":\"contourcarpet\",\"colorbar\":{\"outlinewidth\":0,\"ticks\":\"\"}}],\"contour\":[{\"type\":\"contour\",\"colorbar\":{\"outlinewidth\":0,\"ticks\":\"\"},\"colorscale\":[[0.0,\"#0d0887\"],[0.1111111111111111,\"#46039f\"],[0.2222222222222222,\"#7201a8\"],[0.3333333333333333,\"#9c179e\"],[0.4444444444444444,\"#bd3786\"],[0.5555555555555556,\"#d8576b\"],[0.6666666666666666,\"#ed7953\"],[0.7777777777777778,\"#fb9f3a\"],[0.8888888888888888,\"#fdca26\"],[1.0,\"#f0f921\"]]}],\"surface\":[{\"type\":\"surface\",\"colorbar\":{\"outlinewidth\":0,\"ticks\":\"\"},\"colorscale\":[[0.0,\"#0d0887\"],[0.1111111111111111,\"#46039f\"],[0.2222222222222222,\"#7201a8\"],[0.3333333333333333,\"#9c179e\"],[0.4444444444444444,\"#bd3786\"],[0.5555555555555556,\"#d8576b\"],[0.6666666666666666,\"#ed7953\"],[0.7777777777777778,\"#fb9f3a\"],[0.8888888888888888,\"#fdca26\"],[1.0,\"#f0f921\"]]}],\"mesh3d\":[{\"type\":\"mesh3d\",\"colorbar\":{\"outlinewidth\":0,\"ticks\":\"\"}}],\"scatter\":[{\"fillpattern\":{\"fillmode\":\"overlay\",\"size\":10,\"solidity\":0.2},\"type\":\"scatter\"}],\"parcoords\":[{\"type\":\"parcoords\",\"line\":{\"colorbar\":{\"outlinewidth\":0,\"ticks\":\"\"}}}],\"scatterpolargl\":[{\"type\":\"scatterpolargl\",\"marker\":{\"colorbar\":{\"outlinewidth\":0,\"ticks\":\"\"}}}],\"bar\":[{\"error_x\":{\"color\":\"#2a3f5f\"},\"error_y\":{\"color\":\"#2a3f5f\"},\"marker\":{\"line\":{\"color\":\"#E5ECF6\",\"width\":0.5},\"pattern\":{\"fillmode\":\"overlay\",\"size\":10,\"solidity\":0.2}},\"type\":\"bar\"}],\"scattergeo\":[{\"type\":\"scattergeo\",\"marker\":{\"colorbar\":{\"outlinewidth\":0,\"ticks\":\"\"}}}],\"scatterpolar\":[{\"type\":\"scatterpolar\",\"marker\":{\"colorbar\":{\"outlinewidth\":0,\"ticks\":\"\"}}}],\"histogram\":[{\"marker\":{\"pattern\":{\"fillmode\":\"overlay\",\"size\":10,\"solidity\":0.2}},\"type\":\"histogram\"}],\"scattergl\":[{\"type\":\"scattergl\",\"marker\":{\"colorbar\":{\"outlinewidth\":0,\"ticks\":\"\"}}}],\"scatter3d\":[{\"type\":\"scatter3d\",\"line\":{\"colorbar\":{\"outlinewidth\":0,\"ticks\":\"\"}},\"marker\":{\"colorbar\":{\"outlinewidth\":0,\"ticks\":\"\"}}}],\"scattermapbox\":[{\"type\":\"scattermapbox\",\"marker\":{\"colorbar\":{\"outlinewidth\":0,\"ticks\":\"\"}}}],\"scatterternary\":[{\"type\":\"scatterternary\",\"marker\":{\"colorbar\":{\"outlinewidth\":0,\"ticks\":\"\"}}}],\"scattercarpet\":[{\"type\":\"scattercarpet\",\"marker\":{\"colorbar\":{\"outlinewidth\":0,\"ticks\":\"\"}}}],\"carpet\":[{\"aaxis\":{\"endlinecolor\":\"#2a3f5f\",\"gridcolor\":\"white\",\"linecolor\":\"white\",\"minorgridcolor\":\"white\",\"startlinecolor\":\"#2a3f5f\"},\"baxis\":{\"endlinecolor\":\"#2a3f5f\",\"gridcolor\":\"white\",\"linecolor\":\"white\",\"minorgridcolor\":\"white\",\"startlinecolor\":\"#2a3f5f\"},\"type\":\"carpet\"}],\"table\":[{\"cells\":{\"fill\":{\"color\":\"#EBF0F8\"},\"line\":{\"color\":\"white\"}},\"header\":{\"fill\":{\"color\":\"#C8D4E3\"},\"line\":{\"color\":\"white\"}},\"type\":\"table\"}],\"barpolar\":[{\"marker\":{\"line\":{\"color\":\"#E5ECF6\",\"width\":0.5},\"pattern\":{\"fillmode\":\"overlay\",\"size\":10,\"solidity\":0.2}},\"type\":\"barpolar\"}],\"pie\":[{\"automargin\":true,\"type\":\"pie\"}]},\"layout\":{\"autotypenumbers\":\"strict\",\"colorway\":[\"#636efa\",\"#EF553B\",\"#00cc96\",\"#ab63fa\",\"#FFA15A\",\"#19d3f3\",\"#FF6692\",\"#B6E880\",\"#FF97FF\",\"#FECB52\"],\"font\":{\"color\":\"#2a3f5f\"},\"hovermode\":\"closest\",\"hoverlabel\":{\"align\":\"left\"},\"paper_bgcolor\":\"white\",\"plot_bgcolor\":\"#E5ECF6\",\"polar\":{\"bgcolor\":\"#E5ECF6\",\"angularaxis\":{\"gridcolor\":\"white\",\"linecolor\":\"white\",\"ticks\":\"\"},\"radialaxis\":{\"gridcolor\":\"white\",\"linecolor\":\"white\",\"ticks\":\"\"}},\"ternary\":{\"bgcolor\":\"#E5ECF6\",\"aaxis\":{\"gridcolor\":\"white\",\"linecolor\":\"white\",\"ticks\":\"\"},\"baxis\":{\"gridcolor\":\"white\",\"linecolor\":\"white\",\"ticks\":\"\"},\"caxis\":{\"gridcolor\":\"white\",\"linecolor\":\"white\",\"ticks\":\"\"}},\"coloraxis\":{\"colorbar\":{\"outlinewidth\":0,\"ticks\":\"\"}},\"colorscale\":{\"sequential\":[[0.0,\"#0d0887\"],[0.1111111111111111,\"#46039f\"],[0.2222222222222222,\"#7201a8\"],[0.3333333333333333,\"#9c179e\"],[0.4444444444444444,\"#bd3786\"],[0.5555555555555556,\"#d8576b\"],[0.6666666666666666,\"#ed7953\"],[0.7777777777777778,\"#fb9f3a\"],[0.8888888888888888,\"#fdca26\"],[1.0,\"#f0f921\"]],\"sequentialminus\":[[0.0,\"#0d0887\"],[0.1111111111111111,\"#46039f\"],[0.2222222222222222,\"#7201a8\"],[0.3333333333333333,\"#9c179e\"],[0.4444444444444444,\"#bd3786\"],[0.5555555555555556,\"#d8576b\"],[0.6666666666666666,\"#ed7953\"],[0.7777777777777778,\"#fb9f3a\"],[0.8888888888888888,\"#fdca26\"],[1.0,\"#f0f921\"]],\"diverging\":[[0,\"#8e0152\"],[0.1,\"#c51b7d\"],[0.2,\"#de77ae\"],[0.3,\"#f1b6da\"],[0.4,\"#fde0ef\"],[0.5,\"#f7f7f7\"],[0.6,\"#e6f5d0\"],[0.7,\"#b8e186\"],[0.8,\"#7fbc41\"],[0.9,\"#4d9221\"],[1,\"#276419\"]]},\"xaxis\":{\"gridcolor\":\"white\",\"linecolor\":\"white\",\"ticks\":\"\",\"title\":{\"standoff\":15},\"zerolinecolor\":\"white\",\"automargin\":true,\"zerolinewidth\":2},\"yaxis\":{\"gridcolor\":\"white\",\"linecolor\":\"white\",\"ticks\":\"\",\"title\":{\"standoff\":15},\"zerolinecolor\":\"white\",\"automargin\":true,\"zerolinewidth\":2},\"scene\":{\"xaxis\":{\"backgroundcolor\":\"#E5ECF6\",\"gridcolor\":\"white\",\"linecolor\":\"white\",\"showbackground\":true,\"ticks\":\"\",\"zerolinecolor\":\"white\",\"gridwidth\":2},\"yaxis\":{\"backgroundcolor\":\"#E5ECF6\",\"gridcolor\":\"white\",\"linecolor\":\"white\",\"showbackground\":true,\"ticks\":\"\",\"zerolinecolor\":\"white\",\"gridwidth\":2},\"zaxis\":{\"backgroundcolor\":\"#E5ECF6\",\"gridcolor\":\"white\",\"linecolor\":\"white\",\"showbackground\":true,\"ticks\":\"\",\"zerolinecolor\":\"white\",\"gridwidth\":2}},\"shapedefaults\":{\"line\":{\"color\":\"#2a3f5f\"}},\"annotationdefaults\":{\"arrowcolor\":\"#2a3f5f\",\"arrowhead\":0,\"arrowwidth\":1},\"geo\":{\"bgcolor\":\"white\",\"landcolor\":\"#E5ECF6\",\"subunitcolor\":\"white\",\"showland\":true,\"showlakes\":true,\"lakecolor\":\"white\"},\"title\":{\"x\":0.05},\"mapbox\":{\"style\":\"light\"}}},\"xaxis\":{\"anchor\":\"y\",\"domain\":[0.0,1.0],\"title\":{\"text\":\"Profession\"}},\"yaxis\":{\"anchor\":\"x\",\"domain\":[0.0,1.0],\"title\":{\"text\":\"Price\"}},\"legend\":{\"title\":{\"text\":\"Make\"},\"tracegroupgap\":0},\"margin\":{\"t\":60},\"boxmode\":\"group\"},                        {\"responsive\": true}                    ).then(function(){\n",
              "                            \n",
              "var gd = document.getElementById('fcb7595e-5079-464b-961c-d713818d00d9');\n",
              "var x = new MutationObserver(function (mutations, observer) {{\n",
              "        var display = window.getComputedStyle(gd).display;\n",
              "        if (!display || display === 'none') {{\n",
              "            console.log([gd, 'removed!']);\n",
              "            Plotly.purge(gd);\n",
              "            observer.disconnect();\n",
              "        }}\n",
              "}});\n",
              "\n",
              "// Listen for the removal of the full notebook cells\n",
              "var notebookContainer = gd.closest('#notebook-container');\n",
              "if (notebookContainer) {{\n",
              "    x.observe(notebookContainer, {childList: true});\n",
              "}}\n",
              "\n",
              "// Listen for the clearing of the current output cell\n",
              "var outputEl = gd.closest('.output');\n",
              "if (outputEl) {{\n",
              "    x.observe(outputEl, {childList: true});\n",
              "}}\n",
              "\n",
              "                        })                };                            </script>        </div>\n",
              "</body>\n",
              "</html>"
            ]
          },
          "metadata": {}
        },
        {
          "output_type": "display_data",
          "data": {
            "text/html": [
              "<html>\n",
              "<head><meta charset=\"utf-8\" /></head>\n",
              "<body>\n",
              "    <div>            <script src=\"https://cdnjs.cloudflare.com/ajax/libs/mathjax/2.7.5/MathJax.js?config=TeX-AMS-MML_SVG\"></script><script type=\"text/javascript\">if (window.MathJax && window.MathJax.Hub && window.MathJax.Hub.Config) {window.MathJax.Hub.Config({SVG: {font: \"STIX-Web\"}});}</script>                <script type=\"text/javascript\">window.PlotlyConfig = {MathJaxConfig: 'local'};</script>\n",
              "        <script charset=\"utf-8\" src=\"https://cdn.plot.ly/plotly-2.24.1.min.js\"></script>                <div id=\"e96e2a99-8fe5-4b93-8bd7-c0b1caea476a\" class=\"plotly-graph-div\" style=\"height:525px; width:100%;\"></div>            <script type=\"text/javascript\">                                    window.PLOTLYENV=window.PLOTLYENV || {};                                    if (document.getElementById(\"e96e2a99-8fe5-4b93-8bd7-c0b1caea476a\")) {                    Plotly.newPlot(                        \"e96e2a99-8fe5-4b93-8bd7-c0b1caea476a\",                        [{\"alignmentgroup\":\"True\",\"hovertemplate\":\"Make=SUV\\u003cbr\\u003eEducation=%{x}\\u003cbr\\u003ePrice=%{y}\\u003cextra\\u003e\\u003c\\u002fextra\\u003e\",\"legendgroup\":\"SUV\",\"marker\":{\"color\":\"#636efa\"},\"name\":\"SUV\",\"notched\":false,\"offsetgroup\":\"SUV\",\"orientation\":\"v\",\"showlegend\":true,\"x\":[\"Post Graduate\",\"Post Graduate\",\"Post Graduate\",\"Graduate\",\"Post Graduate\",\"Post Graduate\",\"Post Graduate\",\"Graduate\",\"Post Graduate\",\"Post Graduate\",\"Post Graduate\",\"Post Graduate\",\"Graduate\",\"Post Graduate\",\"Graduate\",\"Post Graduate\",\"Post Graduate\",\"Post Graduate\",\"Post Graduate\",\"Post Graduate\",\"Graduate\",\"Post Graduate\",\"Post Graduate\",\"Post Graduate\",\"Post Graduate\",\"Post Graduate\",\"Post Graduate\",\"Post Graduate\",\"Post Graduate\",\"Post Graduate\",\"Post Graduate\",\"Graduate\",\"Post Graduate\",\"Graduate\",\"Post Graduate\",\"Post Graduate\",\"Post Graduate\",\"Graduate\",\"Post Graduate\",\"Graduate\",\"Graduate\",\"Post Graduate\",\"Post Graduate\",\"Post Graduate\",\"Graduate\",\"Graduate\",\"Post Graduate\",\"Post Graduate\",\"Post Graduate\",\"Post Graduate\",\"Graduate\",\"Post Graduate\",\"Post Graduate\",\"Post Graduate\",\"Graduate\",\"Graduate\",\"Post Graduate\",\"Post Graduate\",\"Post Graduate\",\"Graduate\",\"Post Graduate\",\"Post Graduate\",\"Post Graduate\",\"Post Graduate\",\"Post Graduate\",\"Post Graduate\",\"Graduate\",\"Graduate\",\"Graduate\",\"Graduate\",\"Post Graduate\",\"Post Graduate\",\"Post Graduate\",\"Graduate\",\"Graduate\",\"Post Graduate\",\"Graduate\",\"Post Graduate\",\"Post Graduate\",\"Post Graduate\",\"Post Graduate\",\"Post Graduate\",\"Post Graduate\",\"Post Graduate\",\"Post Graduate\",\"Post Graduate\",\"Graduate\",\"Post Graduate\",\"Graduate\",\"Post Graduate\",\"Graduate\",\"Graduate\",\"Post Graduate\",\"Post Graduate\",\"Post Graduate\",\"Post Graduate\",\"Post Graduate\",\"Graduate\",\"Post Graduate\",\"Post Graduate\",\"Graduate\",\"Post Graduate\",\"Graduate\",\"Graduate\",\"Post Graduate\",\"Post Graduate\",\"Post Graduate\",\"Post Graduate\",\"Post Graduate\",\"Post Graduate\",\"Graduate\",\"Graduate\",\"Graduate\",\"Post Graduate\",\"Post Graduate\",\"Post Graduate\",\"Graduate\",\"Graduate\",\"Graduate\",\"Post Graduate\",\"Graduate\",\"Post Graduate\",\"Graduate\",\"Graduate\",\"Post Graduate\",\"Post Graduate\",\"Post Graduate\",\"Post Graduate\",\"Graduate\",\"Graduate\",\"Post Graduate\",\"Post Graduate\",\"Post Graduate\",\"Graduate\",\"Graduate\",\"Post Graduate\",\"Post Graduate\",\"Post Graduate\",\"Post Graduate\",\"Post Graduate\",\"Graduate\",\"Post Graduate\",\"Graduate\",\"Post Graduate\",\"Post Graduate\",\"Graduate\",\"Graduate\",\"Graduate\",\"Graduate\",\"Post Graduate\",\"Post Graduate\",\"Graduate\",\"Graduate\",\"Graduate\",\"Graduate\",\"Graduate\",\"Graduate\",\"Graduate\",\"Post Graduate\",\"Graduate\",\"Post Graduate\",\"Post Graduate\",\"Post Graduate\",\"Post Graduate\",\"Post Graduate\",\"Graduate\",\"Graduate\",\"Graduate\",\"Graduate\",\"Graduate\",\"Post Graduate\",\"Graduate\",\"Graduate\",\"Graduate\",\"Post Graduate\",\"Graduate\",\"Graduate\",\"Post Graduate\",\"Graduate\",\"Post Graduate\",\"Post Graduate\",\"Post Graduate\",\"Graduate\",\"Graduate\",\"Post Graduate\",\"Post Graduate\",\"Post Graduate\",\"Graduate\",\"Graduate\",\"Graduate\",\"Graduate\",\"Graduate\",\"Post Graduate\",\"Post Graduate\",\"Post Graduate\",\"Graduate\",\"Post Graduate\",\"Post Graduate\",\"Post Graduate\",\"Post Graduate\",\"Post Graduate\",\"Post Graduate\",\"Post Graduate\",\"Post Graduate\",\"Post Graduate\",\"Graduate\",\"Graduate\",\"Post Graduate\",\"Post Graduate\",\"Post Graduate\",\"Graduate\",\"Post Graduate\",\"Post Graduate\",\"Graduate\",\"Post Graduate\",\"Post Graduate\",\"Graduate\",\"Post Graduate\",\"Post Graduate\",\"Graduate\",\"Graduate\",\"Graduate\",\"Graduate\",\"Post Graduate\",\"Post Graduate\",\"Post Graduate\",\"Post Graduate\",\"Graduate\",\"Graduate\",\"Graduate\",\"Post Graduate\",\"Post Graduate\",\"Post Graduate\",\"Graduate\",\"Graduate\",\"Post Graduate\",\"Post Graduate\",\"Post Graduate\",\"Graduate\",\"Post Graduate\",\"Graduate\",\"Post Graduate\",\"Post Graduate\",\"Post Graduate\",\"Post Graduate\",\"Post Graduate\",\"Post Graduate\",\"Graduate\",\"Graduate\",\"Graduate\",\"Post Graduate\",\"Post Graduate\",\"Graduate\",\"Post Graduate\",\"Post Graduate\",\"Post Graduate\",\"Graduate\",\"Graduate\",\"Graduate\",\"Graduate\",\"Post Graduate\",\"Graduate\",\"Post Graduate\",\"Post Graduate\",\"Graduate\",\"Graduate\",\"Graduate\",\"Post Graduate\",\"Post Graduate\",\"Post Graduate\",\"Post Graduate\",\"Post Graduate\",\"Graduate\",\"Graduate\",\"Graduate\",\"Graduate\",\"Post Graduate\",\"Post Graduate\",\"Post Graduate\",\"Graduate\",\"Graduate\",\"Post Graduate\",\"Post Graduate\",\"Graduate\",\"Post Graduate\",\"Post Graduate\",\"Graduate\",\"Graduate\",\"Post Graduate\",\"Graduate\",\"Post Graduate\",\"Post Graduate\",\"Post Graduate\",\"Post Graduate\",\"Graduate\",\"Graduate\",\"Post Graduate\"],\"x0\":\" \",\"xaxis\":\"x\",\"y\":[61000,61000,57000,61000,57000,57000,51000,68000,61000,57000,67000,63000,62000,50000,66000,52000,60000,64000,58000,54000,53000,62000,55000,59000,50000,50000,68000,60000,56000,61000,67000,66000,56000,61000,52000,59000,61000,54000,64000,53000,60000,66000,55000,51000,50000,59000,61000,62000,63000,69000,57000,52000,50000,57000,50000,68000,69000,57000,54000,51000,54000,64000,58000,59000,53000,55000,62000,49000,55000,66000,56000,61000,58000,60000,62000,68000,60000,51000,55000,53000,62000,64000,54000,52000,57000,58000,53000,55000,55000,60000,51000,57000,67000,51000,51000,63000,66000,64000,66000,56000,53000,61000,70000,67000,69000,53000,64000,68000,65000,58000,67000,62000,53000,59000,65000,59000,69000,58000,52000,68000,69000,62000,61000,63000,57000,49000,58000,69000,50000,51000,56000,58000,66000,51000,52000,50000,58000,57000,49000,50000,49000,57000,64000,37000,61000,37000,52000,40000,62000,52000,36000,51000,65000,61000,59000,67000,59000,41000,49000,60000,51000,53000,68000,57000,50000,45000,49000,65000,54000,64000,45000,58000,69000,39000,57000,62000,69000,50000,65000,39000,32000,32000,45000,31000,36000,61000,59000,45000,63000,57000,49000,59000,61000,61000,67000,51000,64000,45000,66000,36000,57000,61000,65000,57000,49000,32000,63000,64000,62000,51000,64000,68000,63000,60000,49000,39000,55000,58000,51000,49000,37000,68000,45000,67000,36000,65000,55000,57000,63000,64000,57000,39000,57000,56000,55000,45000,60000,63000,51000,39000,63000,36000,48000,66000,50000,69000,68000,58000,51000,56000,65000,69000,61000,57000,55000,49000,52000,36000,58000,66000,64000,54000,70000,62000,63000,66000,66000,68000,63000,59000,31000,40000,51000,69000,57000,58000,45000,45000,51000,50000,51000,39000,40000,49000,45000,32000,51000,48000,31000,51000,49000,36000,52000,32000,51000,31000,31000],\"y0\":\" \",\"yaxis\":\"y\",\"type\":\"box\"},{\"alignmentgroup\":\"True\",\"hovertemplate\":\"Make=Sedan\\u003cbr\\u003eEducation=%{x}\\u003cbr\\u003ePrice=%{y}\\u003cextra\\u003e\\u003c\\u002fextra\\u003e\",\"legendgroup\":\"Sedan\",\"marker\":{\"color\":\"#EF553B\"},\"name\":\"Sedan\",\"notched\":false,\"offsetgroup\":\"Sedan\",\"orientation\":\"v\",\"showlegend\":true,\"x\":[\"Post Graduate\",\"Post Graduate\",\"Post Graduate\",\"Post Graduate\",\"Post Graduate\",\"Post Graduate\",\"Post Graduate\",\"Post Graduate\",\"Post Graduate\",\"Post Graduate\",\"Post Graduate\",\"Post Graduate\",\"Graduate\",\"Graduate\",\"Graduate\",\"Post Graduate\",\"Post Graduate\",\"Post Graduate\",\"Post Graduate\",\"Post Graduate\",\"Post Graduate\",\"Post Graduate\",\"Post Graduate\",\"Post Graduate\",\"Post Graduate\",\"Graduate\",\"Graduate\",\"Graduate\",\"Post Graduate\",\"Post Graduate\",\"Post Graduate\",\"Post Graduate\",\"Graduate\",\"Post Graduate\",\"Post Graduate\",\"Post Graduate\",\"Post Graduate\",\"Post Graduate\",\"Post Graduate\",\"Graduate\",\"Post Graduate\",\"Post Graduate\",\"Post Graduate\",\"Post Graduate\",\"Post Graduate\",\"Post Graduate\",\"Post Graduate\",\"Graduate\",\"Graduate\",\"Graduate\",\"Graduate\",\"Graduate\",\"Graduate\",\"Post Graduate\",\"Post Graduate\",\"Post Graduate\",\"Post Graduate\",\"Post Graduate\",\"Post Graduate\",\"Post Graduate\",\"Graduate\",\"Graduate\",\"Graduate\",\"Graduate\",\"Graduate\",\"Graduate\",\"Post Graduate\",\"Post Graduate\",\"Post Graduate\",\"Post Graduate\",\"Post Graduate\",\"Post Graduate\",\"Post Graduate\",\"Graduate\",\"Graduate\",\"Graduate\",\"Post Graduate\",\"Post Graduate\",\"Post Graduate\",\"Post Graduate\",\"Post Graduate\",\"Graduate\",\"Graduate\",\"Graduate\",\"Graduate\",\"Post Graduate\",\"Post Graduate\",\"Post Graduate\",\"Post Graduate\",\"Post Graduate\",\"Graduate\",\"Graduate\",\"Graduate\",\"Graduate\",\"Post Graduate\",\"Post Graduate\",\"Graduate\",\"Graduate\",\"Graduate\",\"Graduate\",\"Graduate\",\"Graduate\",\"Graduate\",\"Post Graduate\",\"Post Graduate\",\"Post Graduate\",\"Post Graduate\",\"Post Graduate\",\"Post Graduate\",\"Graduate\",\"Graduate\",\"Post Graduate\",\"Post Graduate\",\"Post Graduate\",\"Post Graduate\",\"Graduate\",\"Graduate\",\"Graduate\",\"Post Graduate\",\"Post Graduate\",\"Post Graduate\",\"Post Graduate\",\"Post Graduate\",\"Post Graduate\",\"Post Graduate\",\"Post Graduate\",\"Post Graduate\",\"Post Graduate\",\"Graduate\",\"Graduate\",\"Graduate\",\"Graduate\",\"Graduate\",\"Graduate\",\"Post Graduate\",\"Post Graduate\",\"Post Graduate\",\"Post Graduate\",\"Graduate\",\"Graduate\",\"Graduate\",\"Post Graduate\",\"Post Graduate\",\"Post Graduate\",\"Post Graduate\",\"Post Graduate\",\"Post Graduate\",\"Post Graduate\",\"Post Graduate\",\"Post Graduate\",\"Post Graduate\",\"Post Graduate\",\"Post Graduate\",\"Graduate\",\"Graduate\",\"Graduate\",\"Graduate\",\"Graduate\",\"Post Graduate\",\"Post Graduate\",\"Post Graduate\",\"Graduate\",\"Graduate\",\"Graduate\",\"Graduate\",\"Graduate\",\"Graduate\",\"Graduate\",\"Graduate\",\"Post Graduate\",\"Post Graduate\",\"Post Graduate\",\"Post Graduate\",\"Post Graduate\",\"Post Graduate\",\"Post Graduate\",\"Post Graduate\",\"Graduate\",\"Post Graduate\",\"Graduate\",\"Graduate\",\"Graduate\",\"Graduate\",\"Graduate\",\"Post Graduate\",\"Post Graduate\",\"Post Graduate\",\"Graduate\",\"Graduate\",\"Graduate\",\"Post Graduate\",\"Post Graduate\",\"Post Graduate\",\"Post Graduate\",\"Post Graduate\",\"Post Graduate\",\"Graduate\",\"Graduate\",\"Post Graduate\",\"Graduate\",\"Post Graduate\",\"Graduate\",\"Post Graduate\",\"Post Graduate\",\"Graduate\",\"Post Graduate\",\"Post Graduate\",\"Post Graduate\",\"Graduate\",\"Graduate\",\"Graduate\",\"Graduate\",\"Graduate\",\"Graduate\",\"Post Graduate\",\"Post Graduate\",\"Post Graduate\",\"Post Graduate\",\"Post Graduate\",\"Post Graduate\",\"Post Graduate\",\"Post Graduate\",\"Post Graduate\",\"Post Graduate\",\"Post Graduate\",\"Post Graduate\",\"Post Graduate\",\"Graduate\",\"Post Graduate\",\"Post Graduate\",\"Post Graduate\",\"Graduate\",\"Post Graduate\",\"Post Graduate\",\"Post Graduate\",\"Post Graduate\",\"Graduate\",\"Graduate\",\"Graduate\",\"Post Graduate\",\"Post Graduate\",\"Post Graduate\",\"Post Graduate\",\"Post Graduate\",\"Post Graduate\",\"Post Graduate\",\"Post Graduate\",\"Post Graduate\",\"Graduate\",\"Post Graduate\",\"Post Graduate\",\"Post Graduate\",\"Post Graduate\",\"Post Graduate\",\"Post Graduate\",\"Post Graduate\",\"Post Graduate\",\"Post Graduate\",\"Post Graduate\",\"Graduate\",\"Graduate\",\"Post Graduate\",\"Post Graduate\",\"Post Graduate\",\"Post Graduate\",\"Post Graduate\",\"Post Graduate\",\"Graduate\",\"Graduate\",\"Graduate\",\"Graduate\",\"Graduate\",\"Graduate\",\"Graduate\",\"Post Graduate\",\"Post Graduate\",\"Post Graduate\",\"Post Graduate\",\"Post Graduate\",\"Post Graduate\",\"Post Graduate\",\"Post Graduate\",\"Post Graduate\",\"Post Graduate\",\"Graduate\",\"Graduate\",\"Graduate\",\"Graduate\",\"Graduate\",\"Graduate\",\"Graduate\",\"Post Graduate\",\"Post Graduate\",\"Post Graduate\",\"Post Graduate\",\"Post Graduate\",\"Post Graduate\",\"Post Graduate\",\"Post Graduate\",\"Post Graduate\",\"Graduate\",\"Graduate\",\"Graduate\",\"Graduate\",\"Graduate\",\"Post Graduate\",\"Post Graduate\",\"Post Graduate\",\"Post Graduate\",\"Post Graduate\",\"Post Graduate\",\"Post Graduate\",\"Post Graduate\",\"Post Graduate\",\"Graduate\",\"Graduate\",\"Graduate\",\"Graduate\",\"Post Graduate\",\"Post Graduate\",\"Post Graduate\",\"Graduate\",\"Graduate\",\"Graduate\",\"Graduate\",\"Graduate\",\"Post Graduate\",\"Post Graduate\",\"Post Graduate\",\"Post Graduate\",\"Post Graduate\",\"Post Graduate\",\"Graduate\",\"Graduate\",\"Graduate\",\"Post Graduate\",\"Post Graduate\",\"Post Graduate\",\"Post Graduate\",\"Post Graduate\",\"Post Graduate\",\"Post Graduate\",\"Post Graduate\",\"Post Graduate\",\"Post Graduate\",\"Post Graduate\",\"Post Graduate\",\"Post Graduate\",\"Post Graduate\",\"Graduate\",\"Post Graduate\",\"Post Graduate\",\"Post Graduate\",\"Post Graduate\",\"Post Graduate\",\"Post Graduate\",\"Post Graduate\",\"Graduate\",\"Graduate\",\"Graduate\",\"Graduate\",\"Graduate\",\"Graduate\",\"Graduate\",\"Graduate\",\"Graduate\",\"Graduate\",\"Graduate\",\"Post Graduate\",\"Post Graduate\",\"Post Graduate\",\"Graduate\",\"Post Graduate\",\"Graduate\",\"Post Graduate\",\"Post Graduate\",\"Graduate\",\"Post Graduate\",\"Post Graduate\",\"Post Graduate\",\"Graduate\",\"Post Graduate\",\"Post Graduate\",\"Post Graduate\",\"Post Graduate\",\"Graduate\",\"Graduate\",\"Graduate\",\"Graduate\",\"Graduate\",\"Graduate\",\"Graduate\",\"Graduate\",\"Graduate\",\"Graduate\",\"Graduate\",\"Graduate\",\"Post Graduate\",\"Post Graduate\",\"Post Graduate\",\"Post Graduate\",\"Post Graduate\",\"Post Graduate\",\"Post Graduate\",\"Post Graduate\",\"Post Graduate\",\"Post Graduate\",\"Post Graduate\",\"Post Graduate\",\"Post Graduate\",\"Post Graduate\",\"Post Graduate\",\"Graduate\",\"Graduate\",\"Post Graduate\",\"Graduate\",\"Graduate\",\"Graduate\",\"Post Graduate\",\"Graduate\",\"Graduate\",\"Post Graduate\",\"Post Graduate\",\"Post Graduate\",\"Post Graduate\",\"Graduate\",\"Post Graduate\",\"Post Graduate\",\"Graduate\",\"Post Graduate\",\"Post Graduate\",\"Graduate\",\"Post Graduate\",\"Post Graduate\",\"Post Graduate\",\"Post Graduate\",\"Post Graduate\",\"Post Graduate\",\"Post Graduate\",\"Post Graduate\",\"Post Graduate\",\"Post Graduate\",\"Graduate\",\"Post Graduate\",\"Post Graduate\",\"Graduate\",\"Graduate\",\"Graduate\",\"Graduate\",\"Graduate\",\"Graduate\",\"Graduate\",\"Graduate\",\"Post Graduate\",\"Post Graduate\",\"Post Graduate\",\"Post Graduate\",\"Post Graduate\",\"Post Graduate\",\"Post Graduate\",\"Post Graduate\",\"Post Graduate\",\"Post Graduate\",\"Post Graduate\",\"Graduate\",\"Post Graduate\",\"Post Graduate\",\"Post Graduate\",\"Post Graduate\",\"Post Graduate\",\"Post Graduate\",\"Post Graduate\",\"Graduate\",\"Post Graduate\",\"Post Graduate\",\"Post Graduate\",\"Graduate\",\"Post Graduate\",\"Graduate\",\"Graduate\",\"Graduate\",\"Post Graduate\",\"Graduate\",\"Post Graduate\",\"Graduate\",\"Graduate\",\"Post Graduate\",\"Post Graduate\",\"Post Graduate\",\"Graduate\",\"Post Graduate\",\"Graduate\",\"Graduate\",\"Post Graduate\",\"Post Graduate\",\"Post Graduate\",\"Post Graduate\",\"Post Graduate\",\"Post Graduate\",\"Post Graduate\",\"Post Graduate\",\"Post Graduate\",\"Post Graduate\",\"Graduate\",\"Post Graduate\",\"Post Graduate\",\"Graduate\",\"Graduate\",\"Graduate\",\"Post Graduate\",\"Post Graduate\",\"Post Graduate\",\"Post Graduate\",\"Post Graduate\",\"Post Graduate\",\"Post Graduate\",\"Post Graduate\",\"Post Graduate\",\"Post Graduate\",\"Post Graduate\",\"Post Graduate\",\"Graduate\",\"Post Graduate\",\"Post Graduate\",\"Post Graduate\",\"Graduate\",\"Graduate\",\"Graduate\",\"Graduate\",\"Graduate\",\"Graduate\",\"Post Graduate\",\"Graduate\",\"Post Graduate\",\"Post Graduate\",\"Post Graduate\",\"Post Graduate\",\"Post Graduate\",\"Graduate\",\"Graduate\",\"Graduate\",\"Post Graduate\",\"Post Graduate\",\"Post Graduate\",\"Post Graduate\",\"Post Graduate\",\"Post Graduate\",\"Post Graduate\",\"Post Graduate\",\"Post Graduate\",\"Graduate\",\"Post Graduate\",\"Post Graduate\",\"Graduate\",\"Post Graduate\",\"Graduate\",\"Graduate\",\"Graduate\",\"Graduate\",\"Graduate\",\"Post Graduate\",\"Post Graduate\",\"Post Graduate\",\"Graduate\",\"Graduate\",\"Post Graduate\",\"Post Graduate\",\"Post Graduate\",\"Post Graduate\",\"Graduate\",\"Graduate\",\"Graduate\",\"Graduate\",\"Post Graduate\",\"Post Graduate\",\"Post Graduate\",\"Post Graduate\",\"Post Graduate\",\"Post Graduate\",\"Post Graduate\",\"Post Graduate\",\"Post Graduate\",\"Post Graduate\",\"Post Graduate\",\"Post Graduate\",\"Graduate\",\"Graduate\",\"Graduate\",\"Graduate\",\"Graduate\",\"Graduate\",\"Graduate\",\"Graduate\",\"Graduate\",\"Graduate\",\"Graduate\",\"Post Graduate\",\"Graduate\",\"Post Graduate\",\"Post Graduate\",\"Post Graduate\",\"Post Graduate\",\"Post Graduate\",\"Post Graduate\",\"Post Graduate\",\"Graduate\",\"Graduate\",\"Graduate\",\"Graduate\",\"Graduate\",\"Graduate\",\"Post Graduate\",\"Post Graduate\",\"Post Graduate\",\"Post Graduate\",\"Post Graduate\",\"Post Graduate\",\"Post Graduate\",\"Post Graduate\",\"Post Graduate\",\"Post Graduate\",\"Post Graduate\",\"Post Graduate\",\"Post Graduate\",\"Post Graduate\",\"Post Graduate\",\"Graduate\",\"Graduate\",\"Post Graduate\",\"Post Graduate\",\"Post Graduate\",\"Post Graduate\",\"Graduate\",\"Graduate\",\"Graduate\",\"Post Graduate\",\"Graduate\",\"Post Graduate\",\"Post Graduate\",\"Graduate\",\"Post Graduate\",\"Post Graduate\",\"Graduate\",\"Post Graduate\",\"Post Graduate\",\"Post Graduate\",\"Post Graduate\",\"Post Graduate\",\"Post Graduate\",\"Post Graduate\",\"Post Graduate\",\"Graduate\",\"Post Graduate\",\"Post Graduate\",\"Graduate\",\"Graduate\",\"Graduate\",\"Graduate\",\"Graduate\",\"Graduate\",\"Graduate\",\"Graduate\",\"Graduate\",\"Graduate\",\"Post Graduate\",\"Post Graduate\",\"Post Graduate\",\"Post Graduate\",\"Post Graduate\",\"Post Graduate\",\"Post Graduate\",\"Post Graduate\",\"Post Graduate\",\"Graduate\",\"Graduate\",\"Post Graduate\",\"Post Graduate\",\"Post Graduate\",\"Post Graduate\",\"Post Graduate\",\"Post Graduate\",\"Post Graduate\",\"Post Graduate\",\"Post Graduate\",\"Graduate\",\"Post Graduate\",\"Post Graduate\",\"Graduate\",\"Graduate\",\"Graduate\",\"Graduate\",\"Post Graduate\",\"Graduate\",\"Post Graduate\",\"Post Graduate\",\"Post Graduate\",\"Graduate\",\"Post Graduate\",\"Post Graduate\",\"Post Graduate\",\"Graduate\",\"Graduate\"],\"x0\":\" \",\"xaxis\":\"x\",\"y\":[43000,53000,47000,52000,35000,42000,33000,43000,34000,50000,40000,42000,54000,36000,54000,41000,37000,41000,41000,50000,48000,44000,44000,43000,50000,49000,35000,41000,31000,54000,53000,44000,32000,33000,39000,31000,52000,33000,42000,51000,35000,39000,42000,52000,46000,50000,31000,39000,46000,51000,54000,53000,32000,32000,55000,32000,47000,47000,46000,47000,32000,42000,35000,48000,33000,34000,43000,50000,37000,33000,38000,53000,43000,39000,49000,38000,49000,36000,36000,35000,33000,41000,46000,47000,45000,52000,43000,54000,45000,33000,38000,52000,54000,38000,32000,44000,44000,42000,52000,39000,53000,32000,49000,32000,39000,43000,40000,41000,53000,41000,36000,33000,50000,48000,42000,31000,44000,50000,34000,40000,33000,50000,54000,35000,49000,46000,32000,34000,36000,54000,51000,46000,54000,34000,47000,39000,34000,54000,38000,55000,55000,52000,38000,47000,35000,46000,46000,45000,43000,52000,48000,50000,34000,39000,43000,54000,33000,33000,34000,42000,45000,32000,31000,46000,47000,39000,52000,47000,42000,38000,37000,49000,43000,48000,44000,49000,36000,36000,33000,50000,55000,46000,47000,43000,47000,49000,33000,47000,55000,33000,40000,55000,50000,48000,50000,47000,36000,53000,36000,48000,39000,35000,42000,47000,54000,51000,32000,44000,44000,53000,48000,50000,34000,37000,33000,34000,55000,45000,43000,51000,34000,31000,50000,43000,33000,33000,44000,48000,34000,47000,37000,33000,36000,50000,51000,52000,41000,35000,48000,53000,46000,43000,43000,39000,38000,43000,48000,54000,44000,35000,32000,34000,35000,32000,54000,43000,40000,33000,41000,42000,51000,37000,37000,43000,45000,37000,52000,41000,50000,47000,40000,37000,43000,48000,46000,32000,45000,52000,50000,49000,45000,35000,44000,32000,39000,41000,33000,49000,42000,38000,31000,44000,39000,46000,43000,50000,33000,31000,53000,37000,35000,52000,47000,50000,36000,45000,43000,44000,40000,34000,37000,48000,53000,52000,51000,53000,48000,41000,32000,51000,36000,36000,49000,48000,45000,55000,46000,35000,39000,35000,49000,31000,37000,37000,53000,31000,28000,34000,42000,41000,39000,53000,21000,47000,24000,23000,28000,48000,38000,23000,24000,33000,19000,55000,21000,18000,48000,39000,26000,20000,37000,26000,51000,53000,29000,41000,26000,19000,23000,28000,24000,21000,21000,18000,28000,20000,31000,27000,23000,53000,49000,18000,36000,34000,31000,43000,27000,31000,31000,24000,23000,50000,33000,19000,37000,54000,34000,29000,23000,37000,24000,31000,53000,19000,19000,46000,50000,42000,28000,47000,48000,32000,28000,23000,22000,27000,27000,26000,18000,46000,20000,21000,20000,18000,23000,26000,20000,19000,20000,20000,26000,21000,20000,40000,39000,35000,50000,31000,43000,43000,38000,34000,18000,45000,40000,24000,24000,26000,48000,51000,32000,44000,31000,23000,24000,29000,42000,39000,27000,39000,52000,27000,24000,21000,21000,28000,24000,23000,26000,24000,31000,31000,18000,23000,19000,18000,52000,20000,21000,20000,35000,21000,21000,21000,19000,20000,21000,19000,21000,19000,18000,18000,34000,29000,31000,24000,51000,18000,30000,38000,23000,41000,36000,28000,35000,43000,23000,39000,52000,27000,18000,31000,23000,27000,18000,19000,18000,18000,31000,18000,31000,21000,20000,19000,31000,28000,27000,24000,31000,23000,18000,23000,21000,20000,27000,28000,31000,26000,27000,21000,31000,28000,21000,18000,18000,27000,23000,18000,28000,24000,27000,27000,27000,26000,29000,26000,21000,28000,19000,26000,23000,27000,21000,26000,19000,27000,18000,31000,26000,31000,18000,23000,19000,18000,21000,27000,27000,26000,23000,19000,26000,31000,20000,31000,31000,21000,20000,24000,26000,27000,24000,27000,29000,23000,26000,23000,21000,21000,31000,19000,29000,27000,20000,27000,23000,24000,18000,21000,23000,19000,18000,18000,31000,31000,23000,18000,27000,31000,27000,23000,26000,23000,31000,26000,29000,19000,20000,21000,18000,21000,19000,29000,21000,23000,20000,29000,21000,19000,30000,18000,26000,28000,21000,23000,23000,29000,31000,23000,21000,24000,26000,23000,20000,21000,27000,23000,21000,29000,27000,27000,31000,27000,19000,27000,23000,24000,18000,29000,23000,27000,21000,23000,18000,19000,18000,20000,27000,19000,27000,31000,27000,26000,23000,23000,26000,27000,21000,18000,24000,29000,23000,29000,27000,21000,21000,29000,19000,18000,18000,22000,23000,20000],\"y0\":\" \",\"yaxis\":\"y\",\"type\":\"box\"},{\"alignmentgroup\":\"True\",\"hovertemplate\":\"Make=Hatchback\\u003cbr\\u003eEducation=%{x}\\u003cbr\\u003ePrice=%{y}\\u003cextra\\u003e\\u003c\\u002fextra\\u003e\",\"legendgroup\":\"Hatchback\",\"marker\":{\"color\":\"#00cc96\"},\"name\":\"Hatchback\",\"notched\":false,\"offsetgroup\":\"Hatchback\",\"orientation\":\"v\",\"showlegend\":true,\"x\":[\"Post Graduate\",\"Post Graduate\",\"Post Graduate\",\"Post Graduate\",\"Post Graduate\",\"Post Graduate\",\"Post Graduate\",\"Post Graduate\",\"Post Graduate\",\"Post Graduate\",\"Post Graduate\",\"Post Graduate\",\"Post Graduate\",\"Post Graduate\",\"Post Graduate\",\"Post Graduate\",\"Post Graduate\",\"Post Graduate\",\"Post Graduate\",\"Graduate\",\"Graduate\",\"Post Graduate\",\"Post Graduate\",\"Graduate\",\"Post Graduate\",\"Post Graduate\",\"Graduate\",\"Graduate\",\"Post Graduate\",\"Graduate\",\"Graduate\",\"Post Graduate\",\"Post Graduate\",\"Post Graduate\",\"Graduate\",\"Post Graduate\",\"Post Graduate\",\"Graduate\",\"Post Graduate\",\"Post Graduate\",\"Post Graduate\",\"Post Graduate\",\"Post Graduate\",\"Post Graduate\",\"Post Graduate\",\"Graduate\",\"Graduate\",\"Graduate\",\"Graduate\",\"Graduate\",\"Graduate\",\"Graduate\",\"Graduate\",\"Post Graduate\",\"Post Graduate\",\"Post Graduate\",\"Post Graduate\",\"Post Graduate\",\"Post Graduate\",\"Post Graduate\",\"Post Graduate\",\"Post Graduate\",\"Post Graduate\",\"Graduate\",\"Post Graduate\",\"Post Graduate\",\"Post Graduate\",\"Post Graduate\",\"Graduate\",\"Graduate\",\"Graduate\",\"Graduate\",\"Graduate\",\"Graduate\",\"Graduate\",\"Post Graduate\",\"Graduate\",\"Graduate\",\"Post Graduate\",\"Graduate\",\"Post Graduate\",\"Graduate\",\"Post Graduate\",\"Post Graduate\",\"Post Graduate\",\"Graduate\",\"Post Graduate\",\"Post Graduate\",\"Post Graduate\",\"Post Graduate\",\"Post Graduate\",\"Post Graduate\",\"Post Graduate\",\"Post Graduate\",\"Post Graduate\",\"Post Graduate\",\"Graduate\",\"Graduate\",\"Graduate\",\"Graduate\",\"Graduate\",\"Graduate\",\"Post Graduate\",\"Post Graduate\",\"Post Graduate\",\"Post Graduate\",\"Post Graduate\",\"Post Graduate\",\"Post Graduate\",\"Post Graduate\",\"Post Graduate\",\"Post Graduate\",\"Post Graduate\",\"Post Graduate\",\"Post Graduate\",\"Post Graduate\",\"Graduate\",\"Graduate\",\"Post Graduate\",\"Post Graduate\",\"Post Graduate\",\"Graduate\",\"Graduate\",\"Graduate\",\"Graduate\",\"Graduate\",\"Graduate\",\"Graduate\",\"Graduate\",\"Graduate\",\"Graduate\",\"Graduate\",\"Graduate\",\"Graduate\",\"Post Graduate\",\"Post Graduate\",\"Post Graduate\",\"Post Graduate\",\"Post Graduate\",\"Post Graduate\",\"Post Graduate\",\"Post Graduate\",\"Post Graduate\",\"Post Graduate\",\"Graduate\",\"Post Graduate\",\"Post Graduate\",\"Post Graduate\",\"Post Graduate\",\"Post Graduate\",\"Graduate\",\"Post Graduate\",\"Post Graduate\",\"Post Graduate\",\"Post Graduate\",\"Post Graduate\",\"Graduate\",\"Graduate\",\"Graduate\",\"Graduate\",\"Graduate\",\"Graduate\",\"Graduate\",\"Post Graduate\",\"Post Graduate\",\"Post Graduate\",\"Post Graduate\",\"Post Graduate\",\"Post Graduate\",\"Post Graduate\",\"Post Graduate\",\"Post Graduate\",\"Post Graduate\",\"Post Graduate\",\"Graduate\",\"Post Graduate\",\"Post Graduate\",\"Post Graduate\",\"Graduate\",\"Post Graduate\",\"Post Graduate\",\"Post Graduate\",\"Graduate\",\"Graduate\",\"Post Graduate\",\"Post Graduate\",\"Graduate\",\"Graduate\",\"Graduate\",\"Graduate\",\"Graduate\",\"Post Graduate\",\"Graduate\",\"Post Graduate\",\"Graduate\",\"Post Graduate\",\"Post Graduate\",\"Post Graduate\",\"Graduate\",\"Post Graduate\",\"Graduate\",\"Post Graduate\",\"Graduate\",\"Post Graduate\",\"Post Graduate\",\"Post Graduate\",\"Post Graduate\",\"Post Graduate\",\"Post Graduate\",\"Post Graduate\",\"Post Graduate\",\"Post Graduate\",\"Post Graduate\",\"Post Graduate\",\"Post Graduate\",\"Post Graduate\",\"Post Graduate\",\"Graduate\",\"Graduate\",\"Graduate\",\"Graduate\",\"Graduate\",\"Graduate\",\"Graduate\",\"Graduate\",\"Graduate\",\"Graduate\",\"Graduate\",\"Post Graduate\",\"Post Graduate\",\"Post Graduate\",\"Post Graduate\",\"Post Graduate\",\"Post Graduate\",\"Post Graduate\",\"Graduate\",\"Post Graduate\",\"Post Graduate\",\"Post Graduate\",\"Post Graduate\",\"Post Graduate\",\"Post Graduate\",\"Post Graduate\",\"Post Graduate\",\"Post Graduate\",\"Post Graduate\",\"Post Graduate\",\"Post Graduate\",\"Post Graduate\",\"Post Graduate\",\"Graduate\",\"Post Graduate\",\"Post Graduate\",\"Graduate\",\"Graduate\",\"Graduate\",\"Graduate\",\"Post Graduate\",\"Post Graduate\",\"Post Graduate\",\"Graduate\",\"Post Graduate\",\"Post Graduate\",\"Post Graduate\",\"Post Graduate\",\"Graduate\",\"Post Graduate\",\"Post Graduate\",\"Post Graduate\",\"Post Graduate\",\"Post Graduate\",\"Post Graduate\",\"Post Graduate\",\"Post Graduate\",\"Post Graduate\",\"Post Graduate\",\"Post Graduate\",\"Post Graduate\",\"Post Graduate\",\"Post Graduate\",\"Post Graduate\",\"Graduate\",\"Graduate\",\"Graduate\",\"Graduate\",\"Graduate\",\"Graduate\",\"Graduate\",\"Graduate\",\"Graduate\",\"Graduate\",\"Graduate\",\"Post Graduate\",\"Post Graduate\",\"Post Graduate\",\"Post Graduate\",\"Post Graduate\",\"Post Graduate\",\"Post Graduate\",\"Post Graduate\",\"Post Graduate\",\"Post Graduate\",\"Post Graduate\",\"Post Graduate\",\"Post Graduate\",\"Post Graduate\",\"Post Graduate\",\"Post Graduate\",\"Post Graduate\",\"Post Graduate\",\"Post Graduate\",\"Post Graduate\",\"Post Graduate\",\"Graduate\",\"Graduate\",\"Post Graduate\",\"Post Graduate\",\"Graduate\",\"Graduate\",\"Post Graduate\",\"Graduate\",\"Graduate\",\"Graduate\",\"Graduate\",\"Graduate\",\"Post Graduate\",\"Graduate\",\"Post Graduate\",\"Post Graduate\",\"Post Graduate\",\"Graduate\",\"Post Graduate\",\"Post Graduate\",\"Graduate\",\"Post Graduate\",\"Post Graduate\",\"Post Graduate\",\"Post Graduate\",\"Post Graduate\",\"Post Graduate\",\"Post Graduate\",\"Post Graduate\",\"Graduate\",\"Graduate\",\"Post Graduate\",\"Post Graduate\",\"Post Graduate\",\"Post Graduate\",\"Post Graduate\",\"Post Graduate\",\"Post Graduate\",\"Post Graduate\",\"Post Graduate\",\"Post Graduate\",\"Post Graduate\",\"Post Graduate\",\"Post Graduate\",\"Post Graduate\",\"Graduate\",\"Graduate\",\"Graduate\",\"Graduate\",\"Graduate\",\"Graduate\",\"Graduate\",\"Graduate\",\"Graduate\",\"Graduate\",\"Graduate\",\"Graduate\",\"Graduate\",\"Graduate\",\"Post Graduate\",\"Post Graduate\",\"Post Graduate\",\"Post Graduate\",\"Post Graduate\",\"Post Graduate\",\"Post Graduate\",\"Post Graduate\",\"Post Graduate\",\"Post Graduate\",\"Post Graduate\",\"Post Graduate\",\"Post Graduate\",\"Post Graduate\",\"Post Graduate\",\"Post Graduate\",\"Post Graduate\",\"Post Graduate\",\"Post Graduate\",\"Graduate\",\"Post Graduate\",\"Graduate\",\"Graduate\",\"Graduate\",\"Graduate\",\"Graduate\",\"Graduate\",\"Graduate\",\"Graduate\",\"Graduate\",\"Graduate\",\"Graduate\",\"Post Graduate\",\"Post Graduate\",\"Graduate\",\"Post Graduate\",\"Post Graduate\",\"Post Graduate\",\"Graduate\",\"Graduate\",\"Post Graduate\",\"Post Graduate\",\"Post Graduate\",\"Post Graduate\",\"Post Graduate\",\"Post Graduate\",\"Post Graduate\",\"Post Graduate\",\"Post Graduate\",\"Post Graduate\",\"Post Graduate\",\"Post Graduate\",\"Graduate\",\"Graduate\",\"Graduate\",\"Graduate\",\"Graduate\",\"Graduate\",\"Graduate\",\"Graduate\",\"Graduate\",\"Graduate\",\"Graduate\",\"Graduate\",\"Graduate\",\"Graduate\",\"Graduate\",\"Graduate\",\"Graduate\",\"Graduate\",\"Graduate\",\"Graduate\",\"Post Graduate\",\"Post Graduate\",\"Post Graduate\",\"Post Graduate\",\"Post Graduate\",\"Post Graduate\",\"Post Graduate\",\"Post Graduate\",\"Post Graduate\",\"Post Graduate\",\"Post Graduate\",\"Post Graduate\",\"Post Graduate\",\"Post Graduate\",\"Post Graduate\",\"Post Graduate\",\"Post Graduate\",\"Post Graduate\",\"Post Graduate\",\"Post Graduate\",\"Graduate\",\"Graduate\",\"Graduate\",\"Post Graduate\",\"Graduate\",\"Graduate\",\"Graduate\",\"Graduate\",\"Graduate\",\"Graduate\",\"Graduate\",\"Graduate\",\"Graduate\",\"Graduate\",\"Graduate\",\"Post Graduate\",\"Graduate\",\"Graduate\",\"Graduate\",\"Post Graduate\",\"Post Graduate\",\"Post Graduate\",\"Post Graduate\",\"Post Graduate\",\"Post Graduate\",\"Post Graduate\",\"Post Graduate\",\"Post Graduate\",\"Post Graduate\",\"Post Graduate\",\"Post Graduate\",\"Post Graduate\",\"Post Graduate\",\"Post Graduate\",\"Post Graduate\",\"Post Graduate\",\"Post Graduate\",\"Post Graduate\",\"Post Graduate\",\"Graduate\",\"Graduate\",\"Graduate\",\"Graduate\",\"Graduate\",\"Graduate\",\"Graduate\",\"Graduate\",\"Graduate\",\"Graduate\",\"Graduate\",\"Graduate\",\"Post Graduate\",\"Post Graduate\",\"Post Graduate\",\"Post Graduate\",\"Post Graduate\",\"Post Graduate\",\"Post Graduate\",\"Post Graduate\",\"Post Graduate\",\"Post Graduate\",\"Post Graduate\",\"Post Graduate\",\"Post Graduate\",\"Post Graduate\",\"Post Graduate\",\"Post Graduate\",\"Post Graduate\",\"Post Graduate\",\"Post Graduate\",\"Post Graduate\",\"Post Graduate\",\"Post Graduate\",\"Post Graduate\",\"Post Graduate\",\"Post Graduate\",\"Graduate\",\"Post Graduate\",\"Graduate\",\"Graduate\",\"Graduate\",\"Graduate\",\"Graduate\",\"Graduate\",\"Graduate\",\"Graduate\",\"Post Graduate\",\"Post Graduate\",\"Post Graduate\",\"Graduate\",\"Post Graduate\",\"Post Graduate\",\"Post Graduate\",\"Post Graduate\",\"Post Graduate\",\"Post Graduate\",\"Post Graduate\",\"Post Graduate\",\"Post Graduate\",\"Post Graduate\",\"Post Graduate\",\"Post Graduate\",\"Post Graduate\",\"Post Graduate\",\"Graduate\",\"Graduate\",\"Graduate\",\"Graduate\",\"Graduate\",\"Graduate\",\"Graduate\",\"Graduate\",\"Graduate\",\"Graduate\",\"Graduate\",\"Graduate\",\"Graduate\",\"Graduate\"],\"x0\":\" \",\"xaxis\":\"x\",\"y\":[30000,31000,25000,22000,25000,33000,29000,23000,33000,20000,24000,24000,32000,32000,30000,28000,30000,29000,20000,25000,23000,32000,30000,29000,31000,33000,29000,22000,20000,25000,30000,28000,28000,32000,30000,20000,32000,20000,22000,32000,30000,25000,20000,30000,29000,32000,23000,26000,30000,26000,33000,31000,32000,20000,25000,28000,32000,32000,22000,22000,28000,25000,29000,30000,22000,22000,33000,22000,28000,29000,29000,28000,32000,32000,22000,20000,33000,20000,32000,30000,32000,20000,29000,28000,23000,20000,33000,24000,23000,20000,33000,32000,32000,32000,22000,20000,28000,22000,31000,26000,29000,25000,30000,32000,20000,33000,32000,29000,32000,28000,25000,33000,27000,32000,29000,30000,28000,33000,32000,26000,20000,31000,26000,32000,24000,19000,27000,33000,26000,24000,20000,32000,30000,22000,30000,25000,20000,29000,29000,22000,33000,32000,28000,25000,23000,28000,31000,22000,31000,30000,22000,24000,30000,20000,26000,24000,31000,20000,25000,19000,24000,27000,24000,26000,32000,28000,23000,30000,29000,22000,30000,28000,22000,32000,26000,28000,19000,30000,19000,24000,22000,30000,24000,20000,19000,24000,32000,28000,24000,32000,26000,30000,28000,23000,22000,22000,27000,23000,20000,31000,33000,30000,30000,30000,28000,25000,30000,22000,32000,23000,28000,25000,23000,23000,23000,19000,26000,24000,33000,32000,23000,26000,29000,30000,32000,25000,22000,28000,24000,28000,31000,25000,23000,23000,32000,31000,22000,32000,27000,33000,33000,28000,22000,22000,29000,27000,27000,20000,29000,20000,26000,31000,31000,20000,29000,25000,22000,29000,24000,30000,22000,21000,30000,24000,31000,30000,20000,19000,19000,27000,23000,30000,23000,20000,25000,23000,20000,32000,24000,22000,28000,23000,22000,25000,29000,28000,30000,23000,28000,30000,25000,24000,25000,33000,20000,20000,32000,29000,25000,24000,30000,31000,31000,25000,24000,22000,25000,24000,20000,28000,30000,26000,20000,30000,28000,30000,20000,33000,31000,28000,26000,32000,33000,33000,30000,23000,20000,19000,32000,26000,19000,29000,27000,20000,19000,32000,32000,31000,28000,25000,20000,20000,20000,19000,30000,24000,30000,27000,20000,30000,26000,24000,22000,20000,25000,20000,29000,25000,32000,25000,20000,32000,24000,20000,30000,28000,26000,28000,26000,31000,27000,25000,25000,26000,32000,32000,28000,22000,19000,30000,26000,28000,25000,32000,31000,32000,22000,20000,30000,29000,23000,32000,19000,24000,29000,20000,31000,22000,33000,32000,28000,29000,30000,29000,20000,32000,31000,23000,31000,30000,20000,20000,23000,33000,25000,25000,24000,28000,27000,25000,20000,24000,19000,28000,33000,31000,26000,22000,25000,22000,33000,24000,22000,20000,18000,32000,28000,22000,28000,25000,22000,28000,22000,18000,25000,32000,28000,29000,27000,24000,28000,22000,32000,24000,30000,24000,33000,23000,20000,32000,24000,26000,20000,32000,25000,22000,24000,20000,29000,20000,32000,32000,22000,33000,31000,30000,26000,24000,23000,33000,32000,30000,19000,30000,30000,26000,24000,28000,28000,24000,31000,29000,26000,29000,25000,25000,26000,22000,31000,25000,23000,20000,33000,33000,28000,28000,26000,22000,22000,25000,32000,22000,30000,29000,31000,30000,30000,25000,28000,31000,30000,32000,28000,19000,28000,28000,20000,22000,24000,32000,29000,28000,24000,33000,23000,30000,24000,23000,22000,32000,30000,19000,28000,20000,22000,32000,22000,25000,25000,31000,32000,20000,25000,20000,32000,23000,29000,22000,29000,27000,26000,26000,25000,30000,28000,32000,23000,19000,24000,24000,23000,22000,21000,33000,24000,23000,19000,27000,31000,30000,24000,31000],\"y0\":\" \",\"yaxis\":\"y\",\"type\":\"box\"}],                        {\"template\":{\"data\":{\"histogram2dcontour\":[{\"type\":\"histogram2dcontour\",\"colorbar\":{\"outlinewidth\":0,\"ticks\":\"\"},\"colorscale\":[[0.0,\"#0d0887\"],[0.1111111111111111,\"#46039f\"],[0.2222222222222222,\"#7201a8\"],[0.3333333333333333,\"#9c179e\"],[0.4444444444444444,\"#bd3786\"],[0.5555555555555556,\"#d8576b\"],[0.6666666666666666,\"#ed7953\"],[0.7777777777777778,\"#fb9f3a\"],[0.8888888888888888,\"#fdca26\"],[1.0,\"#f0f921\"]]}],\"choropleth\":[{\"type\":\"choropleth\",\"colorbar\":{\"outlinewidth\":0,\"ticks\":\"\"}}],\"histogram2d\":[{\"type\":\"histogram2d\",\"colorbar\":{\"outlinewidth\":0,\"ticks\":\"\"},\"colorscale\":[[0.0,\"#0d0887\"],[0.1111111111111111,\"#46039f\"],[0.2222222222222222,\"#7201a8\"],[0.3333333333333333,\"#9c179e\"],[0.4444444444444444,\"#bd3786\"],[0.5555555555555556,\"#d8576b\"],[0.6666666666666666,\"#ed7953\"],[0.7777777777777778,\"#fb9f3a\"],[0.8888888888888888,\"#fdca26\"],[1.0,\"#f0f921\"]]}],\"heatmap\":[{\"type\":\"heatmap\",\"colorbar\":{\"outlinewidth\":0,\"ticks\":\"\"},\"colorscale\":[[0.0,\"#0d0887\"],[0.1111111111111111,\"#46039f\"],[0.2222222222222222,\"#7201a8\"],[0.3333333333333333,\"#9c179e\"],[0.4444444444444444,\"#bd3786\"],[0.5555555555555556,\"#d8576b\"],[0.6666666666666666,\"#ed7953\"],[0.7777777777777778,\"#fb9f3a\"],[0.8888888888888888,\"#fdca26\"],[1.0,\"#f0f921\"]]}],\"heatmapgl\":[{\"type\":\"heatmapgl\",\"colorbar\":{\"outlinewidth\":0,\"ticks\":\"\"},\"colorscale\":[[0.0,\"#0d0887\"],[0.1111111111111111,\"#46039f\"],[0.2222222222222222,\"#7201a8\"],[0.3333333333333333,\"#9c179e\"],[0.4444444444444444,\"#bd3786\"],[0.5555555555555556,\"#d8576b\"],[0.6666666666666666,\"#ed7953\"],[0.7777777777777778,\"#fb9f3a\"],[0.8888888888888888,\"#fdca26\"],[1.0,\"#f0f921\"]]}],\"contourcarpet\":[{\"type\":\"contourcarpet\",\"colorbar\":{\"outlinewidth\":0,\"ticks\":\"\"}}],\"contour\":[{\"type\":\"contour\",\"colorbar\":{\"outlinewidth\":0,\"ticks\":\"\"},\"colorscale\":[[0.0,\"#0d0887\"],[0.1111111111111111,\"#46039f\"],[0.2222222222222222,\"#7201a8\"],[0.3333333333333333,\"#9c179e\"],[0.4444444444444444,\"#bd3786\"],[0.5555555555555556,\"#d8576b\"],[0.6666666666666666,\"#ed7953\"],[0.7777777777777778,\"#fb9f3a\"],[0.8888888888888888,\"#fdca26\"],[1.0,\"#f0f921\"]]}],\"surface\":[{\"type\":\"surface\",\"colorbar\":{\"outlinewidth\":0,\"ticks\":\"\"},\"colorscale\":[[0.0,\"#0d0887\"],[0.1111111111111111,\"#46039f\"],[0.2222222222222222,\"#7201a8\"],[0.3333333333333333,\"#9c179e\"],[0.4444444444444444,\"#bd3786\"],[0.5555555555555556,\"#d8576b\"],[0.6666666666666666,\"#ed7953\"],[0.7777777777777778,\"#fb9f3a\"],[0.8888888888888888,\"#fdca26\"],[1.0,\"#f0f921\"]]}],\"mesh3d\":[{\"type\":\"mesh3d\",\"colorbar\":{\"outlinewidth\":0,\"ticks\":\"\"}}],\"scatter\":[{\"fillpattern\":{\"fillmode\":\"overlay\",\"size\":10,\"solidity\":0.2},\"type\":\"scatter\"}],\"parcoords\":[{\"type\":\"parcoords\",\"line\":{\"colorbar\":{\"outlinewidth\":0,\"ticks\":\"\"}}}],\"scatterpolargl\":[{\"type\":\"scatterpolargl\",\"marker\":{\"colorbar\":{\"outlinewidth\":0,\"ticks\":\"\"}}}],\"bar\":[{\"error_x\":{\"color\":\"#2a3f5f\"},\"error_y\":{\"color\":\"#2a3f5f\"},\"marker\":{\"line\":{\"color\":\"#E5ECF6\",\"width\":0.5},\"pattern\":{\"fillmode\":\"overlay\",\"size\":10,\"solidity\":0.2}},\"type\":\"bar\"}],\"scattergeo\":[{\"type\":\"scattergeo\",\"marker\":{\"colorbar\":{\"outlinewidth\":0,\"ticks\":\"\"}}}],\"scatterpolar\":[{\"type\":\"scatterpolar\",\"marker\":{\"colorbar\":{\"outlinewidth\":0,\"ticks\":\"\"}}}],\"histogram\":[{\"marker\":{\"pattern\":{\"fillmode\":\"overlay\",\"size\":10,\"solidity\":0.2}},\"type\":\"histogram\"}],\"scattergl\":[{\"type\":\"scattergl\",\"marker\":{\"colorbar\":{\"outlinewidth\":0,\"ticks\":\"\"}}}],\"scatter3d\":[{\"type\":\"scatter3d\",\"line\":{\"colorbar\":{\"outlinewidth\":0,\"ticks\":\"\"}},\"marker\":{\"colorbar\":{\"outlinewidth\":0,\"ticks\":\"\"}}}],\"scattermapbox\":[{\"type\":\"scattermapbox\",\"marker\":{\"colorbar\":{\"outlinewidth\":0,\"ticks\":\"\"}}}],\"scatterternary\":[{\"type\":\"scatterternary\",\"marker\":{\"colorbar\":{\"outlinewidth\":0,\"ticks\":\"\"}}}],\"scattercarpet\":[{\"type\":\"scattercarpet\",\"marker\":{\"colorbar\":{\"outlinewidth\":0,\"ticks\":\"\"}}}],\"carpet\":[{\"aaxis\":{\"endlinecolor\":\"#2a3f5f\",\"gridcolor\":\"white\",\"linecolor\":\"white\",\"minorgridcolor\":\"white\",\"startlinecolor\":\"#2a3f5f\"},\"baxis\":{\"endlinecolor\":\"#2a3f5f\",\"gridcolor\":\"white\",\"linecolor\":\"white\",\"minorgridcolor\":\"white\",\"startlinecolor\":\"#2a3f5f\"},\"type\":\"carpet\"}],\"table\":[{\"cells\":{\"fill\":{\"color\":\"#EBF0F8\"},\"line\":{\"color\":\"white\"}},\"header\":{\"fill\":{\"color\":\"#C8D4E3\"},\"line\":{\"color\":\"white\"}},\"type\":\"table\"}],\"barpolar\":[{\"marker\":{\"line\":{\"color\":\"#E5ECF6\",\"width\":0.5},\"pattern\":{\"fillmode\":\"overlay\",\"size\":10,\"solidity\":0.2}},\"type\":\"barpolar\"}],\"pie\":[{\"automargin\":true,\"type\":\"pie\"}]},\"layout\":{\"autotypenumbers\":\"strict\",\"colorway\":[\"#636efa\",\"#EF553B\",\"#00cc96\",\"#ab63fa\",\"#FFA15A\",\"#19d3f3\",\"#FF6692\",\"#B6E880\",\"#FF97FF\",\"#FECB52\"],\"font\":{\"color\":\"#2a3f5f\"},\"hovermode\":\"closest\",\"hoverlabel\":{\"align\":\"left\"},\"paper_bgcolor\":\"white\",\"plot_bgcolor\":\"#E5ECF6\",\"polar\":{\"bgcolor\":\"#E5ECF6\",\"angularaxis\":{\"gridcolor\":\"white\",\"linecolor\":\"white\",\"ticks\":\"\"},\"radialaxis\":{\"gridcolor\":\"white\",\"linecolor\":\"white\",\"ticks\":\"\"}},\"ternary\":{\"bgcolor\":\"#E5ECF6\",\"aaxis\":{\"gridcolor\":\"white\",\"linecolor\":\"white\",\"ticks\":\"\"},\"baxis\":{\"gridcolor\":\"white\",\"linecolor\":\"white\",\"ticks\":\"\"},\"caxis\":{\"gridcolor\":\"white\",\"linecolor\":\"white\",\"ticks\":\"\"}},\"coloraxis\":{\"colorbar\":{\"outlinewidth\":0,\"ticks\":\"\"}},\"colorscale\":{\"sequential\":[[0.0,\"#0d0887\"],[0.1111111111111111,\"#46039f\"],[0.2222222222222222,\"#7201a8\"],[0.3333333333333333,\"#9c179e\"],[0.4444444444444444,\"#bd3786\"],[0.5555555555555556,\"#d8576b\"],[0.6666666666666666,\"#ed7953\"],[0.7777777777777778,\"#fb9f3a\"],[0.8888888888888888,\"#fdca26\"],[1.0,\"#f0f921\"]],\"sequentialminus\":[[0.0,\"#0d0887\"],[0.1111111111111111,\"#46039f\"],[0.2222222222222222,\"#7201a8\"],[0.3333333333333333,\"#9c179e\"],[0.4444444444444444,\"#bd3786\"],[0.5555555555555556,\"#d8576b\"],[0.6666666666666666,\"#ed7953\"],[0.7777777777777778,\"#fb9f3a\"],[0.8888888888888888,\"#fdca26\"],[1.0,\"#f0f921\"]],\"diverging\":[[0,\"#8e0152\"],[0.1,\"#c51b7d\"],[0.2,\"#de77ae\"],[0.3,\"#f1b6da\"],[0.4,\"#fde0ef\"],[0.5,\"#f7f7f7\"],[0.6,\"#e6f5d0\"],[0.7,\"#b8e186\"],[0.8,\"#7fbc41\"],[0.9,\"#4d9221\"],[1,\"#276419\"]]},\"xaxis\":{\"gridcolor\":\"white\",\"linecolor\":\"white\",\"ticks\":\"\",\"title\":{\"standoff\":15},\"zerolinecolor\":\"white\",\"automargin\":true,\"zerolinewidth\":2},\"yaxis\":{\"gridcolor\":\"white\",\"linecolor\":\"white\",\"ticks\":\"\",\"title\":{\"standoff\":15},\"zerolinecolor\":\"white\",\"automargin\":true,\"zerolinewidth\":2},\"scene\":{\"xaxis\":{\"backgroundcolor\":\"#E5ECF6\",\"gridcolor\":\"white\",\"linecolor\":\"white\",\"showbackground\":true,\"ticks\":\"\",\"zerolinecolor\":\"white\",\"gridwidth\":2},\"yaxis\":{\"backgroundcolor\":\"#E5ECF6\",\"gridcolor\":\"white\",\"linecolor\":\"white\",\"showbackground\":true,\"ticks\":\"\",\"zerolinecolor\":\"white\",\"gridwidth\":2},\"zaxis\":{\"backgroundcolor\":\"#E5ECF6\",\"gridcolor\":\"white\",\"linecolor\":\"white\",\"showbackground\":true,\"ticks\":\"\",\"zerolinecolor\":\"white\",\"gridwidth\":2}},\"shapedefaults\":{\"line\":{\"color\":\"#2a3f5f\"}},\"annotationdefaults\":{\"arrowcolor\":\"#2a3f5f\",\"arrowhead\":0,\"arrowwidth\":1},\"geo\":{\"bgcolor\":\"white\",\"landcolor\":\"#E5ECF6\",\"subunitcolor\":\"white\",\"showland\":true,\"showlakes\":true,\"lakecolor\":\"white\"},\"title\":{\"x\":0.05},\"mapbox\":{\"style\":\"light\"}}},\"xaxis\":{\"anchor\":\"y\",\"domain\":[0.0,1.0],\"title\":{\"text\":\"Education\"}},\"yaxis\":{\"anchor\":\"x\",\"domain\":[0.0,1.0],\"title\":{\"text\":\"Price\"}},\"legend\":{\"title\":{\"text\":\"Make\"},\"tracegroupgap\":0},\"margin\":{\"t\":60},\"boxmode\":\"group\"},                        {\"responsive\": true}                    ).then(function(){\n",
              "                            \n",
              "var gd = document.getElementById('e96e2a99-8fe5-4b93-8bd7-c0b1caea476a');\n",
              "var x = new MutationObserver(function (mutations, observer) {{\n",
              "        var display = window.getComputedStyle(gd).display;\n",
              "        if (!display || display === 'none') {{\n",
              "            console.log([gd, 'removed!']);\n",
              "            Plotly.purge(gd);\n",
              "            observer.disconnect();\n",
              "        }}\n",
              "}});\n",
              "\n",
              "// Listen for the removal of the full notebook cells\n",
              "var notebookContainer = gd.closest('#notebook-container');\n",
              "if (notebookContainer) {{\n",
              "    x.observe(notebookContainer, {childList: true});\n",
              "}}\n",
              "\n",
              "// Listen for the clearing of the current output cell\n",
              "var outputEl = gd.closest('.output');\n",
              "if (outputEl) {{\n",
              "    x.observe(outputEl, {childList: true});\n",
              "}}\n",
              "\n",
              "                        })                };                            </script>        </div>\n",
              "</body>\n",
              "</html>"
            ]
          },
          "metadata": {}
        },
        {
          "output_type": "display_data",
          "data": {
            "text/html": [
              "<html>\n",
              "<head><meta charset=\"utf-8\" /></head>\n",
              "<body>\n",
              "    <div>            <script src=\"https://cdnjs.cloudflare.com/ajax/libs/mathjax/2.7.5/MathJax.js?config=TeX-AMS-MML_SVG\"></script><script type=\"text/javascript\">if (window.MathJax && window.MathJax.Hub && window.MathJax.Hub.Config) {window.MathJax.Hub.Config({SVG: {font: \"STIX-Web\"}});}</script>                <script type=\"text/javascript\">window.PlotlyConfig = {MathJaxConfig: 'local'};</script>\n",
              "        <script charset=\"utf-8\" src=\"https://cdn.plot.ly/plotly-2.24.1.min.js\"></script>                <div id=\"42549200-e16f-4f21-b410-b35c9e604ef8\" class=\"plotly-graph-div\" style=\"height:525px; width:100%;\"></div>            <script type=\"text/javascript\">                                    window.PLOTLYENV=window.PLOTLYENV || {};                                    if (document.getElementById(\"42549200-e16f-4f21-b410-b35c9e604ef8\")) {                    Plotly.newPlot(                        \"42549200-e16f-4f21-b410-b35c9e604ef8\",                        [{\"alignmentgroup\":\"True\",\"hovertemplate\":\"Make=SUV\\u003cbr\\u003ePersonal_loan=%{x}\\u003cbr\\u003ePrice=%{y}\\u003cextra\\u003e\\u003c\\u002fextra\\u003e\",\"legendgroup\":\"SUV\",\"marker\":{\"color\":\"#636efa\"},\"name\":\"SUV\",\"notched\":false,\"offsetgroup\":\"SUV\",\"orientation\":\"v\",\"showlegend\":true,\"x\":[\"No\",\"Yes\",\"No\",\"Yes\",\"No\",\"No\",\"Yes\",\"No\",\"No\",\"No\",\"Yes\",\"No\",\"Yes\",\"No\",\"No\",\"No\",\"No\",\"No\",\"No\",\"Yes\",\"No\",\"Yes\",\"No\",\"No\",\"Yes\",\"No\",\"No\",\"No\",\"No\",\"No\",\"No\",\"Yes\",\"No\",\"No\",\"No\",\"Yes\",\"No\",\"No\",\"No\",\"Yes\",\"Yes\",\"No\",\"No\",\"No\",\"Yes\",\"Yes\",\"Yes\",\"No\",\"No\",\"No\",\"No\",\"Yes\",\"No\",\"No\",\"No\",\"No\",\"No\",\"No\",\"No\",\"Yes\",\"Yes\",\"No\",\"No\",\"No\",\"Yes\",\"No\",\"No\",\"Yes\",\"Yes\",\"Yes\",\"No\",\"No\",\"Yes\",\"No\",\"No\",\"No\",\"No\",\"No\",\"Yes\",\"Yes\",\"No\",\"No\",\"No\",\"No\",\"No\",\"No\",\"No\",\"No\",\"No\",\"No\",\"No\",\"Yes\",\"No\",\"Yes\",\"Yes\",\"No\",\"No\",\"No\",\"Yes\",\"Yes\",\"No\",\"Yes\",\"No\",\"No\",\"No\",\"No\",\"No\",\"No\",\"No\",\"No\",\"Yes\",\"No\",\"No\",\"Yes\",\"No\",\"No\",\"Yes\",\"No\",\"No\",\"No\",\"Yes\",\"Yes\",\"Yes\",\"No\",\"No\",\"Yes\",\"No\",\"Yes\",\"Yes\",\"No\",\"No\",\"Yes\",\"No\",\"No\",\"No\",\"Yes\",\"No\",\"No\",\"Yes\",\"Yes\",\"No\",\"Yes\",\"Yes\",\"Yes\",\"No\",\"No\",\"No\",\"Yes\",\"No\",\"No\",\"No\",\"Yes\",\"No\",\"No\",\"Yes\",\"No\",\"No\",\"No\",\"Yes\",\"No\",\"Yes\",\"No\",\"No\",\"Yes\",\"Yes\",\"Yes\",\"Yes\",\"No\",\"No\",\"Yes\",\"Yes\",\"No\",\"No\",\"Yes\",\"No\",\"No\",\"Yes\",\"No\",\"No\",\"Yes\",\"No\",\"No\",\"Yes\",\"No\",\"No\",\"No\",\"No\",\"Yes\",\"No\",\"No\",\"No\",\"Yes\",\"No\",\"No\",\"No\",\"Yes\",\"No\",\"No\",\"No\",\"No\",\"No\",\"No\",\"No\",\"Yes\",\"Yes\",\"No\",\"Yes\",\"Yes\",\"Yes\",\"Yes\",\"No\",\"No\",\"No\",\"No\",\"No\",\"Yes\",\"Yes\",\"Yes\",\"Yes\",\"Yes\",\"No\",\"No\",\"No\",\"No\",\"Yes\",\"No\",\"Yes\",\"Yes\",\"No\",\"Yes\",\"Yes\",\"No\",\"Yes\",\"No\",\"Yes\",\"No\",\"No\",\"No\",\"Yes\",\"No\",\"No\",\"No\",\"Yes\",\"No\",\"Yes\",\"No\",\"Yes\",\"No\",\"No\",\"No\",\"Yes\",\"No\",\"Yes\",\"Yes\",\"No\",\"Yes\",\"No\",\"No\",\"No\",\"Yes\",\"No\",\"No\",\"Yes\",\"Yes\",\"No\",\"No\",\"No\",\"No\",\"No\",\"Yes\",\"Yes\",\"Yes\",\"Yes\",\"Yes\",\"Yes\",\"No\",\"Yes\",\"Yes\",\"Yes\",\"Yes\",\"Yes\",\"No\",\"No\",\"Yes\",\"Yes\",\"Yes\",\"Yes\",\"No\",\"Yes\",\"Yes\",\"No\",\"Yes\",\"Yes\",\"Yes\",\"No\",\"Yes\",\"Yes\"],\"x0\":\" \",\"xaxis\":\"x\",\"y\":[61000,61000,57000,61000,57000,57000,51000,68000,61000,57000,67000,63000,62000,50000,66000,52000,60000,64000,58000,54000,53000,62000,55000,59000,50000,50000,68000,60000,56000,61000,67000,66000,56000,61000,52000,59000,61000,54000,64000,53000,60000,66000,55000,51000,50000,59000,61000,62000,63000,69000,57000,52000,50000,57000,50000,68000,69000,57000,54000,51000,54000,64000,58000,59000,53000,55000,62000,49000,55000,66000,56000,61000,58000,60000,62000,68000,60000,51000,55000,53000,62000,64000,54000,52000,57000,58000,53000,55000,55000,60000,51000,57000,67000,51000,51000,63000,66000,64000,66000,56000,53000,61000,70000,67000,69000,53000,64000,68000,65000,58000,67000,62000,53000,59000,65000,59000,69000,58000,52000,68000,69000,62000,61000,63000,57000,49000,58000,69000,50000,51000,56000,58000,66000,51000,52000,50000,58000,57000,49000,50000,49000,57000,64000,37000,61000,37000,52000,40000,62000,52000,36000,51000,65000,61000,59000,67000,59000,41000,49000,60000,51000,53000,68000,57000,50000,45000,49000,65000,54000,64000,45000,58000,69000,39000,57000,62000,69000,50000,65000,39000,32000,32000,45000,31000,36000,61000,59000,45000,63000,57000,49000,59000,61000,61000,67000,51000,64000,45000,66000,36000,57000,61000,65000,57000,49000,32000,63000,64000,62000,51000,64000,68000,63000,60000,49000,39000,55000,58000,51000,49000,37000,68000,45000,67000,36000,65000,55000,57000,63000,64000,57000,39000,57000,56000,55000,45000,60000,63000,51000,39000,63000,36000,48000,66000,50000,69000,68000,58000,51000,56000,65000,69000,61000,57000,55000,49000,52000,36000,58000,66000,64000,54000,70000,62000,63000,66000,66000,68000,63000,59000,31000,40000,51000,69000,57000,58000,45000,45000,51000,50000,51000,39000,40000,49000,45000,32000,51000,48000,31000,51000,49000,36000,52000,32000,51000,31000,31000],\"y0\":\" \",\"yaxis\":\"y\",\"type\":\"box\"},{\"alignmentgroup\":\"True\",\"hovertemplate\":\"Make=Sedan\\u003cbr\\u003ePersonal_loan=%{x}\\u003cbr\\u003ePrice=%{y}\\u003cextra\\u003e\\u003c\\u002fextra\\u003e\",\"legendgroup\":\"Sedan\",\"marker\":{\"color\":\"#EF553B\"},\"name\":\"Sedan\",\"notched\":false,\"offsetgroup\":\"Sedan\",\"orientation\":\"v\",\"showlegend\":true,\"x\":[\"Yes\",\"No\",\"No\",\"No\",\"Yes\",\"Yes\",\"Yes\",\"Yes\",\"No\",\"Yes\",\"No\",\"Yes\",\"Yes\",\"Yes\",\"No\",\"Yes\",\"Yes\",\"No\",\"Yes\",\"No\",\"Yes\",\"Yes\",\"Yes\",\"Yes\",\"Yes\",\"No\",\"Yes\",\"Yes\",\"No\",\"Yes\",\"No\",\"No\",\"Yes\",\"Yes\",\"Yes\",\"Yes\",\"Yes\",\"No\",\"No\",\"No\",\"Yes\",\"No\",\"No\",\"Yes\",\"Yes\",\"Yes\",\"No\",\"No\",\"Yes\",\"Yes\",\"No\",\"No\",\"No\",\"Yes\",\"Yes\",\"No\",\"Yes\",\"No\",\"Yes\",\"Yes\",\"Yes\",\"Yes\",\"Yes\",\"Yes\",\"Yes\",\"Yes\",\"Yes\",\"No\",\"No\",\"Yes\",\"No\",\"No\",\"Yes\",\"No\",\"Yes\",\"Yes\",\"Yes\",\"No\",\"Yes\",\"Yes\",\"No\",\"No\",\"Yes\",\"Yes\",\"Yes\",\"Yes\",\"No\",\"Yes\",\"Yes\",\"No\",\"No\",\"No\",\"Yes\",\"No\",\"No\",\"Yes\",\"Yes\",\"Yes\",\"Yes\",\"Yes\",\"Yes\",\"Yes\",\"No\",\"No\",\"No\",\"No\",\"Yes\",\"Yes\",\"No\",\"Yes\",\"Yes\",\"Yes\",\"Yes\",\"No\",\"Yes\",\"No\",\"No\",\"No\",\"No\",\"No\",\"Yes\",\"Yes\",\"Yes\",\"No\",\"No\",\"Yes\",\"No\",\"Yes\",\"Yes\",\"Yes\",\"Yes\",\"Yes\",\"No\",\"Yes\",\"Yes\",\"Yes\",\"No\",\"No\",\"Yes\",\"Yes\",\"Yes\",\"Yes\",\"Yes\",\"No\",\"No\",\"Yes\",\"Yes\",\"No\",\"No\",\"Yes\",\"Yes\",\"Yes\",\"Yes\",\"Yes\",\"Yes\",\"Yes\",\"Yes\",\"Yes\",\"Yes\",\"Yes\",\"No\",\"Yes\",\"Yes\",\"Yes\",\"Yes\",\"No\",\"Yes\",\"Yes\",\"No\",\"Yes\",\"No\",\"No\",\"Yes\",\"Yes\",\"No\",\"Yes\",\"Yes\",\"No\",\"No\",\"Yes\",\"No\",\"Yes\",\"No\",\"Yes\",\"No\",\"No\",\"No\",\"No\",\"Yes\",\"No\",\"No\",\"Yes\",\"No\",\"No\",\"No\",\"Yes\",\"No\",\"Yes\",\"No\",\"No\",\"No\",\"No\",\"Yes\",\"Yes\",\"No\",\"No\",\"Yes\",\"Yes\",\"Yes\",\"Yes\",\"No\",\"No\",\"Yes\",\"Yes\",\"No\",\"Yes\",\"No\",\"Yes\",\"Yes\",\"Yes\",\"Yes\",\"Yes\",\"Yes\",\"Yes\",\"No\",\"No\",\"No\",\"No\",\"No\",\"Yes\",\"No\",\"Yes\",\"Yes\",\"No\",\"No\",\"Yes\",\"Yes\",\"Yes\",\"Yes\",\"Yes\",\"No\",\"No\",\"No\",\"No\",\"No\",\"Yes\",\"Yes\",\"No\",\"No\",\"Yes\",\"No\",\"Yes\",\"No\",\"Yes\",\"Yes\",\"Yes\",\"No\",\"Yes\",\"Yes\",\"No\",\"Yes\",\"No\",\"Yes\",\"Yes\",\"No\",\"Yes\",\"Yes\",\"Yes\",\"Yes\",\"No\",\"Yes\",\"Yes\",\"Yes\",\"No\",\"No\",\"No\",\"Yes\",\"No\",\"Yes\",\"Yes\",\"Yes\",\"No\",\"Yes\",\"Yes\",\"Yes\",\"Yes\",\"No\",\"No\",\"No\",\"Yes\",\"Yes\",\"No\",\"No\",\"No\",\"Yes\",\"Yes\",\"Yes\",\"Yes\",\"No\",\"Yes\",\"No\",\"Yes\",\"No\",\"Yes\",\"Yes\",\"No\",\"No\",\"No\",\"Yes\",\"No\",\"No\",\"Yes\",\"No\",\"No\",\"Yes\",\"No\",\"Yes\",\"No\",\"Yes\",\"No\",\"Yes\",\"No\",\"Yes\",\"No\",\"Yes\",\"Yes\",\"No\",\"No\",\"No\",\"No\",\"Yes\",\"Yes\",\"No\",\"Yes\",\"No\",\"Yes\",\"Yes\",\"Yes\",\"Yes\",\"No\",\"Yes\",\"No\",\"No\",\"No\",\"Yes\",\"No\",\"Yes\",\"No\",\"No\",\"No\",\"No\",\"Yes\",\"Yes\",\"No\",\"Yes\",\"No\",\"No\",\"Yes\",\"Yes\",\"No\",\"No\",\"No\",\"Yes\",\"No\",\"Yes\",\"Yes\",\"Yes\",\"No\",\"No\",\"Yes\",\"Yes\",\"No\",\"No\",\"No\",\"Yes\",\"No\",\"No\",\"Yes\",\"Yes\",\"Yes\",\"Yes\",\"No\",\"Yes\",\"No\",\"Yes\",\"Yes\",\"No\",\"Yes\",\"No\",\"Yes\",\"Yes\",\"Yes\",\"No\",\"No\",\"Yes\",\"No\",\"No\",\"No\",\"Yes\",\"No\",\"Yes\",\"Yes\",\"Yes\",\"Yes\",\"No\",\"Yes\",\"Yes\",\"No\",\"No\",\"Yes\",\"Yes\",\"No\",\"Yes\",\"No\",\"No\",\"Yes\",\"No\",\"Yes\",\"No\",\"No\",\"No\",\"Yes\",\"Yes\",\"No\",\"Yes\",\"No\",\"Yes\",\"Yes\",\"Yes\",\"No\",\"Yes\",\"Yes\",\"No\",\"No\",\"Yes\",\"Yes\",\"Yes\",\"No\",\"Yes\",\"No\",\"No\",\"No\",\"No\",\"No\",\"Yes\",\"No\",\"Yes\",\"Yes\",\"Yes\",\"No\",\"No\",\"Yes\",\"No\",\"No\",\"Yes\",\"No\",\"No\",\"No\",\"No\",\"No\",\"Yes\",\"Yes\",\"Yes\",\"Yes\",\"Yes\",\"No\",\"No\",\"No\",\"No\",\"Yes\",\"Yes\",\"No\",\"Yes\",\"Yes\",\"Yes\",\"Yes\",\"No\",\"No\",\"No\",\"No\",\"No\",\"No\",\"Yes\",\"No\",\"Yes\",\"Yes\",\"No\",\"No\",\"No\",\"Yes\",\"No\",\"Yes\",\"No\",\"Yes\",\"Yes\",\"Yes\",\"Yes\",\"Yes\",\"Yes\",\"No\",\"Yes\",\"No\",\"No\",\"Yes\",\"Yes\",\"No\",\"Yes\",\"No\",\"Yes\",\"No\",\"No\",\"No\",\"Yes\",\"No\",\"No\",\"No\",\"Yes\",\"Yes\",\"Yes\",\"Yes\",\"Yes\",\"Yes\",\"Yes\",\"Yes\",\"No\",\"No\",\"No\",\"No\",\"No\",\"Yes\",\"No\",\"Yes\",\"Yes\",\"No\",\"Yes\",\"Yes\",\"Yes\",\"Yes\",\"No\",\"No\",\"No\",\"No\",\"Yes\",\"No\",\"Yes\",\"No\",\"No\",\"Yes\",\"No\",\"Yes\",\"Yes\",\"Yes\",\"No\",\"Yes\",\"Yes\",\"No\",\"No\",\"Yes\",\"Yes\",\"No\",\"No\",\"No\",\"Yes\",\"No\",\"Yes\",\"Yes\",\"No\",\"No\",\"Yes\",\"Yes\",\"No\",\"Yes\",\"No\",\"No\",\"Yes\",\"Yes\",\"Yes\",\"Yes\",\"No\",\"No\",\"No\",\"No\",\"Yes\",\"Yes\",\"No\",\"No\",\"No\",\"No\",\"Yes\",\"Yes\",\"No\",\"Yes\",\"Yes\",\"No\",\"No\",\"No\",\"Yes\",\"Yes\",\"No\",\"No\",\"No\",\"Yes\",\"No\",\"No\",\"Yes\",\"Yes\",\"Yes\",\"Yes\",\"Yes\",\"Yes\",\"Yes\",\"Yes\",\"No\",\"Yes\",\"Yes\",\"No\",\"Yes\",\"No\",\"No\",\"No\",\"No\",\"Yes\",\"No\",\"Yes\",\"Yes\",\"No\",\"Yes\",\"Yes\",\"No\",\"No\",\"No\",\"Yes\",\"No\",\"Yes\",\"Yes\",\"Yes\",\"No\",\"Yes\",\"No\",\"Yes\",\"No\",\"No\",\"No\",\"Yes\",\"No\",\"No\",\"Yes\",\"No\",\"Yes\",\"Yes\",\"Yes\",\"No\",\"No\",\"Yes\",\"Yes\",\"Yes\",\"No\",\"Yes\",\"Yes\",\"Yes\",\"No\",\"Yes\",\"No\",\"No\",\"No\",\"Yes\",\"Yes\",\"Yes\",\"Yes\",\"Yes\",\"No\",\"Yes\",\"Yes\",\"Yes\",\"Yes\",\"Yes\",\"Yes\",\"No\",\"No\",\"No\",\"Yes\",\"Yes\",\"Yes\",\"Yes\",\"No\",\"Yes\",\"Yes\",\"No\",\"No\",\"Yes\",\"Yes\",\"Yes\",\"No\",\"No\",\"Yes\",\"Yes\",\"No\",\"Yes\",\"Yes\",\"Yes\",\"No\",\"Yes\"],\"x0\":\" \",\"xaxis\":\"x\",\"y\":[43000,53000,47000,52000,35000,42000,33000,43000,34000,50000,40000,42000,54000,36000,54000,41000,37000,41000,41000,50000,48000,44000,44000,43000,50000,49000,35000,41000,31000,54000,53000,44000,32000,33000,39000,31000,52000,33000,42000,51000,35000,39000,42000,52000,46000,50000,31000,39000,46000,51000,54000,53000,32000,32000,55000,32000,47000,47000,46000,47000,32000,42000,35000,48000,33000,34000,43000,50000,37000,33000,38000,53000,43000,39000,49000,38000,49000,36000,36000,35000,33000,41000,46000,47000,45000,52000,43000,54000,45000,33000,38000,52000,54000,38000,32000,44000,44000,42000,52000,39000,53000,32000,49000,32000,39000,43000,40000,41000,53000,41000,36000,33000,50000,48000,42000,31000,44000,50000,34000,40000,33000,50000,54000,35000,49000,46000,32000,34000,36000,54000,51000,46000,54000,34000,47000,39000,34000,54000,38000,55000,55000,52000,38000,47000,35000,46000,46000,45000,43000,52000,48000,50000,34000,39000,43000,54000,33000,33000,34000,42000,45000,32000,31000,46000,47000,39000,52000,47000,42000,38000,37000,49000,43000,48000,44000,49000,36000,36000,33000,50000,55000,46000,47000,43000,47000,49000,33000,47000,55000,33000,40000,55000,50000,48000,50000,47000,36000,53000,36000,48000,39000,35000,42000,47000,54000,51000,32000,44000,44000,53000,48000,50000,34000,37000,33000,34000,55000,45000,43000,51000,34000,31000,50000,43000,33000,33000,44000,48000,34000,47000,37000,33000,36000,50000,51000,52000,41000,35000,48000,53000,46000,43000,43000,39000,38000,43000,48000,54000,44000,35000,32000,34000,35000,32000,54000,43000,40000,33000,41000,42000,51000,37000,37000,43000,45000,37000,52000,41000,50000,47000,40000,37000,43000,48000,46000,32000,45000,52000,50000,49000,45000,35000,44000,32000,39000,41000,33000,49000,42000,38000,31000,44000,39000,46000,43000,50000,33000,31000,53000,37000,35000,52000,47000,50000,36000,45000,43000,44000,40000,34000,37000,48000,53000,52000,51000,53000,48000,41000,32000,51000,36000,36000,49000,48000,45000,55000,46000,35000,39000,35000,49000,31000,37000,37000,53000,31000,28000,34000,42000,41000,39000,53000,21000,47000,24000,23000,28000,48000,38000,23000,24000,33000,19000,55000,21000,18000,48000,39000,26000,20000,37000,26000,51000,53000,29000,41000,26000,19000,23000,28000,24000,21000,21000,18000,28000,20000,31000,27000,23000,53000,49000,18000,36000,34000,31000,43000,27000,31000,31000,24000,23000,50000,33000,19000,37000,54000,34000,29000,23000,37000,24000,31000,53000,19000,19000,46000,50000,42000,28000,47000,48000,32000,28000,23000,22000,27000,27000,26000,18000,46000,20000,21000,20000,18000,23000,26000,20000,19000,20000,20000,26000,21000,20000,40000,39000,35000,50000,31000,43000,43000,38000,34000,18000,45000,40000,24000,24000,26000,48000,51000,32000,44000,31000,23000,24000,29000,42000,39000,27000,39000,52000,27000,24000,21000,21000,28000,24000,23000,26000,24000,31000,31000,18000,23000,19000,18000,52000,20000,21000,20000,35000,21000,21000,21000,19000,20000,21000,19000,21000,19000,18000,18000,34000,29000,31000,24000,51000,18000,30000,38000,23000,41000,36000,28000,35000,43000,23000,39000,52000,27000,18000,31000,23000,27000,18000,19000,18000,18000,31000,18000,31000,21000,20000,19000,31000,28000,27000,24000,31000,23000,18000,23000,21000,20000,27000,28000,31000,26000,27000,21000,31000,28000,21000,18000,18000,27000,23000,18000,28000,24000,27000,27000,27000,26000,29000,26000,21000,28000,19000,26000,23000,27000,21000,26000,19000,27000,18000,31000,26000,31000,18000,23000,19000,18000,21000,27000,27000,26000,23000,19000,26000,31000,20000,31000,31000,21000,20000,24000,26000,27000,24000,27000,29000,23000,26000,23000,21000,21000,31000,19000,29000,27000,20000,27000,23000,24000,18000,21000,23000,19000,18000,18000,31000,31000,23000,18000,27000,31000,27000,23000,26000,23000,31000,26000,29000,19000,20000,21000,18000,21000,19000,29000,21000,23000,20000,29000,21000,19000,30000,18000,26000,28000,21000,23000,23000,29000,31000,23000,21000,24000,26000,23000,20000,21000,27000,23000,21000,29000,27000,27000,31000,27000,19000,27000,23000,24000,18000,29000,23000,27000,21000,23000,18000,19000,18000,20000,27000,19000,27000,31000,27000,26000,23000,23000,26000,27000,21000,18000,24000,29000,23000,29000,27000,21000,21000,29000,19000,18000,18000,22000,23000,20000],\"y0\":\" \",\"yaxis\":\"y\",\"type\":\"box\"},{\"alignmentgroup\":\"True\",\"hovertemplate\":\"Make=Hatchback\\u003cbr\\u003ePersonal_loan=%{x}\\u003cbr\\u003ePrice=%{y}\\u003cextra\\u003e\\u003c\\u002fextra\\u003e\",\"legendgroup\":\"Hatchback\",\"marker\":{\"color\":\"#00cc96\"},\"name\":\"Hatchback\",\"notched\":false,\"offsetgroup\":\"Hatchback\",\"orientation\":\"v\",\"showlegend\":true,\"x\":[\"No\",\"Yes\",\"No\",\"Yes\",\"No\",\"Yes\",\"No\",\"Yes\",\"No\",\"No\",\"No\",\"No\",\"No\",\"No\",\"Yes\",\"No\",\"No\",\"Yes\",\"No\",\"No\",\"Yes\",\"No\",\"Yes\",\"No\",\"Yes\",\"Yes\",\"No\",\"No\",\"No\",\"Yes\",\"Yes\",\"Yes\",\"No\",\"Yes\",\"Yes\",\"Yes\",\"No\",\"No\",\"Yes\",\"No\",\"No\",\"No\",\"No\",\"Yes\",\"Yes\",\"No\",\"Yes\",\"Yes\",\"Yes\",\"No\",\"Yes\",\"No\",\"No\",\"No\",\"Yes\",\"Yes\",\"Yes\",\"No\",\"No\",\"No\",\"No\",\"Yes\",\"No\",\"Yes\",\"Yes\",\"Yes\",\"No\",\"Yes\",\"Yes\",\"Yes\",\"No\",\"No\",\"No\",\"Yes\",\"Yes\",\"Yes\",\"Yes\",\"No\",\"Yes\",\"No\",\"No\",\"No\",\"Yes\",\"No\",\"No\",\"Yes\",\"No\",\"No\",\"Yes\",\"Yes\",\"No\",\"No\",\"Yes\",\"Yes\",\"Yes\",\"Yes\",\"Yes\",\"Yes\",\"No\",\"No\",\"No\",\"No\",\"No\",\"No\",\"Yes\",\"Yes\",\"No\",\"No\",\"No\",\"No\",\"Yes\",\"Yes\",\"No\",\"No\",\"No\",\"Yes\",\"No\",\"No\",\"No\",\"Yes\",\"No\",\"Yes\",\"Yes\",\"Yes\",\"No\",\"Yes\",\"Yes\",\"No\",\"No\",\"Yes\",\"Yes\",\"No\",\"Yes\",\"Yes\",\"Yes\",\"Yes\",\"Yes\",\"No\",\"No\",\"Yes\",\"Yes\",\"Yes\",\"Yes\",\"Yes\",\"Yes\",\"No\",\"No\",\"No\",\"No\",\"Yes\",\"No\",\"Yes\",\"No\",\"No\",\"Yes\",\"Yes\",\"Yes\",\"No\",\"No\",\"Yes\",\"No\",\"Yes\",\"No\",\"Yes\",\"No\",\"No\",\"Yes\",\"Yes\",\"Yes\",\"Yes\",\"No\",\"No\",\"No\",\"No\",\"No\",\"No\",\"Yes\",\"Yes\",\"Yes\",\"Yes\",\"No\",\"No\",\"Yes\",\"Yes\",\"Yes\",\"No\",\"No\",\"Yes\",\"Yes\",\"Yes\",\"Yes\",\"No\",\"Yes\",\"No\",\"No\",\"Yes\",\"Yes\",\"Yes\",\"Yes\",\"Yes\",\"No\",\"No\",\"Yes\",\"Yes\",\"No\",\"No\",\"No\",\"Yes\",\"Yes\",\"Yes\",\"Yes\",\"No\",\"Yes\",\"Yes\",\"Yes\",\"No\",\"Yes\",\"No\",\"No\",\"Yes\",\"Yes\",\"Yes\",\"Yes\",\"Yes\",\"No\",\"Yes\",\"No\",\"No\",\"Yes\",\"No\",\"No\",\"No\",\"No\",\"No\",\"No\",\"Yes\",\"No\",\"Yes\",\"No\",\"No\",\"Yes\",\"No\",\"No\",\"No\",\"Yes\",\"Yes\",\"Yes\",\"No\",\"Yes\",\"Yes\",\"Yes\",\"No\",\"No\",\"No\",\"Yes\",\"Yes\",\"No\",\"No\",\"Yes\",\"No\",\"Yes\",\"No\",\"No\",\"Yes\",\"Yes\",\"No\",\"No\",\"No\",\"Yes\",\"No\",\"Yes\",\"Yes\",\"No\",\"Yes\",\"Yes\",\"Yes\",\"Yes\",\"Yes\",\"No\",\"Yes\",\"Yes\",\"Yes\",\"Yes\",\"Yes\",\"No\",\"Yes\",\"Yes\",\"Yes\",\"No\",\"No\",\"No\",\"Yes\",\"Yes\",\"Yes\",\"No\",\"No\",\"Yes\",\"Yes\",\"No\",\"Yes\",\"No\",\"Yes\",\"Yes\",\"No\",\"Yes\",\"No\",\"No\",\"Yes\",\"Yes\",\"Yes\",\"No\",\"No\",\"No\",\"Yes\",\"No\",\"No\",\"No\",\"No\",\"No\",\"Yes\",\"No\",\"No\",\"Yes\",\"No\",\"Yes\",\"No\",\"Yes\",\"Yes\",\"Yes\",\"Yes\",\"No\",\"Yes\",\"No\",\"No\",\"No\",\"Yes\",\"No\",\"No\",\"No\",\"Yes\",\"Yes\",\"Yes\",\"No\",\"No\",\"No\",\"No\",\"No\",\"Yes\",\"No\",\"No\",\"No\",\"Yes\",\"Yes\",\"Yes\",\"No\",\"Yes\",\"No\",\"Yes\",\"No\",\"No\",\"Yes\",\"No\",\"Yes\",\"Yes\",\"Yes\",\"No\",\"No\",\"No\",\"No\",\"Yes\",\"No\",\"Yes\",\"No\",\"No\",\"No\",\"Yes\",\"Yes\",\"No\",\"No\",\"No\",\"Yes\",\"No\",\"No\",\"No\",\"No\",\"No\",\"Yes\",\"No\",\"Yes\",\"No\",\"Yes\",\"Yes\",\"Yes\",\"No\",\"No\",\"No\",\"Yes\",\"No\",\"No\",\"Yes\",\"Yes\",\"No\",\"No\",\"No\",\"No\",\"Yes\",\"Yes\",\"Yes\",\"No\",\"Yes\",\"No\",\"Yes\",\"Yes\",\"No\",\"No\",\"No\",\"Yes\",\"No\",\"Yes\",\"Yes\",\"Yes\",\"No\",\"Yes\",\"No\",\"No\",\"No\",\"No\",\"No\",\"Yes\",\"Yes\",\"Yes\",\"No\",\"No\",\"No\",\"No\",\"No\",\"Yes\",\"No\",\"Yes\",\"Yes\",\"Yes\",\"No\",\"No\",\"No\",\"No\",\"Yes\",\"No\",\"Yes\",\"Yes\",\"No\",\"Yes\",\"Yes\",\"Yes\",\"No\",\"Yes\",\"No\",\"Yes\",\"Yes\",\"No\",\"No\",\"No\",\"No\",\"Yes\",\"No\",\"Yes\",\"Yes\",\"Yes\",\"No\",\"Yes\",\"Yes\",\"No\",\"Yes\",\"Yes\",\"Yes\",\"Yes\",\"Yes\",\"No\",\"Yes\",\"No\",\"No\",\"Yes\",\"No\",\"No\",\"Yes\",\"No\",\"Yes\",\"Yes\",\"No\",\"No\",\"No\",\"No\",\"Yes\",\"Yes\",\"Yes\",\"Yes\",\"Yes\",\"No\",\"No\",\"No\",\"Yes\",\"No\",\"No\",\"Yes\",\"Yes\",\"Yes\",\"No\",\"Yes\",\"No\",\"Yes\",\"No\",\"Yes\",\"Yes\",\"Yes\",\"No\",\"No\",\"No\",\"No\",\"Yes\",\"Yes\",\"Yes\",\"No\",\"No\",\"Yes\",\"No\",\"Yes\",\"No\",\"No\",\"Yes\",\"Yes\",\"No\",\"No\",\"Yes\",\"Yes\",\"Yes\",\"Yes\",\"Yes\",\"No\",\"No\",\"No\",\"Yes\",\"Yes\",\"Yes\",\"Yes\",\"No\",\"Yes\",\"Yes\",\"No\",\"Yes\",\"Yes\",\"No\",\"Yes\",\"Yes\",\"Yes\",\"Yes\",\"No\",\"Yes\",\"No\",\"No\",\"Yes\",\"Yes\",\"No\",\"Yes\",\"No\",\"Yes\",\"Yes\",\"No\",\"Yes\",\"No\",\"No\",\"No\",\"Yes\",\"No\",\"Yes\",\"No\",\"Yes\",\"Yes\",\"Yes\",\"No\",\"No\",\"No\",\"Yes\",\"No\"],\"x0\":\" \",\"xaxis\":\"x\",\"y\":[30000,31000,25000,22000,25000,33000,29000,23000,33000,20000,24000,24000,32000,32000,30000,28000,30000,29000,20000,25000,23000,32000,30000,29000,31000,33000,29000,22000,20000,25000,30000,28000,28000,32000,30000,20000,32000,20000,22000,32000,30000,25000,20000,30000,29000,32000,23000,26000,30000,26000,33000,31000,32000,20000,25000,28000,32000,32000,22000,22000,28000,25000,29000,30000,22000,22000,33000,22000,28000,29000,29000,28000,32000,32000,22000,20000,33000,20000,32000,30000,32000,20000,29000,28000,23000,20000,33000,24000,23000,20000,33000,32000,32000,32000,22000,20000,28000,22000,31000,26000,29000,25000,30000,32000,20000,33000,32000,29000,32000,28000,25000,33000,27000,32000,29000,30000,28000,33000,32000,26000,20000,31000,26000,32000,24000,19000,27000,33000,26000,24000,20000,32000,30000,22000,30000,25000,20000,29000,29000,22000,33000,32000,28000,25000,23000,28000,31000,22000,31000,30000,22000,24000,30000,20000,26000,24000,31000,20000,25000,19000,24000,27000,24000,26000,32000,28000,23000,30000,29000,22000,30000,28000,22000,32000,26000,28000,19000,30000,19000,24000,22000,30000,24000,20000,19000,24000,32000,28000,24000,32000,26000,30000,28000,23000,22000,22000,27000,23000,20000,31000,33000,30000,30000,30000,28000,25000,30000,22000,32000,23000,28000,25000,23000,23000,23000,19000,26000,24000,33000,32000,23000,26000,29000,30000,32000,25000,22000,28000,24000,28000,31000,25000,23000,23000,32000,31000,22000,32000,27000,33000,33000,28000,22000,22000,29000,27000,27000,20000,29000,20000,26000,31000,31000,20000,29000,25000,22000,29000,24000,30000,22000,21000,30000,24000,31000,30000,20000,19000,19000,27000,23000,30000,23000,20000,25000,23000,20000,32000,24000,22000,28000,23000,22000,25000,29000,28000,30000,23000,28000,30000,25000,24000,25000,33000,20000,20000,32000,29000,25000,24000,30000,31000,31000,25000,24000,22000,25000,24000,20000,28000,30000,26000,20000,30000,28000,30000,20000,33000,31000,28000,26000,32000,33000,33000,30000,23000,20000,19000,32000,26000,19000,29000,27000,20000,19000,32000,32000,31000,28000,25000,20000,20000,20000,19000,30000,24000,30000,27000,20000,30000,26000,24000,22000,20000,25000,20000,29000,25000,32000,25000,20000,32000,24000,20000,30000,28000,26000,28000,26000,31000,27000,25000,25000,26000,32000,32000,28000,22000,19000,30000,26000,28000,25000,32000,31000,32000,22000,20000,30000,29000,23000,32000,19000,24000,29000,20000,31000,22000,33000,32000,28000,29000,30000,29000,20000,32000,31000,23000,31000,30000,20000,20000,23000,33000,25000,25000,24000,28000,27000,25000,20000,24000,19000,28000,33000,31000,26000,22000,25000,22000,33000,24000,22000,20000,18000,32000,28000,22000,28000,25000,22000,28000,22000,18000,25000,32000,28000,29000,27000,24000,28000,22000,32000,24000,30000,24000,33000,23000,20000,32000,24000,26000,20000,32000,25000,22000,24000,20000,29000,20000,32000,32000,22000,33000,31000,30000,26000,24000,23000,33000,32000,30000,19000,30000,30000,26000,24000,28000,28000,24000,31000,29000,26000,29000,25000,25000,26000,22000,31000,25000,23000,20000,33000,33000,28000,28000,26000,22000,22000,25000,32000,22000,30000,29000,31000,30000,30000,25000,28000,31000,30000,32000,28000,19000,28000,28000,20000,22000,24000,32000,29000,28000,24000,33000,23000,30000,24000,23000,22000,32000,30000,19000,28000,20000,22000,32000,22000,25000,25000,31000,32000,20000,25000,20000,32000,23000,29000,22000,29000,27000,26000,26000,25000,30000,28000,32000,23000,19000,24000,24000,23000,22000,21000,33000,24000,23000,19000,27000,31000,30000,24000,31000],\"y0\":\" \",\"yaxis\":\"y\",\"type\":\"box\"}],                        {\"template\":{\"data\":{\"histogram2dcontour\":[{\"type\":\"histogram2dcontour\",\"colorbar\":{\"outlinewidth\":0,\"ticks\":\"\"},\"colorscale\":[[0.0,\"#0d0887\"],[0.1111111111111111,\"#46039f\"],[0.2222222222222222,\"#7201a8\"],[0.3333333333333333,\"#9c179e\"],[0.4444444444444444,\"#bd3786\"],[0.5555555555555556,\"#d8576b\"],[0.6666666666666666,\"#ed7953\"],[0.7777777777777778,\"#fb9f3a\"],[0.8888888888888888,\"#fdca26\"],[1.0,\"#f0f921\"]]}],\"choropleth\":[{\"type\":\"choropleth\",\"colorbar\":{\"outlinewidth\":0,\"ticks\":\"\"}}],\"histogram2d\":[{\"type\":\"histogram2d\",\"colorbar\":{\"outlinewidth\":0,\"ticks\":\"\"},\"colorscale\":[[0.0,\"#0d0887\"],[0.1111111111111111,\"#46039f\"],[0.2222222222222222,\"#7201a8\"],[0.3333333333333333,\"#9c179e\"],[0.4444444444444444,\"#bd3786\"],[0.5555555555555556,\"#d8576b\"],[0.6666666666666666,\"#ed7953\"],[0.7777777777777778,\"#fb9f3a\"],[0.8888888888888888,\"#fdca26\"],[1.0,\"#f0f921\"]]}],\"heatmap\":[{\"type\":\"heatmap\",\"colorbar\":{\"outlinewidth\":0,\"ticks\":\"\"},\"colorscale\":[[0.0,\"#0d0887\"],[0.1111111111111111,\"#46039f\"],[0.2222222222222222,\"#7201a8\"],[0.3333333333333333,\"#9c179e\"],[0.4444444444444444,\"#bd3786\"],[0.5555555555555556,\"#d8576b\"],[0.6666666666666666,\"#ed7953\"],[0.7777777777777778,\"#fb9f3a\"],[0.8888888888888888,\"#fdca26\"],[1.0,\"#f0f921\"]]}],\"heatmapgl\":[{\"type\":\"heatmapgl\",\"colorbar\":{\"outlinewidth\":0,\"ticks\":\"\"},\"colorscale\":[[0.0,\"#0d0887\"],[0.1111111111111111,\"#46039f\"],[0.2222222222222222,\"#7201a8\"],[0.3333333333333333,\"#9c179e\"],[0.4444444444444444,\"#bd3786\"],[0.5555555555555556,\"#d8576b\"],[0.6666666666666666,\"#ed7953\"],[0.7777777777777778,\"#fb9f3a\"],[0.8888888888888888,\"#fdca26\"],[1.0,\"#f0f921\"]]}],\"contourcarpet\":[{\"type\":\"contourcarpet\",\"colorbar\":{\"outlinewidth\":0,\"ticks\":\"\"}}],\"contour\":[{\"type\":\"contour\",\"colorbar\":{\"outlinewidth\":0,\"ticks\":\"\"},\"colorscale\":[[0.0,\"#0d0887\"],[0.1111111111111111,\"#46039f\"],[0.2222222222222222,\"#7201a8\"],[0.3333333333333333,\"#9c179e\"],[0.4444444444444444,\"#bd3786\"],[0.5555555555555556,\"#d8576b\"],[0.6666666666666666,\"#ed7953\"],[0.7777777777777778,\"#fb9f3a\"],[0.8888888888888888,\"#fdca26\"],[1.0,\"#f0f921\"]]}],\"surface\":[{\"type\":\"surface\",\"colorbar\":{\"outlinewidth\":0,\"ticks\":\"\"},\"colorscale\":[[0.0,\"#0d0887\"],[0.1111111111111111,\"#46039f\"],[0.2222222222222222,\"#7201a8\"],[0.3333333333333333,\"#9c179e\"],[0.4444444444444444,\"#bd3786\"],[0.5555555555555556,\"#d8576b\"],[0.6666666666666666,\"#ed7953\"],[0.7777777777777778,\"#fb9f3a\"],[0.8888888888888888,\"#fdca26\"],[1.0,\"#f0f921\"]]}],\"mesh3d\":[{\"type\":\"mesh3d\",\"colorbar\":{\"outlinewidth\":0,\"ticks\":\"\"}}],\"scatter\":[{\"fillpattern\":{\"fillmode\":\"overlay\",\"size\":10,\"solidity\":0.2},\"type\":\"scatter\"}],\"parcoords\":[{\"type\":\"parcoords\",\"line\":{\"colorbar\":{\"outlinewidth\":0,\"ticks\":\"\"}}}],\"scatterpolargl\":[{\"type\":\"scatterpolargl\",\"marker\":{\"colorbar\":{\"outlinewidth\":0,\"ticks\":\"\"}}}],\"bar\":[{\"error_x\":{\"color\":\"#2a3f5f\"},\"error_y\":{\"color\":\"#2a3f5f\"},\"marker\":{\"line\":{\"color\":\"#E5ECF6\",\"width\":0.5},\"pattern\":{\"fillmode\":\"overlay\",\"size\":10,\"solidity\":0.2}},\"type\":\"bar\"}],\"scattergeo\":[{\"type\":\"scattergeo\",\"marker\":{\"colorbar\":{\"outlinewidth\":0,\"ticks\":\"\"}}}],\"scatterpolar\":[{\"type\":\"scatterpolar\",\"marker\":{\"colorbar\":{\"outlinewidth\":0,\"ticks\":\"\"}}}],\"histogram\":[{\"marker\":{\"pattern\":{\"fillmode\":\"overlay\",\"size\":10,\"solidity\":0.2}},\"type\":\"histogram\"}],\"scattergl\":[{\"type\":\"scattergl\",\"marker\":{\"colorbar\":{\"outlinewidth\":0,\"ticks\":\"\"}}}],\"scatter3d\":[{\"type\":\"scatter3d\",\"line\":{\"colorbar\":{\"outlinewidth\":0,\"ticks\":\"\"}},\"marker\":{\"colorbar\":{\"outlinewidth\":0,\"ticks\":\"\"}}}],\"scattermapbox\":[{\"type\":\"scattermapbox\",\"marker\":{\"colorbar\":{\"outlinewidth\":0,\"ticks\":\"\"}}}],\"scatterternary\":[{\"type\":\"scatterternary\",\"marker\":{\"colorbar\":{\"outlinewidth\":0,\"ticks\":\"\"}}}],\"scattercarpet\":[{\"type\":\"scattercarpet\",\"marker\":{\"colorbar\":{\"outlinewidth\":0,\"ticks\":\"\"}}}],\"carpet\":[{\"aaxis\":{\"endlinecolor\":\"#2a3f5f\",\"gridcolor\":\"white\",\"linecolor\":\"white\",\"minorgridcolor\":\"white\",\"startlinecolor\":\"#2a3f5f\"},\"baxis\":{\"endlinecolor\":\"#2a3f5f\",\"gridcolor\":\"white\",\"linecolor\":\"white\",\"minorgridcolor\":\"white\",\"startlinecolor\":\"#2a3f5f\"},\"type\":\"carpet\"}],\"table\":[{\"cells\":{\"fill\":{\"color\":\"#EBF0F8\"},\"line\":{\"color\":\"white\"}},\"header\":{\"fill\":{\"color\":\"#C8D4E3\"},\"line\":{\"color\":\"white\"}},\"type\":\"table\"}],\"barpolar\":[{\"marker\":{\"line\":{\"color\":\"#E5ECF6\",\"width\":0.5},\"pattern\":{\"fillmode\":\"overlay\",\"size\":10,\"solidity\":0.2}},\"type\":\"barpolar\"}],\"pie\":[{\"automargin\":true,\"type\":\"pie\"}]},\"layout\":{\"autotypenumbers\":\"strict\",\"colorway\":[\"#636efa\",\"#EF553B\",\"#00cc96\",\"#ab63fa\",\"#FFA15A\",\"#19d3f3\",\"#FF6692\",\"#B6E880\",\"#FF97FF\",\"#FECB52\"],\"font\":{\"color\":\"#2a3f5f\"},\"hovermode\":\"closest\",\"hoverlabel\":{\"align\":\"left\"},\"paper_bgcolor\":\"white\",\"plot_bgcolor\":\"#E5ECF6\",\"polar\":{\"bgcolor\":\"#E5ECF6\",\"angularaxis\":{\"gridcolor\":\"white\",\"linecolor\":\"white\",\"ticks\":\"\"},\"radialaxis\":{\"gridcolor\":\"white\",\"linecolor\":\"white\",\"ticks\":\"\"}},\"ternary\":{\"bgcolor\":\"#E5ECF6\",\"aaxis\":{\"gridcolor\":\"white\",\"linecolor\":\"white\",\"ticks\":\"\"},\"baxis\":{\"gridcolor\":\"white\",\"linecolor\":\"white\",\"ticks\":\"\"},\"caxis\":{\"gridcolor\":\"white\",\"linecolor\":\"white\",\"ticks\":\"\"}},\"coloraxis\":{\"colorbar\":{\"outlinewidth\":0,\"ticks\":\"\"}},\"colorscale\":{\"sequential\":[[0.0,\"#0d0887\"],[0.1111111111111111,\"#46039f\"],[0.2222222222222222,\"#7201a8\"],[0.3333333333333333,\"#9c179e\"],[0.4444444444444444,\"#bd3786\"],[0.5555555555555556,\"#d8576b\"],[0.6666666666666666,\"#ed7953\"],[0.7777777777777778,\"#fb9f3a\"],[0.8888888888888888,\"#fdca26\"],[1.0,\"#f0f921\"]],\"sequentialminus\":[[0.0,\"#0d0887\"],[0.1111111111111111,\"#46039f\"],[0.2222222222222222,\"#7201a8\"],[0.3333333333333333,\"#9c179e\"],[0.4444444444444444,\"#bd3786\"],[0.5555555555555556,\"#d8576b\"],[0.6666666666666666,\"#ed7953\"],[0.7777777777777778,\"#fb9f3a\"],[0.8888888888888888,\"#fdca26\"],[1.0,\"#f0f921\"]],\"diverging\":[[0,\"#8e0152\"],[0.1,\"#c51b7d\"],[0.2,\"#de77ae\"],[0.3,\"#f1b6da\"],[0.4,\"#fde0ef\"],[0.5,\"#f7f7f7\"],[0.6,\"#e6f5d0\"],[0.7,\"#b8e186\"],[0.8,\"#7fbc41\"],[0.9,\"#4d9221\"],[1,\"#276419\"]]},\"xaxis\":{\"gridcolor\":\"white\",\"linecolor\":\"white\",\"ticks\":\"\",\"title\":{\"standoff\":15},\"zerolinecolor\":\"white\",\"automargin\":true,\"zerolinewidth\":2},\"yaxis\":{\"gridcolor\":\"white\",\"linecolor\":\"white\",\"ticks\":\"\",\"title\":{\"standoff\":15},\"zerolinecolor\":\"white\",\"automargin\":true,\"zerolinewidth\":2},\"scene\":{\"xaxis\":{\"backgroundcolor\":\"#E5ECF6\",\"gridcolor\":\"white\",\"linecolor\":\"white\",\"showbackground\":true,\"ticks\":\"\",\"zerolinecolor\":\"white\",\"gridwidth\":2},\"yaxis\":{\"backgroundcolor\":\"#E5ECF6\",\"gridcolor\":\"white\",\"linecolor\":\"white\",\"showbackground\":true,\"ticks\":\"\",\"zerolinecolor\":\"white\",\"gridwidth\":2},\"zaxis\":{\"backgroundcolor\":\"#E5ECF6\",\"gridcolor\":\"white\",\"linecolor\":\"white\",\"showbackground\":true,\"ticks\":\"\",\"zerolinecolor\":\"white\",\"gridwidth\":2}},\"shapedefaults\":{\"line\":{\"color\":\"#2a3f5f\"}},\"annotationdefaults\":{\"arrowcolor\":\"#2a3f5f\",\"arrowhead\":0,\"arrowwidth\":1},\"geo\":{\"bgcolor\":\"white\",\"landcolor\":\"#E5ECF6\",\"subunitcolor\":\"white\",\"showland\":true,\"showlakes\":true,\"lakecolor\":\"white\"},\"title\":{\"x\":0.05},\"mapbox\":{\"style\":\"light\"}}},\"xaxis\":{\"anchor\":\"y\",\"domain\":[0.0,1.0],\"title\":{\"text\":\"Personal_loan\"}},\"yaxis\":{\"anchor\":\"x\",\"domain\":[0.0,1.0],\"title\":{\"text\":\"Price\"}},\"legend\":{\"title\":{\"text\":\"Make\"},\"tracegroupgap\":0},\"margin\":{\"t\":60},\"boxmode\":\"group\"},                        {\"responsive\": true}                    ).then(function(){\n",
              "                            \n",
              "var gd = document.getElementById('42549200-e16f-4f21-b410-b35c9e604ef8');\n",
              "var x = new MutationObserver(function (mutations, observer) {{\n",
              "        var display = window.getComputedStyle(gd).display;\n",
              "        if (!display || display === 'none') {{\n",
              "            console.log([gd, 'removed!']);\n",
              "            Plotly.purge(gd);\n",
              "            observer.disconnect();\n",
              "        }}\n",
              "}});\n",
              "\n",
              "// Listen for the removal of the full notebook cells\n",
              "var notebookContainer = gd.closest('#notebook-container');\n",
              "if (notebookContainer) {{\n",
              "    x.observe(notebookContainer, {childList: true});\n",
              "}}\n",
              "\n",
              "// Listen for the clearing of the current output cell\n",
              "var outputEl = gd.closest('.output');\n",
              "if (outputEl) {{\n",
              "    x.observe(outputEl, {childList: true});\n",
              "}}\n",
              "\n",
              "                        })                };                            </script>        </div>\n",
              "</body>\n",
              "</html>"
            ]
          },
          "metadata": {}
        },
        {
          "output_type": "display_data",
          "data": {
            "text/html": [
              "<html>\n",
              "<head><meta charset=\"utf-8\" /></head>\n",
              "<body>\n",
              "    <div>            <script src=\"https://cdnjs.cloudflare.com/ajax/libs/mathjax/2.7.5/MathJax.js?config=TeX-AMS-MML_SVG\"></script><script type=\"text/javascript\">if (window.MathJax && window.MathJax.Hub && window.MathJax.Hub.Config) {window.MathJax.Hub.Config({SVG: {font: \"STIX-Web\"}});}</script>                <script type=\"text/javascript\">window.PlotlyConfig = {MathJaxConfig: 'local'};</script>\n",
              "        <script charset=\"utf-8\" src=\"https://cdn.plot.ly/plotly-2.24.1.min.js\"></script>                <div id=\"28569857-97ea-4b95-be8d-7a0aa7a90317\" class=\"plotly-graph-div\" style=\"height:525px; width:100%;\"></div>            <script type=\"text/javascript\">                                    window.PLOTLYENV=window.PLOTLYENV || {};                                    if (document.getElementById(\"28569857-97ea-4b95-be8d-7a0aa7a90317\")) {                    Plotly.newPlot(                        \"28569857-97ea-4b95-be8d-7a0aa7a90317\",                        [{\"alignmentgroup\":\"True\",\"hovertemplate\":\"Make=SUV\\u003cbr\\u003eHouse_loan=%{x}\\u003cbr\\u003ePrice=%{y}\\u003cextra\\u003e\\u003c\\u002fextra\\u003e\",\"legendgroup\":\"SUV\",\"marker\":{\"color\":\"#636efa\"},\"name\":\"SUV\",\"notched\":false,\"offsetgroup\":\"SUV\",\"orientation\":\"v\",\"showlegend\":true,\"x\":[\"No\",\"No\",\"No\",\"No\",\"No\",\"No\",\"No\",\"No\",\"No\",\"No\",\"No\",\"No\",\"No\",\"No\",\"No\",\"No\",\"No\",\"No\",\"No\",\"No\",\"No\",\"No\",\"No\",\"No\",\"No\",\"No\",\"No\",\"No\",\"No\",\"No\",\"No\",\"No\",\"No\",\"No\",\"No\",\"No\",\"No\",\"No\",\"No\",\"No\",\"No\",\"No\",\"No\",\"No\",\"No\",\"No\",\"No\",\"No\",\"No\",\"No\",\"No\",\"No\",\"No\",\"No\",\"No\",\"No\",\"No\",\"No\",\"No\",\"No\",\"No\",\"No\",\"No\",\"No\",\"No\",\"No\",\"No\",\"No\",\"No\",\"No\",\"No\",\"No\",\"No\",\"No\",\"No\",\"No\",\"No\",\"No\",\"No\",\"No\",\"No\",\"No\",\"No\",\"No\",\"No\",\"No\",\"No\",\"No\",\"No\",\"No\",\"No\",\"No\",\"No\",\"No\",\"No\",\"No\",\"No\",\"No\",\"No\",\"No\",\"No\",\"No\",\"No\",\"No\",\"No\",\"No\",\"No\",\"No\",\"No\",\"No\",\"No\",\"No\",\"No\",\"No\",\"No\",\"No\",\"No\",\"No\",\"No\",\"No\",\"No\",\"No\",\"No\",\"No\",\"No\",\"No\",\"No\",\"No\",\"No\",\"No\",\"No\",\"No\",\"No\",\"No\",\"No\",\"No\",\"No\",\"No\",\"No\",\"No\",\"No\",\"No\",\"No\",\"No\",\"No\",\"Yes\",\"No\",\"No\",\"No\",\"No\",\"Yes\",\"No\",\"No\",\"No\",\"No\",\"No\",\"No\",\"Yes\",\"Yes\",\"No\",\"No\",\"No\",\"No\",\"No\",\"No\",\"No\",\"No\",\"No\",\"No\",\"No\",\"No\",\"No\",\"No\",\"No\",\"No\",\"No\",\"No\",\"No\",\"No\",\"Yes\",\"Yes\",\"No\",\"No\",\"No\",\"No\",\"No\",\"No\",\"No\",\"No\",\"No\",\"No\",\"No\",\"No\",\"No\",\"No\",\"No\",\"No\",\"No\",\"No\",\"Yes\",\"No\",\"No\",\"No\",\"No\",\"Yes\",\"No\",\"No\",\"No\",\"No\",\"No\",\"No\",\"No\",\"No\",\"No\",\"No\",\"Yes\",\"No\",\"No\",\"Yes\",\"Yes\",\"No\",\"No\",\"Yes\",\"No\",\"No\",\"No\",\"No\",\"No\",\"No\",\"No\",\"No\",\"Yes\",\"No\",\"No\",\"No\",\"No\",\"No\",\"No\",\"No\",\"No\",\"No\",\"No\",\"No\",\"No\",\"No\",\"No\",\"No\",\"No\",\"No\",\"No\",\"No\",\"No\",\"No\",\"No\",\"No\",\"No\",\"No\",\"No\",\"No\",\"No\",\"No\",\"No\",\"No\",\"No\",\"No\",\"No\",\"No\",\"No\",\"No\",\"No\",\"Yes\",\"No\",\"No\",\"No\",\"No\",\"No\",\"No\",\"No\",\"No\",\"No\",\"No\",\"Yes\",\"Yes\",\"No\",\"No\",\"Yes\",\"Yes\",\"Yes\",\"No\",\"Yes\",\"No\",\"No\",\"Yes\",\"No\",\"Yes\",\"No\",\"No\"],\"x0\":\" \",\"xaxis\":\"x\",\"y\":[61000,61000,57000,61000,57000,57000,51000,68000,61000,57000,67000,63000,62000,50000,66000,52000,60000,64000,58000,54000,53000,62000,55000,59000,50000,50000,68000,60000,56000,61000,67000,66000,56000,61000,52000,59000,61000,54000,64000,53000,60000,66000,55000,51000,50000,59000,61000,62000,63000,69000,57000,52000,50000,57000,50000,68000,69000,57000,54000,51000,54000,64000,58000,59000,53000,55000,62000,49000,55000,66000,56000,61000,58000,60000,62000,68000,60000,51000,55000,53000,62000,64000,54000,52000,57000,58000,53000,55000,55000,60000,51000,57000,67000,51000,51000,63000,66000,64000,66000,56000,53000,61000,70000,67000,69000,53000,64000,68000,65000,58000,67000,62000,53000,59000,65000,59000,69000,58000,52000,68000,69000,62000,61000,63000,57000,49000,58000,69000,50000,51000,56000,58000,66000,51000,52000,50000,58000,57000,49000,50000,49000,57000,64000,37000,61000,37000,52000,40000,62000,52000,36000,51000,65000,61000,59000,67000,59000,41000,49000,60000,51000,53000,68000,57000,50000,45000,49000,65000,54000,64000,45000,58000,69000,39000,57000,62000,69000,50000,65000,39000,32000,32000,45000,31000,36000,61000,59000,45000,63000,57000,49000,59000,61000,61000,67000,51000,64000,45000,66000,36000,57000,61000,65000,57000,49000,32000,63000,64000,62000,51000,64000,68000,63000,60000,49000,39000,55000,58000,51000,49000,37000,68000,45000,67000,36000,65000,55000,57000,63000,64000,57000,39000,57000,56000,55000,45000,60000,63000,51000,39000,63000,36000,48000,66000,50000,69000,68000,58000,51000,56000,65000,69000,61000,57000,55000,49000,52000,36000,58000,66000,64000,54000,70000,62000,63000,66000,66000,68000,63000,59000,31000,40000,51000,69000,57000,58000,45000,45000,51000,50000,51000,39000,40000,49000,45000,32000,51000,48000,31000,51000,49000,36000,52000,32000,51000,31000,31000],\"y0\":\" \",\"yaxis\":\"y\",\"type\":\"box\"},{\"alignmentgroup\":\"True\",\"hovertemplate\":\"Make=Sedan\\u003cbr\\u003eHouse_loan=%{x}\\u003cbr\\u003ePrice=%{y}\\u003cextra\\u003e\\u003c\\u002fextra\\u003e\",\"legendgroup\":\"Sedan\",\"marker\":{\"color\":\"#EF553B\"},\"name\":\"Sedan\",\"notched\":false,\"offsetgroup\":\"Sedan\",\"orientation\":\"v\",\"showlegend\":true,\"x\":[\"No\",\"Yes\",\"Yes\",\"Yes\",\"No\",\"Yes\",\"No\",\"Yes\",\"No\",\"No\",\"No\",\"Yes\",\"No\",\"No\",\"No\",\"No\",\"Yes\",\"No\",\"Yes\",\"No\",\"Yes\",\"No\",\"No\",\"Yes\",\"No\",\"No\",\"No\",\"No\",\"No\",\"No\",\"No\",\"No\",\"No\",\"No\",\"No\",\"No\",\"No\",\"Yes\",\"Yes\",\"Yes\",\"No\",\"Yes\",\"No\",\"Yes\",\"No\",\"No\",\"No\",\"No\",\"No\",\"Yes\",\"No\",\"No\",\"Yes\",\"Yes\",\"Yes\",\"Yes\",\"No\",\"No\",\"No\",\"No\",\"Yes\",\"No\",\"No\",\"No\",\"No\",\"No\",\"Yes\",\"Yes\",\"No\",\"No\",\"No\",\"No\",\"No\",\"Yes\",\"Yes\",\"No\",\"No\",\"No\",\"No\",\"No\",\"No\",\"Yes\",\"Yes\",\"Yes\",\"Yes\",\"No\",\"Yes\",\"No\",\"Yes\",\"No\",\"No\",\"Yes\",\"No\",\"No\",\"No\",\"No\",\"No\",\"Yes\",\"Yes\",\"Yes\",\"Yes\",\"No\",\"No\",\"No\",\"Yes\",\"No\",\"No\",\"No\",\"No\",\"No\",\"No\",\"Yes\",\"No\",\"No\",\"Yes\",\"Yes\",\"Yes\",\"No\",\"Yes\",\"No\",\"Yes\",\"No\",\"No\",\"No\",\"Yes\",\"No\",\"Yes\",\"Yes\",\"No\",\"No\",\"Yes\",\"Yes\",\"No\",\"No\",\"No\",\"No\",\"Yes\",\"No\",\"Yes\",\"Yes\",\"Yes\",\"No\",\"Yes\",\"No\",\"No\",\"Yes\",\"No\",\"No\",\"No\",\"No\",\"Yes\",\"No\",\"Yes\",\"Yes\",\"No\",\"No\",\"No\",\"Yes\",\"No\",\"No\",\"No\",\"No\",\"Yes\",\"Yes\",\"No\",\"No\",\"No\",\"No\",\"No\",\"No\",\"No\",\"Yes\",\"Yes\",\"No\",\"No\",\"Yes\",\"Yes\",\"Yes\",\"No\",\"Yes\",\"Yes\",\"Yes\",\"Yes\",\"No\",\"No\",\"No\",\"Yes\",\"Yes\",\"No\",\"Yes\",\"No\",\"No\",\"Yes\",\"No\",\"Yes\",\"No\",\"No\",\"Yes\",\"Yes\",\"No\",\"Yes\",\"Yes\",\"No\",\"No\",\"Yes\",\"No\",\"Yes\",\"Yes\",\"Yes\",\"No\",\"No\",\"No\",\"Yes\",\"Yes\",\"No\",\"No\",\"No\",\"No\",\"Yes\",\"No\",\"Yes\",\"Yes\",\"No\",\"No\",\"No\",\"Yes\",\"No\",\"No\",\"No\",\"No\",\"No\",\"No\",\"No\",\"No\",\"Yes\",\"Yes\",\"Yes\",\"Yes\",\"Yes\",\"No\",\"Yes\",\"No\",\"Yes\",\"No\",\"Yes\",\"No\",\"Yes\",\"Yes\",\"No\",\"Yes\",\"Yes\",\"No\",\"No\",\"No\",\"Yes\",\"No\",\"No\",\"Yes\",\"No\",\"Yes\",\"Yes\",\"No\",\"Yes\",\"No\",\"Yes\",\"No\",\"No\",\"Yes\",\"No\",\"No\",\"No\",\"Yes\",\"No\",\"No\",\"No\",\"Yes\",\"No\",\"No\",\"No\",\"Yes\",\"Yes\",\"No\",\"Yes\",\"No\",\"Yes\",\"No\",\"No\",\"Yes\",\"No\",\"Yes\",\"No\",\"Yes\",\"No\",\"Yes\",\"Yes\",\"No\",\"Yes\",\"No\",\"Yes\",\"Yes\",\"No\",\"No\",\"Yes\",\"No\",\"Yes\",\"No\",\"Yes\",\"Yes\",\"No\",\"Yes\",\"Yes\",\"No\",\"No\",\"No\",\"Yes\",\"No\",\"No\",\"No\",\"No\",\"No\",\"Yes\",\"No\",\"No\",\"Yes\",\"Yes\",\"No\",\"Yes\",\"Yes\",\"No\",\"Yes\",\"No\",\"No\",\"Yes\",\"No\",\"No\",\"No\",\"Yes\",\"No\",\"No\",\"Yes\",\"No\",\"Yes\",\"Yes\",\"Yes\",\"No\",\"No\",\"Yes\",\"No\",\"No\",\"No\",\"Yes\",\"No\",\"Yes\",\"Yes\",\"Yes\",\"No\",\"No\",\"Yes\",\"Yes\",\"No\",\"No\",\"No\",\"Yes\",\"Yes\",\"Yes\",\"Yes\",\"Yes\",\"Yes\",\"No\",\"Yes\",\"No\",\"No\",\"No\",\"No\",\"Yes\",\"No\",\"No\",\"No\",\"No\",\"No\",\"No\",\"Yes\",\"No\",\"No\",\"No\",\"No\",\"Yes\",\"No\",\"Yes\",\"No\",\"No\",\"No\",\"No\",\"No\",\"No\",\"No\",\"Yes\",\"Yes\",\"Yes\",\"Yes\",\"Yes\",\"No\",\"No\",\"No\",\"Yes\",\"No\",\"No\",\"No\",\"No\",\"No\",\"No\",\"No\",\"No\",\"No\",\"No\",\"No\",\"No\",\"No\",\"No\",\"No\",\"No\",\"Yes\",\"Yes\",\"No\",\"No\",\"No\",\"No\",\"Yes\",\"Yes\",\"No\",\"No\",\"No\",\"Yes\",\"No\",\"No\",\"Yes\",\"Yes\",\"Yes\",\"No\",\"No\",\"No\",\"Yes\",\"No\",\"Yes\",\"No\",\"Yes\",\"Yes\",\"Yes\",\"No\",\"No\",\"Yes\",\"No\",\"Yes\",\"No\",\"Yes\",\"No\",\"No\",\"Yes\",\"No\",\"No\",\"No\",\"Yes\",\"No\",\"No\",\"Yes\",\"Yes\",\"No\",\"No\",\"No\",\"No\",\"No\",\"No\",\"No\",\"Yes\",\"Yes\",\"Yes\",\"No\",\"No\",\"Yes\",\"No\",\"Yes\",\"Yes\",\"Yes\",\"No\",\"No\",\"No\",\"Yes\",\"Yes\",\"No\",\"No\",\"Yes\",\"No\",\"No\",\"No\",\"Yes\",\"Yes\",\"Yes\",\"No\",\"No\",\"No\",\"Yes\",\"No\",\"No\",\"No\",\"No\",\"No\",\"No\",\"Yes\",\"Yes\",\"No\",\"No\",\"No\",\"Yes\",\"No\",\"No\",\"No\",\"No\",\"No\",\"Yes\",\"No\",\"No\",\"Yes\",\"Yes\",\"No\",\"No\",\"No\",\"No\",\"No\",\"No\",\"No\",\"No\",\"No\",\"No\",\"No\",\"No\",\"Yes\",\"No\",\"No\",\"No\",\"No\",\"Yes\",\"Yes\",\"No\",\"No\",\"Yes\",\"Yes\",\"No\",\"Yes\",\"No\",\"Yes\",\"No\",\"No\",\"No\",\"No\",\"Yes\",\"No\",\"Yes\",\"No\",\"No\",\"Yes\",\"Yes\",\"No\",\"No\",\"No\",\"Yes\",\"No\",\"No\",\"No\",\"Yes\",\"No\",\"No\",\"Yes\",\"Yes\",\"Yes\",\"No\",\"Yes\",\"No\",\"No\",\"No\",\"No\",\"Yes\",\"No\",\"No\",\"No\",\"No\",\"No\",\"Yes\",\"Yes\",\"Yes\",\"No\",\"No\",\"No\",\"Yes\",\"No\",\"No\",\"Yes\",\"Yes\",\"No\",\"Yes\",\"Yes\",\"No\",\"No\",\"Yes\",\"No\",\"Yes\",\"No\",\"Yes\",\"Yes\",\"Yes\",\"No\",\"No\",\"No\",\"No\",\"No\",\"No\",\"Yes\",\"Yes\",\"Yes\",\"No\",\"Yes\",\"No\",\"No\",\"No\",\"Yes\",\"Yes\",\"No\",\"No\",\"No\",\"Yes\",\"No\",\"No\",\"No\",\"Yes\",\"Yes\",\"No\",\"No\",\"Yes\",\"No\",\"No\",\"No\",\"Yes\",\"Yes\",\"Yes\",\"Yes\",\"No\",\"No\",\"Yes\",\"No\",\"Yes\",\"Yes\",\"No\",\"No\",\"No\",\"No\",\"Yes\",\"No\",\"No\",\"No\",\"No\",\"No\",\"No\",\"Yes\",\"Yes\",\"No\",\"Yes\",\"No\",\"Yes\",\"Yes\",\"Yes\",\"Yes\",\"No\",\"No\",\"No\",\"No\",\"Yes\",\"Yes\",\"No\",\"No\",\"Yes\",\"Yes\",\"Yes\",\"No\",\"No\",\"No\",\"Yes\",\"No\",\"No\",\"No\",\"No\",\"Yes\",\"Yes\",\"No\",\"No\",\"No\",\"No\",\"No\",\"No\",\"No\",\"No\",\"No\",\"Yes\",\"Yes\"],\"x0\":\" \",\"xaxis\":\"x\",\"y\":[43000,53000,47000,52000,35000,42000,33000,43000,34000,50000,40000,42000,54000,36000,54000,41000,37000,41000,41000,50000,48000,44000,44000,43000,50000,49000,35000,41000,31000,54000,53000,44000,32000,33000,39000,31000,52000,33000,42000,51000,35000,39000,42000,52000,46000,50000,31000,39000,46000,51000,54000,53000,32000,32000,55000,32000,47000,47000,46000,47000,32000,42000,35000,48000,33000,34000,43000,50000,37000,33000,38000,53000,43000,39000,49000,38000,49000,36000,36000,35000,33000,41000,46000,47000,45000,52000,43000,54000,45000,33000,38000,52000,54000,38000,32000,44000,44000,42000,52000,39000,53000,32000,49000,32000,39000,43000,40000,41000,53000,41000,36000,33000,50000,48000,42000,31000,44000,50000,34000,40000,33000,50000,54000,35000,49000,46000,32000,34000,36000,54000,51000,46000,54000,34000,47000,39000,34000,54000,38000,55000,55000,52000,38000,47000,35000,46000,46000,45000,43000,52000,48000,50000,34000,39000,43000,54000,33000,33000,34000,42000,45000,32000,31000,46000,47000,39000,52000,47000,42000,38000,37000,49000,43000,48000,44000,49000,36000,36000,33000,50000,55000,46000,47000,43000,47000,49000,33000,47000,55000,33000,40000,55000,50000,48000,50000,47000,36000,53000,36000,48000,39000,35000,42000,47000,54000,51000,32000,44000,44000,53000,48000,50000,34000,37000,33000,34000,55000,45000,43000,51000,34000,31000,50000,43000,33000,33000,44000,48000,34000,47000,37000,33000,36000,50000,51000,52000,41000,35000,48000,53000,46000,43000,43000,39000,38000,43000,48000,54000,44000,35000,32000,34000,35000,32000,54000,43000,40000,33000,41000,42000,51000,37000,37000,43000,45000,37000,52000,41000,50000,47000,40000,37000,43000,48000,46000,32000,45000,52000,50000,49000,45000,35000,44000,32000,39000,41000,33000,49000,42000,38000,31000,44000,39000,46000,43000,50000,33000,31000,53000,37000,35000,52000,47000,50000,36000,45000,43000,44000,40000,34000,37000,48000,53000,52000,51000,53000,48000,41000,32000,51000,36000,36000,49000,48000,45000,55000,46000,35000,39000,35000,49000,31000,37000,37000,53000,31000,28000,34000,42000,41000,39000,53000,21000,47000,24000,23000,28000,48000,38000,23000,24000,33000,19000,55000,21000,18000,48000,39000,26000,20000,37000,26000,51000,53000,29000,41000,26000,19000,23000,28000,24000,21000,21000,18000,28000,20000,31000,27000,23000,53000,49000,18000,36000,34000,31000,43000,27000,31000,31000,24000,23000,50000,33000,19000,37000,54000,34000,29000,23000,37000,24000,31000,53000,19000,19000,46000,50000,42000,28000,47000,48000,32000,28000,23000,22000,27000,27000,26000,18000,46000,20000,21000,20000,18000,23000,26000,20000,19000,20000,20000,26000,21000,20000,40000,39000,35000,50000,31000,43000,43000,38000,34000,18000,45000,40000,24000,24000,26000,48000,51000,32000,44000,31000,23000,24000,29000,42000,39000,27000,39000,52000,27000,24000,21000,21000,28000,24000,23000,26000,24000,31000,31000,18000,23000,19000,18000,52000,20000,21000,20000,35000,21000,21000,21000,19000,20000,21000,19000,21000,19000,18000,18000,34000,29000,31000,24000,51000,18000,30000,38000,23000,41000,36000,28000,35000,43000,23000,39000,52000,27000,18000,31000,23000,27000,18000,19000,18000,18000,31000,18000,31000,21000,20000,19000,31000,28000,27000,24000,31000,23000,18000,23000,21000,20000,27000,28000,31000,26000,27000,21000,31000,28000,21000,18000,18000,27000,23000,18000,28000,24000,27000,27000,27000,26000,29000,26000,21000,28000,19000,26000,23000,27000,21000,26000,19000,27000,18000,31000,26000,31000,18000,23000,19000,18000,21000,27000,27000,26000,23000,19000,26000,31000,20000,31000,31000,21000,20000,24000,26000,27000,24000,27000,29000,23000,26000,23000,21000,21000,31000,19000,29000,27000,20000,27000,23000,24000,18000,21000,23000,19000,18000,18000,31000,31000,23000,18000,27000,31000,27000,23000,26000,23000,31000,26000,29000,19000,20000,21000,18000,21000,19000,29000,21000,23000,20000,29000,21000,19000,30000,18000,26000,28000,21000,23000,23000,29000,31000,23000,21000,24000,26000,23000,20000,21000,27000,23000,21000,29000,27000,27000,31000,27000,19000,27000,23000,24000,18000,29000,23000,27000,21000,23000,18000,19000,18000,20000,27000,19000,27000,31000,27000,26000,23000,23000,26000,27000,21000,18000,24000,29000,23000,29000,27000,21000,21000,29000,19000,18000,18000,22000,23000,20000],\"y0\":\" \",\"yaxis\":\"y\",\"type\":\"box\"},{\"alignmentgroup\":\"True\",\"hovertemplate\":\"Make=Hatchback\\u003cbr\\u003eHouse_loan=%{x}\\u003cbr\\u003ePrice=%{y}\\u003cextra\\u003e\\u003c\\u002fextra\\u003e\",\"legendgroup\":\"Hatchback\",\"marker\":{\"color\":\"#00cc96\"},\"name\":\"Hatchback\",\"notched\":false,\"offsetgroup\":\"Hatchback\",\"orientation\":\"v\",\"showlegend\":true,\"x\":[\"Yes\",\"Yes\",\"Yes\",\"Yes\",\"No\",\"No\",\"No\",\"Yes\",\"No\",\"No\",\"No\",\"Yes\",\"No\",\"Yes\",\"Yes\",\"Yes\",\"Yes\",\"No\",\"Yes\",\"No\",\"Yes\",\"No\",\"No\",\"No\",\"Yes\",\"No\",\"Yes\",\"Yes\",\"Yes\",\"Yes\",\"Yes\",\"No\",\"No\",\"Yes\",\"Yes\",\"Yes\",\"Yes\",\"No\",\"No\",\"Yes\",\"No\",\"No\",\"No\",\"Yes\",\"No\",\"Yes\",\"No\",\"Yes\",\"Yes\",\"Yes\",\"No\",\"Yes\",\"No\",\"No\",\"No\",\"No\",\"Yes\",\"No\",\"Yes\",\"Yes\",\"No\",\"Yes\",\"No\",\"No\",\"No\",\"Yes\",\"Yes\",\"No\",\"Yes\",\"No\",\"Yes\",\"No\",\"Yes\",\"Yes\",\"No\",\"No\",\"Yes\",\"Yes\",\"No\",\"No\",\"Yes\",\"Yes\",\"Yes\",\"No\",\"No\",\"No\",\"No\",\"Yes\",\"No\",\"No\",\"No\",\"Yes\",\"Yes\",\"Yes\",\"Yes\",\"Yes\",\"No\",\"No\",\"No\",\"No\",\"Yes\",\"Yes\",\"Yes\",\"Yes\",\"Yes\",\"No\",\"No\",\"No\",\"Yes\",\"No\",\"No\",\"Yes\",\"No\",\"No\",\"No\",\"Yes\",\"Yes\",\"Yes\",\"No\",\"No\",\"No\",\"No\",\"Yes\",\"Yes\",\"Yes\",\"Yes\",\"No\",\"Yes\",\"No\",\"Yes\",\"No\",\"Yes\",\"Yes\",\"No\",\"Yes\",\"No\",\"Yes\",\"No\",\"No\",\"Yes\",\"No\",\"No\",\"No\",\"Yes\",\"Yes\",\"Yes\",\"No\",\"Yes\",\"Yes\",\"Yes\",\"No\",\"Yes\",\"Yes\",\"Yes\",\"Yes\",\"No\",\"Yes\",\"Yes\",\"No\",\"No\",\"No\",\"Yes\",\"Yes\",\"Yes\",\"No\",\"Yes\",\"No\",\"Yes\",\"No\",\"Yes\",\"No\",\"Yes\",\"No\",\"Yes\",\"No\",\"Yes\",\"Yes\",\"Yes\",\"No\",\"No\",\"No\",\"No\",\"Yes\",\"Yes\",\"No\",\"No\",\"No\",\"No\",\"No\",\"No\",\"Yes\",\"Yes\",\"Yes\",\"No\",\"No\",\"No\",\"Yes\",\"Yes\",\"No\",\"Yes\",\"Yes\",\"No\",\"No\",\"No\",\"Yes\",\"No\",\"Yes\",\"No\",\"Yes\",\"No\",\"Yes\",\"No\",\"Yes\",\"No\",\"No\",\"No\",\"No\",\"Yes\",\"No\",\"Yes\",\"No\",\"No\",\"No\",\"Yes\",\"Yes\",\"No\",\"No\",\"No\",\"Yes\",\"Yes\",\"Yes\",\"No\",\"Yes\",\"No\",\"Yes\",\"Yes\",\"No\",\"Yes\",\"No\",\"No\",\"No\",\"No\",\"No\",\"Yes\",\"Yes\",\"No\",\"Yes\",\"No\",\"No\",\"No\",\"No\",\"Yes\",\"No\",\"Yes\",\"No\",\"Yes\",\"No\",\"Yes\",\"No\",\"Yes\",\"Yes\",\"Yes\",\"No\",\"Yes\",\"No\",\"Yes\",\"No\",\"Yes\",\"No\",\"Yes\",\"No\",\"No\",\"No\",\"No\",\"Yes\",\"No\",\"No\",\"Yes\",\"Yes\",\"No\",\"No\",\"No\",\"Yes\",\"No\",\"No\",\"No\",\"No\",\"No\",\"Yes\",\"No\",\"No\",\"No\",\"No\",\"Yes\",\"Yes\",\"Yes\",\"No\",\"No\",\"No\",\"No\",\"No\",\"No\",\"No\",\"No\",\"No\",\"Yes\",\"Yes\",\"Yes\",\"No\",\"Yes\",\"No\",\"Yes\",\"Yes\",\"No\",\"No\",\"Yes\",\"No\",\"Yes\",\"Yes\",\"Yes\",\"No\",\"Yes\",\"No\",\"Yes\",\"No\",\"No\",\"No\",\"No\",\"No\",\"No\",\"Yes\",\"Yes\",\"No\",\"No\",\"No\",\"No\",\"No\",\"No\",\"Yes\",\"No\",\"Yes\",\"Yes\",\"No\",\"No\",\"No\",\"Yes\",\"No\",\"Yes\",\"No\",\"Yes\",\"Yes\",\"Yes\",\"No\",\"Yes\",\"No\",\"Yes\",\"No\",\"No\",\"No\",\"No\",\"No\",\"No\",\"No\",\"No\",\"No\",\"No\",\"No\",\"Yes\",\"No\",\"No\",\"Yes\",\"No\",\"No\",\"No\",\"No\",\"No\",\"No\",\"No\",\"Yes\",\"No\",\"Yes\",\"Yes\",\"Yes\",\"No\",\"No\",\"No\",\"Yes\",\"Yes\",\"No\",\"No\",\"Yes\",\"No\",\"No\",\"Yes\",\"Yes\",\"No\",\"No\",\"No\",\"Yes\",\"No\",\"Yes\",\"No\",\"No\",\"Yes\",\"No\",\"No\",\"Yes\",\"No\",\"No\",\"No\",\"No\",\"No\",\"Yes\",\"No\",\"No\",\"No\",\"No\",\"Yes\",\"Yes\",\"No\",\"Yes\",\"Yes\",\"No\",\"No\",\"No\",\"No\",\"No\",\"No\",\"No\",\"No\",\"Yes\",\"No\",\"Yes\",\"No\",\"No\",\"No\",\"No\",\"No\",\"Yes\",\"Yes\",\"No\",\"Yes\",\"Yes\",\"Yes\",\"No\",\"No\",\"Yes\",\"No\",\"No\",\"No\",\"Yes\",\"No\",\"Yes\",\"No\",\"No\",\"No\",\"No\",\"Yes\",\"No\",\"No\",\"No\",\"Yes\",\"Yes\",\"Yes\",\"No\",\"No\",\"No\",\"Yes\",\"Yes\",\"No\",\"Yes\",\"Yes\",\"No\",\"Yes\",\"No\",\"No\",\"No\",\"No\",\"No\",\"No\",\"Yes\",\"Yes\",\"No\",\"No\",\"Yes\",\"No\",\"Yes\",\"No\",\"Yes\",\"No\",\"Yes\",\"No\",\"No\",\"No\",\"No\",\"Yes\",\"No\",\"No\",\"No\",\"Yes\",\"Yes\",\"No\",\"No\",\"Yes\",\"Yes\",\"No\",\"No\",\"Yes\",\"No\",\"No\",\"No\",\"No\",\"No\",\"No\",\"Yes\",\"No\",\"No\",\"No\",\"Yes\",\"Yes\",\"No\",\"No\",\"No\",\"Yes\",\"Yes\",\"No\",\"No\",\"No\",\"Yes\",\"Yes\",\"No\",\"No\",\"No\",\"No\",\"Yes\",\"No\",\"No\",\"No\",\"Yes\",\"No\",\"No\",\"No\",\"No\",\"No\",\"No\",\"Yes\",\"No\",\"Yes\",\"No\",\"No\",\"No\",\"No\",\"No\",\"No\",\"Yes\",\"No\",\"No\",\"No\",\"No\",\"No\",\"No\",\"No\",\"No\",\"No\",\"No\",\"No\",\"Yes\",\"Yes\",\"No\",\"No\",\"Yes\",\"Yes\",\"No\",\"No\",\"No\",\"No\",\"No\",\"Yes\",\"No\",\"Yes\",\"Yes\",\"No\"],\"x0\":\" \",\"xaxis\":\"x\",\"y\":[30000,31000,25000,22000,25000,33000,29000,23000,33000,20000,24000,24000,32000,32000,30000,28000,30000,29000,20000,25000,23000,32000,30000,29000,31000,33000,29000,22000,20000,25000,30000,28000,28000,32000,30000,20000,32000,20000,22000,32000,30000,25000,20000,30000,29000,32000,23000,26000,30000,26000,33000,31000,32000,20000,25000,28000,32000,32000,22000,22000,28000,25000,29000,30000,22000,22000,33000,22000,28000,29000,29000,28000,32000,32000,22000,20000,33000,20000,32000,30000,32000,20000,29000,28000,23000,20000,33000,24000,23000,20000,33000,32000,32000,32000,22000,20000,28000,22000,31000,26000,29000,25000,30000,32000,20000,33000,32000,29000,32000,28000,25000,33000,27000,32000,29000,30000,28000,33000,32000,26000,20000,31000,26000,32000,24000,19000,27000,33000,26000,24000,20000,32000,30000,22000,30000,25000,20000,29000,29000,22000,33000,32000,28000,25000,23000,28000,31000,22000,31000,30000,22000,24000,30000,20000,26000,24000,31000,20000,25000,19000,24000,27000,24000,26000,32000,28000,23000,30000,29000,22000,30000,28000,22000,32000,26000,28000,19000,30000,19000,24000,22000,30000,24000,20000,19000,24000,32000,28000,24000,32000,26000,30000,28000,23000,22000,22000,27000,23000,20000,31000,33000,30000,30000,30000,28000,25000,30000,22000,32000,23000,28000,25000,23000,23000,23000,19000,26000,24000,33000,32000,23000,26000,29000,30000,32000,25000,22000,28000,24000,28000,31000,25000,23000,23000,32000,31000,22000,32000,27000,33000,33000,28000,22000,22000,29000,27000,27000,20000,29000,20000,26000,31000,31000,20000,29000,25000,22000,29000,24000,30000,22000,21000,30000,24000,31000,30000,20000,19000,19000,27000,23000,30000,23000,20000,25000,23000,20000,32000,24000,22000,28000,23000,22000,25000,29000,28000,30000,23000,28000,30000,25000,24000,25000,33000,20000,20000,32000,29000,25000,24000,30000,31000,31000,25000,24000,22000,25000,24000,20000,28000,30000,26000,20000,30000,28000,30000,20000,33000,31000,28000,26000,32000,33000,33000,30000,23000,20000,19000,32000,26000,19000,29000,27000,20000,19000,32000,32000,31000,28000,25000,20000,20000,20000,19000,30000,24000,30000,27000,20000,30000,26000,24000,22000,20000,25000,20000,29000,25000,32000,25000,20000,32000,24000,20000,30000,28000,26000,28000,26000,31000,27000,25000,25000,26000,32000,32000,28000,22000,19000,30000,26000,28000,25000,32000,31000,32000,22000,20000,30000,29000,23000,32000,19000,24000,29000,20000,31000,22000,33000,32000,28000,29000,30000,29000,20000,32000,31000,23000,31000,30000,20000,20000,23000,33000,25000,25000,24000,28000,27000,25000,20000,24000,19000,28000,33000,31000,26000,22000,25000,22000,33000,24000,22000,20000,18000,32000,28000,22000,28000,25000,22000,28000,22000,18000,25000,32000,28000,29000,27000,24000,28000,22000,32000,24000,30000,24000,33000,23000,20000,32000,24000,26000,20000,32000,25000,22000,24000,20000,29000,20000,32000,32000,22000,33000,31000,30000,26000,24000,23000,33000,32000,30000,19000,30000,30000,26000,24000,28000,28000,24000,31000,29000,26000,29000,25000,25000,26000,22000,31000,25000,23000,20000,33000,33000,28000,28000,26000,22000,22000,25000,32000,22000,30000,29000,31000,30000,30000,25000,28000,31000,30000,32000,28000,19000,28000,28000,20000,22000,24000,32000,29000,28000,24000,33000,23000,30000,24000,23000,22000,32000,30000,19000,28000,20000,22000,32000,22000,25000,25000,31000,32000,20000,25000,20000,32000,23000,29000,22000,29000,27000,26000,26000,25000,30000,28000,32000,23000,19000,24000,24000,23000,22000,21000,33000,24000,23000,19000,27000,31000,30000,24000,31000],\"y0\":\" \",\"yaxis\":\"y\",\"type\":\"box\"}],                        {\"template\":{\"data\":{\"histogram2dcontour\":[{\"type\":\"histogram2dcontour\",\"colorbar\":{\"outlinewidth\":0,\"ticks\":\"\"},\"colorscale\":[[0.0,\"#0d0887\"],[0.1111111111111111,\"#46039f\"],[0.2222222222222222,\"#7201a8\"],[0.3333333333333333,\"#9c179e\"],[0.4444444444444444,\"#bd3786\"],[0.5555555555555556,\"#d8576b\"],[0.6666666666666666,\"#ed7953\"],[0.7777777777777778,\"#fb9f3a\"],[0.8888888888888888,\"#fdca26\"],[1.0,\"#f0f921\"]]}],\"choropleth\":[{\"type\":\"choropleth\",\"colorbar\":{\"outlinewidth\":0,\"ticks\":\"\"}}],\"histogram2d\":[{\"type\":\"histogram2d\",\"colorbar\":{\"outlinewidth\":0,\"ticks\":\"\"},\"colorscale\":[[0.0,\"#0d0887\"],[0.1111111111111111,\"#46039f\"],[0.2222222222222222,\"#7201a8\"],[0.3333333333333333,\"#9c179e\"],[0.4444444444444444,\"#bd3786\"],[0.5555555555555556,\"#d8576b\"],[0.6666666666666666,\"#ed7953\"],[0.7777777777777778,\"#fb9f3a\"],[0.8888888888888888,\"#fdca26\"],[1.0,\"#f0f921\"]]}],\"heatmap\":[{\"type\":\"heatmap\",\"colorbar\":{\"outlinewidth\":0,\"ticks\":\"\"},\"colorscale\":[[0.0,\"#0d0887\"],[0.1111111111111111,\"#46039f\"],[0.2222222222222222,\"#7201a8\"],[0.3333333333333333,\"#9c179e\"],[0.4444444444444444,\"#bd3786\"],[0.5555555555555556,\"#d8576b\"],[0.6666666666666666,\"#ed7953\"],[0.7777777777777778,\"#fb9f3a\"],[0.8888888888888888,\"#fdca26\"],[1.0,\"#f0f921\"]]}],\"heatmapgl\":[{\"type\":\"heatmapgl\",\"colorbar\":{\"outlinewidth\":0,\"ticks\":\"\"},\"colorscale\":[[0.0,\"#0d0887\"],[0.1111111111111111,\"#46039f\"],[0.2222222222222222,\"#7201a8\"],[0.3333333333333333,\"#9c179e\"],[0.4444444444444444,\"#bd3786\"],[0.5555555555555556,\"#d8576b\"],[0.6666666666666666,\"#ed7953\"],[0.7777777777777778,\"#fb9f3a\"],[0.8888888888888888,\"#fdca26\"],[1.0,\"#f0f921\"]]}],\"contourcarpet\":[{\"type\":\"contourcarpet\",\"colorbar\":{\"outlinewidth\":0,\"ticks\":\"\"}}],\"contour\":[{\"type\":\"contour\",\"colorbar\":{\"outlinewidth\":0,\"ticks\":\"\"},\"colorscale\":[[0.0,\"#0d0887\"],[0.1111111111111111,\"#46039f\"],[0.2222222222222222,\"#7201a8\"],[0.3333333333333333,\"#9c179e\"],[0.4444444444444444,\"#bd3786\"],[0.5555555555555556,\"#d8576b\"],[0.6666666666666666,\"#ed7953\"],[0.7777777777777778,\"#fb9f3a\"],[0.8888888888888888,\"#fdca26\"],[1.0,\"#f0f921\"]]}],\"surface\":[{\"type\":\"surface\",\"colorbar\":{\"outlinewidth\":0,\"ticks\":\"\"},\"colorscale\":[[0.0,\"#0d0887\"],[0.1111111111111111,\"#46039f\"],[0.2222222222222222,\"#7201a8\"],[0.3333333333333333,\"#9c179e\"],[0.4444444444444444,\"#bd3786\"],[0.5555555555555556,\"#d8576b\"],[0.6666666666666666,\"#ed7953\"],[0.7777777777777778,\"#fb9f3a\"],[0.8888888888888888,\"#fdca26\"],[1.0,\"#f0f921\"]]}],\"mesh3d\":[{\"type\":\"mesh3d\",\"colorbar\":{\"outlinewidth\":0,\"ticks\":\"\"}}],\"scatter\":[{\"fillpattern\":{\"fillmode\":\"overlay\",\"size\":10,\"solidity\":0.2},\"type\":\"scatter\"}],\"parcoords\":[{\"type\":\"parcoords\",\"line\":{\"colorbar\":{\"outlinewidth\":0,\"ticks\":\"\"}}}],\"scatterpolargl\":[{\"type\":\"scatterpolargl\",\"marker\":{\"colorbar\":{\"outlinewidth\":0,\"ticks\":\"\"}}}],\"bar\":[{\"error_x\":{\"color\":\"#2a3f5f\"},\"error_y\":{\"color\":\"#2a3f5f\"},\"marker\":{\"line\":{\"color\":\"#E5ECF6\",\"width\":0.5},\"pattern\":{\"fillmode\":\"overlay\",\"size\":10,\"solidity\":0.2}},\"type\":\"bar\"}],\"scattergeo\":[{\"type\":\"scattergeo\",\"marker\":{\"colorbar\":{\"outlinewidth\":0,\"ticks\":\"\"}}}],\"scatterpolar\":[{\"type\":\"scatterpolar\",\"marker\":{\"colorbar\":{\"outlinewidth\":0,\"ticks\":\"\"}}}],\"histogram\":[{\"marker\":{\"pattern\":{\"fillmode\":\"overlay\",\"size\":10,\"solidity\":0.2}},\"type\":\"histogram\"}],\"scattergl\":[{\"type\":\"scattergl\",\"marker\":{\"colorbar\":{\"outlinewidth\":0,\"ticks\":\"\"}}}],\"scatter3d\":[{\"type\":\"scatter3d\",\"line\":{\"colorbar\":{\"outlinewidth\":0,\"ticks\":\"\"}},\"marker\":{\"colorbar\":{\"outlinewidth\":0,\"ticks\":\"\"}}}],\"scattermapbox\":[{\"type\":\"scattermapbox\",\"marker\":{\"colorbar\":{\"outlinewidth\":0,\"ticks\":\"\"}}}],\"scatterternary\":[{\"type\":\"scatterternary\",\"marker\":{\"colorbar\":{\"outlinewidth\":0,\"ticks\":\"\"}}}],\"scattercarpet\":[{\"type\":\"scattercarpet\",\"marker\":{\"colorbar\":{\"outlinewidth\":0,\"ticks\":\"\"}}}],\"carpet\":[{\"aaxis\":{\"endlinecolor\":\"#2a3f5f\",\"gridcolor\":\"white\",\"linecolor\":\"white\",\"minorgridcolor\":\"white\",\"startlinecolor\":\"#2a3f5f\"},\"baxis\":{\"endlinecolor\":\"#2a3f5f\",\"gridcolor\":\"white\",\"linecolor\":\"white\",\"minorgridcolor\":\"white\",\"startlinecolor\":\"#2a3f5f\"},\"type\":\"carpet\"}],\"table\":[{\"cells\":{\"fill\":{\"color\":\"#EBF0F8\"},\"line\":{\"color\":\"white\"}},\"header\":{\"fill\":{\"color\":\"#C8D4E3\"},\"line\":{\"color\":\"white\"}},\"type\":\"table\"}],\"barpolar\":[{\"marker\":{\"line\":{\"color\":\"#E5ECF6\",\"width\":0.5},\"pattern\":{\"fillmode\":\"overlay\",\"size\":10,\"solidity\":0.2}},\"type\":\"barpolar\"}],\"pie\":[{\"automargin\":true,\"type\":\"pie\"}]},\"layout\":{\"autotypenumbers\":\"strict\",\"colorway\":[\"#636efa\",\"#EF553B\",\"#00cc96\",\"#ab63fa\",\"#FFA15A\",\"#19d3f3\",\"#FF6692\",\"#B6E880\",\"#FF97FF\",\"#FECB52\"],\"font\":{\"color\":\"#2a3f5f\"},\"hovermode\":\"closest\",\"hoverlabel\":{\"align\":\"left\"},\"paper_bgcolor\":\"white\",\"plot_bgcolor\":\"#E5ECF6\",\"polar\":{\"bgcolor\":\"#E5ECF6\",\"angularaxis\":{\"gridcolor\":\"white\",\"linecolor\":\"white\",\"ticks\":\"\"},\"radialaxis\":{\"gridcolor\":\"white\",\"linecolor\":\"white\",\"ticks\":\"\"}},\"ternary\":{\"bgcolor\":\"#E5ECF6\",\"aaxis\":{\"gridcolor\":\"white\",\"linecolor\":\"white\",\"ticks\":\"\"},\"baxis\":{\"gridcolor\":\"white\",\"linecolor\":\"white\",\"ticks\":\"\"},\"caxis\":{\"gridcolor\":\"white\",\"linecolor\":\"white\",\"ticks\":\"\"}},\"coloraxis\":{\"colorbar\":{\"outlinewidth\":0,\"ticks\":\"\"}},\"colorscale\":{\"sequential\":[[0.0,\"#0d0887\"],[0.1111111111111111,\"#46039f\"],[0.2222222222222222,\"#7201a8\"],[0.3333333333333333,\"#9c179e\"],[0.4444444444444444,\"#bd3786\"],[0.5555555555555556,\"#d8576b\"],[0.6666666666666666,\"#ed7953\"],[0.7777777777777778,\"#fb9f3a\"],[0.8888888888888888,\"#fdca26\"],[1.0,\"#f0f921\"]],\"sequentialminus\":[[0.0,\"#0d0887\"],[0.1111111111111111,\"#46039f\"],[0.2222222222222222,\"#7201a8\"],[0.3333333333333333,\"#9c179e\"],[0.4444444444444444,\"#bd3786\"],[0.5555555555555556,\"#d8576b\"],[0.6666666666666666,\"#ed7953\"],[0.7777777777777778,\"#fb9f3a\"],[0.8888888888888888,\"#fdca26\"],[1.0,\"#f0f921\"]],\"diverging\":[[0,\"#8e0152\"],[0.1,\"#c51b7d\"],[0.2,\"#de77ae\"],[0.3,\"#f1b6da\"],[0.4,\"#fde0ef\"],[0.5,\"#f7f7f7\"],[0.6,\"#e6f5d0\"],[0.7,\"#b8e186\"],[0.8,\"#7fbc41\"],[0.9,\"#4d9221\"],[1,\"#276419\"]]},\"xaxis\":{\"gridcolor\":\"white\",\"linecolor\":\"white\",\"ticks\":\"\",\"title\":{\"standoff\":15},\"zerolinecolor\":\"white\",\"automargin\":true,\"zerolinewidth\":2},\"yaxis\":{\"gridcolor\":\"white\",\"linecolor\":\"white\",\"ticks\":\"\",\"title\":{\"standoff\":15},\"zerolinecolor\":\"white\",\"automargin\":true,\"zerolinewidth\":2},\"scene\":{\"xaxis\":{\"backgroundcolor\":\"#E5ECF6\",\"gridcolor\":\"white\",\"linecolor\":\"white\",\"showbackground\":true,\"ticks\":\"\",\"zerolinecolor\":\"white\",\"gridwidth\":2},\"yaxis\":{\"backgroundcolor\":\"#E5ECF6\",\"gridcolor\":\"white\",\"linecolor\":\"white\",\"showbackground\":true,\"ticks\":\"\",\"zerolinecolor\":\"white\",\"gridwidth\":2},\"zaxis\":{\"backgroundcolor\":\"#E5ECF6\",\"gridcolor\":\"white\",\"linecolor\":\"white\",\"showbackground\":true,\"ticks\":\"\",\"zerolinecolor\":\"white\",\"gridwidth\":2}},\"shapedefaults\":{\"line\":{\"color\":\"#2a3f5f\"}},\"annotationdefaults\":{\"arrowcolor\":\"#2a3f5f\",\"arrowhead\":0,\"arrowwidth\":1},\"geo\":{\"bgcolor\":\"white\",\"landcolor\":\"#E5ECF6\",\"subunitcolor\":\"white\",\"showland\":true,\"showlakes\":true,\"lakecolor\":\"white\"},\"title\":{\"x\":0.05},\"mapbox\":{\"style\":\"light\"}}},\"xaxis\":{\"anchor\":\"y\",\"domain\":[0.0,1.0],\"title\":{\"text\":\"House_loan\"}},\"yaxis\":{\"anchor\":\"x\",\"domain\":[0.0,1.0],\"title\":{\"text\":\"Price\"}},\"legend\":{\"title\":{\"text\":\"Make\"},\"tracegroupgap\":0},\"margin\":{\"t\":60},\"boxmode\":\"group\"},                        {\"responsive\": true}                    ).then(function(){\n",
              "                            \n",
              "var gd = document.getElementById('28569857-97ea-4b95-be8d-7a0aa7a90317');\n",
              "var x = new MutationObserver(function (mutations, observer) {{\n",
              "        var display = window.getComputedStyle(gd).display;\n",
              "        if (!display || display === 'none') {{\n",
              "            console.log([gd, 'removed!']);\n",
              "            Plotly.purge(gd);\n",
              "            observer.disconnect();\n",
              "        }}\n",
              "}});\n",
              "\n",
              "// Listen for the removal of the full notebook cells\n",
              "var notebookContainer = gd.closest('#notebook-container');\n",
              "if (notebookContainer) {{\n",
              "    x.observe(notebookContainer, {childList: true});\n",
              "}}\n",
              "\n",
              "// Listen for the clearing of the current output cell\n",
              "var outputEl = gd.closest('.output');\n",
              "if (outputEl) {{\n",
              "    x.observe(outputEl, {childList: true});\n",
              "}}\n",
              "\n",
              "                        })                };                            </script>        </div>\n",
              "</body>\n",
              "</html>"
            ]
          },
          "metadata": {}
        },
        {
          "output_type": "display_data",
          "data": {
            "text/html": [
              "<html>\n",
              "<head><meta charset=\"utf-8\" /></head>\n",
              "<body>\n",
              "    <div>            <script src=\"https://cdnjs.cloudflare.com/ajax/libs/mathjax/2.7.5/MathJax.js?config=TeX-AMS-MML_SVG\"></script><script type=\"text/javascript\">if (window.MathJax && window.MathJax.Hub && window.MathJax.Hub.Config) {window.MathJax.Hub.Config({SVG: {font: \"STIX-Web\"}});}</script>                <script type=\"text/javascript\">window.PlotlyConfig = {MathJaxConfig: 'local'};</script>\n",
              "        <script charset=\"utf-8\" src=\"https://cdn.plot.ly/plotly-2.24.1.min.js\"></script>                <div id=\"cc29a095-58a6-4c24-ae0b-a835ffc18731\" class=\"plotly-graph-div\" style=\"height:525px; width:100%;\"></div>            <script type=\"text/javascript\">                                    window.PLOTLYENV=window.PLOTLYENV || {};                                    if (document.getElementById(\"cc29a095-58a6-4c24-ae0b-a835ffc18731\")) {                    Plotly.newPlot(                        \"cc29a095-58a6-4c24-ae0b-a835ffc18731\",                        [{\"alignmentgroup\":\"True\",\"hovertemplate\":\"Make=SUV\\u003cbr\\u003ePartner_working=%{x}\\u003cbr\\u003ePrice=%{y}\\u003cextra\\u003e\\u003c\\u002fextra\\u003e\",\"legendgroup\":\"SUV\",\"marker\":{\"color\":\"#636efa\"},\"name\":\"SUV\",\"notched\":false,\"offsetgroup\":\"SUV\",\"orientation\":\"v\",\"showlegend\":true,\"x\":[\"Yes\",\"Yes\",\"Yes\",\"Yes\",\"Yes\",\"Yes\",\"Yes\",\"Yes\",\"No\",\"No\",\"No\",\"No\",\"No\",\"No\",\"No\",\"No\",\"No\",\"Yes\",\"Yes\",\"Yes\",\"Yes\",\"Yes\",\"Yes\",\"Yes\",\"Yes\",\"Yes\",\"Yes\",\"No\",\"No\",\"Yes\",\"Yes\",\"Yes\",\"Yes\",\"Yes\",\"Yes\",\"No\",\"No\",\"No\",\"No\",\"No\",\"No\",\"Yes\",\"Yes\",\"Yes\",\"Yes\",\"Yes\",\"No\",\"No\",\"No\",\"Yes\",\"Yes\",\"Yes\",\"Yes\",\"No\",\"No\",\"No\",\"Yes\",\"Yes\",\"Yes\",\"Yes\",\"No\",\"No\",\"No\",\"No\",\"No\",\"Yes\",\"Yes\",\"Yes\",\"Yes\",\"Yes\",\"No\",\"No\",\"No\",\"No\",\"No\",\"Yes\",\"Yes\",\"Yes\",\"Yes\",\"Yes\",\"No\",\"No\",\"No\",\"No\",\"No\",\"No\",\"No\",\"Yes\",\"Yes\",\"Yes\",\"Yes\",\"Yes\",\"No\",\"No\",\"No\",\"No\",\"No\",\"No\",\"Yes\",\"Yes\",\"Yes\",\"No\",\"No\",\"Yes\",\"Yes\",\"No\",\"No\",\"No\",\"No\",\"No\",\"No\",\"Yes\",\"Yes\",\"No\",\"No\",\"No\",\"Yes\",\"Yes\",\"Yes\",\"Yes\",\"Yes\",\"Yes\",\"Yes\",\"Yes\",\"Yes\",\"No\",\"No\",\"No\",\"No\",\"No\",\"Yes\",\"Yes\",\"Yes\",\"Yes\",\"Yes\",\"No\",\"No\",\"No\",\"No\",\"No\",\"No\",\"Yes\",\"Yes\",\"Yes\",\"Yes\",\"Yes\",\"Yes\",\"Yes\",\"Yes\",\"No\",\"No\",\"No\",\"No\",\"No\",\"Yes\",\"Yes\",\"Yes\",\"Yes\",\"No\",\"Yes\",\"No\",\"No\",\"No\",\"No\",\"No\",\"No\",\"No\",\"No\",\"No\",\"Yes\",\"Yes\",\"Yes\",\"Yes\",\"Yes\",\"No\",\"No\",\"No\",\"Yes\",\"Yes\",\"Yes\",\"Yes\",\"Yes\",\"Yes\",\"Yes\",\"No\",\"No\",\"No\",\"No\",\"No\",\"No\",\"No\",\"No\",\"Yes\",\"Yes\",\"Yes\",\"Yes\",\"No\",\"No\",\"No\",\"No\",\"No\",\"Yes\",\"Yes\",\"Yes\",\"Yes\",\"Yes\",\"Yes\",\"No\",\"No\",\"No\",\"No\",\"Yes\",\"Yes\",\"Yes\",\"Yes\",\"Yes\",\"Yes\",\"Yes\",\"Yes\",\"Yes\",\"Yes\",\"Yes\",\"Yes\",\"No\",\"No\",\"No\",\"No\",\"No\",\"No\",\"Yes\",\"Yes\",\"Yes\",\"Yes\",\"Yes\",\"Yes\",\"No\",\"No\",\"No\",\"No\",\"Yes\",\"Yes\",\"Yes\",\"Yes\",\"No\",\"No\",\"No\",\"No\",\"No\",\"No\",\"Yes\",\"Yes\",\"Yes\",\"Yes\",\"No\",\"No\",\"No\",\"No\",\"No\",\"No\",\"No\",\"Yes\",\"Yes\",\"Yes\",\"Yes\",\"Yes\",\"Yes\",\"Yes\",\"No\",\"No\",\"No\",\"No\",\"No\",\"No\",\"No\",\"No\",\"No\",\"Yes\",\"Yes\",\"Yes\",\"Yes\",\"Yes\",\"No\",\"No\",\"No\",\"Yes\",\"Yes\",\"Yes\",\"No\",\"No\",\"No\",\"Yes\",\"Yes\",\"Yes\",\"No\",\"No\",\"Yes\",\"No\"],\"x0\":\" \",\"xaxis\":\"x\",\"y\":[61000,61000,57000,61000,57000,57000,51000,68000,61000,57000,67000,63000,62000,50000,66000,52000,60000,64000,58000,54000,53000,62000,55000,59000,50000,50000,68000,60000,56000,61000,67000,66000,56000,61000,52000,59000,61000,54000,64000,53000,60000,66000,55000,51000,50000,59000,61000,62000,63000,69000,57000,52000,50000,57000,50000,68000,69000,57000,54000,51000,54000,64000,58000,59000,53000,55000,62000,49000,55000,66000,56000,61000,58000,60000,62000,68000,60000,51000,55000,53000,62000,64000,54000,52000,57000,58000,53000,55000,55000,60000,51000,57000,67000,51000,51000,63000,66000,64000,66000,56000,53000,61000,70000,67000,69000,53000,64000,68000,65000,58000,67000,62000,53000,59000,65000,59000,69000,58000,52000,68000,69000,62000,61000,63000,57000,49000,58000,69000,50000,51000,56000,58000,66000,51000,52000,50000,58000,57000,49000,50000,49000,57000,64000,37000,61000,37000,52000,40000,62000,52000,36000,51000,65000,61000,59000,67000,59000,41000,49000,60000,51000,53000,68000,57000,50000,45000,49000,65000,54000,64000,45000,58000,69000,39000,57000,62000,69000,50000,65000,39000,32000,32000,45000,31000,36000,61000,59000,45000,63000,57000,49000,59000,61000,61000,67000,51000,64000,45000,66000,36000,57000,61000,65000,57000,49000,32000,63000,64000,62000,51000,64000,68000,63000,60000,49000,39000,55000,58000,51000,49000,37000,68000,45000,67000,36000,65000,55000,57000,63000,64000,57000,39000,57000,56000,55000,45000,60000,63000,51000,39000,63000,36000,48000,66000,50000,69000,68000,58000,51000,56000,65000,69000,61000,57000,55000,49000,52000,36000,58000,66000,64000,54000,70000,62000,63000,66000,66000,68000,63000,59000,31000,40000,51000,69000,57000,58000,45000,45000,51000,50000,51000,39000,40000,49000,45000,32000,51000,48000,31000,51000,49000,36000,52000,32000,51000,31000,31000],\"y0\":\" \",\"yaxis\":\"y\",\"type\":\"box\"},{\"alignmentgroup\":\"True\",\"hovertemplate\":\"Make=Sedan\\u003cbr\\u003ePartner_working=%{x}\\u003cbr\\u003ePrice=%{y}\\u003cextra\\u003e\\u003c\\u002fextra\\u003e\",\"legendgroup\":\"Sedan\",\"marker\":{\"color\":\"#EF553B\"},\"name\":\"Sedan\",\"notched\":false,\"offsetgroup\":\"Sedan\",\"orientation\":\"v\",\"showlegend\":true,\"x\":[\"Yes\",\"Yes\",\"Yes\",\"Yes\",\"Yes\",\"Yes\",\"Yes\",\"Yes\",\"Yes\",\"No\",\"No\",\"No\",\"No\",\"No\",\"No\",\"Yes\",\"Yes\",\"Yes\",\"Yes\",\"Yes\",\"Yes\",\"Yes\",\"Yes\",\"Yes\",\"Yes\",\"Yes\",\"Yes\",\"Yes\",\"No\",\"No\",\"No\",\"No\",\"Yes\",\"No\",\"No\",\"No\",\"No\",\"No\",\"No\",\"No\",\"Yes\",\"Yes\",\"Yes\",\"Yes\",\"Yes\",\"Yes\",\"Yes\",\"Yes\",\"Yes\",\"Yes\",\"Yes\",\"Yes\",\"Yes\",\"No\",\"No\",\"No\",\"No\",\"No\",\"No\",\"No\",\"No\",\"No\",\"No\",\"No\",\"No\",\"No\",\"Yes\",\"Yes\",\"Yes\",\"Yes\",\"Yes\",\"Yes\",\"Yes\",\"Yes\",\"Yes\",\"Yes\",\"No\",\"No\",\"No\",\"No\",\"No\",\"No\",\"No\",\"No\",\"No\",\"Yes\",\"Yes\",\"Yes\",\"Yes\",\"Yes\",\"Yes\",\"Yes\",\"Yes\",\"Yes\",\"No\",\"No\",\"No\",\"No\",\"No\",\"No\",\"No\",\"No\",\"No\",\"Yes\",\"Yes\",\"Yes\",\"Yes\",\"Yes\",\"Yes\",\"Yes\",\"Yes\",\"No\",\"No\",\"No\",\"No\",\"No\",\"No\",\"No\",\"Yes\",\"Yes\",\"Yes\",\"Yes\",\"Yes\",\"Yes\",\"Yes\",\"Yes\",\"Yes\",\"Yes\",\"Yes\",\"Yes\",\"Yes\",\"Yes\",\"Yes\",\"Yes\",\"No\",\"No\",\"No\",\"No\",\"No\",\"No\",\"No\",\"Yes\",\"Yes\",\"Yes\",\"Yes\",\"Yes\",\"Yes\",\"Yes\",\"Yes\",\"Yes\",\"Yes\",\"Yes\",\"Yes\",\"Yes\",\"Yes\",\"Yes\",\"Yes\",\"Yes\",\"No\",\"No\",\"No\",\"No\",\"No\",\"No\",\"No\",\"No\",\"No\",\"No\",\"No\",\"Yes\",\"Yes\",\"Yes\",\"Yes\",\"Yes\",\"Yes\",\"Yes\",\"Yes\",\"Yes\",\"Yes\",\"Yes\",\"Yes\",\"Yes\",\"Yes\",\"Yes\",\"No\",\"No\",\"No\",\"No\",\"No\",\"No\",\"Yes\",\"Yes\",\"Yes\",\"Yes\",\"Yes\",\"Yes\",\"Yes\",\"Yes\",\"Yes\",\"Yes\",\"Yes\",\"Yes\",\"No\",\"No\",\"Yes\",\"No\",\"No\",\"No\",\"No\",\"No\",\"No\",\"No\",\"No\",\"No\",\"Yes\",\"Yes\",\"Yes\",\"Yes\",\"Yes\",\"Yes\",\"Yes\",\"Yes\",\"Yes\",\"Yes\",\"Yes\",\"Yes\",\"Yes\",\"Yes\",\"No\",\"No\",\"No\",\"Yes\",\"No\",\"No\",\"No\",\"No\",\"No\",\"No\",\"No\",\"Yes\",\"Yes\",\"Yes\",\"Yes\",\"Yes\",\"Yes\",\"Yes\",\"Yes\",\"Yes\",\"Yes\",\"No\",\"No\",\"No\",\"No\",\"No\",\"No\",\"No\",\"No\",\"No\",\"No\",\"No\",\"No\",\"Yes\",\"Yes\",\"Yes\",\"Yes\",\"Yes\",\"Yes\",\"Yes\",\"Yes\",\"Yes\",\"Yes\",\"Yes\",\"Yes\",\"Yes\",\"No\",\"No\",\"No\",\"No\",\"No\",\"No\",\"No\",\"No\",\"No\",\"No\",\"No\",\"No\",\"No\",\"No\",\"No\",\"No\",\"No\",\"Yes\",\"Yes\",\"Yes\",\"Yes\",\"Yes\",\"Yes\",\"Yes\",\"Yes\",\"Yes\",\"Yes\",\"Yes\",\"Yes\",\"Yes\",\"Yes\",\"No\",\"No\",\"No\",\"No\",\"No\",\"No\",\"No\",\"No\",\"No\",\"No\",\"No\",\"No\",\"No\",\"Yes\",\"Yes\",\"Yes\",\"Yes\",\"Yes\",\"Yes\",\"Yes\",\"Yes\",\"No\",\"No\",\"No\",\"No\",\"No\",\"No\",\"No\",\"No\",\"No\",\"Yes\",\"Yes\",\"Yes\",\"Yes\",\"Yes\",\"Yes\",\"Yes\",\"Yes\",\"Yes\",\"Yes\",\"Yes\",\"Yes\",\"Yes\",\"Yes\",\"Yes\",\"Yes\",\"Yes\",\"Yes\",\"Yes\",\"Yes\",\"Yes\",\"Yes\",\"Yes\",\"Yes\",\"Yes\",\"Yes\",\"Yes\",\"Yes\",\"Yes\",\"Yes\",\"Yes\",\"Yes\",\"Yes\",\"No\",\"No\",\"No\",\"Yes\",\"No\",\"Yes\",\"No\",\"No\",\"Yes\",\"No\",\"No\",\"No\",\"Yes\",\"No\",\"No\",\"No\",\"No\",\"Yes\",\"No\",\"No\",\"No\",\"No\",\"No\",\"No\",\"No\",\"No\",\"No\",\"No\",\"No\",\"Yes\",\"Yes\",\"Yes\",\"Yes\",\"Yes\",\"Yes\",\"Yes\",\"Yes\",\"Yes\",\"Yes\",\"Yes\",\"Yes\",\"Yes\",\"Yes\",\"Yes\",\"Yes\",\"Yes\",\"Yes\",\"Yes\",\"Yes\",\"Yes\",\"Yes\",\"Yes\",\"Yes\",\"No\",\"No\",\"No\",\"No\",\"Yes\",\"No\",\"No\",\"Yes\",\"No\",\"No\",\"Yes\",\"No\",\"No\",\"No\",\"No\",\"No\",\"No\",\"No\",\"No\",\"No\",\"No\",\"No\",\"No\",\"No\",\"No\",\"No\",\"No\",\"No\",\"No\",\"No\",\"No\",\"No\",\"Yes\",\"Yes\",\"Yes\",\"Yes\",\"Yes\",\"Yes\",\"Yes\",\"Yes\",\"Yes\",\"Yes\",\"Yes\",\"Yes\",\"Yes\",\"Yes\",\"Yes\",\"Yes\",\"Yes\",\"Yes\",\"Yes\",\"Yes\",\"Yes\",\"Yes\",\"Yes\",\"Yes\",\"No\",\"Yes\",\"Yes\",\"Yes\",\"No\",\"Yes\",\"No\",\"Yes\",\"Yes\",\"No\",\"No\",\"No\",\"Yes\",\"No\",\"Yes\",\"Yes\",\"No\",\"No\",\"No\",\"No\",\"No\",\"No\",\"No\",\"No\",\"No\",\"No\",\"No\",\"No\",\"No\",\"No\",\"No\",\"No\",\"Yes\",\"Yes\",\"Yes\",\"Yes\",\"Yes\",\"Yes\",\"Yes\",\"Yes\",\"Yes\",\"Yes\",\"Yes\",\"Yes\",\"Yes\",\"Yes\",\"Yes\",\"Yes\",\"Yes\",\"Yes\",\"Yes\",\"Yes\",\"Yes\",\"Yes\",\"No\",\"Yes\",\"No\",\"No\",\"No\",\"No\",\"No\",\"No\",\"No\",\"No\",\"Yes\",\"Yes\",\"Yes\",\"Yes\",\"Yes\",\"Yes\",\"Yes\",\"Yes\",\"Yes\",\"Yes\",\"Yes\",\"Yes\",\"Yes\",\"No\",\"Yes\",\"Yes\",\"Yes\",\"Yes\",\"Yes\",\"No\",\"No\",\"No\",\"Yes\",\"Yes\",\"No\",\"No\",\"No\",\"No\",\"No\",\"No\",\"No\",\"No\",\"Yes\",\"Yes\",\"Yes\",\"Yes\",\"Yes\",\"Yes\",\"Yes\",\"Yes\",\"Yes\",\"Yes\",\"Yes\",\"Yes\",\"Yes\",\"Yes\",\"Yes\",\"Yes\",\"Yes\",\"Yes\",\"Yes\",\"Yes\",\"Yes\",\"Yes\",\"Yes\",\"No\",\"Yes\",\"No\",\"No\",\"No\",\"No\",\"No\",\"No\",\"No\",\"No\",\"No\",\"No\",\"No\",\"No\",\"No\",\"Yes\",\"Yes\",\"Yes\",\"Yes\",\"Yes\",\"Yes\",\"Yes\",\"Yes\",\"Yes\",\"Yes\",\"Yes\",\"Yes\",\"Yes\",\"Yes\",\"Yes\",\"Yes\",\"Yes\",\"Yes\",\"Yes\",\"Yes\",\"Yes\",\"Yes\",\"Yes\",\"Yes\",\"No\",\"Yes\",\"No\",\"No\",\"Yes\",\"No\",\"No\",\"No\",\"Yes\",\"Yes\",\"Yes\",\"Yes\",\"Yes\",\"Yes\",\"Yes\",\"Yes\",\"Yes\",\"Yes\",\"Yes\",\"Yes\",\"Yes\",\"Yes\",\"Yes\",\"Yes\",\"Yes\",\"Yes\",\"Yes\",\"Yes\",\"Yes\",\"No\",\"No\",\"No\",\"No\",\"No\",\"No\",\"No\",\"No\",\"No\",\"No\",\"No\",\"Yes\",\"Yes\",\"Yes\",\"Yes\",\"Yes\",\"Yes\",\"Yes\",\"Yes\",\"Yes\",\"Yes\",\"Yes\",\"Yes\",\"Yes\",\"Yes\",\"Yes\",\"Yes\",\"No\",\"Yes\",\"No\",\"No\",\"No\",\"Yes\",\"No\",\"No\",\"No\",\"No\",\"No\"],\"x0\":\" \",\"xaxis\":\"x\",\"y\":[43000,53000,47000,52000,35000,42000,33000,43000,34000,50000,40000,42000,54000,36000,54000,41000,37000,41000,41000,50000,48000,44000,44000,43000,50000,49000,35000,41000,31000,54000,53000,44000,32000,33000,39000,31000,52000,33000,42000,51000,35000,39000,42000,52000,46000,50000,31000,39000,46000,51000,54000,53000,32000,32000,55000,32000,47000,47000,46000,47000,32000,42000,35000,48000,33000,34000,43000,50000,37000,33000,38000,53000,43000,39000,49000,38000,49000,36000,36000,35000,33000,41000,46000,47000,45000,52000,43000,54000,45000,33000,38000,52000,54000,38000,32000,44000,44000,42000,52000,39000,53000,32000,49000,32000,39000,43000,40000,41000,53000,41000,36000,33000,50000,48000,42000,31000,44000,50000,34000,40000,33000,50000,54000,35000,49000,46000,32000,34000,36000,54000,51000,46000,54000,34000,47000,39000,34000,54000,38000,55000,55000,52000,38000,47000,35000,46000,46000,45000,43000,52000,48000,50000,34000,39000,43000,54000,33000,33000,34000,42000,45000,32000,31000,46000,47000,39000,52000,47000,42000,38000,37000,49000,43000,48000,44000,49000,36000,36000,33000,50000,55000,46000,47000,43000,47000,49000,33000,47000,55000,33000,40000,55000,50000,48000,50000,47000,36000,53000,36000,48000,39000,35000,42000,47000,54000,51000,32000,44000,44000,53000,48000,50000,34000,37000,33000,34000,55000,45000,43000,51000,34000,31000,50000,43000,33000,33000,44000,48000,34000,47000,37000,33000,36000,50000,51000,52000,41000,35000,48000,53000,46000,43000,43000,39000,38000,43000,48000,54000,44000,35000,32000,34000,35000,32000,54000,43000,40000,33000,41000,42000,51000,37000,37000,43000,45000,37000,52000,41000,50000,47000,40000,37000,43000,48000,46000,32000,45000,52000,50000,49000,45000,35000,44000,32000,39000,41000,33000,49000,42000,38000,31000,44000,39000,46000,43000,50000,33000,31000,53000,37000,35000,52000,47000,50000,36000,45000,43000,44000,40000,34000,37000,48000,53000,52000,51000,53000,48000,41000,32000,51000,36000,36000,49000,48000,45000,55000,46000,35000,39000,35000,49000,31000,37000,37000,53000,31000,28000,34000,42000,41000,39000,53000,21000,47000,24000,23000,28000,48000,38000,23000,24000,33000,19000,55000,21000,18000,48000,39000,26000,20000,37000,26000,51000,53000,29000,41000,26000,19000,23000,28000,24000,21000,21000,18000,28000,20000,31000,27000,23000,53000,49000,18000,36000,34000,31000,43000,27000,31000,31000,24000,23000,50000,33000,19000,37000,54000,34000,29000,23000,37000,24000,31000,53000,19000,19000,46000,50000,42000,28000,47000,48000,32000,28000,23000,22000,27000,27000,26000,18000,46000,20000,21000,20000,18000,23000,26000,20000,19000,20000,20000,26000,21000,20000,40000,39000,35000,50000,31000,43000,43000,38000,34000,18000,45000,40000,24000,24000,26000,48000,51000,32000,44000,31000,23000,24000,29000,42000,39000,27000,39000,52000,27000,24000,21000,21000,28000,24000,23000,26000,24000,31000,31000,18000,23000,19000,18000,52000,20000,21000,20000,35000,21000,21000,21000,19000,20000,21000,19000,21000,19000,18000,18000,34000,29000,31000,24000,51000,18000,30000,38000,23000,41000,36000,28000,35000,43000,23000,39000,52000,27000,18000,31000,23000,27000,18000,19000,18000,18000,31000,18000,31000,21000,20000,19000,31000,28000,27000,24000,31000,23000,18000,23000,21000,20000,27000,28000,31000,26000,27000,21000,31000,28000,21000,18000,18000,27000,23000,18000,28000,24000,27000,27000,27000,26000,29000,26000,21000,28000,19000,26000,23000,27000,21000,26000,19000,27000,18000,31000,26000,31000,18000,23000,19000,18000,21000,27000,27000,26000,23000,19000,26000,31000,20000,31000,31000,21000,20000,24000,26000,27000,24000,27000,29000,23000,26000,23000,21000,21000,31000,19000,29000,27000,20000,27000,23000,24000,18000,21000,23000,19000,18000,18000,31000,31000,23000,18000,27000,31000,27000,23000,26000,23000,31000,26000,29000,19000,20000,21000,18000,21000,19000,29000,21000,23000,20000,29000,21000,19000,30000,18000,26000,28000,21000,23000,23000,29000,31000,23000,21000,24000,26000,23000,20000,21000,27000,23000,21000,29000,27000,27000,31000,27000,19000,27000,23000,24000,18000,29000,23000,27000,21000,23000,18000,19000,18000,20000,27000,19000,27000,31000,27000,26000,23000,23000,26000,27000,21000,18000,24000,29000,23000,29000,27000,21000,21000,29000,19000,18000,18000,22000,23000,20000],\"y0\":\" \",\"yaxis\":\"y\",\"type\":\"box\"},{\"alignmentgroup\":\"True\",\"hovertemplate\":\"Make=Hatchback\\u003cbr\\u003ePartner_working=%{x}\\u003cbr\\u003ePrice=%{y}\\u003cextra\\u003e\\u003c\\u002fextra\\u003e\",\"legendgroup\":\"Hatchback\",\"marker\":{\"color\":\"#00cc96\"},\"name\":\"Hatchback\",\"notched\":false,\"offsetgroup\":\"Hatchback\",\"orientation\":\"v\",\"showlegend\":true,\"x\":[\"Yes\",\"Yes\",\"Yes\",\"Yes\",\"Yes\",\"Yes\",\"Yes\",\"Yes\",\"Yes\",\"Yes\",\"Yes\",\"Yes\",\"Yes\",\"Yes\",\"Yes\",\"Yes\",\"Yes\",\"Yes\",\"Yes\",\"Yes\",\"Yes\",\"No\",\"No\",\"Yes\",\"No\",\"No\",\"Yes\",\"Yes\",\"No\",\"Yes\",\"Yes\",\"No\",\"No\",\"No\",\"Yes\",\"No\",\"No\",\"Yes\",\"No\",\"No\",\"No\",\"No\",\"No\",\"No\",\"No\",\"No\",\"No\",\"No\",\"No\",\"No\",\"No\",\"No\",\"No\",\"Yes\",\"Yes\",\"Yes\",\"Yes\",\"Yes\",\"Yes\",\"Yes\",\"Yes\",\"Yes\",\"Yes\",\"Yes\",\"Yes\",\"Yes\",\"Yes\",\"Yes\",\"Yes\",\"Yes\",\"Yes\",\"Yes\",\"Yes\",\"Yes\",\"Yes\",\"Yes\",\"Yes\",\"Yes\",\"No\",\"Yes\",\"No\",\"Yes\",\"No\",\"No\",\"No\",\"Yes\",\"No\",\"No\",\"No\",\"No\",\"No\",\"No\",\"No\",\"No\",\"No\",\"No\",\"No\",\"No\",\"No\",\"No\",\"No\",\"No\",\"Yes\",\"Yes\",\"Yes\",\"Yes\",\"Yes\",\"Yes\",\"Yes\",\"Yes\",\"Yes\",\"Yes\",\"Yes\",\"Yes\",\"Yes\",\"Yes\",\"Yes\",\"Yes\",\"Yes\",\"Yes\",\"Yes\",\"Yes\",\"Yes\",\"Yes\",\"Yes\",\"Yes\",\"Yes\",\"Yes\",\"Yes\",\"Yes\",\"Yes\",\"Yes\",\"Yes\",\"Yes\",\"No\",\"No\",\"No\",\"No\",\"No\",\"No\",\"No\",\"No\",\"No\",\"No\",\"Yes\",\"No\",\"No\",\"No\",\"No\",\"No\",\"Yes\",\"No\",\"No\",\"No\",\"No\",\"No\",\"No\",\"No\",\"No\",\"No\",\"No\",\"No\",\"No\",\"Yes\",\"Yes\",\"Yes\",\"Yes\",\"Yes\",\"Yes\",\"Yes\",\"Yes\",\"Yes\",\"Yes\",\"Yes\",\"Yes\",\"Yes\",\"Yes\",\"Yes\",\"Yes\",\"Yes\",\"Yes\",\"Yes\",\"Yes\",\"Yes\",\"Yes\",\"Yes\",\"Yes\",\"Yes\",\"Yes\",\"Yes\",\"Yes\",\"No\",\"Yes\",\"No\",\"Yes\",\"No\",\"No\",\"No\",\"Yes\",\"No\",\"Yes\",\"No\",\"Yes\",\"No\",\"No\",\"No\",\"No\",\"No\",\"No\",\"No\",\"No\",\"No\",\"No\",\"No\",\"No\",\"No\",\"No\",\"No\",\"No\",\"No\",\"No\",\"No\",\"No\",\"No\",\"No\",\"No\",\"No\",\"No\",\"Yes\",\"Yes\",\"Yes\",\"Yes\",\"Yes\",\"Yes\",\"Yes\",\"Yes\",\"Yes\",\"Yes\",\"Yes\",\"Yes\",\"Yes\",\"Yes\",\"Yes\",\"Yes\",\"Yes\",\"Yes\",\"Yes\",\"Yes\",\"Yes\",\"Yes\",\"Yes\",\"Yes\",\"Yes\",\"Yes\",\"Yes\",\"Yes\",\"Yes\",\"No\",\"No\",\"No\",\"Yes\",\"No\",\"No\",\"No\",\"No\",\"Yes\",\"No\",\"No\",\"No\",\"No\",\"No\",\"No\",\"No\",\"No\",\"No\",\"No\",\"No\",\"No\",\"No\",\"No\",\"No\",\"No\",\"No\",\"No\",\"No\",\"No\",\"No\",\"No\",\"No\",\"No\",\"No\",\"No\",\"Yes\",\"Yes\",\"Yes\",\"Yes\",\"Yes\",\"Yes\",\"Yes\",\"Yes\",\"Yes\",\"Yes\",\"Yes\",\"Yes\",\"Yes\",\"Yes\",\"Yes\",\"Yes\",\"Yes\",\"Yes\",\"Yes\",\"Yes\",\"Yes\",\"Yes\",\"Yes\",\"Yes\",\"Yes\",\"Yes\",\"Yes\",\"Yes\",\"Yes\",\"Yes\",\"Yes\",\"Yes\",\"Yes\",\"No\",\"Yes\",\"No\",\"No\",\"No\",\"Yes\",\"No\",\"No\",\"Yes\",\"No\",\"No\",\"No\",\"No\",\"No\",\"No\",\"No\",\"No\",\"Yes\",\"Yes\",\"No\",\"No\",\"No\",\"No\",\"No\",\"No\",\"No\",\"No\",\"No\",\"No\",\"No\",\"No\",\"No\",\"No\",\"No\",\"No\",\"No\",\"No\",\"No\",\"No\",\"No\",\"No\",\"No\",\"No\",\"No\",\"No\",\"No\",\"No\",\"Yes\",\"Yes\",\"Yes\",\"Yes\",\"Yes\",\"Yes\",\"Yes\",\"Yes\",\"Yes\",\"Yes\",\"Yes\",\"Yes\",\"Yes\",\"Yes\",\"Yes\",\"Yes\",\"Yes\",\"Yes\",\"Yes\",\"Yes\",\"Yes\",\"Yes\",\"Yes\",\"Yes\",\"Yes\",\"Yes\",\"Yes\",\"Yes\",\"Yes\",\"Yes\",\"Yes\",\"Yes\",\"No\",\"No\",\"Yes\",\"No\",\"No\",\"No\",\"Yes\",\"Yes\",\"No\",\"No\",\"No\",\"No\",\"No\",\"No\",\"No\",\"No\",\"No\",\"No\",\"No\",\"No\",\"No\",\"No\",\"No\",\"No\",\"No\",\"No\",\"No\",\"No\",\"No\",\"No\",\"No\",\"No\",\"No\",\"No\",\"No\",\"No\",\"No\",\"No\",\"No\",\"No\",\"Yes\",\"Yes\",\"Yes\",\"Yes\",\"Yes\",\"Yes\",\"Yes\",\"Yes\",\"Yes\",\"Yes\",\"Yes\",\"Yes\",\"Yes\",\"Yes\",\"Yes\",\"Yes\",\"Yes\",\"Yes\",\"Yes\",\"Yes\",\"Yes\",\"Yes\",\"Yes\",\"Yes\",\"Yes\",\"Yes\",\"Yes\",\"Yes\",\"Yes\",\"Yes\",\"Yes\",\"Yes\",\"Yes\",\"Yes\",\"Yes\",\"No\",\"Yes\",\"Yes\",\"Yes\",\"No\",\"No\",\"No\",\"No\",\"No\",\"No\",\"No\",\"No\",\"No\",\"No\",\"No\",\"No\",\"No\",\"No\",\"No\",\"No\",\"No\",\"No\",\"No\",\"No\",\"No\",\"No\",\"No\",\"No\",\"No\",\"No\",\"No\",\"No\",\"No\",\"No\",\"No\",\"No\",\"Yes\",\"Yes\",\"Yes\",\"Yes\",\"Yes\",\"Yes\",\"Yes\",\"Yes\",\"Yes\",\"Yes\",\"Yes\",\"Yes\",\"Yes\",\"Yes\",\"Yes\",\"Yes\",\"Yes\",\"Yes\",\"Yes\",\"Yes\",\"Yes\",\"Yes\",\"Yes\",\"Yes\",\"Yes\",\"Yes\",\"Yes\",\"Yes\",\"Yes\",\"Yes\",\"Yes\",\"Yes\",\"Yes\",\"Yes\",\"Yes\",\"No\",\"No\",\"No\",\"Yes\",\"No\",\"No\",\"No\",\"No\",\"No\",\"No\",\"No\",\"No\",\"No\",\"No\",\"No\",\"No\",\"No\",\"No\",\"No\",\"No\",\"No\",\"No\",\"No\",\"No\",\"No\",\"No\",\"No\",\"No\",\"No\",\"No\",\"No\",\"No\"],\"x0\":\" \",\"xaxis\":\"x\",\"y\":[30000,31000,25000,22000,25000,33000,29000,23000,33000,20000,24000,24000,32000,32000,30000,28000,30000,29000,20000,25000,23000,32000,30000,29000,31000,33000,29000,22000,20000,25000,30000,28000,28000,32000,30000,20000,32000,20000,22000,32000,30000,25000,20000,30000,29000,32000,23000,26000,30000,26000,33000,31000,32000,20000,25000,28000,32000,32000,22000,22000,28000,25000,29000,30000,22000,22000,33000,22000,28000,29000,29000,28000,32000,32000,22000,20000,33000,20000,32000,30000,32000,20000,29000,28000,23000,20000,33000,24000,23000,20000,33000,32000,32000,32000,22000,20000,28000,22000,31000,26000,29000,25000,30000,32000,20000,33000,32000,29000,32000,28000,25000,33000,27000,32000,29000,30000,28000,33000,32000,26000,20000,31000,26000,32000,24000,19000,27000,33000,26000,24000,20000,32000,30000,22000,30000,25000,20000,29000,29000,22000,33000,32000,28000,25000,23000,28000,31000,22000,31000,30000,22000,24000,30000,20000,26000,24000,31000,20000,25000,19000,24000,27000,24000,26000,32000,28000,23000,30000,29000,22000,30000,28000,22000,32000,26000,28000,19000,30000,19000,24000,22000,30000,24000,20000,19000,24000,32000,28000,24000,32000,26000,30000,28000,23000,22000,22000,27000,23000,20000,31000,33000,30000,30000,30000,28000,25000,30000,22000,32000,23000,28000,25000,23000,23000,23000,19000,26000,24000,33000,32000,23000,26000,29000,30000,32000,25000,22000,28000,24000,28000,31000,25000,23000,23000,32000,31000,22000,32000,27000,33000,33000,28000,22000,22000,29000,27000,27000,20000,29000,20000,26000,31000,31000,20000,29000,25000,22000,29000,24000,30000,22000,21000,30000,24000,31000,30000,20000,19000,19000,27000,23000,30000,23000,20000,25000,23000,20000,32000,24000,22000,28000,23000,22000,25000,29000,28000,30000,23000,28000,30000,25000,24000,25000,33000,20000,20000,32000,29000,25000,24000,30000,31000,31000,25000,24000,22000,25000,24000,20000,28000,30000,26000,20000,30000,28000,30000,20000,33000,31000,28000,26000,32000,33000,33000,30000,23000,20000,19000,32000,26000,19000,29000,27000,20000,19000,32000,32000,31000,28000,25000,20000,20000,20000,19000,30000,24000,30000,27000,20000,30000,26000,24000,22000,20000,25000,20000,29000,25000,32000,25000,20000,32000,24000,20000,30000,28000,26000,28000,26000,31000,27000,25000,25000,26000,32000,32000,28000,22000,19000,30000,26000,28000,25000,32000,31000,32000,22000,20000,30000,29000,23000,32000,19000,24000,29000,20000,31000,22000,33000,32000,28000,29000,30000,29000,20000,32000,31000,23000,31000,30000,20000,20000,23000,33000,25000,25000,24000,28000,27000,25000,20000,24000,19000,28000,33000,31000,26000,22000,25000,22000,33000,24000,22000,20000,18000,32000,28000,22000,28000,25000,22000,28000,22000,18000,25000,32000,28000,29000,27000,24000,28000,22000,32000,24000,30000,24000,33000,23000,20000,32000,24000,26000,20000,32000,25000,22000,24000,20000,29000,20000,32000,32000,22000,33000,31000,30000,26000,24000,23000,33000,32000,30000,19000,30000,30000,26000,24000,28000,28000,24000,31000,29000,26000,29000,25000,25000,26000,22000,31000,25000,23000,20000,33000,33000,28000,28000,26000,22000,22000,25000,32000,22000,30000,29000,31000,30000,30000,25000,28000,31000,30000,32000,28000,19000,28000,28000,20000,22000,24000,32000,29000,28000,24000,33000,23000,30000,24000,23000,22000,32000,30000,19000,28000,20000,22000,32000,22000,25000,25000,31000,32000,20000,25000,20000,32000,23000,29000,22000,29000,27000,26000,26000,25000,30000,28000,32000,23000,19000,24000,24000,23000,22000,21000,33000,24000,23000,19000,27000,31000,30000,24000,31000],\"y0\":\" \",\"yaxis\":\"y\",\"type\":\"box\"}],                        {\"template\":{\"data\":{\"histogram2dcontour\":[{\"type\":\"histogram2dcontour\",\"colorbar\":{\"outlinewidth\":0,\"ticks\":\"\"},\"colorscale\":[[0.0,\"#0d0887\"],[0.1111111111111111,\"#46039f\"],[0.2222222222222222,\"#7201a8\"],[0.3333333333333333,\"#9c179e\"],[0.4444444444444444,\"#bd3786\"],[0.5555555555555556,\"#d8576b\"],[0.6666666666666666,\"#ed7953\"],[0.7777777777777778,\"#fb9f3a\"],[0.8888888888888888,\"#fdca26\"],[1.0,\"#f0f921\"]]}],\"choropleth\":[{\"type\":\"choropleth\",\"colorbar\":{\"outlinewidth\":0,\"ticks\":\"\"}}],\"histogram2d\":[{\"type\":\"histogram2d\",\"colorbar\":{\"outlinewidth\":0,\"ticks\":\"\"},\"colorscale\":[[0.0,\"#0d0887\"],[0.1111111111111111,\"#46039f\"],[0.2222222222222222,\"#7201a8\"],[0.3333333333333333,\"#9c179e\"],[0.4444444444444444,\"#bd3786\"],[0.5555555555555556,\"#d8576b\"],[0.6666666666666666,\"#ed7953\"],[0.7777777777777778,\"#fb9f3a\"],[0.8888888888888888,\"#fdca26\"],[1.0,\"#f0f921\"]]}],\"heatmap\":[{\"type\":\"heatmap\",\"colorbar\":{\"outlinewidth\":0,\"ticks\":\"\"},\"colorscale\":[[0.0,\"#0d0887\"],[0.1111111111111111,\"#46039f\"],[0.2222222222222222,\"#7201a8\"],[0.3333333333333333,\"#9c179e\"],[0.4444444444444444,\"#bd3786\"],[0.5555555555555556,\"#d8576b\"],[0.6666666666666666,\"#ed7953\"],[0.7777777777777778,\"#fb9f3a\"],[0.8888888888888888,\"#fdca26\"],[1.0,\"#f0f921\"]]}],\"heatmapgl\":[{\"type\":\"heatmapgl\",\"colorbar\":{\"outlinewidth\":0,\"ticks\":\"\"},\"colorscale\":[[0.0,\"#0d0887\"],[0.1111111111111111,\"#46039f\"],[0.2222222222222222,\"#7201a8\"],[0.3333333333333333,\"#9c179e\"],[0.4444444444444444,\"#bd3786\"],[0.5555555555555556,\"#d8576b\"],[0.6666666666666666,\"#ed7953\"],[0.7777777777777778,\"#fb9f3a\"],[0.8888888888888888,\"#fdca26\"],[1.0,\"#f0f921\"]]}],\"contourcarpet\":[{\"type\":\"contourcarpet\",\"colorbar\":{\"outlinewidth\":0,\"ticks\":\"\"}}],\"contour\":[{\"type\":\"contour\",\"colorbar\":{\"outlinewidth\":0,\"ticks\":\"\"},\"colorscale\":[[0.0,\"#0d0887\"],[0.1111111111111111,\"#46039f\"],[0.2222222222222222,\"#7201a8\"],[0.3333333333333333,\"#9c179e\"],[0.4444444444444444,\"#bd3786\"],[0.5555555555555556,\"#d8576b\"],[0.6666666666666666,\"#ed7953\"],[0.7777777777777778,\"#fb9f3a\"],[0.8888888888888888,\"#fdca26\"],[1.0,\"#f0f921\"]]}],\"surface\":[{\"type\":\"surface\",\"colorbar\":{\"outlinewidth\":0,\"ticks\":\"\"},\"colorscale\":[[0.0,\"#0d0887\"],[0.1111111111111111,\"#46039f\"],[0.2222222222222222,\"#7201a8\"],[0.3333333333333333,\"#9c179e\"],[0.4444444444444444,\"#bd3786\"],[0.5555555555555556,\"#d8576b\"],[0.6666666666666666,\"#ed7953\"],[0.7777777777777778,\"#fb9f3a\"],[0.8888888888888888,\"#fdca26\"],[1.0,\"#f0f921\"]]}],\"mesh3d\":[{\"type\":\"mesh3d\",\"colorbar\":{\"outlinewidth\":0,\"ticks\":\"\"}}],\"scatter\":[{\"fillpattern\":{\"fillmode\":\"overlay\",\"size\":10,\"solidity\":0.2},\"type\":\"scatter\"}],\"parcoords\":[{\"type\":\"parcoords\",\"line\":{\"colorbar\":{\"outlinewidth\":0,\"ticks\":\"\"}}}],\"scatterpolargl\":[{\"type\":\"scatterpolargl\",\"marker\":{\"colorbar\":{\"outlinewidth\":0,\"ticks\":\"\"}}}],\"bar\":[{\"error_x\":{\"color\":\"#2a3f5f\"},\"error_y\":{\"color\":\"#2a3f5f\"},\"marker\":{\"line\":{\"color\":\"#E5ECF6\",\"width\":0.5},\"pattern\":{\"fillmode\":\"overlay\",\"size\":10,\"solidity\":0.2}},\"type\":\"bar\"}],\"scattergeo\":[{\"type\":\"scattergeo\",\"marker\":{\"colorbar\":{\"outlinewidth\":0,\"ticks\":\"\"}}}],\"scatterpolar\":[{\"type\":\"scatterpolar\",\"marker\":{\"colorbar\":{\"outlinewidth\":0,\"ticks\":\"\"}}}],\"histogram\":[{\"marker\":{\"pattern\":{\"fillmode\":\"overlay\",\"size\":10,\"solidity\":0.2}},\"type\":\"histogram\"}],\"scattergl\":[{\"type\":\"scattergl\",\"marker\":{\"colorbar\":{\"outlinewidth\":0,\"ticks\":\"\"}}}],\"scatter3d\":[{\"type\":\"scatter3d\",\"line\":{\"colorbar\":{\"outlinewidth\":0,\"ticks\":\"\"}},\"marker\":{\"colorbar\":{\"outlinewidth\":0,\"ticks\":\"\"}}}],\"scattermapbox\":[{\"type\":\"scattermapbox\",\"marker\":{\"colorbar\":{\"outlinewidth\":0,\"ticks\":\"\"}}}],\"scatterternary\":[{\"type\":\"scatterternary\",\"marker\":{\"colorbar\":{\"outlinewidth\":0,\"ticks\":\"\"}}}],\"scattercarpet\":[{\"type\":\"scattercarpet\",\"marker\":{\"colorbar\":{\"outlinewidth\":0,\"ticks\":\"\"}}}],\"carpet\":[{\"aaxis\":{\"endlinecolor\":\"#2a3f5f\",\"gridcolor\":\"white\",\"linecolor\":\"white\",\"minorgridcolor\":\"white\",\"startlinecolor\":\"#2a3f5f\"},\"baxis\":{\"endlinecolor\":\"#2a3f5f\",\"gridcolor\":\"white\",\"linecolor\":\"white\",\"minorgridcolor\":\"white\",\"startlinecolor\":\"#2a3f5f\"},\"type\":\"carpet\"}],\"table\":[{\"cells\":{\"fill\":{\"color\":\"#EBF0F8\"},\"line\":{\"color\":\"white\"}},\"header\":{\"fill\":{\"color\":\"#C8D4E3\"},\"line\":{\"color\":\"white\"}},\"type\":\"table\"}],\"barpolar\":[{\"marker\":{\"line\":{\"color\":\"#E5ECF6\",\"width\":0.5},\"pattern\":{\"fillmode\":\"overlay\",\"size\":10,\"solidity\":0.2}},\"type\":\"barpolar\"}],\"pie\":[{\"automargin\":true,\"type\":\"pie\"}]},\"layout\":{\"autotypenumbers\":\"strict\",\"colorway\":[\"#636efa\",\"#EF553B\",\"#00cc96\",\"#ab63fa\",\"#FFA15A\",\"#19d3f3\",\"#FF6692\",\"#B6E880\",\"#FF97FF\",\"#FECB52\"],\"font\":{\"color\":\"#2a3f5f\"},\"hovermode\":\"closest\",\"hoverlabel\":{\"align\":\"left\"},\"paper_bgcolor\":\"white\",\"plot_bgcolor\":\"#E5ECF6\",\"polar\":{\"bgcolor\":\"#E5ECF6\",\"angularaxis\":{\"gridcolor\":\"white\",\"linecolor\":\"white\",\"ticks\":\"\"},\"radialaxis\":{\"gridcolor\":\"white\",\"linecolor\":\"white\",\"ticks\":\"\"}},\"ternary\":{\"bgcolor\":\"#E5ECF6\",\"aaxis\":{\"gridcolor\":\"white\",\"linecolor\":\"white\",\"ticks\":\"\"},\"baxis\":{\"gridcolor\":\"white\",\"linecolor\":\"white\",\"ticks\":\"\"},\"caxis\":{\"gridcolor\":\"white\",\"linecolor\":\"white\",\"ticks\":\"\"}},\"coloraxis\":{\"colorbar\":{\"outlinewidth\":0,\"ticks\":\"\"}},\"colorscale\":{\"sequential\":[[0.0,\"#0d0887\"],[0.1111111111111111,\"#46039f\"],[0.2222222222222222,\"#7201a8\"],[0.3333333333333333,\"#9c179e\"],[0.4444444444444444,\"#bd3786\"],[0.5555555555555556,\"#d8576b\"],[0.6666666666666666,\"#ed7953\"],[0.7777777777777778,\"#fb9f3a\"],[0.8888888888888888,\"#fdca26\"],[1.0,\"#f0f921\"]],\"sequentialminus\":[[0.0,\"#0d0887\"],[0.1111111111111111,\"#46039f\"],[0.2222222222222222,\"#7201a8\"],[0.3333333333333333,\"#9c179e\"],[0.4444444444444444,\"#bd3786\"],[0.5555555555555556,\"#d8576b\"],[0.6666666666666666,\"#ed7953\"],[0.7777777777777778,\"#fb9f3a\"],[0.8888888888888888,\"#fdca26\"],[1.0,\"#f0f921\"]],\"diverging\":[[0,\"#8e0152\"],[0.1,\"#c51b7d\"],[0.2,\"#de77ae\"],[0.3,\"#f1b6da\"],[0.4,\"#fde0ef\"],[0.5,\"#f7f7f7\"],[0.6,\"#e6f5d0\"],[0.7,\"#b8e186\"],[0.8,\"#7fbc41\"],[0.9,\"#4d9221\"],[1,\"#276419\"]]},\"xaxis\":{\"gridcolor\":\"white\",\"linecolor\":\"white\",\"ticks\":\"\",\"title\":{\"standoff\":15},\"zerolinecolor\":\"white\",\"automargin\":true,\"zerolinewidth\":2},\"yaxis\":{\"gridcolor\":\"white\",\"linecolor\":\"white\",\"ticks\":\"\",\"title\":{\"standoff\":15},\"zerolinecolor\":\"white\",\"automargin\":true,\"zerolinewidth\":2},\"scene\":{\"xaxis\":{\"backgroundcolor\":\"#E5ECF6\",\"gridcolor\":\"white\",\"linecolor\":\"white\",\"showbackground\":true,\"ticks\":\"\",\"zerolinecolor\":\"white\",\"gridwidth\":2},\"yaxis\":{\"backgroundcolor\":\"#E5ECF6\",\"gridcolor\":\"white\",\"linecolor\":\"white\",\"showbackground\":true,\"ticks\":\"\",\"zerolinecolor\":\"white\",\"gridwidth\":2},\"zaxis\":{\"backgroundcolor\":\"#E5ECF6\",\"gridcolor\":\"white\",\"linecolor\":\"white\",\"showbackground\":true,\"ticks\":\"\",\"zerolinecolor\":\"white\",\"gridwidth\":2}},\"shapedefaults\":{\"line\":{\"color\":\"#2a3f5f\"}},\"annotationdefaults\":{\"arrowcolor\":\"#2a3f5f\",\"arrowhead\":0,\"arrowwidth\":1},\"geo\":{\"bgcolor\":\"white\",\"landcolor\":\"#E5ECF6\",\"subunitcolor\":\"white\",\"showland\":true,\"showlakes\":true,\"lakecolor\":\"white\"},\"title\":{\"x\":0.05},\"mapbox\":{\"style\":\"light\"}}},\"xaxis\":{\"anchor\":\"y\",\"domain\":[0.0,1.0],\"title\":{\"text\":\"Partner_working\"}},\"yaxis\":{\"anchor\":\"x\",\"domain\":[0.0,1.0],\"title\":{\"text\":\"Price\"}},\"legend\":{\"title\":{\"text\":\"Make\"},\"tracegroupgap\":0},\"margin\":{\"t\":60},\"boxmode\":\"group\"},                        {\"responsive\": true}                    ).then(function(){\n",
              "                            \n",
              "var gd = document.getElementById('cc29a095-58a6-4c24-ae0b-a835ffc18731');\n",
              "var x = new MutationObserver(function (mutations, observer) {{\n",
              "        var display = window.getComputedStyle(gd).display;\n",
              "        if (!display || display === 'none') {{\n",
              "            console.log([gd, 'removed!']);\n",
              "            Plotly.purge(gd);\n",
              "            observer.disconnect();\n",
              "        }}\n",
              "}});\n",
              "\n",
              "// Listen for the removal of the full notebook cells\n",
              "var notebookContainer = gd.closest('#notebook-container');\n",
              "if (notebookContainer) {{\n",
              "    x.observe(notebookContainer, {childList: true});\n",
              "}}\n",
              "\n",
              "// Listen for the clearing of the current output cell\n",
              "var outputEl = gd.closest('.output');\n",
              "if (outputEl) {{\n",
              "    x.observe(outputEl, {childList: true});\n",
              "}}\n",
              "\n",
              "                        })                };                            </script>        </div>\n",
              "</body>\n",
              "</html>"
            ]
          },
          "metadata": {}
        },
        {
          "output_type": "display_data",
          "data": {
            "text/html": [
              "<html>\n",
              "<head><meta charset=\"utf-8\" /></head>\n",
              "<body>\n",
              "    <div>            <script src=\"https://cdnjs.cloudflare.com/ajax/libs/mathjax/2.7.5/MathJax.js?config=TeX-AMS-MML_SVG\"></script><script type=\"text/javascript\">if (window.MathJax && window.MathJax.Hub && window.MathJax.Hub.Config) {window.MathJax.Hub.Config({SVG: {font: \"STIX-Web\"}});}</script>                <script type=\"text/javascript\">window.PlotlyConfig = {MathJaxConfig: 'local'};</script>\n",
              "        <script charset=\"utf-8\" src=\"https://cdn.plot.ly/plotly-2.24.1.min.js\"></script>                <div id=\"e78a77e6-28ac-480c-89a8-4361cc792eb2\" class=\"plotly-graph-div\" style=\"height:525px; width:100%;\"></div>            <script type=\"text/javascript\">                                    window.PLOTLYENV=window.PLOTLYENV || {};                                    if (document.getElementById(\"e78a77e6-28ac-480c-89a8-4361cc792eb2\")) {                    Plotly.newPlot(                        \"e78a77e6-28ac-480c-89a8-4361cc792eb2\",                        [{\"alignmentgroup\":\"True\",\"hovertemplate\":\"Make=SUV\\u003cbr\\u003eMarital_status=%{x}\\u003cbr\\u003ePrice=%{y}\\u003cextra\\u003e\\u003c\\u002fextra\\u003e\",\"legendgroup\":\"SUV\",\"marker\":{\"color\":\"#636efa\"},\"name\":\"SUV\",\"notched\":false,\"offsetgroup\":\"SUV\",\"orientation\":\"v\",\"showlegend\":true,\"x\":[\"Married\",\"Married\",\"Married\",\"Married\",\"Married\",\"Married\",\"Married\",\"Married\",\"Married\",\"Married\",\"Married\",\"Married\",\"Married\",\"Married\",\"Married\",\"Single\",\"Married\",\"Married\",\"Married\",\"Married\",\"Married\",\"Married\",\"Married\",\"Married\",\"Married\",\"Married\",\"Married\",\"Single\",\"Married\",\"Married\",\"Married\",\"Married\",\"Married\",\"Married\",\"Married\",\"Single\",\"Married\",\"Married\",\"Married\",\"Married\",\"Married\",\"Married\",\"Married\",\"Married\",\"Married\",\"Married\",\"Married\",\"Married\",\"Married\",\"Married\",\"Married\",\"Married\",\"Married\",\"Married\",\"Married\",\"Married\",\"Married\",\"Married\",\"Married\",\"Married\",\"Married\",\"Married\",\"Married\",\"Married\",\"Married\",\"Married\",\"Married\",\"Married\",\"Married\",\"Married\",\"Married\",\"Married\",\"Married\",\"Married\",\"Married\",\"Married\",\"Married\",\"Married\",\"Married\",\"Married\",\"Single\",\"Married\",\"Married\",\"Married\",\"Married\",\"Married\",\"Married\",\"Married\",\"Married\",\"Married\",\"Married\",\"Married\",\"Married\",\"Single\",\"Married\",\"Married\",\"Married\",\"Married\",\"Married\",\"Married\",\"Married\",\"Married\",\"Married\",\"Married\",\"Married\",\"Married\",\"Married\",\"Married\",\"Married\",\"Married\",\"Single\",\"Married\",\"Married\",\"Married\",\"Married\",\"Married\",\"Married\",\"Married\",\"Married\",\"Married\",\"Married\",\"Married\",\"Married\",\"Married\",\"Married\",\"Single\",\"Married\",\"Married\",\"Single\",\"Married\",\"Married\",\"Married\",\"Married\",\"Married\",\"Married\",\"Married\",\"Married\",\"Married\",\"Single\",\"Married\",\"Married\",\"Married\",\"Married\",\"Married\",\"Married\",\"Married\",\"Married\",\"Married\",\"Married\",\"Married\",\"Married\",\"Married\",\"Married\",\"Married\",\"Married\",\"Married\",\"Married\",\"Married\",\"Married\",\"Married\",\"Married\",\"Married\",\"Single\",\"Married\",\"Single\",\"Married\",\"Married\",\"Married\",\"Single\",\"Married\",\"Married\",\"Married\",\"Married\",\"Married\",\"Married\",\"Married\",\"Married\",\"Married\",\"Married\",\"Married\",\"Married\",\"Married\",\"Married\",\"Married\",\"Married\",\"Married\",\"Married\",\"Married\",\"Single\",\"Married\",\"Married\",\"Married\",\"Married\",\"Married\",\"Married\",\"Married\",\"Married\",\"Married\",\"Single\",\"Married\",\"Married\",\"Married\",\"Married\",\"Married\",\"Married\",\"Married\",\"Married\",\"Married\",\"Married\",\"Married\",\"Married\",\"Married\",\"Married\",\"Married\",\"Married\",\"Married\",\"Married\",\"Married\",\"Married\",\"Married\",\"Married\",\"Married\",\"Married\",\"Married\",\"Married\",\"Married\",\"Married\",\"Married\",\"Married\",\"Married\",\"Married\",\"Married\",\"Married\",\"Married\",\"Married\",\"Married\",\"Married\",\"Married\",\"Married\",\"Married\",\"Married\",\"Married\",\"Married\",\"Married\",\"Married\",\"Married\",\"Married\",\"Married\",\"Married\",\"Married\",\"Married\",\"Married\",\"Married\",\"Married\",\"Single\",\"Married\",\"Married\",\"Married\",\"Married\",\"Single\",\"Married\",\"Married\",\"Married\",\"Married\",\"Married\",\"Married\",\"Married\",\"Married\",\"Married\",\"Married\",\"Married\",\"Married\",\"Married\",\"Married\",\"Married\",\"Married\",\"Married\",\"Married\",\"Married\",\"Married\",\"Married\",\"Married\",\"Married\",\"Married\",\"Married\",\"Married\",\"Married\",\"Married\",\"Married\",\"Married\",\"Married\",\"Married\",\"Married\",\"Married\",\"Married\",\"Married\",\"Married\"],\"x0\":\" \",\"xaxis\":\"x\",\"y\":[61000,61000,57000,61000,57000,57000,51000,68000,61000,57000,67000,63000,62000,50000,66000,52000,60000,64000,58000,54000,53000,62000,55000,59000,50000,50000,68000,60000,56000,61000,67000,66000,56000,61000,52000,59000,61000,54000,64000,53000,60000,66000,55000,51000,50000,59000,61000,62000,63000,69000,57000,52000,50000,57000,50000,68000,69000,57000,54000,51000,54000,64000,58000,59000,53000,55000,62000,49000,55000,66000,56000,61000,58000,60000,62000,68000,60000,51000,55000,53000,62000,64000,54000,52000,57000,58000,53000,55000,55000,60000,51000,57000,67000,51000,51000,63000,66000,64000,66000,56000,53000,61000,70000,67000,69000,53000,64000,68000,65000,58000,67000,62000,53000,59000,65000,59000,69000,58000,52000,68000,69000,62000,61000,63000,57000,49000,58000,69000,50000,51000,56000,58000,66000,51000,52000,50000,58000,57000,49000,50000,49000,57000,64000,37000,61000,37000,52000,40000,62000,52000,36000,51000,65000,61000,59000,67000,59000,41000,49000,60000,51000,53000,68000,57000,50000,45000,49000,65000,54000,64000,45000,58000,69000,39000,57000,62000,69000,50000,65000,39000,32000,32000,45000,31000,36000,61000,59000,45000,63000,57000,49000,59000,61000,61000,67000,51000,64000,45000,66000,36000,57000,61000,65000,57000,49000,32000,63000,64000,62000,51000,64000,68000,63000,60000,49000,39000,55000,58000,51000,49000,37000,68000,45000,67000,36000,65000,55000,57000,63000,64000,57000,39000,57000,56000,55000,45000,60000,63000,51000,39000,63000,36000,48000,66000,50000,69000,68000,58000,51000,56000,65000,69000,61000,57000,55000,49000,52000,36000,58000,66000,64000,54000,70000,62000,63000,66000,66000,68000,63000,59000,31000,40000,51000,69000,57000,58000,45000,45000,51000,50000,51000,39000,40000,49000,45000,32000,51000,48000,31000,51000,49000,36000,52000,32000,51000,31000,31000],\"y0\":\" \",\"yaxis\":\"y\",\"type\":\"box\"},{\"alignmentgroup\":\"True\",\"hovertemplate\":\"Make=Sedan\\u003cbr\\u003eMarital_status=%{x}\\u003cbr\\u003ePrice=%{y}\\u003cextra\\u003e\\u003c\\u002fextra\\u003e\",\"legendgroup\":\"Sedan\",\"marker\":{\"color\":\"#EF553B\"},\"name\":\"Sedan\",\"notched\":false,\"offsetgroup\":\"Sedan\",\"orientation\":\"v\",\"showlegend\":true,\"x\":[\"Married\",\"Married\",\"Married\",\"Married\",\"Married\",\"Married\",\"Married\",\"Married\",\"Married\",\"Married\",\"Single\",\"Married\",\"Married\",\"Single\",\"Married\",\"Married\",\"Married\",\"Married\",\"Married\",\"Married\",\"Married\",\"Married\",\"Married\",\"Married\",\"Married\",\"Married\",\"Married\",\"Married\",\"Single\",\"Married\",\"Married\",\"Single\",\"Married\",\"Married\",\"Married\",\"Single\",\"Single\",\"Single\",\"Married\",\"Married\",\"Married\",\"Married\",\"Married\",\"Married\",\"Married\",\"Married\",\"Married\",\"Married\",\"Married\",\"Married\",\"Married\",\"Married\",\"Married\",\"Married\",\"Married\",\"Married\",\"Single\",\"Married\",\"Single\",\"Single\",\"Married\",\"Married\",\"Married\",\"Married\",\"Single\",\"Married\",\"Married\",\"Married\",\"Married\",\"Married\",\"Married\",\"Married\",\"Married\",\"Married\",\"Married\",\"Married\",\"Single\",\"Married\",\"Single\",\"Single\",\"Single\",\"Single\",\"Married\",\"Married\",\"Married\",\"Married\",\"Married\",\"Married\",\"Married\",\"Married\",\"Married\",\"Married\",\"Married\",\"Married\",\"Single\",\"Married\",\"Married\",\"Married\",\"Married\",\"Married\",\"Married\",\"Married\",\"Single\",\"Married\",\"Married\",\"Married\",\"Married\",\"Married\",\"Married\",\"Married\",\"Married\",\"Married\",\"Married\",\"Married\",\"Married\",\"Married\",\"Married\",\"Married\",\"Married\",\"Married\",\"Married\",\"Married\",\"Married\",\"Married\",\"Married\",\"Married\",\"Married\",\"Married\",\"Married\",\"Married\",\"Married\",\"Married\",\"Married\",\"Married\",\"Married\",\"Married\",\"Married\",\"Single\",\"Married\",\"Single\",\"Married\",\"Married\",\"Married\",\"Married\",\"Married\",\"Married\",\"Married\",\"Married\",\"Married\",\"Married\",\"Married\",\"Married\",\"Married\",\"Married\",\"Married\",\"Married\",\"Married\",\"Married\",\"Married\",\"Married\",\"Single\",\"Married\",\"Married\",\"Married\",\"Married\",\"Married\",\"Married\",\"Married\",\"Single\",\"Married\",\"Married\",\"Married\",\"Married\",\"Married\",\"Married\",\"Married\",\"Married\",\"Married\",\"Married\",\"Married\",\"Married\",\"Married\",\"Married\",\"Married\",\"Married\",\"Married\",\"Married\",\"Married\",\"Single\",\"Married\",\"Married\",\"Married\",\"Married\",\"Married\",\"Married\",\"Married\",\"Married\",\"Married\",\"Married\",\"Married\",\"Married\",\"Married\",\"Married\",\"Single\",\"Married\",\"Single\",\"Single\",\"Married\",\"Married\",\"Married\",\"Married\",\"Married\",\"Married\",\"Married\",\"Married\",\"Married\",\"Married\",\"Married\",\"Married\",\"Married\",\"Married\",\"Married\",\"Married\",\"Married\",\"Married\",\"Married\",\"Married\",\"Married\",\"Married\",\"Married\",\"Married\",\"Married\",\"Married\",\"Married\",\"Married\",\"Married\",\"Married\",\"Married\",\"Married\",\"Married\",\"Married\",\"Married\",\"Married\",\"Married\",\"Married\",\"Married\",\"Married\",\"Married\",\"Married\",\"Married\",\"Single\",\"Married\",\"Married\",\"Married\",\"Married\",\"Married\",\"Married\",\"Married\",\"Married\",\"Married\",\"Married\",\"Married\",\"Married\",\"Married\",\"Married\",\"Married\",\"Married\",\"Married\",\"Married\",\"Married\",\"Married\",\"Married\",\"Married\",\"Married\",\"Single\",\"Married\",\"Married\",\"Married\",\"Married\",\"Married\",\"Married\",\"Married\",\"Married\",\"Single\",\"Married\",\"Married\",\"Married\",\"Married\",\"Married\",\"Married\",\"Married\",\"Married\",\"Married\",\"Married\",\"Married\",\"Married\",\"Married\",\"Married\",\"Married\",\"Married\",\"Married\",\"Married\",\"Married\",\"Married\",\"Married\",\"Married\",\"Single\",\"Married\",\"Married\",\"Single\",\"Married\",\"Married\",\"Married\",\"Married\",\"Married\",\"Married\",\"Married\",\"Married\",\"Married\",\"Married\",\"Married\",\"Married\",\"Married\",\"Married\",\"Married\",\"Married\",\"Married\",\"Married\",\"Married\",\"Married\",\"Married\",\"Married\",\"Married\",\"Married\",\"Married\",\"Married\",\"Married\",\"Married\",\"Married\",\"Married\",\"Married\",\"Married\",\"Married\",\"Married\",\"Married\",\"Married\",\"Married\",\"Married\",\"Married\",\"Married\",\"Married\",\"Married\",\"Married\",\"Married\",\"Married\",\"Married\",\"Married\",\"Married\",\"Married\",\"Married\",\"Married\",\"Married\",\"Married\",\"Married\",\"Married\",\"Married\",\"Married\",\"Married\",\"Married\",\"Married\",\"Married\",\"Married\",\"Married\",\"Married\",\"Married\",\"Married\",\"Married\",\"Married\",\"Married\",\"Single\",\"Married\",\"Married\",\"Married\",\"Married\",\"Married\",\"Married\",\"Married\",\"Married\",\"Married\",\"Married\",\"Married\",\"Married\",\"Married\",\"Married\",\"Married\",\"Married\",\"Married\",\"Married\",\"Married\",\"Married\",\"Married\",\"Married\",\"Married\",\"Married\",\"Married\",\"Married\",\"Married\",\"Married\",\"Married\",\"Married\",\"Married\",\"Married\",\"Married\",\"Married\",\"Married\",\"Married\",\"Married\",\"Married\",\"Married\",\"Married\",\"Married\",\"Married\",\"Married\",\"Married\",\"Married\",\"Married\",\"Married\",\"Married\",\"Married\",\"Married\",\"Married\",\"Married\",\"Married\",\"Married\",\"Married\",\"Married\",\"Married\",\"Married\",\"Married\",\"Single\",\"Married\",\"Married\",\"Married\",\"Married\",\"Single\",\"Married\",\"Married\",\"Married\",\"Married\",\"Married\",\"Married\",\"Married\",\"Single\",\"Married\",\"Married\",\"Married\",\"Married\",\"Married\",\"Married\",\"Married\",\"Married\",\"Married\",\"Married\",\"Married\",\"Married\",\"Married\",\"Married\",\"Married\",\"Married\",\"Married\",\"Married\",\"Married\",\"Married\",\"Married\",\"Married\",\"Married\",\"Married\",\"Married\",\"Married\",\"Married\",\"Married\",\"Married\",\"Married\",\"Married\",\"Married\",\"Married\",\"Married\",\"Married\",\"Married\",\"Married\",\"Married\",\"Married\",\"Married\",\"Married\",\"Married\",\"Married\",\"Married\",\"Married\",\"Married\",\"Married\",\"Married\",\"Single\",\"Married\",\"Married\",\"Single\",\"Single\",\"Married\",\"Married\",\"Married\",\"Married\",\"Married\",\"Married\",\"Married\",\"Married\",\"Married\",\"Married\",\"Married\",\"Married\",\"Married\",\"Married\",\"Married\",\"Married\",\"Married\",\"Married\",\"Married\",\"Married\",\"Married\",\"Married\",\"Married\",\"Married\",\"Married\",\"Married\",\"Married\",\"Married\",\"Married\",\"Married\",\"Married\",\"Married\",\"Married\",\"Married\",\"Married\",\"Married\",\"Married\",\"Married\",\"Married\",\"Married\",\"Married\",\"Married\",\"Married\",\"Married\",\"Married\",\"Married\",\"Married\",\"Married\",\"Married\",\"Married\",\"Married\",\"Married\",\"Married\",\"Married\",\"Married\",\"Married\",\"Married\",\"Married\",\"Married\",\"Married\",\"Married\",\"Married\",\"Married\",\"Married\",\"Married\",\"Married\",\"Married\",\"Married\",\"Married\",\"Married\",\"Married\",\"Married\",\"Married\",\"Married\",\"Married\",\"Married\",\"Married\",\"Married\",\"Married\",\"Married\",\"Married\",\"Married\",\"Married\",\"Married\",\"Married\",\"Married\",\"Married\",\"Married\",\"Married\",\"Married\",\"Married\",\"Married\",\"Married\",\"Married\",\"Married\",\"Married\",\"Married\",\"Married\",\"Married\",\"Married\",\"Married\",\"Married\",\"Married\",\"Married\",\"Married\",\"Married\",\"Married\",\"Married\",\"Married\",\"Married\",\"Married\",\"Married\",\"Married\",\"Married\",\"Married\",\"Married\",\"Married\",\"Married\",\"Married\",\"Married\",\"Married\",\"Married\",\"Married\",\"Married\",\"Married\",\"Married\",\"Married\",\"Married\",\"Married\",\"Married\",\"Married\",\"Married\",\"Married\",\"Married\",\"Married\",\"Married\",\"Married\",\"Married\",\"Married\",\"Married\",\"Married\",\"Married\",\"Married\",\"Married\",\"Married\",\"Married\",\"Married\",\"Married\",\"Married\",\"Married\",\"Married\",\"Married\",\"Married\",\"Married\",\"Married\",\"Married\",\"Married\",\"Married\",\"Married\",\"Married\",\"Married\",\"Married\",\"Married\",\"Married\",\"Married\",\"Married\",\"Married\",\"Married\",\"Married\",\"Married\",\"Married\",\"Married\",\"Married\",\"Married\",\"Married\",\"Married\",\"Married\",\"Married\",\"Married\",\"Married\",\"Married\",\"Married\",\"Married\",\"Married\",\"Married\",\"Married\",\"Married\",\"Married\",\"Married\",\"Married\",\"Married\",\"Married\",\"Married\",\"Married\",\"Married\",\"Married\"],\"x0\":\" \",\"xaxis\":\"x\",\"y\":[43000,53000,47000,52000,35000,42000,33000,43000,34000,50000,40000,42000,54000,36000,54000,41000,37000,41000,41000,50000,48000,44000,44000,43000,50000,49000,35000,41000,31000,54000,53000,44000,32000,33000,39000,31000,52000,33000,42000,51000,35000,39000,42000,52000,46000,50000,31000,39000,46000,51000,54000,53000,32000,32000,55000,32000,47000,47000,46000,47000,32000,42000,35000,48000,33000,34000,43000,50000,37000,33000,38000,53000,43000,39000,49000,38000,49000,36000,36000,35000,33000,41000,46000,47000,45000,52000,43000,54000,45000,33000,38000,52000,54000,38000,32000,44000,44000,42000,52000,39000,53000,32000,49000,32000,39000,43000,40000,41000,53000,41000,36000,33000,50000,48000,42000,31000,44000,50000,34000,40000,33000,50000,54000,35000,49000,46000,32000,34000,36000,54000,51000,46000,54000,34000,47000,39000,34000,54000,38000,55000,55000,52000,38000,47000,35000,46000,46000,45000,43000,52000,48000,50000,34000,39000,43000,54000,33000,33000,34000,42000,45000,32000,31000,46000,47000,39000,52000,47000,42000,38000,37000,49000,43000,48000,44000,49000,36000,36000,33000,50000,55000,46000,47000,43000,47000,49000,33000,47000,55000,33000,40000,55000,50000,48000,50000,47000,36000,53000,36000,48000,39000,35000,42000,47000,54000,51000,32000,44000,44000,53000,48000,50000,34000,37000,33000,34000,55000,45000,43000,51000,34000,31000,50000,43000,33000,33000,44000,48000,34000,47000,37000,33000,36000,50000,51000,52000,41000,35000,48000,53000,46000,43000,43000,39000,38000,43000,48000,54000,44000,35000,32000,34000,35000,32000,54000,43000,40000,33000,41000,42000,51000,37000,37000,43000,45000,37000,52000,41000,50000,47000,40000,37000,43000,48000,46000,32000,45000,52000,50000,49000,45000,35000,44000,32000,39000,41000,33000,49000,42000,38000,31000,44000,39000,46000,43000,50000,33000,31000,53000,37000,35000,52000,47000,50000,36000,45000,43000,44000,40000,34000,37000,48000,53000,52000,51000,53000,48000,41000,32000,51000,36000,36000,49000,48000,45000,55000,46000,35000,39000,35000,49000,31000,37000,37000,53000,31000,28000,34000,42000,41000,39000,53000,21000,47000,24000,23000,28000,48000,38000,23000,24000,33000,19000,55000,21000,18000,48000,39000,26000,20000,37000,26000,51000,53000,29000,41000,26000,19000,23000,28000,24000,21000,21000,18000,28000,20000,31000,27000,23000,53000,49000,18000,36000,34000,31000,43000,27000,31000,31000,24000,23000,50000,33000,19000,37000,54000,34000,29000,23000,37000,24000,31000,53000,19000,19000,46000,50000,42000,28000,47000,48000,32000,28000,23000,22000,27000,27000,26000,18000,46000,20000,21000,20000,18000,23000,26000,20000,19000,20000,20000,26000,21000,20000,40000,39000,35000,50000,31000,43000,43000,38000,34000,18000,45000,40000,24000,24000,26000,48000,51000,32000,44000,31000,23000,24000,29000,42000,39000,27000,39000,52000,27000,24000,21000,21000,28000,24000,23000,26000,24000,31000,31000,18000,23000,19000,18000,52000,20000,21000,20000,35000,21000,21000,21000,19000,20000,21000,19000,21000,19000,18000,18000,34000,29000,31000,24000,51000,18000,30000,38000,23000,41000,36000,28000,35000,43000,23000,39000,52000,27000,18000,31000,23000,27000,18000,19000,18000,18000,31000,18000,31000,21000,20000,19000,31000,28000,27000,24000,31000,23000,18000,23000,21000,20000,27000,28000,31000,26000,27000,21000,31000,28000,21000,18000,18000,27000,23000,18000,28000,24000,27000,27000,27000,26000,29000,26000,21000,28000,19000,26000,23000,27000,21000,26000,19000,27000,18000,31000,26000,31000,18000,23000,19000,18000,21000,27000,27000,26000,23000,19000,26000,31000,20000,31000,31000,21000,20000,24000,26000,27000,24000,27000,29000,23000,26000,23000,21000,21000,31000,19000,29000,27000,20000,27000,23000,24000,18000,21000,23000,19000,18000,18000,31000,31000,23000,18000,27000,31000,27000,23000,26000,23000,31000,26000,29000,19000,20000,21000,18000,21000,19000,29000,21000,23000,20000,29000,21000,19000,30000,18000,26000,28000,21000,23000,23000,29000,31000,23000,21000,24000,26000,23000,20000,21000,27000,23000,21000,29000,27000,27000,31000,27000,19000,27000,23000,24000,18000,29000,23000,27000,21000,23000,18000,19000,18000,20000,27000,19000,27000,31000,27000,26000,23000,23000,26000,27000,21000,18000,24000,29000,23000,29000,27000,21000,21000,29000,19000,18000,18000,22000,23000,20000],\"y0\":\" \",\"yaxis\":\"y\",\"type\":\"box\"},{\"alignmentgroup\":\"True\",\"hovertemplate\":\"Make=Hatchback\\u003cbr\\u003eMarital_status=%{x}\\u003cbr\\u003ePrice=%{y}\\u003cextra\\u003e\\u003c\\u002fextra\\u003e\",\"legendgroup\":\"Hatchback\",\"marker\":{\"color\":\"#00cc96\"},\"name\":\"Hatchback\",\"notched\":false,\"offsetgroup\":\"Hatchback\",\"orientation\":\"v\",\"showlegend\":true,\"x\":[\"Married\",\"Married\",\"Married\",\"Married\",\"Married\",\"Married\",\"Married\",\"Married\",\"Married\",\"Married\",\"Married\",\"Married\",\"Married\",\"Married\",\"Married\",\"Married\",\"Married\",\"Married\",\"Married\",\"Married\",\"Married\",\"Single\",\"Married\",\"Married\",\"Single\",\"Married\",\"Married\",\"Married\",\"Married\",\"Married\",\"Married\",\"Married\",\"Single\",\"Married\",\"Married\",\"Married\",\"Married\",\"Married\",\"Single\",\"Married\",\"Single\",\"Married\",\"Married\",\"Single\",\"Married\",\"Married\",\"Single\",\"Married\",\"Married\",\"Single\",\"Married\",\"Married\",\"Married\",\"Married\",\"Married\",\"Married\",\"Married\",\"Married\",\"Married\",\"Married\",\"Married\",\"Married\",\"Married\",\"Married\",\"Married\",\"Married\",\"Married\",\"Married\",\"Married\",\"Married\",\"Married\",\"Married\",\"Married\",\"Married\",\"Married\",\"Married\",\"Married\",\"Married\",\"Single\",\"Married\",\"Single\",\"Married\",\"Married\",\"Married\",\"Single\",\"Married\",\"Married\",\"Single\",\"Married\",\"Single\",\"Married\",\"Married\",\"Married\",\"Married\",\"Married\",\"Single\",\"Single\",\"Single\",\"Married\",\"Married\",\"Married\",\"Married\",\"Married\",\"Married\",\"Married\",\"Married\",\"Married\",\"Married\",\"Married\",\"Married\",\"Married\",\"Married\",\"Married\",\"Married\",\"Married\",\"Married\",\"Married\",\"Married\",\"Married\",\"Married\",\"Married\",\"Married\",\"Married\",\"Married\",\"Married\",\"Married\",\"Married\",\"Married\",\"Married\",\"Married\",\"Married\",\"Married\",\"Married\",\"Married\",\"Married\",\"Married\",\"Single\",\"Married\",\"Married\",\"Married\",\"Married\",\"Married\",\"Married\",\"Married\",\"Married\",\"Married\",\"Married\",\"Single\",\"Married\",\"Married\",\"Married\",\"Married\",\"Married\",\"Married\",\"Married\",\"Married\",\"Married\",\"Married\",\"Married\",\"Married\",\"Married\",\"Single\",\"Married\",\"Married\",\"Married\",\"Married\",\"Married\",\"Married\",\"Married\",\"Married\",\"Married\",\"Married\",\"Married\",\"Married\",\"Married\",\"Married\",\"Married\",\"Married\",\"Married\",\"Married\",\"Married\",\"Married\",\"Married\",\"Married\",\"Married\",\"Married\",\"Married\",\"Married\",\"Married\",\"Married\",\"Married\",\"Married\",\"Married\",\"Single\",\"Married\",\"Married\",\"Single\",\"Married\",\"Married\",\"Married\",\"Married\",\"Single\",\"Married\",\"Married\",\"Married\",\"Married\",\"Married\",\"Married\",\"Married\",\"Married\",\"Single\",\"Single\",\"Married\",\"Married\",\"Single\",\"Married\",\"Single\",\"Single\",\"Married\",\"Married\",\"Married\",\"Married\",\"Married\",\"Married\",\"Married\",\"Married\",\"Married\",\"Single\",\"Married\",\"Married\",\"Married\",\"Married\",\"Married\",\"Married\",\"Married\",\"Married\",\"Married\",\"Married\",\"Married\",\"Married\",\"Married\",\"Married\",\"Married\",\"Married\",\"Married\",\"Married\",\"Married\",\"Married\",\"Married\",\"Married\",\"Married\",\"Married\",\"Married\",\"Married\",\"Married\",\"Married\",\"Married\",\"Married\",\"Single\",\"Married\",\"Married\",\"Single\",\"Married\",\"Married\",\"Single\",\"Married\",\"Single\",\"Single\",\"Married\",\"Married\",\"Single\",\"Married\",\"Married\",\"Married\",\"Married\",\"Single\",\"Single\",\"Married\",\"Married\",\"Married\",\"Single\",\"Married\",\"Married\",\"Married\",\"Married\",\"Married\",\"Married\",\"Married\",\"Married\",\"Single\",\"Married\",\"Single\",\"Married\",\"Married\",\"Married\",\"Married\",\"Married\",\"Married\",\"Married\",\"Married\",\"Married\",\"Married\",\"Married\",\"Married\",\"Married\",\"Married\",\"Married\",\"Married\",\"Married\",\"Married\",\"Married\",\"Married\",\"Married\",\"Married\",\"Married\",\"Married\",\"Married\",\"Married\",\"Married\",\"Married\",\"Married\",\"Married\",\"Married\",\"Married\",\"Married\",\"Married\",\"Married\",\"Single\",\"Married\",\"Married\",\"Married\",\"Married\",\"Single\",\"Married\",\"Single\",\"Married\",\"Married\",\"Single\",\"Married\",\"Married\",\"Married\",\"Married\",\"Married\",\"Married\",\"Single\",\"Married\",\"Married\",\"Single\",\"Married\",\"Married\",\"Married\",\"Single\",\"Married\",\"Married\",\"Married\",\"Married\",\"Married\",\"Married\",\"Married\",\"Single\",\"Married\",\"Married\",\"Married\",\"Married\",\"Married\",\"Married\",\"Married\",\"Married\",\"Single\",\"Single\",\"Single\",\"Single\",\"Married\",\"Married\",\"Married\",\"Married\",\"Married\",\"Married\",\"Married\",\"Married\",\"Married\",\"Married\",\"Married\",\"Married\",\"Married\",\"Married\",\"Married\",\"Married\",\"Married\",\"Married\",\"Married\",\"Married\",\"Married\",\"Married\",\"Married\",\"Married\",\"Married\",\"Married\",\"Married\",\"Married\",\"Married\",\"Married\",\"Married\",\"Married\",\"Married\",\"Married\",\"Married\",\"Married\",\"Single\",\"Married\",\"Married\",\"Married\",\"Married\",\"Married\",\"Married\",\"Married\",\"Married\",\"Married\",\"Married\",\"Married\",\"Single\",\"Single\",\"Married\",\"Married\",\"Married\",\"Married\",\"Married\",\"Married\",\"Single\",\"Single\",\"Married\",\"Married\",\"Single\",\"Single\",\"Single\",\"Married\",\"Married\",\"Married\",\"Married\",\"Single\",\"Married\",\"Married\",\"Married\",\"Single\",\"Married\",\"Married\",\"Married\",\"Married\",\"Married\",\"Married\",\"Married\",\"Married\",\"Married\",\"Married\",\"Married\",\"Married\",\"Married\",\"Married\",\"Married\",\"Married\",\"Married\",\"Married\",\"Married\",\"Married\",\"Married\",\"Married\",\"Married\",\"Married\",\"Married\",\"Married\",\"Married\",\"Married\",\"Married\",\"Married\",\"Married\",\"Married\",\"Married\",\"Married\",\"Married\",\"Single\",\"Married\",\"Married\",\"Married\",\"Married\",\"Married\",\"Married\",\"Single\",\"Married\",\"Married\",\"Married\",\"Married\",\"Married\",\"Single\",\"Married\",\"Married\",\"Single\",\"Married\",\"Married\",\"Single\",\"Married\",\"Married\",\"Married\",\"Married\",\"Single\",\"Single\",\"Married\",\"Single\",\"Single\",\"Married\",\"Single\",\"Married\",\"Married\",\"Married\",\"Single\",\"Married\",\"Married\",\"Married\",\"Married\",\"Married\",\"Married\",\"Married\",\"Married\",\"Married\",\"Married\",\"Married\",\"Married\",\"Married\",\"Married\",\"Married\",\"Married\",\"Married\",\"Married\",\"Married\",\"Married\",\"Married\",\"Married\",\"Married\",\"Married\",\"Married\",\"Married\",\"Married\",\"Married\",\"Married\",\"Married\",\"Married\",\"Married\",\"Married\",\"Married\",\"Married\",\"Married\",\"Married\",\"Single\",\"Married\",\"Married\",\"Married\",\"Single\",\"Single\",\"Married\",\"Married\",\"Single\",\"Married\",\"Single\",\"Married\",\"Single\",\"Married\",\"Married\",\"Single\",\"Married\",\"Married\",\"Married\",\"Single\",\"Married\",\"Single\",\"Married\",\"Single\",\"Married\",\"Married\",\"Single\",\"Married\",\"Single\",\"Married\",\"Married\"],\"x0\":\" \",\"xaxis\":\"x\",\"y\":[30000,31000,25000,22000,25000,33000,29000,23000,33000,20000,24000,24000,32000,32000,30000,28000,30000,29000,20000,25000,23000,32000,30000,29000,31000,33000,29000,22000,20000,25000,30000,28000,28000,32000,30000,20000,32000,20000,22000,32000,30000,25000,20000,30000,29000,32000,23000,26000,30000,26000,33000,31000,32000,20000,25000,28000,32000,32000,22000,22000,28000,25000,29000,30000,22000,22000,33000,22000,28000,29000,29000,28000,32000,32000,22000,20000,33000,20000,32000,30000,32000,20000,29000,28000,23000,20000,33000,24000,23000,20000,33000,32000,32000,32000,22000,20000,28000,22000,31000,26000,29000,25000,30000,32000,20000,33000,32000,29000,32000,28000,25000,33000,27000,32000,29000,30000,28000,33000,32000,26000,20000,31000,26000,32000,24000,19000,27000,33000,26000,24000,20000,32000,30000,22000,30000,25000,20000,29000,29000,22000,33000,32000,28000,25000,23000,28000,31000,22000,31000,30000,22000,24000,30000,20000,26000,24000,31000,20000,25000,19000,24000,27000,24000,26000,32000,28000,23000,30000,29000,22000,30000,28000,22000,32000,26000,28000,19000,30000,19000,24000,22000,30000,24000,20000,19000,24000,32000,28000,24000,32000,26000,30000,28000,23000,22000,22000,27000,23000,20000,31000,33000,30000,30000,30000,28000,25000,30000,22000,32000,23000,28000,25000,23000,23000,23000,19000,26000,24000,33000,32000,23000,26000,29000,30000,32000,25000,22000,28000,24000,28000,31000,25000,23000,23000,32000,31000,22000,32000,27000,33000,33000,28000,22000,22000,29000,27000,27000,20000,29000,20000,26000,31000,31000,20000,29000,25000,22000,29000,24000,30000,22000,21000,30000,24000,31000,30000,20000,19000,19000,27000,23000,30000,23000,20000,25000,23000,20000,32000,24000,22000,28000,23000,22000,25000,29000,28000,30000,23000,28000,30000,25000,24000,25000,33000,20000,20000,32000,29000,25000,24000,30000,31000,31000,25000,24000,22000,25000,24000,20000,28000,30000,26000,20000,30000,28000,30000,20000,33000,31000,28000,26000,32000,33000,33000,30000,23000,20000,19000,32000,26000,19000,29000,27000,20000,19000,32000,32000,31000,28000,25000,20000,20000,20000,19000,30000,24000,30000,27000,20000,30000,26000,24000,22000,20000,25000,20000,29000,25000,32000,25000,20000,32000,24000,20000,30000,28000,26000,28000,26000,31000,27000,25000,25000,26000,32000,32000,28000,22000,19000,30000,26000,28000,25000,32000,31000,32000,22000,20000,30000,29000,23000,32000,19000,24000,29000,20000,31000,22000,33000,32000,28000,29000,30000,29000,20000,32000,31000,23000,31000,30000,20000,20000,23000,33000,25000,25000,24000,28000,27000,25000,20000,24000,19000,28000,33000,31000,26000,22000,25000,22000,33000,24000,22000,20000,18000,32000,28000,22000,28000,25000,22000,28000,22000,18000,25000,32000,28000,29000,27000,24000,28000,22000,32000,24000,30000,24000,33000,23000,20000,32000,24000,26000,20000,32000,25000,22000,24000,20000,29000,20000,32000,32000,22000,33000,31000,30000,26000,24000,23000,33000,32000,30000,19000,30000,30000,26000,24000,28000,28000,24000,31000,29000,26000,29000,25000,25000,26000,22000,31000,25000,23000,20000,33000,33000,28000,28000,26000,22000,22000,25000,32000,22000,30000,29000,31000,30000,30000,25000,28000,31000,30000,32000,28000,19000,28000,28000,20000,22000,24000,32000,29000,28000,24000,33000,23000,30000,24000,23000,22000,32000,30000,19000,28000,20000,22000,32000,22000,25000,25000,31000,32000,20000,25000,20000,32000,23000,29000,22000,29000,27000,26000,26000,25000,30000,28000,32000,23000,19000,24000,24000,23000,22000,21000,33000,24000,23000,19000,27000,31000,30000,24000,31000],\"y0\":\" \",\"yaxis\":\"y\",\"type\":\"box\"}],                        {\"template\":{\"data\":{\"histogram2dcontour\":[{\"type\":\"histogram2dcontour\",\"colorbar\":{\"outlinewidth\":0,\"ticks\":\"\"},\"colorscale\":[[0.0,\"#0d0887\"],[0.1111111111111111,\"#46039f\"],[0.2222222222222222,\"#7201a8\"],[0.3333333333333333,\"#9c179e\"],[0.4444444444444444,\"#bd3786\"],[0.5555555555555556,\"#d8576b\"],[0.6666666666666666,\"#ed7953\"],[0.7777777777777778,\"#fb9f3a\"],[0.8888888888888888,\"#fdca26\"],[1.0,\"#f0f921\"]]}],\"choropleth\":[{\"type\":\"choropleth\",\"colorbar\":{\"outlinewidth\":0,\"ticks\":\"\"}}],\"histogram2d\":[{\"type\":\"histogram2d\",\"colorbar\":{\"outlinewidth\":0,\"ticks\":\"\"},\"colorscale\":[[0.0,\"#0d0887\"],[0.1111111111111111,\"#46039f\"],[0.2222222222222222,\"#7201a8\"],[0.3333333333333333,\"#9c179e\"],[0.4444444444444444,\"#bd3786\"],[0.5555555555555556,\"#d8576b\"],[0.6666666666666666,\"#ed7953\"],[0.7777777777777778,\"#fb9f3a\"],[0.8888888888888888,\"#fdca26\"],[1.0,\"#f0f921\"]]}],\"heatmap\":[{\"type\":\"heatmap\",\"colorbar\":{\"outlinewidth\":0,\"ticks\":\"\"},\"colorscale\":[[0.0,\"#0d0887\"],[0.1111111111111111,\"#46039f\"],[0.2222222222222222,\"#7201a8\"],[0.3333333333333333,\"#9c179e\"],[0.4444444444444444,\"#bd3786\"],[0.5555555555555556,\"#d8576b\"],[0.6666666666666666,\"#ed7953\"],[0.7777777777777778,\"#fb9f3a\"],[0.8888888888888888,\"#fdca26\"],[1.0,\"#f0f921\"]]}],\"heatmapgl\":[{\"type\":\"heatmapgl\",\"colorbar\":{\"outlinewidth\":0,\"ticks\":\"\"},\"colorscale\":[[0.0,\"#0d0887\"],[0.1111111111111111,\"#46039f\"],[0.2222222222222222,\"#7201a8\"],[0.3333333333333333,\"#9c179e\"],[0.4444444444444444,\"#bd3786\"],[0.5555555555555556,\"#d8576b\"],[0.6666666666666666,\"#ed7953\"],[0.7777777777777778,\"#fb9f3a\"],[0.8888888888888888,\"#fdca26\"],[1.0,\"#f0f921\"]]}],\"contourcarpet\":[{\"type\":\"contourcarpet\",\"colorbar\":{\"outlinewidth\":0,\"ticks\":\"\"}}],\"contour\":[{\"type\":\"contour\",\"colorbar\":{\"outlinewidth\":0,\"ticks\":\"\"},\"colorscale\":[[0.0,\"#0d0887\"],[0.1111111111111111,\"#46039f\"],[0.2222222222222222,\"#7201a8\"],[0.3333333333333333,\"#9c179e\"],[0.4444444444444444,\"#bd3786\"],[0.5555555555555556,\"#d8576b\"],[0.6666666666666666,\"#ed7953\"],[0.7777777777777778,\"#fb9f3a\"],[0.8888888888888888,\"#fdca26\"],[1.0,\"#f0f921\"]]}],\"surface\":[{\"type\":\"surface\",\"colorbar\":{\"outlinewidth\":0,\"ticks\":\"\"},\"colorscale\":[[0.0,\"#0d0887\"],[0.1111111111111111,\"#46039f\"],[0.2222222222222222,\"#7201a8\"],[0.3333333333333333,\"#9c179e\"],[0.4444444444444444,\"#bd3786\"],[0.5555555555555556,\"#d8576b\"],[0.6666666666666666,\"#ed7953\"],[0.7777777777777778,\"#fb9f3a\"],[0.8888888888888888,\"#fdca26\"],[1.0,\"#f0f921\"]]}],\"mesh3d\":[{\"type\":\"mesh3d\",\"colorbar\":{\"outlinewidth\":0,\"ticks\":\"\"}}],\"scatter\":[{\"fillpattern\":{\"fillmode\":\"overlay\",\"size\":10,\"solidity\":0.2},\"type\":\"scatter\"}],\"parcoords\":[{\"type\":\"parcoords\",\"line\":{\"colorbar\":{\"outlinewidth\":0,\"ticks\":\"\"}}}],\"scatterpolargl\":[{\"type\":\"scatterpolargl\",\"marker\":{\"colorbar\":{\"outlinewidth\":0,\"ticks\":\"\"}}}],\"bar\":[{\"error_x\":{\"color\":\"#2a3f5f\"},\"error_y\":{\"color\":\"#2a3f5f\"},\"marker\":{\"line\":{\"color\":\"#E5ECF6\",\"width\":0.5},\"pattern\":{\"fillmode\":\"overlay\",\"size\":10,\"solidity\":0.2}},\"type\":\"bar\"}],\"scattergeo\":[{\"type\":\"scattergeo\",\"marker\":{\"colorbar\":{\"outlinewidth\":0,\"ticks\":\"\"}}}],\"scatterpolar\":[{\"type\":\"scatterpolar\",\"marker\":{\"colorbar\":{\"outlinewidth\":0,\"ticks\":\"\"}}}],\"histogram\":[{\"marker\":{\"pattern\":{\"fillmode\":\"overlay\",\"size\":10,\"solidity\":0.2}},\"type\":\"histogram\"}],\"scattergl\":[{\"type\":\"scattergl\",\"marker\":{\"colorbar\":{\"outlinewidth\":0,\"ticks\":\"\"}}}],\"scatter3d\":[{\"type\":\"scatter3d\",\"line\":{\"colorbar\":{\"outlinewidth\":0,\"ticks\":\"\"}},\"marker\":{\"colorbar\":{\"outlinewidth\":0,\"ticks\":\"\"}}}],\"scattermapbox\":[{\"type\":\"scattermapbox\",\"marker\":{\"colorbar\":{\"outlinewidth\":0,\"ticks\":\"\"}}}],\"scatterternary\":[{\"type\":\"scatterternary\",\"marker\":{\"colorbar\":{\"outlinewidth\":0,\"ticks\":\"\"}}}],\"scattercarpet\":[{\"type\":\"scattercarpet\",\"marker\":{\"colorbar\":{\"outlinewidth\":0,\"ticks\":\"\"}}}],\"carpet\":[{\"aaxis\":{\"endlinecolor\":\"#2a3f5f\",\"gridcolor\":\"white\",\"linecolor\":\"white\",\"minorgridcolor\":\"white\",\"startlinecolor\":\"#2a3f5f\"},\"baxis\":{\"endlinecolor\":\"#2a3f5f\",\"gridcolor\":\"white\",\"linecolor\":\"white\",\"minorgridcolor\":\"white\",\"startlinecolor\":\"#2a3f5f\"},\"type\":\"carpet\"}],\"table\":[{\"cells\":{\"fill\":{\"color\":\"#EBF0F8\"},\"line\":{\"color\":\"white\"}},\"header\":{\"fill\":{\"color\":\"#C8D4E3\"},\"line\":{\"color\":\"white\"}},\"type\":\"table\"}],\"barpolar\":[{\"marker\":{\"line\":{\"color\":\"#E5ECF6\",\"width\":0.5},\"pattern\":{\"fillmode\":\"overlay\",\"size\":10,\"solidity\":0.2}},\"type\":\"barpolar\"}],\"pie\":[{\"automargin\":true,\"type\":\"pie\"}]},\"layout\":{\"autotypenumbers\":\"strict\",\"colorway\":[\"#636efa\",\"#EF553B\",\"#00cc96\",\"#ab63fa\",\"#FFA15A\",\"#19d3f3\",\"#FF6692\",\"#B6E880\",\"#FF97FF\",\"#FECB52\"],\"font\":{\"color\":\"#2a3f5f\"},\"hovermode\":\"closest\",\"hoverlabel\":{\"align\":\"left\"},\"paper_bgcolor\":\"white\",\"plot_bgcolor\":\"#E5ECF6\",\"polar\":{\"bgcolor\":\"#E5ECF6\",\"angularaxis\":{\"gridcolor\":\"white\",\"linecolor\":\"white\",\"ticks\":\"\"},\"radialaxis\":{\"gridcolor\":\"white\",\"linecolor\":\"white\",\"ticks\":\"\"}},\"ternary\":{\"bgcolor\":\"#E5ECF6\",\"aaxis\":{\"gridcolor\":\"white\",\"linecolor\":\"white\",\"ticks\":\"\"},\"baxis\":{\"gridcolor\":\"white\",\"linecolor\":\"white\",\"ticks\":\"\"},\"caxis\":{\"gridcolor\":\"white\",\"linecolor\":\"white\",\"ticks\":\"\"}},\"coloraxis\":{\"colorbar\":{\"outlinewidth\":0,\"ticks\":\"\"}},\"colorscale\":{\"sequential\":[[0.0,\"#0d0887\"],[0.1111111111111111,\"#46039f\"],[0.2222222222222222,\"#7201a8\"],[0.3333333333333333,\"#9c179e\"],[0.4444444444444444,\"#bd3786\"],[0.5555555555555556,\"#d8576b\"],[0.6666666666666666,\"#ed7953\"],[0.7777777777777778,\"#fb9f3a\"],[0.8888888888888888,\"#fdca26\"],[1.0,\"#f0f921\"]],\"sequentialminus\":[[0.0,\"#0d0887\"],[0.1111111111111111,\"#46039f\"],[0.2222222222222222,\"#7201a8\"],[0.3333333333333333,\"#9c179e\"],[0.4444444444444444,\"#bd3786\"],[0.5555555555555556,\"#d8576b\"],[0.6666666666666666,\"#ed7953\"],[0.7777777777777778,\"#fb9f3a\"],[0.8888888888888888,\"#fdca26\"],[1.0,\"#f0f921\"]],\"diverging\":[[0,\"#8e0152\"],[0.1,\"#c51b7d\"],[0.2,\"#de77ae\"],[0.3,\"#f1b6da\"],[0.4,\"#fde0ef\"],[0.5,\"#f7f7f7\"],[0.6,\"#e6f5d0\"],[0.7,\"#b8e186\"],[0.8,\"#7fbc41\"],[0.9,\"#4d9221\"],[1,\"#276419\"]]},\"xaxis\":{\"gridcolor\":\"white\",\"linecolor\":\"white\",\"ticks\":\"\",\"title\":{\"standoff\":15},\"zerolinecolor\":\"white\",\"automargin\":true,\"zerolinewidth\":2},\"yaxis\":{\"gridcolor\":\"white\",\"linecolor\":\"white\",\"ticks\":\"\",\"title\":{\"standoff\":15},\"zerolinecolor\":\"white\",\"automargin\":true,\"zerolinewidth\":2},\"scene\":{\"xaxis\":{\"backgroundcolor\":\"#E5ECF6\",\"gridcolor\":\"white\",\"linecolor\":\"white\",\"showbackground\":true,\"ticks\":\"\",\"zerolinecolor\":\"white\",\"gridwidth\":2},\"yaxis\":{\"backgroundcolor\":\"#E5ECF6\",\"gridcolor\":\"white\",\"linecolor\":\"white\",\"showbackground\":true,\"ticks\":\"\",\"zerolinecolor\":\"white\",\"gridwidth\":2},\"zaxis\":{\"backgroundcolor\":\"#E5ECF6\",\"gridcolor\":\"white\",\"linecolor\":\"white\",\"showbackground\":true,\"ticks\":\"\",\"zerolinecolor\":\"white\",\"gridwidth\":2}},\"shapedefaults\":{\"line\":{\"color\":\"#2a3f5f\"}},\"annotationdefaults\":{\"arrowcolor\":\"#2a3f5f\",\"arrowhead\":0,\"arrowwidth\":1},\"geo\":{\"bgcolor\":\"white\",\"landcolor\":\"#E5ECF6\",\"subunitcolor\":\"white\",\"showland\":true,\"showlakes\":true,\"lakecolor\":\"white\"},\"title\":{\"x\":0.05},\"mapbox\":{\"style\":\"light\"}}},\"xaxis\":{\"anchor\":\"y\",\"domain\":[0.0,1.0],\"title\":{\"text\":\"Marital_status\"}},\"yaxis\":{\"anchor\":\"x\",\"domain\":[0.0,1.0],\"title\":{\"text\":\"Price\"}},\"legend\":{\"title\":{\"text\":\"Make\"},\"tracegroupgap\":0},\"margin\":{\"t\":60},\"boxmode\":\"group\"},                        {\"responsive\": true}                    ).then(function(){\n",
              "                            \n",
              "var gd = document.getElementById('e78a77e6-28ac-480c-89a8-4361cc792eb2');\n",
              "var x = new MutationObserver(function (mutations, observer) {{\n",
              "        var display = window.getComputedStyle(gd).display;\n",
              "        if (!display || display === 'none') {{\n",
              "            console.log([gd, 'removed!']);\n",
              "            Plotly.purge(gd);\n",
              "            observer.disconnect();\n",
              "        }}\n",
              "}});\n",
              "\n",
              "// Listen for the removal of the full notebook cells\n",
              "var notebookContainer = gd.closest('#notebook-container');\n",
              "if (notebookContainer) {{\n",
              "    x.observe(notebookContainer, {childList: true});\n",
              "}}\n",
              "\n",
              "// Listen for the clearing of the current output cell\n",
              "var outputEl = gd.closest('.output');\n",
              "if (outputEl) {{\n",
              "    x.observe(outputEl, {childList: true});\n",
              "}}\n",
              "\n",
              "                        })                };                            </script>        </div>\n",
              "</body>\n",
              "</html>"
            ]
          },
          "metadata": {}
        },
        {
          "output_type": "display_data",
          "data": {
            "text/html": [
              "<html>\n",
              "<head><meta charset=\"utf-8\" /></head>\n",
              "<body>\n",
              "    <div>            <script src=\"https://cdnjs.cloudflare.com/ajax/libs/mathjax/2.7.5/MathJax.js?config=TeX-AMS-MML_SVG\"></script><script type=\"text/javascript\">if (window.MathJax && window.MathJax.Hub && window.MathJax.Hub.Config) {window.MathJax.Hub.Config({SVG: {font: \"STIX-Web\"}});}</script>                <script type=\"text/javascript\">window.PlotlyConfig = {MathJaxConfig: 'local'};</script>\n",
              "        <script charset=\"utf-8\" src=\"https://cdn.plot.ly/plotly-2.24.1.min.js\"></script>                <div id=\"76ebbe4a-6f8f-4db3-9ac1-52301d9ebdbf\" class=\"plotly-graph-div\" style=\"height:525px; width:100%;\"></div>            <script type=\"text/javascript\">                                    window.PLOTLYENV=window.PLOTLYENV || {};                                    if (document.getElementById(\"76ebbe4a-6f8f-4db3-9ac1-52301d9ebdbf\")) {                    Plotly.newPlot(                        \"76ebbe4a-6f8f-4db3-9ac1-52301d9ebdbf\",                        [{\"alignmentgroup\":\"True\",\"hovertemplate\":\"Make=%{x}\\u003cbr\\u003ePrice=%{y}\\u003cextra\\u003e\\u003c\\u002fextra\\u003e\",\"legendgroup\":\"SUV\",\"marker\":{\"color\":\"#636efa\"},\"name\":\"SUV\",\"notched\":false,\"offsetgroup\":\"SUV\",\"orientation\":\"v\",\"showlegend\":true,\"x\":[\"SUV\",\"SUV\",\"SUV\",\"SUV\",\"SUV\",\"SUV\",\"SUV\",\"SUV\",\"SUV\",\"SUV\",\"SUV\",\"SUV\",\"SUV\",\"SUV\",\"SUV\",\"SUV\",\"SUV\",\"SUV\",\"SUV\",\"SUV\",\"SUV\",\"SUV\",\"SUV\",\"SUV\",\"SUV\",\"SUV\",\"SUV\",\"SUV\",\"SUV\",\"SUV\",\"SUV\",\"SUV\",\"SUV\",\"SUV\",\"SUV\",\"SUV\",\"SUV\",\"SUV\",\"SUV\",\"SUV\",\"SUV\",\"SUV\",\"SUV\",\"SUV\",\"SUV\",\"SUV\",\"SUV\",\"SUV\",\"SUV\",\"SUV\",\"SUV\",\"SUV\",\"SUV\",\"SUV\",\"SUV\",\"SUV\",\"SUV\",\"SUV\",\"SUV\",\"SUV\",\"SUV\",\"SUV\",\"SUV\",\"SUV\",\"SUV\",\"SUV\",\"SUV\",\"SUV\",\"SUV\",\"SUV\",\"SUV\",\"SUV\",\"SUV\",\"SUV\",\"SUV\",\"SUV\",\"SUV\",\"SUV\",\"SUV\",\"SUV\",\"SUV\",\"SUV\",\"SUV\",\"SUV\",\"SUV\",\"SUV\",\"SUV\",\"SUV\",\"SUV\",\"SUV\",\"SUV\",\"SUV\",\"SUV\",\"SUV\",\"SUV\",\"SUV\",\"SUV\",\"SUV\",\"SUV\",\"SUV\",\"SUV\",\"SUV\",\"SUV\",\"SUV\",\"SUV\",\"SUV\",\"SUV\",\"SUV\",\"SUV\",\"SUV\",\"SUV\",\"SUV\",\"SUV\",\"SUV\",\"SUV\",\"SUV\",\"SUV\",\"SUV\",\"SUV\",\"SUV\",\"SUV\",\"SUV\",\"SUV\",\"SUV\",\"SUV\",\"SUV\",\"SUV\",\"SUV\",\"SUV\",\"SUV\",\"SUV\",\"SUV\",\"SUV\",\"SUV\",\"SUV\",\"SUV\",\"SUV\",\"SUV\",\"SUV\",\"SUV\",\"SUV\",\"SUV\",\"SUV\",\"SUV\",\"SUV\",\"SUV\",\"SUV\",\"SUV\",\"SUV\",\"SUV\",\"SUV\",\"SUV\",\"SUV\",\"SUV\",\"SUV\",\"SUV\",\"SUV\",\"SUV\",\"SUV\",\"SUV\",\"SUV\",\"SUV\",\"SUV\",\"SUV\",\"SUV\",\"SUV\",\"SUV\",\"SUV\",\"SUV\",\"SUV\",\"SUV\",\"SUV\",\"SUV\",\"SUV\",\"SUV\",\"SUV\",\"SUV\",\"SUV\",\"SUV\",\"SUV\",\"SUV\",\"SUV\",\"SUV\",\"SUV\",\"SUV\",\"SUV\",\"SUV\",\"SUV\",\"SUV\",\"SUV\",\"SUV\",\"SUV\",\"SUV\",\"SUV\",\"SUV\",\"SUV\",\"SUV\",\"SUV\",\"SUV\",\"SUV\",\"SUV\",\"SUV\",\"SUV\",\"SUV\",\"SUV\",\"SUV\",\"SUV\",\"SUV\",\"SUV\",\"SUV\",\"SUV\",\"SUV\",\"SUV\",\"SUV\",\"SUV\",\"SUV\",\"SUV\",\"SUV\",\"SUV\",\"SUV\",\"SUV\",\"SUV\",\"SUV\",\"SUV\",\"SUV\",\"SUV\",\"SUV\",\"SUV\",\"SUV\",\"SUV\",\"SUV\",\"SUV\",\"SUV\",\"SUV\",\"SUV\",\"SUV\",\"SUV\",\"SUV\",\"SUV\",\"SUV\",\"SUV\",\"SUV\",\"SUV\",\"SUV\",\"SUV\",\"SUV\",\"SUV\",\"SUV\",\"SUV\",\"SUV\",\"SUV\",\"SUV\",\"SUV\",\"SUV\",\"SUV\",\"SUV\",\"SUV\",\"SUV\",\"SUV\",\"SUV\",\"SUV\",\"SUV\",\"SUV\",\"SUV\",\"SUV\",\"SUV\",\"SUV\",\"SUV\",\"SUV\",\"SUV\",\"SUV\",\"SUV\",\"SUV\",\"SUV\",\"SUV\",\"SUV\",\"SUV\",\"SUV\",\"SUV\",\"SUV\",\"SUV\",\"SUV\",\"SUV\",\"SUV\",\"SUV\",\"SUV\",\"SUV\",\"SUV\",\"SUV\",\"SUV\",\"SUV\",\"SUV\",\"SUV\",\"SUV\",\"SUV\",\"SUV\",\"SUV\"],\"x0\":\" \",\"xaxis\":\"x\",\"y\":[61000,61000,57000,61000,57000,57000,51000,68000,61000,57000,67000,63000,62000,50000,66000,52000,60000,64000,58000,54000,53000,62000,55000,59000,50000,50000,68000,60000,56000,61000,67000,66000,56000,61000,52000,59000,61000,54000,64000,53000,60000,66000,55000,51000,50000,59000,61000,62000,63000,69000,57000,52000,50000,57000,50000,68000,69000,57000,54000,51000,54000,64000,58000,59000,53000,55000,62000,49000,55000,66000,56000,61000,58000,60000,62000,68000,60000,51000,55000,53000,62000,64000,54000,52000,57000,58000,53000,55000,55000,60000,51000,57000,67000,51000,51000,63000,66000,64000,66000,56000,53000,61000,70000,67000,69000,53000,64000,68000,65000,58000,67000,62000,53000,59000,65000,59000,69000,58000,52000,68000,69000,62000,61000,63000,57000,49000,58000,69000,50000,51000,56000,58000,66000,51000,52000,50000,58000,57000,49000,50000,49000,57000,64000,37000,61000,37000,52000,40000,62000,52000,36000,51000,65000,61000,59000,67000,59000,41000,49000,60000,51000,53000,68000,57000,50000,45000,49000,65000,54000,64000,45000,58000,69000,39000,57000,62000,69000,50000,65000,39000,32000,32000,45000,31000,36000,61000,59000,45000,63000,57000,49000,59000,61000,61000,67000,51000,64000,45000,66000,36000,57000,61000,65000,57000,49000,32000,63000,64000,62000,51000,64000,68000,63000,60000,49000,39000,55000,58000,51000,49000,37000,68000,45000,67000,36000,65000,55000,57000,63000,64000,57000,39000,57000,56000,55000,45000,60000,63000,51000,39000,63000,36000,48000,66000,50000,69000,68000,58000,51000,56000,65000,69000,61000,57000,55000,49000,52000,36000,58000,66000,64000,54000,70000,62000,63000,66000,66000,68000,63000,59000,31000,40000,51000,69000,57000,58000,45000,45000,51000,50000,51000,39000,40000,49000,45000,32000,51000,48000,31000,51000,49000,36000,52000,32000,51000,31000,31000],\"y0\":\" \",\"yaxis\":\"y\",\"type\":\"box\"},{\"alignmentgroup\":\"True\",\"hovertemplate\":\"Make=%{x}\\u003cbr\\u003ePrice=%{y}\\u003cextra\\u003e\\u003c\\u002fextra\\u003e\",\"legendgroup\":\"Sedan\",\"marker\":{\"color\":\"#EF553B\"},\"name\":\"Sedan\",\"notched\":false,\"offsetgroup\":\"Sedan\",\"orientation\":\"v\",\"showlegend\":true,\"x\":[\"Sedan\",\"Sedan\",\"Sedan\",\"Sedan\",\"Sedan\",\"Sedan\",\"Sedan\",\"Sedan\",\"Sedan\",\"Sedan\",\"Sedan\",\"Sedan\",\"Sedan\",\"Sedan\",\"Sedan\",\"Sedan\",\"Sedan\",\"Sedan\",\"Sedan\",\"Sedan\",\"Sedan\",\"Sedan\",\"Sedan\",\"Sedan\",\"Sedan\",\"Sedan\",\"Sedan\",\"Sedan\",\"Sedan\",\"Sedan\",\"Sedan\",\"Sedan\",\"Sedan\",\"Sedan\",\"Sedan\",\"Sedan\",\"Sedan\",\"Sedan\",\"Sedan\",\"Sedan\",\"Sedan\",\"Sedan\",\"Sedan\",\"Sedan\",\"Sedan\",\"Sedan\",\"Sedan\",\"Sedan\",\"Sedan\",\"Sedan\",\"Sedan\",\"Sedan\",\"Sedan\",\"Sedan\",\"Sedan\",\"Sedan\",\"Sedan\",\"Sedan\",\"Sedan\",\"Sedan\",\"Sedan\",\"Sedan\",\"Sedan\",\"Sedan\",\"Sedan\",\"Sedan\",\"Sedan\",\"Sedan\",\"Sedan\",\"Sedan\",\"Sedan\",\"Sedan\",\"Sedan\",\"Sedan\",\"Sedan\",\"Sedan\",\"Sedan\",\"Sedan\",\"Sedan\",\"Sedan\",\"Sedan\",\"Sedan\",\"Sedan\",\"Sedan\",\"Sedan\",\"Sedan\",\"Sedan\",\"Sedan\",\"Sedan\",\"Sedan\",\"Sedan\",\"Sedan\",\"Sedan\",\"Sedan\",\"Sedan\",\"Sedan\",\"Sedan\",\"Sedan\",\"Sedan\",\"Sedan\",\"Sedan\",\"Sedan\",\"Sedan\",\"Sedan\",\"Sedan\",\"Sedan\",\"Sedan\",\"Sedan\",\"Sedan\",\"Sedan\",\"Sedan\",\"Sedan\",\"Sedan\",\"Sedan\",\"Sedan\",\"Sedan\",\"Sedan\",\"Sedan\",\"Sedan\",\"Sedan\",\"Sedan\",\"Sedan\",\"Sedan\",\"Sedan\",\"Sedan\",\"Sedan\",\"Sedan\",\"Sedan\",\"Sedan\",\"Sedan\",\"Sedan\",\"Sedan\",\"Sedan\",\"Sedan\",\"Sedan\",\"Sedan\",\"Sedan\",\"Sedan\",\"Sedan\",\"Sedan\",\"Sedan\",\"Sedan\",\"Sedan\",\"Sedan\",\"Sedan\",\"Sedan\",\"Sedan\",\"Sedan\",\"Sedan\",\"Sedan\",\"Sedan\",\"Sedan\",\"Sedan\",\"Sedan\",\"Sedan\",\"Sedan\",\"Sedan\",\"Sedan\",\"Sedan\",\"Sedan\",\"Sedan\",\"Sedan\",\"Sedan\",\"Sedan\",\"Sedan\",\"Sedan\",\"Sedan\",\"Sedan\",\"Sedan\",\"Sedan\",\"Sedan\",\"Sedan\",\"Sedan\",\"Sedan\",\"Sedan\",\"Sedan\",\"Sedan\",\"Sedan\",\"Sedan\",\"Sedan\",\"Sedan\",\"Sedan\",\"Sedan\",\"Sedan\",\"Sedan\",\"Sedan\",\"Sedan\",\"Sedan\",\"Sedan\",\"Sedan\",\"Sedan\",\"Sedan\",\"Sedan\",\"Sedan\",\"Sedan\",\"Sedan\",\"Sedan\",\"Sedan\",\"Sedan\",\"Sedan\",\"Sedan\",\"Sedan\",\"Sedan\",\"Sedan\",\"Sedan\",\"Sedan\",\"Sedan\",\"Sedan\",\"Sedan\",\"Sedan\",\"Sedan\",\"Sedan\",\"Sedan\",\"Sedan\",\"Sedan\",\"Sedan\",\"Sedan\",\"Sedan\",\"Sedan\",\"Sedan\",\"Sedan\",\"Sedan\",\"Sedan\",\"Sedan\",\"Sedan\",\"Sedan\",\"Sedan\",\"Sedan\",\"Sedan\",\"Sedan\",\"Sedan\",\"Sedan\",\"Sedan\",\"Sedan\",\"Sedan\",\"Sedan\",\"Sedan\",\"Sedan\",\"Sedan\",\"Sedan\",\"Sedan\",\"Sedan\",\"Sedan\",\"Sedan\",\"Sedan\",\"Sedan\",\"Sedan\",\"Sedan\",\"Sedan\",\"Sedan\",\"Sedan\",\"Sedan\",\"Sedan\",\"Sedan\",\"Sedan\",\"Sedan\",\"Sedan\",\"Sedan\",\"Sedan\",\"Sedan\",\"Sedan\",\"Sedan\",\"Sedan\",\"Sedan\",\"Sedan\",\"Sedan\",\"Sedan\",\"Sedan\",\"Sedan\",\"Sedan\",\"Sedan\",\"Sedan\",\"Sedan\",\"Sedan\",\"Sedan\",\"Sedan\",\"Sedan\",\"Sedan\",\"Sedan\",\"Sedan\",\"Sedan\",\"Sedan\",\"Sedan\",\"Sedan\",\"Sedan\",\"Sedan\",\"Sedan\",\"Sedan\",\"Sedan\",\"Sedan\",\"Sedan\",\"Sedan\",\"Sedan\",\"Sedan\",\"Sedan\",\"Sedan\",\"Sedan\",\"Sedan\",\"Sedan\",\"Sedan\",\"Sedan\",\"Sedan\",\"Sedan\",\"Sedan\",\"Sedan\",\"Sedan\",\"Sedan\",\"Sedan\",\"Sedan\",\"Sedan\",\"Sedan\",\"Sedan\",\"Sedan\",\"Sedan\",\"Sedan\",\"Sedan\",\"Sedan\",\"Sedan\",\"Sedan\",\"Sedan\",\"Sedan\",\"Sedan\",\"Sedan\",\"Sedan\",\"Sedan\",\"Sedan\",\"Sedan\",\"Sedan\",\"Sedan\",\"Sedan\",\"Sedan\",\"Sedan\",\"Sedan\",\"Sedan\",\"Sedan\",\"Sedan\",\"Sedan\",\"Sedan\",\"Sedan\",\"Sedan\",\"Sedan\",\"Sedan\",\"Sedan\",\"Sedan\",\"Sedan\",\"Sedan\",\"Sedan\",\"Sedan\",\"Sedan\",\"Sedan\",\"Sedan\",\"Sedan\",\"Sedan\",\"Sedan\",\"Sedan\",\"Sedan\",\"Sedan\",\"Sedan\",\"Sedan\",\"Sedan\",\"Sedan\",\"Sedan\",\"Sedan\",\"Sedan\",\"Sedan\",\"Sedan\",\"Sedan\",\"Sedan\",\"Sedan\",\"Sedan\",\"Sedan\",\"Sedan\",\"Sedan\",\"Sedan\",\"Sedan\",\"Sedan\",\"Sedan\",\"Sedan\",\"Sedan\",\"Sedan\",\"Sedan\",\"Sedan\",\"Sedan\",\"Sedan\",\"Sedan\",\"Sedan\",\"Sedan\",\"Sedan\",\"Sedan\",\"Sedan\",\"Sedan\",\"Sedan\",\"Sedan\",\"Sedan\",\"Sedan\",\"Sedan\",\"Sedan\",\"Sedan\",\"Sedan\",\"Sedan\",\"Sedan\",\"Sedan\",\"Sedan\",\"Sedan\",\"Sedan\",\"Sedan\",\"Sedan\",\"Sedan\",\"Sedan\",\"Sedan\",\"Sedan\",\"Sedan\",\"Sedan\",\"Sedan\",\"Sedan\",\"Sedan\",\"Sedan\",\"Sedan\",\"Sedan\",\"Sedan\",\"Sedan\",\"Sedan\",\"Sedan\",\"Sedan\",\"Sedan\",\"Sedan\",\"Sedan\",\"Sedan\",\"Sedan\",\"Sedan\",\"Sedan\",\"Sedan\",\"Sedan\",\"Sedan\",\"Sedan\",\"Sedan\",\"Sedan\",\"Sedan\",\"Sedan\",\"Sedan\",\"Sedan\",\"Sedan\",\"Sedan\",\"Sedan\",\"Sedan\",\"Sedan\",\"Sedan\",\"Sedan\",\"Sedan\",\"Sedan\",\"Sedan\",\"Sedan\",\"Sedan\",\"Sedan\",\"Sedan\",\"Sedan\",\"Sedan\",\"Sedan\",\"Sedan\",\"Sedan\",\"Sedan\",\"Sedan\",\"Sedan\",\"Sedan\",\"Sedan\",\"Sedan\",\"Sedan\",\"Sedan\",\"Sedan\",\"Sedan\",\"Sedan\",\"Sedan\",\"Sedan\",\"Sedan\",\"Sedan\",\"Sedan\",\"Sedan\",\"Sedan\",\"Sedan\",\"Sedan\",\"Sedan\",\"Sedan\",\"Sedan\",\"Sedan\",\"Sedan\",\"Sedan\",\"Sedan\",\"Sedan\",\"Sedan\",\"Sedan\",\"Sedan\",\"Sedan\",\"Sedan\",\"Sedan\",\"Sedan\",\"Sedan\",\"Sedan\",\"Sedan\",\"Sedan\",\"Sedan\",\"Sedan\",\"Sedan\",\"Sedan\",\"Sedan\",\"Sedan\",\"Sedan\",\"Sedan\",\"Sedan\",\"Sedan\",\"Sedan\",\"Sedan\",\"Sedan\",\"Sedan\",\"Sedan\",\"Sedan\",\"Sedan\",\"Sedan\",\"Sedan\",\"Sedan\",\"Sedan\",\"Sedan\",\"Sedan\",\"Sedan\",\"Sedan\",\"Sedan\",\"Sedan\",\"Sedan\",\"Sedan\",\"Sedan\",\"Sedan\",\"Sedan\",\"Sedan\",\"Sedan\",\"Sedan\",\"Sedan\",\"Sedan\",\"Sedan\",\"Sedan\",\"Sedan\",\"Sedan\",\"Sedan\",\"Sedan\",\"Sedan\",\"Sedan\",\"Sedan\",\"Sedan\",\"Sedan\",\"Sedan\",\"Sedan\",\"Sedan\",\"Sedan\",\"Sedan\",\"Sedan\",\"Sedan\",\"Sedan\",\"Sedan\",\"Sedan\",\"Sedan\",\"Sedan\",\"Sedan\",\"Sedan\",\"Sedan\",\"Sedan\",\"Sedan\",\"Sedan\",\"Sedan\",\"Sedan\",\"Sedan\",\"Sedan\",\"Sedan\",\"Sedan\",\"Sedan\",\"Sedan\",\"Sedan\",\"Sedan\",\"Sedan\",\"Sedan\",\"Sedan\",\"Sedan\",\"Sedan\",\"Sedan\",\"Sedan\",\"Sedan\",\"Sedan\",\"Sedan\",\"Sedan\",\"Sedan\",\"Sedan\",\"Sedan\",\"Sedan\",\"Sedan\",\"Sedan\",\"Sedan\",\"Sedan\",\"Sedan\",\"Sedan\",\"Sedan\",\"Sedan\",\"Sedan\",\"Sedan\",\"Sedan\",\"Sedan\",\"Sedan\",\"Sedan\",\"Sedan\",\"Sedan\",\"Sedan\",\"Sedan\",\"Sedan\",\"Sedan\",\"Sedan\",\"Sedan\",\"Sedan\",\"Sedan\",\"Sedan\",\"Sedan\",\"Sedan\",\"Sedan\",\"Sedan\",\"Sedan\",\"Sedan\",\"Sedan\",\"Sedan\",\"Sedan\",\"Sedan\",\"Sedan\",\"Sedan\",\"Sedan\",\"Sedan\",\"Sedan\",\"Sedan\",\"Sedan\",\"Sedan\",\"Sedan\",\"Sedan\",\"Sedan\",\"Sedan\",\"Sedan\",\"Sedan\",\"Sedan\",\"Sedan\",\"Sedan\",\"Sedan\",\"Sedan\",\"Sedan\",\"Sedan\",\"Sedan\",\"Sedan\",\"Sedan\",\"Sedan\",\"Sedan\",\"Sedan\",\"Sedan\",\"Sedan\",\"Sedan\",\"Sedan\",\"Sedan\",\"Sedan\",\"Sedan\",\"Sedan\",\"Sedan\",\"Sedan\",\"Sedan\",\"Sedan\",\"Sedan\",\"Sedan\",\"Sedan\",\"Sedan\",\"Sedan\",\"Sedan\",\"Sedan\",\"Sedan\",\"Sedan\",\"Sedan\",\"Sedan\",\"Sedan\",\"Sedan\",\"Sedan\",\"Sedan\",\"Sedan\",\"Sedan\",\"Sedan\",\"Sedan\",\"Sedan\",\"Sedan\",\"Sedan\",\"Sedan\",\"Sedan\",\"Sedan\",\"Sedan\",\"Sedan\",\"Sedan\",\"Sedan\",\"Sedan\",\"Sedan\",\"Sedan\",\"Sedan\",\"Sedan\",\"Sedan\",\"Sedan\",\"Sedan\",\"Sedan\"],\"x0\":\" \",\"xaxis\":\"x\",\"y\":[43000,53000,47000,52000,35000,42000,33000,43000,34000,50000,40000,42000,54000,36000,54000,41000,37000,41000,41000,50000,48000,44000,44000,43000,50000,49000,35000,41000,31000,54000,53000,44000,32000,33000,39000,31000,52000,33000,42000,51000,35000,39000,42000,52000,46000,50000,31000,39000,46000,51000,54000,53000,32000,32000,55000,32000,47000,47000,46000,47000,32000,42000,35000,48000,33000,34000,43000,50000,37000,33000,38000,53000,43000,39000,49000,38000,49000,36000,36000,35000,33000,41000,46000,47000,45000,52000,43000,54000,45000,33000,38000,52000,54000,38000,32000,44000,44000,42000,52000,39000,53000,32000,49000,32000,39000,43000,40000,41000,53000,41000,36000,33000,50000,48000,42000,31000,44000,50000,34000,40000,33000,50000,54000,35000,49000,46000,32000,34000,36000,54000,51000,46000,54000,34000,47000,39000,34000,54000,38000,55000,55000,52000,38000,47000,35000,46000,46000,45000,43000,52000,48000,50000,34000,39000,43000,54000,33000,33000,34000,42000,45000,32000,31000,46000,47000,39000,52000,47000,42000,38000,37000,49000,43000,48000,44000,49000,36000,36000,33000,50000,55000,46000,47000,43000,47000,49000,33000,47000,55000,33000,40000,55000,50000,48000,50000,47000,36000,53000,36000,48000,39000,35000,42000,47000,54000,51000,32000,44000,44000,53000,48000,50000,34000,37000,33000,34000,55000,45000,43000,51000,34000,31000,50000,43000,33000,33000,44000,48000,34000,47000,37000,33000,36000,50000,51000,52000,41000,35000,48000,53000,46000,43000,43000,39000,38000,43000,48000,54000,44000,35000,32000,34000,35000,32000,54000,43000,40000,33000,41000,42000,51000,37000,37000,43000,45000,37000,52000,41000,50000,47000,40000,37000,43000,48000,46000,32000,45000,52000,50000,49000,45000,35000,44000,32000,39000,41000,33000,49000,42000,38000,31000,44000,39000,46000,43000,50000,33000,31000,53000,37000,35000,52000,47000,50000,36000,45000,43000,44000,40000,34000,37000,48000,53000,52000,51000,53000,48000,41000,32000,51000,36000,36000,49000,48000,45000,55000,46000,35000,39000,35000,49000,31000,37000,37000,53000,31000,28000,34000,42000,41000,39000,53000,21000,47000,24000,23000,28000,48000,38000,23000,24000,33000,19000,55000,21000,18000,48000,39000,26000,20000,37000,26000,51000,53000,29000,41000,26000,19000,23000,28000,24000,21000,21000,18000,28000,20000,31000,27000,23000,53000,49000,18000,36000,34000,31000,43000,27000,31000,31000,24000,23000,50000,33000,19000,37000,54000,34000,29000,23000,37000,24000,31000,53000,19000,19000,46000,50000,42000,28000,47000,48000,32000,28000,23000,22000,27000,27000,26000,18000,46000,20000,21000,20000,18000,23000,26000,20000,19000,20000,20000,26000,21000,20000,40000,39000,35000,50000,31000,43000,43000,38000,34000,18000,45000,40000,24000,24000,26000,48000,51000,32000,44000,31000,23000,24000,29000,42000,39000,27000,39000,52000,27000,24000,21000,21000,28000,24000,23000,26000,24000,31000,31000,18000,23000,19000,18000,52000,20000,21000,20000,35000,21000,21000,21000,19000,20000,21000,19000,21000,19000,18000,18000,34000,29000,31000,24000,51000,18000,30000,38000,23000,41000,36000,28000,35000,43000,23000,39000,52000,27000,18000,31000,23000,27000,18000,19000,18000,18000,31000,18000,31000,21000,20000,19000,31000,28000,27000,24000,31000,23000,18000,23000,21000,20000,27000,28000,31000,26000,27000,21000,31000,28000,21000,18000,18000,27000,23000,18000,28000,24000,27000,27000,27000,26000,29000,26000,21000,28000,19000,26000,23000,27000,21000,26000,19000,27000,18000,31000,26000,31000,18000,23000,19000,18000,21000,27000,27000,26000,23000,19000,26000,31000,20000,31000,31000,21000,20000,24000,26000,27000,24000,27000,29000,23000,26000,23000,21000,21000,31000,19000,29000,27000,20000,27000,23000,24000,18000,21000,23000,19000,18000,18000,31000,31000,23000,18000,27000,31000,27000,23000,26000,23000,31000,26000,29000,19000,20000,21000,18000,21000,19000,29000,21000,23000,20000,29000,21000,19000,30000,18000,26000,28000,21000,23000,23000,29000,31000,23000,21000,24000,26000,23000,20000,21000,27000,23000,21000,29000,27000,27000,31000,27000,19000,27000,23000,24000,18000,29000,23000,27000,21000,23000,18000,19000,18000,20000,27000,19000,27000,31000,27000,26000,23000,23000,26000,27000,21000,18000,24000,29000,23000,29000,27000,21000,21000,29000,19000,18000,18000,22000,23000,20000],\"y0\":\" \",\"yaxis\":\"y\",\"type\":\"box\"},{\"alignmentgroup\":\"True\",\"hovertemplate\":\"Make=%{x}\\u003cbr\\u003ePrice=%{y}\\u003cextra\\u003e\\u003c\\u002fextra\\u003e\",\"legendgroup\":\"Hatchback\",\"marker\":{\"color\":\"#00cc96\"},\"name\":\"Hatchback\",\"notched\":false,\"offsetgroup\":\"Hatchback\",\"orientation\":\"v\",\"showlegend\":true,\"x\":[\"Hatchback\",\"Hatchback\",\"Hatchback\",\"Hatchback\",\"Hatchback\",\"Hatchback\",\"Hatchback\",\"Hatchback\",\"Hatchback\",\"Hatchback\",\"Hatchback\",\"Hatchback\",\"Hatchback\",\"Hatchback\",\"Hatchback\",\"Hatchback\",\"Hatchback\",\"Hatchback\",\"Hatchback\",\"Hatchback\",\"Hatchback\",\"Hatchback\",\"Hatchback\",\"Hatchback\",\"Hatchback\",\"Hatchback\",\"Hatchback\",\"Hatchback\",\"Hatchback\",\"Hatchback\",\"Hatchback\",\"Hatchback\",\"Hatchback\",\"Hatchback\",\"Hatchback\",\"Hatchback\",\"Hatchback\",\"Hatchback\",\"Hatchback\",\"Hatchback\",\"Hatchback\",\"Hatchback\",\"Hatchback\",\"Hatchback\",\"Hatchback\",\"Hatchback\",\"Hatchback\",\"Hatchback\",\"Hatchback\",\"Hatchback\",\"Hatchback\",\"Hatchback\",\"Hatchback\",\"Hatchback\",\"Hatchback\",\"Hatchback\",\"Hatchback\",\"Hatchback\",\"Hatchback\",\"Hatchback\",\"Hatchback\",\"Hatchback\",\"Hatchback\",\"Hatchback\",\"Hatchback\",\"Hatchback\",\"Hatchback\",\"Hatchback\",\"Hatchback\",\"Hatchback\",\"Hatchback\",\"Hatchback\",\"Hatchback\",\"Hatchback\",\"Hatchback\",\"Hatchback\",\"Hatchback\",\"Hatchback\",\"Hatchback\",\"Hatchback\",\"Hatchback\",\"Hatchback\",\"Hatchback\",\"Hatchback\",\"Hatchback\",\"Hatchback\",\"Hatchback\",\"Hatchback\",\"Hatchback\",\"Hatchback\",\"Hatchback\",\"Hatchback\",\"Hatchback\",\"Hatchback\",\"Hatchback\",\"Hatchback\",\"Hatchback\",\"Hatchback\",\"Hatchback\",\"Hatchback\",\"Hatchback\",\"Hatchback\",\"Hatchback\",\"Hatchback\",\"Hatchback\",\"Hatchback\",\"Hatchback\",\"Hatchback\",\"Hatchback\",\"Hatchback\",\"Hatchback\",\"Hatchback\",\"Hatchback\",\"Hatchback\",\"Hatchback\",\"Hatchback\",\"Hatchback\",\"Hatchback\",\"Hatchback\",\"Hatchback\",\"Hatchback\",\"Hatchback\",\"Hatchback\",\"Hatchback\",\"Hatchback\",\"Hatchback\",\"Hatchback\",\"Hatchback\",\"Hatchback\",\"Hatchback\",\"Hatchback\",\"Hatchback\",\"Hatchback\",\"Hatchback\",\"Hatchback\",\"Hatchback\",\"Hatchback\",\"Hatchback\",\"Hatchback\",\"Hatchback\",\"Hatchback\",\"Hatchback\",\"Hatchback\",\"Hatchback\",\"Hatchback\",\"Hatchback\",\"Hatchback\",\"Hatchback\",\"Hatchback\",\"Hatchback\",\"Hatchback\",\"Hatchback\",\"Hatchback\",\"Hatchback\",\"Hatchback\",\"Hatchback\",\"Hatchback\",\"Hatchback\",\"Hatchback\",\"Hatchback\",\"Hatchback\",\"Hatchback\",\"Hatchback\",\"Hatchback\",\"Hatchback\",\"Hatchback\",\"Hatchback\",\"Hatchback\",\"Hatchback\",\"Hatchback\",\"Hatchback\",\"Hatchback\",\"Hatchback\",\"Hatchback\",\"Hatchback\",\"Hatchback\",\"Hatchback\",\"Hatchback\",\"Hatchback\",\"Hatchback\",\"Hatchback\",\"Hatchback\",\"Hatchback\",\"Hatchback\",\"Hatchback\",\"Hatchback\",\"Hatchback\",\"Hatchback\",\"Hatchback\",\"Hatchback\",\"Hatchback\",\"Hatchback\",\"Hatchback\",\"Hatchback\",\"Hatchback\",\"Hatchback\",\"Hatchback\",\"Hatchback\",\"Hatchback\",\"Hatchback\",\"Hatchback\",\"Hatchback\",\"Hatchback\",\"Hatchback\",\"Hatchback\",\"Hatchback\",\"Hatchback\",\"Hatchback\",\"Hatchback\",\"Hatchback\",\"Hatchback\",\"Hatchback\",\"Hatchback\",\"Hatchback\",\"Hatchback\",\"Hatchback\",\"Hatchback\",\"Hatchback\",\"Hatchback\",\"Hatchback\",\"Hatchback\",\"Hatchback\",\"Hatchback\",\"Hatchback\",\"Hatchback\",\"Hatchback\",\"Hatchback\",\"Hatchback\",\"Hatchback\",\"Hatchback\",\"Hatchback\",\"Hatchback\",\"Hatchback\",\"Hatchback\",\"Hatchback\",\"Hatchback\",\"Hatchback\",\"Hatchback\",\"Hatchback\",\"Hatchback\",\"Hatchback\",\"Hatchback\",\"Hatchback\",\"Hatchback\",\"Hatchback\",\"Hatchback\",\"Hatchback\",\"Hatchback\",\"Hatchback\",\"Hatchback\",\"Hatchback\",\"Hatchback\",\"Hatchback\",\"Hatchback\",\"Hatchback\",\"Hatchback\",\"Hatchback\",\"Hatchback\",\"Hatchback\",\"Hatchback\",\"Hatchback\",\"Hatchback\",\"Hatchback\",\"Hatchback\",\"Hatchback\",\"Hatchback\",\"Hatchback\",\"Hatchback\",\"Hatchback\",\"Hatchback\",\"Hatchback\",\"Hatchback\",\"Hatchback\",\"Hatchback\",\"Hatchback\",\"Hatchback\",\"Hatchback\",\"Hatchback\",\"Hatchback\",\"Hatchback\",\"Hatchback\",\"Hatchback\",\"Hatchback\",\"Hatchback\",\"Hatchback\",\"Hatchback\",\"Hatchback\",\"Hatchback\",\"Hatchback\",\"Hatchback\",\"Hatchback\",\"Hatchback\",\"Hatchback\",\"Hatchback\",\"Hatchback\",\"Hatchback\",\"Hatchback\",\"Hatchback\",\"Hatchback\",\"Hatchback\",\"Hatchback\",\"Hatchback\",\"Hatchback\",\"Hatchback\",\"Hatchback\",\"Hatchback\",\"Hatchback\",\"Hatchback\",\"Hatchback\",\"Hatchback\",\"Hatchback\",\"Hatchback\",\"Hatchback\",\"Hatchback\",\"Hatchback\",\"Hatchback\",\"Hatchback\",\"Hatchback\",\"Hatchback\",\"Hatchback\",\"Hatchback\",\"Hatchback\",\"Hatchback\",\"Hatchback\",\"Hatchback\",\"Hatchback\",\"Hatchback\",\"Hatchback\",\"Hatchback\",\"Hatchback\",\"Hatchback\",\"Hatchback\",\"Hatchback\",\"Hatchback\",\"Hatchback\",\"Hatchback\",\"Hatchback\",\"Hatchback\",\"Hatchback\",\"Hatchback\",\"Hatchback\",\"Hatchback\",\"Hatchback\",\"Hatchback\",\"Hatchback\",\"Hatchback\",\"Hatchback\",\"Hatchback\",\"Hatchback\",\"Hatchback\",\"Hatchback\",\"Hatchback\",\"Hatchback\",\"Hatchback\",\"Hatchback\",\"Hatchback\",\"Hatchback\",\"Hatchback\",\"Hatchback\",\"Hatchback\",\"Hatchback\",\"Hatchback\",\"Hatchback\",\"Hatchback\",\"Hatchback\",\"Hatchback\",\"Hatchback\",\"Hatchback\",\"Hatchback\",\"Hatchback\",\"Hatchback\",\"Hatchback\",\"Hatchback\",\"Hatchback\",\"Hatchback\",\"Hatchback\",\"Hatchback\",\"Hatchback\",\"Hatchback\",\"Hatchback\",\"Hatchback\",\"Hatchback\",\"Hatchback\",\"Hatchback\",\"Hatchback\",\"Hatchback\",\"Hatchback\",\"Hatchback\",\"Hatchback\",\"Hatchback\",\"Hatchback\",\"Hatchback\",\"Hatchback\",\"Hatchback\",\"Hatchback\",\"Hatchback\",\"Hatchback\",\"Hatchback\",\"Hatchback\",\"Hatchback\",\"Hatchback\",\"Hatchback\",\"Hatchback\",\"Hatchback\",\"Hatchback\",\"Hatchback\",\"Hatchback\",\"Hatchback\",\"Hatchback\",\"Hatchback\",\"Hatchback\",\"Hatchback\",\"Hatchback\",\"Hatchback\",\"Hatchback\",\"Hatchback\",\"Hatchback\",\"Hatchback\",\"Hatchback\",\"Hatchback\",\"Hatchback\",\"Hatchback\",\"Hatchback\",\"Hatchback\",\"Hatchback\",\"Hatchback\",\"Hatchback\",\"Hatchback\",\"Hatchback\",\"Hatchback\",\"Hatchback\",\"Hatchback\",\"Hatchback\",\"Hatchback\",\"Hatchback\",\"Hatchback\",\"Hatchback\",\"Hatchback\",\"Hatchback\",\"Hatchback\",\"Hatchback\",\"Hatchback\",\"Hatchback\",\"Hatchback\",\"Hatchback\",\"Hatchback\",\"Hatchback\",\"Hatchback\",\"Hatchback\",\"Hatchback\",\"Hatchback\",\"Hatchback\",\"Hatchback\",\"Hatchback\",\"Hatchback\",\"Hatchback\",\"Hatchback\",\"Hatchback\",\"Hatchback\",\"Hatchback\",\"Hatchback\",\"Hatchback\",\"Hatchback\",\"Hatchback\",\"Hatchback\",\"Hatchback\",\"Hatchback\",\"Hatchback\",\"Hatchback\",\"Hatchback\",\"Hatchback\",\"Hatchback\",\"Hatchback\",\"Hatchback\",\"Hatchback\",\"Hatchback\",\"Hatchback\",\"Hatchback\",\"Hatchback\",\"Hatchback\",\"Hatchback\",\"Hatchback\",\"Hatchback\",\"Hatchback\",\"Hatchback\",\"Hatchback\",\"Hatchback\",\"Hatchback\",\"Hatchback\",\"Hatchback\",\"Hatchback\",\"Hatchback\",\"Hatchback\",\"Hatchback\",\"Hatchback\",\"Hatchback\",\"Hatchback\",\"Hatchback\",\"Hatchback\",\"Hatchback\",\"Hatchback\",\"Hatchback\",\"Hatchback\",\"Hatchback\",\"Hatchback\",\"Hatchback\",\"Hatchback\",\"Hatchback\",\"Hatchback\",\"Hatchback\",\"Hatchback\",\"Hatchback\",\"Hatchback\",\"Hatchback\",\"Hatchback\",\"Hatchback\",\"Hatchback\",\"Hatchback\",\"Hatchback\",\"Hatchback\",\"Hatchback\",\"Hatchback\",\"Hatchback\",\"Hatchback\",\"Hatchback\",\"Hatchback\",\"Hatchback\",\"Hatchback\",\"Hatchback\",\"Hatchback\",\"Hatchback\",\"Hatchback\",\"Hatchback\",\"Hatchback\",\"Hatchback\",\"Hatchback\",\"Hatchback\",\"Hatchback\",\"Hatchback\",\"Hatchback\",\"Hatchback\",\"Hatchback\",\"Hatchback\",\"Hatchback\",\"Hatchback\",\"Hatchback\",\"Hatchback\",\"Hatchback\",\"Hatchback\",\"Hatchback\",\"Hatchback\",\"Hatchback\",\"Hatchback\",\"Hatchback\",\"Hatchback\",\"Hatchback\",\"Hatchback\",\"Hatchback\",\"Hatchback\",\"Hatchback\",\"Hatchback\",\"Hatchback\",\"Hatchback\",\"Hatchback\",\"Hatchback\",\"Hatchback\",\"Hatchback\",\"Hatchback\",\"Hatchback\",\"Hatchback\",\"Hatchback\",\"Hatchback\",\"Hatchback\",\"Hatchback\",\"Hatchback\",\"Hatchback\",\"Hatchback\",\"Hatchback\",\"Hatchback\",\"Hatchback\",\"Hatchback\",\"Hatchback\"],\"x0\":\" \",\"xaxis\":\"x\",\"y\":[30000,31000,25000,22000,25000,33000,29000,23000,33000,20000,24000,24000,32000,32000,30000,28000,30000,29000,20000,25000,23000,32000,30000,29000,31000,33000,29000,22000,20000,25000,30000,28000,28000,32000,30000,20000,32000,20000,22000,32000,30000,25000,20000,30000,29000,32000,23000,26000,30000,26000,33000,31000,32000,20000,25000,28000,32000,32000,22000,22000,28000,25000,29000,30000,22000,22000,33000,22000,28000,29000,29000,28000,32000,32000,22000,20000,33000,20000,32000,30000,32000,20000,29000,28000,23000,20000,33000,24000,23000,20000,33000,32000,32000,32000,22000,20000,28000,22000,31000,26000,29000,25000,30000,32000,20000,33000,32000,29000,32000,28000,25000,33000,27000,32000,29000,30000,28000,33000,32000,26000,20000,31000,26000,32000,24000,19000,27000,33000,26000,24000,20000,32000,30000,22000,30000,25000,20000,29000,29000,22000,33000,32000,28000,25000,23000,28000,31000,22000,31000,30000,22000,24000,30000,20000,26000,24000,31000,20000,25000,19000,24000,27000,24000,26000,32000,28000,23000,30000,29000,22000,30000,28000,22000,32000,26000,28000,19000,30000,19000,24000,22000,30000,24000,20000,19000,24000,32000,28000,24000,32000,26000,30000,28000,23000,22000,22000,27000,23000,20000,31000,33000,30000,30000,30000,28000,25000,30000,22000,32000,23000,28000,25000,23000,23000,23000,19000,26000,24000,33000,32000,23000,26000,29000,30000,32000,25000,22000,28000,24000,28000,31000,25000,23000,23000,32000,31000,22000,32000,27000,33000,33000,28000,22000,22000,29000,27000,27000,20000,29000,20000,26000,31000,31000,20000,29000,25000,22000,29000,24000,30000,22000,21000,30000,24000,31000,30000,20000,19000,19000,27000,23000,30000,23000,20000,25000,23000,20000,32000,24000,22000,28000,23000,22000,25000,29000,28000,30000,23000,28000,30000,25000,24000,25000,33000,20000,20000,32000,29000,25000,24000,30000,31000,31000,25000,24000,22000,25000,24000,20000,28000,30000,26000,20000,30000,28000,30000,20000,33000,31000,28000,26000,32000,33000,33000,30000,23000,20000,19000,32000,26000,19000,29000,27000,20000,19000,32000,32000,31000,28000,25000,20000,20000,20000,19000,30000,24000,30000,27000,20000,30000,26000,24000,22000,20000,25000,20000,29000,25000,32000,25000,20000,32000,24000,20000,30000,28000,26000,28000,26000,31000,27000,25000,25000,26000,32000,32000,28000,22000,19000,30000,26000,28000,25000,32000,31000,32000,22000,20000,30000,29000,23000,32000,19000,24000,29000,20000,31000,22000,33000,32000,28000,29000,30000,29000,20000,32000,31000,23000,31000,30000,20000,20000,23000,33000,25000,25000,24000,28000,27000,25000,20000,24000,19000,28000,33000,31000,26000,22000,25000,22000,33000,24000,22000,20000,18000,32000,28000,22000,28000,25000,22000,28000,22000,18000,25000,32000,28000,29000,27000,24000,28000,22000,32000,24000,30000,24000,33000,23000,20000,32000,24000,26000,20000,32000,25000,22000,24000,20000,29000,20000,32000,32000,22000,33000,31000,30000,26000,24000,23000,33000,32000,30000,19000,30000,30000,26000,24000,28000,28000,24000,31000,29000,26000,29000,25000,25000,26000,22000,31000,25000,23000,20000,33000,33000,28000,28000,26000,22000,22000,25000,32000,22000,30000,29000,31000,30000,30000,25000,28000,31000,30000,32000,28000,19000,28000,28000,20000,22000,24000,32000,29000,28000,24000,33000,23000,30000,24000,23000,22000,32000,30000,19000,28000,20000,22000,32000,22000,25000,25000,31000,32000,20000,25000,20000,32000,23000,29000,22000,29000,27000,26000,26000,25000,30000,28000,32000,23000,19000,24000,24000,23000,22000,21000,33000,24000,23000,19000,27000,31000,30000,24000,31000],\"y0\":\" \",\"yaxis\":\"y\",\"type\":\"box\"}],                        {\"template\":{\"data\":{\"histogram2dcontour\":[{\"type\":\"histogram2dcontour\",\"colorbar\":{\"outlinewidth\":0,\"ticks\":\"\"},\"colorscale\":[[0.0,\"#0d0887\"],[0.1111111111111111,\"#46039f\"],[0.2222222222222222,\"#7201a8\"],[0.3333333333333333,\"#9c179e\"],[0.4444444444444444,\"#bd3786\"],[0.5555555555555556,\"#d8576b\"],[0.6666666666666666,\"#ed7953\"],[0.7777777777777778,\"#fb9f3a\"],[0.8888888888888888,\"#fdca26\"],[1.0,\"#f0f921\"]]}],\"choropleth\":[{\"type\":\"choropleth\",\"colorbar\":{\"outlinewidth\":0,\"ticks\":\"\"}}],\"histogram2d\":[{\"type\":\"histogram2d\",\"colorbar\":{\"outlinewidth\":0,\"ticks\":\"\"},\"colorscale\":[[0.0,\"#0d0887\"],[0.1111111111111111,\"#46039f\"],[0.2222222222222222,\"#7201a8\"],[0.3333333333333333,\"#9c179e\"],[0.4444444444444444,\"#bd3786\"],[0.5555555555555556,\"#d8576b\"],[0.6666666666666666,\"#ed7953\"],[0.7777777777777778,\"#fb9f3a\"],[0.8888888888888888,\"#fdca26\"],[1.0,\"#f0f921\"]]}],\"heatmap\":[{\"type\":\"heatmap\",\"colorbar\":{\"outlinewidth\":0,\"ticks\":\"\"},\"colorscale\":[[0.0,\"#0d0887\"],[0.1111111111111111,\"#46039f\"],[0.2222222222222222,\"#7201a8\"],[0.3333333333333333,\"#9c179e\"],[0.4444444444444444,\"#bd3786\"],[0.5555555555555556,\"#d8576b\"],[0.6666666666666666,\"#ed7953\"],[0.7777777777777778,\"#fb9f3a\"],[0.8888888888888888,\"#fdca26\"],[1.0,\"#f0f921\"]]}],\"heatmapgl\":[{\"type\":\"heatmapgl\",\"colorbar\":{\"outlinewidth\":0,\"ticks\":\"\"},\"colorscale\":[[0.0,\"#0d0887\"],[0.1111111111111111,\"#46039f\"],[0.2222222222222222,\"#7201a8\"],[0.3333333333333333,\"#9c179e\"],[0.4444444444444444,\"#bd3786\"],[0.5555555555555556,\"#d8576b\"],[0.6666666666666666,\"#ed7953\"],[0.7777777777777778,\"#fb9f3a\"],[0.8888888888888888,\"#fdca26\"],[1.0,\"#f0f921\"]]}],\"contourcarpet\":[{\"type\":\"contourcarpet\",\"colorbar\":{\"outlinewidth\":0,\"ticks\":\"\"}}],\"contour\":[{\"type\":\"contour\",\"colorbar\":{\"outlinewidth\":0,\"ticks\":\"\"},\"colorscale\":[[0.0,\"#0d0887\"],[0.1111111111111111,\"#46039f\"],[0.2222222222222222,\"#7201a8\"],[0.3333333333333333,\"#9c179e\"],[0.4444444444444444,\"#bd3786\"],[0.5555555555555556,\"#d8576b\"],[0.6666666666666666,\"#ed7953\"],[0.7777777777777778,\"#fb9f3a\"],[0.8888888888888888,\"#fdca26\"],[1.0,\"#f0f921\"]]}],\"surface\":[{\"type\":\"surface\",\"colorbar\":{\"outlinewidth\":0,\"ticks\":\"\"},\"colorscale\":[[0.0,\"#0d0887\"],[0.1111111111111111,\"#46039f\"],[0.2222222222222222,\"#7201a8\"],[0.3333333333333333,\"#9c179e\"],[0.4444444444444444,\"#bd3786\"],[0.5555555555555556,\"#d8576b\"],[0.6666666666666666,\"#ed7953\"],[0.7777777777777778,\"#fb9f3a\"],[0.8888888888888888,\"#fdca26\"],[1.0,\"#f0f921\"]]}],\"mesh3d\":[{\"type\":\"mesh3d\",\"colorbar\":{\"outlinewidth\":0,\"ticks\":\"\"}}],\"scatter\":[{\"fillpattern\":{\"fillmode\":\"overlay\",\"size\":10,\"solidity\":0.2},\"type\":\"scatter\"}],\"parcoords\":[{\"type\":\"parcoords\",\"line\":{\"colorbar\":{\"outlinewidth\":0,\"ticks\":\"\"}}}],\"scatterpolargl\":[{\"type\":\"scatterpolargl\",\"marker\":{\"colorbar\":{\"outlinewidth\":0,\"ticks\":\"\"}}}],\"bar\":[{\"error_x\":{\"color\":\"#2a3f5f\"},\"error_y\":{\"color\":\"#2a3f5f\"},\"marker\":{\"line\":{\"color\":\"#E5ECF6\",\"width\":0.5},\"pattern\":{\"fillmode\":\"overlay\",\"size\":10,\"solidity\":0.2}},\"type\":\"bar\"}],\"scattergeo\":[{\"type\":\"scattergeo\",\"marker\":{\"colorbar\":{\"outlinewidth\":0,\"ticks\":\"\"}}}],\"scatterpolar\":[{\"type\":\"scatterpolar\",\"marker\":{\"colorbar\":{\"outlinewidth\":0,\"ticks\":\"\"}}}],\"histogram\":[{\"marker\":{\"pattern\":{\"fillmode\":\"overlay\",\"size\":10,\"solidity\":0.2}},\"type\":\"histogram\"}],\"scattergl\":[{\"type\":\"scattergl\",\"marker\":{\"colorbar\":{\"outlinewidth\":0,\"ticks\":\"\"}}}],\"scatter3d\":[{\"type\":\"scatter3d\",\"line\":{\"colorbar\":{\"outlinewidth\":0,\"ticks\":\"\"}},\"marker\":{\"colorbar\":{\"outlinewidth\":0,\"ticks\":\"\"}}}],\"scattermapbox\":[{\"type\":\"scattermapbox\",\"marker\":{\"colorbar\":{\"outlinewidth\":0,\"ticks\":\"\"}}}],\"scatterternary\":[{\"type\":\"scatterternary\",\"marker\":{\"colorbar\":{\"outlinewidth\":0,\"ticks\":\"\"}}}],\"scattercarpet\":[{\"type\":\"scattercarpet\",\"marker\":{\"colorbar\":{\"outlinewidth\":0,\"ticks\":\"\"}}}],\"carpet\":[{\"aaxis\":{\"endlinecolor\":\"#2a3f5f\",\"gridcolor\":\"white\",\"linecolor\":\"white\",\"minorgridcolor\":\"white\",\"startlinecolor\":\"#2a3f5f\"},\"baxis\":{\"endlinecolor\":\"#2a3f5f\",\"gridcolor\":\"white\",\"linecolor\":\"white\",\"minorgridcolor\":\"white\",\"startlinecolor\":\"#2a3f5f\"},\"type\":\"carpet\"}],\"table\":[{\"cells\":{\"fill\":{\"color\":\"#EBF0F8\"},\"line\":{\"color\":\"white\"}},\"header\":{\"fill\":{\"color\":\"#C8D4E3\"},\"line\":{\"color\":\"white\"}},\"type\":\"table\"}],\"barpolar\":[{\"marker\":{\"line\":{\"color\":\"#E5ECF6\",\"width\":0.5},\"pattern\":{\"fillmode\":\"overlay\",\"size\":10,\"solidity\":0.2}},\"type\":\"barpolar\"}],\"pie\":[{\"automargin\":true,\"type\":\"pie\"}]},\"layout\":{\"autotypenumbers\":\"strict\",\"colorway\":[\"#636efa\",\"#EF553B\",\"#00cc96\",\"#ab63fa\",\"#FFA15A\",\"#19d3f3\",\"#FF6692\",\"#B6E880\",\"#FF97FF\",\"#FECB52\"],\"font\":{\"color\":\"#2a3f5f\"},\"hovermode\":\"closest\",\"hoverlabel\":{\"align\":\"left\"},\"paper_bgcolor\":\"white\",\"plot_bgcolor\":\"#E5ECF6\",\"polar\":{\"bgcolor\":\"#E5ECF6\",\"angularaxis\":{\"gridcolor\":\"white\",\"linecolor\":\"white\",\"ticks\":\"\"},\"radialaxis\":{\"gridcolor\":\"white\",\"linecolor\":\"white\",\"ticks\":\"\"}},\"ternary\":{\"bgcolor\":\"#E5ECF6\",\"aaxis\":{\"gridcolor\":\"white\",\"linecolor\":\"white\",\"ticks\":\"\"},\"baxis\":{\"gridcolor\":\"white\",\"linecolor\":\"white\",\"ticks\":\"\"},\"caxis\":{\"gridcolor\":\"white\",\"linecolor\":\"white\",\"ticks\":\"\"}},\"coloraxis\":{\"colorbar\":{\"outlinewidth\":0,\"ticks\":\"\"}},\"colorscale\":{\"sequential\":[[0.0,\"#0d0887\"],[0.1111111111111111,\"#46039f\"],[0.2222222222222222,\"#7201a8\"],[0.3333333333333333,\"#9c179e\"],[0.4444444444444444,\"#bd3786\"],[0.5555555555555556,\"#d8576b\"],[0.6666666666666666,\"#ed7953\"],[0.7777777777777778,\"#fb9f3a\"],[0.8888888888888888,\"#fdca26\"],[1.0,\"#f0f921\"]],\"sequentialminus\":[[0.0,\"#0d0887\"],[0.1111111111111111,\"#46039f\"],[0.2222222222222222,\"#7201a8\"],[0.3333333333333333,\"#9c179e\"],[0.4444444444444444,\"#bd3786\"],[0.5555555555555556,\"#d8576b\"],[0.6666666666666666,\"#ed7953\"],[0.7777777777777778,\"#fb9f3a\"],[0.8888888888888888,\"#fdca26\"],[1.0,\"#f0f921\"]],\"diverging\":[[0,\"#8e0152\"],[0.1,\"#c51b7d\"],[0.2,\"#de77ae\"],[0.3,\"#f1b6da\"],[0.4,\"#fde0ef\"],[0.5,\"#f7f7f7\"],[0.6,\"#e6f5d0\"],[0.7,\"#b8e186\"],[0.8,\"#7fbc41\"],[0.9,\"#4d9221\"],[1,\"#276419\"]]},\"xaxis\":{\"gridcolor\":\"white\",\"linecolor\":\"white\",\"ticks\":\"\",\"title\":{\"standoff\":15},\"zerolinecolor\":\"white\",\"automargin\":true,\"zerolinewidth\":2},\"yaxis\":{\"gridcolor\":\"white\",\"linecolor\":\"white\",\"ticks\":\"\",\"title\":{\"standoff\":15},\"zerolinecolor\":\"white\",\"automargin\":true,\"zerolinewidth\":2},\"scene\":{\"xaxis\":{\"backgroundcolor\":\"#E5ECF6\",\"gridcolor\":\"white\",\"linecolor\":\"white\",\"showbackground\":true,\"ticks\":\"\",\"zerolinecolor\":\"white\",\"gridwidth\":2},\"yaxis\":{\"backgroundcolor\":\"#E5ECF6\",\"gridcolor\":\"white\",\"linecolor\":\"white\",\"showbackground\":true,\"ticks\":\"\",\"zerolinecolor\":\"white\",\"gridwidth\":2},\"zaxis\":{\"backgroundcolor\":\"#E5ECF6\",\"gridcolor\":\"white\",\"linecolor\":\"white\",\"showbackground\":true,\"ticks\":\"\",\"zerolinecolor\":\"white\",\"gridwidth\":2}},\"shapedefaults\":{\"line\":{\"color\":\"#2a3f5f\"}},\"annotationdefaults\":{\"arrowcolor\":\"#2a3f5f\",\"arrowhead\":0,\"arrowwidth\":1},\"geo\":{\"bgcolor\":\"white\",\"landcolor\":\"#E5ECF6\",\"subunitcolor\":\"white\",\"showland\":true,\"showlakes\":true,\"lakecolor\":\"white\"},\"title\":{\"x\":0.05},\"mapbox\":{\"style\":\"light\"}}},\"xaxis\":{\"anchor\":\"y\",\"domain\":[0.0,1.0],\"title\":{\"text\":\"Make\"},\"categoryorder\":\"array\",\"categoryarray\":[\"SUV\",\"Sedan\",\"Hatchback\"]},\"yaxis\":{\"anchor\":\"x\",\"domain\":[0.0,1.0],\"title\":{\"text\":\"Price\"}},\"legend\":{\"title\":{\"text\":\"Make\"},\"tracegroupgap\":0},\"margin\":{\"t\":60},\"boxmode\":\"overlay\"},                        {\"responsive\": true}                    ).then(function(){\n",
              "                            \n",
              "var gd = document.getElementById('76ebbe4a-6f8f-4db3-9ac1-52301d9ebdbf');\n",
              "var x = new MutationObserver(function (mutations, observer) {{\n",
              "        var display = window.getComputedStyle(gd).display;\n",
              "        if (!display || display === 'none') {{\n",
              "            console.log([gd, 'removed!']);\n",
              "            Plotly.purge(gd);\n",
              "            observer.disconnect();\n",
              "        }}\n",
              "}});\n",
              "\n",
              "// Listen for the removal of the full notebook cells\n",
              "var notebookContainer = gd.closest('#notebook-container');\n",
              "if (notebookContainer) {{\n",
              "    x.observe(notebookContainer, {childList: true});\n",
              "}}\n",
              "\n",
              "// Listen for the clearing of the current output cell\n",
              "var outputEl = gd.closest('.output');\n",
              "if (outputEl) {{\n",
              "    x.observe(outputEl, {childList: true});\n",
              "}}\n",
              "\n",
              "                        })                };                            </script>        </div>\n",
              "</body>\n",
              "</html>"
            ]
          },
          "metadata": {}
        }
      ]
    },
    {
      "cell_type": "code",
      "source": [
        "mplot = lambda p : px.box(missingGenderData,x=p,color='Make')"
      ],
      "metadata": {
        "id": "DXfQGNRHuKYp"
      },
      "id": "DXfQGNRHuKYp",
      "execution_count": null,
      "outputs": []
    },
    {
      "cell_type": "markdown",
      "source": [
        "Observing same demand across different demographics of Profession, Education, Personal Loan,partner working.\n",
        "Whereas  people owing home loan tend to buy less expensive SUVs compared to who don't owe home loan.\n",
        "Overall females prefere more expensive sedan over males, Whereas males prefer more expesive SUVs over females.\n",
        "\n",
        "Sedan is most common purchase option. 44% sale is observed."
      ],
      "metadata": {
        "id": "hfYH_WiT4hZv"
      },
      "id": "hfYH_WiT4hZv"
    },
    {
      "cell_type": "code",
      "execution_count": null,
      "id": "2c6ee3ee-88e2-4ce2-8048-fe6aa9331d7e",
      "metadata": {
        "colab": {
          "base_uri": "https://localhost:8080/",
          "height": 265
        },
        "id": "2c6ee3ee-88e2-4ce2-8048-fe6aa9331d7e",
        "outputId": "0ab63be8-1453-4c64-ec86-d3e065a49ccd"
      },
      "outputs": [
        {
          "output_type": "error",
          "ename": "NameError",
          "evalue": "name 'missingGenderData' is not defined",
          "traceback": [
            "\u001b[0;31m---------------------------------------------------------------------------\u001b[0m",
            "\u001b[0;31mNameError\u001b[0m                                 Traceback (most recent call last)",
            "\u001b[0;32m<ipython-input-43-70ff47c33b4d>\u001b[0m in \u001b[0;36m<cell line: 4>\u001b[0;34m()\u001b[0m\n\u001b[1;32m      2\u001b[0m \u001b[0;34m\u001b[0m\u001b[0m\n\u001b[1;32m      3\u001b[0m \u001b[0mplots\u001b[0m\u001b[0;34m=\u001b[0m\u001b[0;34m(\u001b[0m \u001b[0mmplot\u001b[0m\u001b[0;34m(\u001b[0m\u001b[0mn\u001b[0m\u001b[0;34m)\u001b[0m \u001b[0;32mfor\u001b[0m \u001b[0mn\u001b[0m \u001b[0;32min\u001b[0m \u001b[0mlst_num_var\u001b[0m \u001b[0;34m)\u001b[0m\u001b[0;34m\u001b[0m\u001b[0;34m\u001b[0m\u001b[0m\n\u001b[0;32m----> 4\u001b[0;31m \u001b[0;32mfor\u001b[0m \u001b[0mplot\u001b[0m \u001b[0;32min\u001b[0m \u001b[0mplots\u001b[0m\u001b[0;34m:\u001b[0m\u001b[0;34m\u001b[0m\u001b[0;34m\u001b[0m\u001b[0m\n\u001b[0m\u001b[1;32m      5\u001b[0m     \u001b[0mplot\u001b[0m\u001b[0;34m.\u001b[0m\u001b[0mshow\u001b[0m\u001b[0;34m(\u001b[0m\u001b[0;34m)\u001b[0m\u001b[0;34m\u001b[0m\u001b[0;34m\u001b[0m\u001b[0m\n",
            "\u001b[0;32m<ipython-input-43-70ff47c33b4d>\u001b[0m in \u001b[0;36m<genexpr>\u001b[0;34m(.0)\u001b[0m\n\u001b[1;32m      1\u001b[0m \u001b[0mlst_num_var\u001b[0m \u001b[0;34m=\u001b[0m \u001b[0;34m[\u001b[0m \u001b[0;34m'Profession'\u001b[0m\u001b[0;34m,\u001b[0m  \u001b[0;34m'Education'\u001b[0m\u001b[0;34m,\u001b[0m \u001b[0;34m'Personal_loan'\u001b[0m\u001b[0;34m,\u001b[0m\u001b[0;34m'House_loan'\u001b[0m\u001b[0;34m,\u001b[0m \u001b[0;34m'Partner_working'\u001b[0m\u001b[0;34m,\u001b[0m\u001b[0;34m'Marital_status'\u001b[0m\u001b[0;34m]\u001b[0m\u001b[0;34m\u001b[0m\u001b[0;34m\u001b[0m\u001b[0m\n\u001b[1;32m      2\u001b[0m \u001b[0;34m\u001b[0m\u001b[0m\n\u001b[0;32m----> 3\u001b[0;31m \u001b[0mplots\u001b[0m\u001b[0;34m=\u001b[0m\u001b[0;34m(\u001b[0m \u001b[0mmplot\u001b[0m\u001b[0;34m(\u001b[0m\u001b[0mn\u001b[0m\u001b[0;34m)\u001b[0m \u001b[0;32mfor\u001b[0m \u001b[0mn\u001b[0m \u001b[0;32min\u001b[0m \u001b[0mlst_num_var\u001b[0m \u001b[0;34m)\u001b[0m\u001b[0;34m\u001b[0m\u001b[0;34m\u001b[0m\u001b[0m\n\u001b[0m\u001b[1;32m      4\u001b[0m \u001b[0;32mfor\u001b[0m \u001b[0mplot\u001b[0m \u001b[0;32min\u001b[0m \u001b[0mplots\u001b[0m\u001b[0;34m:\u001b[0m\u001b[0;34m\u001b[0m\u001b[0;34m\u001b[0m\u001b[0m\n\u001b[1;32m      5\u001b[0m     \u001b[0mplot\u001b[0m\u001b[0;34m.\u001b[0m\u001b[0mshow\u001b[0m\u001b[0;34m(\u001b[0m\u001b[0;34m)\u001b[0m\u001b[0;34m\u001b[0m\u001b[0;34m\u001b[0m\u001b[0m\n",
            "\u001b[0;32m<ipython-input-41-92d7f10e910f>\u001b[0m in \u001b[0;36m<lambda>\u001b[0;34m(p)\u001b[0m\n\u001b[0;32m----> 1\u001b[0;31m \u001b[0mmplot\u001b[0m \u001b[0;34m=\u001b[0m \u001b[0;32mlambda\u001b[0m \u001b[0mp\u001b[0m \u001b[0;34m:\u001b[0m \u001b[0mpx\u001b[0m\u001b[0;34m.\u001b[0m\u001b[0mbox\u001b[0m\u001b[0;34m(\u001b[0m\u001b[0mmissingGenderData\u001b[0m\u001b[0;34m,\u001b[0m\u001b[0mx\u001b[0m\u001b[0;34m=\u001b[0m\u001b[0mp\u001b[0m\u001b[0;34m,\u001b[0m\u001b[0mcolor\u001b[0m\u001b[0;34m=\u001b[0m\u001b[0;34m'Make'\u001b[0m\u001b[0;34m)\u001b[0m\u001b[0;34m\u001b[0m\u001b[0;34m\u001b[0m\u001b[0m\n\u001b[0m",
            "\u001b[0;31mNameError\u001b[0m: name 'missingGenderData' is not defined"
          ]
        }
      ],
      "source": [
        "lst_num_var = [ 'Profession',  'Education', 'Personal_loan','House_loan', 'Partner_working','Marital_status']\n",
        "\n",
        "plots=( mplot(n) for n in lst_num_var )\n",
        "for plot in plots:\n",
        "    plot.show()"
      ]
    },
    {
      "cell_type": "code",
      "source": [
        "cntplot=lambda x: sns.countplot(data,x=x,hue='Make')"
      ],
      "metadata": {
        "id": "aRXMmShafJ4u"
      },
      "id": "aRXMmShafJ4u",
      "execution_count": null,
      "outputs": []
    },
    {
      "cell_type": "code",
      "execution_count": null,
      "metadata": {
        "colab": {
          "base_uri": "https://localhost:8080/",
          "height": 1000
        },
        "outputId": "d9a8a74c-cf17-4e8a-87fb-88a77cd33265",
        "id": "HRNwJn_Zf1cH"
      },
      "outputs": [
        {
          "output_type": "display_data",
          "data": {
            "text/plain": [
              "<Figure size 1500x700 with 1 Axes>"
            ],
            "image/png": "[encoded data removed]"
          },
          "metadata": {}
        },
        {
          "output_type": "display_data",
          "data": {
            "text/plain": [
              "<Figure size 640x480 with 1 Axes>"
            ],
            "image/png": "[encoded data removed]"
          },
          "metadata": {}
        },
        {
          "output_type": "display_data",
          "data": {
            "text/plain": [
              "<Figure size 640x480 with 1 Axes>"
            ],
            "image/png": "[encoded data removed]"
          },
          "metadata": {}
        },
        {
          "output_type": "display_data",
          "data": {
            "text/plain": [
              "<Figure size 640x480 with 1 Axes>"
            ],
            "image/png": "[encoded data removed]"
          },
          "metadata": {}
        },
        {
          "output_type": "display_data",
          "data": {
            "text/plain": [
              "<Figure size 640x480 with 1 Axes>"
            ],
            "image/png": "[encoded data removed]"
          },
          "metadata": {}
        },
        {
          "output_type": "display_data",
          "data": {
            "text/plain": [
              "<Figure size 640x480 with 1 Axes>"
            ],
            "image/png": "[encoded data removed]"
          },
          "metadata": {}
        },
        {
          "output_type": "display_data",
          "data": {
            "text/plain": [
              "<Figure size 640x480 with 1 Axes>"
            ],
            "image/png": "[encoded data removed]"
          },
          "metadata": {}
        }
      ],
      "source": [
        "lst_num_var = [ 'Gender','Profession',  'Education', 'Personal_loan','House_loan', 'Partner_working','Marital_status']\n",
        "plt.figure(figsize=(15, 7))\n",
        "plots=( cntplot(n) for n in lst_num_var )\n",
        "for plot in plots:\n",
        "    plt.show()"
      ],
      "id": "HRNwJn_Zf1cH"
    },
    {
      "cell_type": "markdown",
      "id": "1194b465-e74f-4d64-b18a-6036eeacc91d",
      "metadata": {
        "id": "1194b465-e74f-4d64-b18a-6036eeacc91d"
      },
      "source": [
        "### Bivariate analysis"
      ]
    },
    {
      "cell_type": "code",
      "source": [
        "sns.pairplot(data,vars=['Price',  'Total_salary'], hue='Make')"
      ],
      "metadata": {
        "id": "0IqxKO91dgei"
      },
      "id": "0IqxKO91dgei",
      "execution_count": null,
      "outputs": []
    },
    {
      "cell_type": "code",
      "source": [
        "sns.pairplot(data,vars=['Price',  'Salary'], hue='House_loan')"
      ],
      "metadata": {
        "id": "qfgg0ctBoAvY"
      },
      "id": "qfgg0ctBoAvY",
      "execution_count": null,
      "outputs": []
    },
    {
      "cell_type": "code",
      "source": [
        "px.scatter_matrix(data,dimensions=['Price',  'Salary'], color='House_loan')"
      ],
      "metadata": {
        "id": "pMnksD9RqqOf"
      },
      "id": "pMnksD9RqqOf",
      "execution_count": null,
      "outputs": []
    },
    {
      "cell_type": "code",
      "source": [
        "px.scatter_matrix(data,dimensions=['Price',  'Total_salary'], color='House_loan')"
      ],
      "metadata": {
        "id": "gzZwg4thBgqi"
      },
      "execution_count": null,
      "outputs": [],
      "id": "gzZwg4thBgqi"
    },
    {
      "cell_type": "code",
      "source": [
        "sns.pairplot(data,vars=['Price',  'Total_salary'], hue='Marital_status')"
      ],
      "metadata": {
        "id": "yo5vRcd3c2U9"
      },
      "id": "yo5vRcd3c2U9",
      "execution_count": null,
      "outputs": []
    },
    {
      "cell_type": "code",
      "source": [
        "sns.pairplot(data,vars=['Price',  'Salary'], hue='Personal_loan')"
      ],
      "metadata": {
        "id": "1KweB8P0nyoq"
      },
      "id": "1KweB8P0nyoq",
      "execution_count": null,
      "outputs": []
    },
    {
      "cell_type": "code",
      "source": [
        "sns.pairplot(data,vars=['Price',  'Total_salary'], hue='House_loan')"
      ],
      "metadata": {
        "id": "ezwvVn1sY97x"
      },
      "id": "ezwvVn1sY97x",
      "execution_count": null,
      "outputs": []
    },
    {
      "cell_type": "code",
      "source": [
        "cols=['Price',  'Total_salary']\n",
        "data[cols].corr()"
      ],
      "metadata": {
        "id": "F5QJom-ph7Yp"
      },
      "id": "F5QJom-ph7Yp",
      "execution_count": null,
      "outputs": []
    },
    {
      "cell_type": "code",
      "source": [
        "plt.figure(figsize=(10,5))\n",
        "sns.heatmap(data[cols].corr(),annot=True,cmap='Spectral',vmin=-1,vmax=1)\n",
        "plt.show()"
      ],
      "metadata": {
        "id": "o3dCJ1zihqZq"
      },
      "id": "o3dCJ1zihqZq",
      "execution_count": null,
      "outputs": []
    },
    {
      "cell_type": "code",
      "source": [
        "cols=['Price',  'Salary']\n",
        "data[cols].corr()"
      ],
      "metadata": {
        "id": "0Ql5p3boBOI8"
      },
      "execution_count": null,
      "outputs": [],
      "id": "0Ql5p3boBOI8"
    },
    {
      "cell_type": "code",
      "source": [
        "plt.figure(figsize=(10,5))\n",
        "sns.heatmap(data[cols].corr(),annot=True,cmap='Spectral',vmin=-1,vmax=1)\n",
        "plt.show()"
      ],
      "metadata": {
        "id": "let_jFQoBUdE"
      },
      "execution_count": null,
      "outputs": [],
      "id": "let_jFQoBUdE"
    }
  ],
  "metadata": {
    "jupytext": {
      "formats": "ipynb,md"
    },
    "kernelspec": {
      "display_name": "Python 3 (ipykernel)",
      "language": "python",
      "name": "python3"
    },
    "language_info": {
      "codemirror_mode": {
        "name": "ipython",
        "version": 3
      },
      "file_extension": ".py",
      "mimetype": "text/x-python",
      "name": "python",
      "nbconvert_exporter": "python",
      "pygments_lexer": "ipython3",
      "version": "3.11.7"
    },
    "colab": {
      "provenance": [],
      "toc_visible": true,
      "include_colab_link": true
    }
  },
  "nbformat": 4,
  "nbformat_minor": 5
}